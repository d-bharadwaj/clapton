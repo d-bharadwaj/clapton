{
 "cells": [
  {
   "cell_type": "code",
   "execution_count": null,
   "metadata": {},
   "outputs": [],
   "source": [
    "## Using qiskit in-built estimator options to test Pauli Twirling. Later learned that Pauli Twirling options are ignored by qiskit during local testing. "
   ]
  },
  {
   "cell_type": "code",
   "execution_count": 1,
   "metadata": {},
   "outputs": [],
   "source": [
    "import qiskit\n",
    "import numpy as np\n",
    "from qiskit_aer import AerSimulator\n",
    "from qiskit_ibm_runtime import EstimatorV2 as Estimator\n",
    "from qiskit.quantum_info import SparsePauliOp\n",
    "from qiskit.transpiler.preset_passmanagers import generate_preset_pass_manager\n",
    "import qiskit.quantum_info as qi\n",
    "from qiskit_ibm_runtime import QiskitRuntimeService\n",
    "from qiskit_ibm_runtime.fake_provider import FakeMumbaiV2\n",
    "\n",
    "# Import from Qiskit Aer noise module\n",
    "from qiskit_aer.noise import (NoiseModel, coherent_unitary_error)"
   ]
  },
  {
   "cell_type": "code",
   "execution_count": 2,
   "metadata": {},
   "outputs": [],
   "source": [
    "def circular_ansatz_mirrored(N, reps=1, fix_2q=False): \n",
    "    qc = qiskit.QuantumCircuit(N)\n",
    "    for _ in range(reps):\n",
    "        for i in range(N):\n",
    "            qc.ry(np.pi/2, i)\n",
    "        for i in range(N):\n",
    "            qc.rz(np.pi/2, i)\n",
    "        for i in range(N):\n",
    "            control = (i-1) % N\n",
    "            target = i\n",
    "            qc.cx(control, target)\n",
    "        for i in range(N):\n",
    "            qc.ry(np.pi/2, i)\n",
    "        for i in range(N):\n",
    "            qc.rz(np.pi/2, i)\n",
    "        for i in range(N-1, -1, -1):\n",
    "            control = (i-1) % N\n",
    "            target = i\n",
    "            qc.cx(control, target)\n",
    "    for i in range(N):\n",
    "        qc.ry(np.pi/2, i)\n",
    "    for i in range(N):\n",
    "        qc.rz(np.pi/2, i)\n",
    "    return qc\n",
    "\n",
    "def populated_circuit(n):\n",
    "    qc = qiskit.QuantumCircuit(n)\n",
    "    qc.h(0)\n",
    "    for i in range(n - 1):\n",
    "        qc.cx(i, i + 1)\n",
    "        if i + 2 < n:\n",
    "            qc.cz(i + 1, i + 2)\n",
    "    return qc"
   ]
  },
  {
   "cell_type": "code",
   "execution_count": 3,
   "metadata": {},
   "outputs": [],
   "source": [
    "num_qubits = 10\n",
    "\n",
    "np.random.seed(0)\n",
    "paulis = [\"\".join(np.random.choice(['I', 'X', 'Y', 'Z'], size=num_qubits)) for _ in range(num_qubits)]\n",
    "\n",
    "qc = circular_ansatz_mirrored(num_qubits)\n",
    "\n",
    "#Aer Backend\n",
    "backend = AerSimulator(method='statevector', device='GPU',seed_simulator = 0)\n",
    "\n",
    "ideal_estimator = Estimator(mode=backend)\n",
    "ideal_estimator.options.seed_estimator=0"
   ]
  },
  {
   "cell_type": "code",
   "execution_count": 4,
   "metadata": {},
   "outputs": [],
   "source": [
    "np.random.seed(0)\n",
    "coeffs = np.random.random(len(paulis))\n",
    "observable = SparsePauliOp.from_list(list(zip(paulis, coeffs)))\n",
    "# observable = SparsePauliOp(\"Z\" * num_qubits)"
   ]
  },
  {
   "cell_type": "code",
   "execution_count": 5,
   "metadata": {},
   "outputs": [],
   "source": [
    "pm = generate_preset_pass_manager(backend=backend, optimization_level=1,seed_transpiler=0)\n",
    "isa_circuit = pm.run(qc)\n",
    "isa_observable = observable.apply_layout(isa_circuit.layout)"
   ]
  },
  {
   "cell_type": "code",
   "execution_count": 6,
   "metadata": {},
   "outputs": [
    {
     "name": "stderr",
     "output_type": "stream",
     "text": [
      "/home/dbharadwaj/.local/lib/python3.10/site-packages/qiskit_ibm_runtime/fake_provider/local_service.py:233: UserWarning: Options {'seed_estimator': 0} have no effect in local testing mode.\n",
      "  warnings.warn(f\"Options {options_copy} have no effect in local testing mode.\")\n"
     ]
    }
   ],
   "source": [
    "job = ideal_estimator.run([(isa_circuit, isa_observable)])"
   ]
  },
  {
   "cell_type": "code",
   "execution_count": 7,
   "metadata": {},
   "outputs": [
    {
     "name": "stdout",
     "output_type": "stream",
     "text": [
      ">>> Expectation value: -0.02461625332245609\n"
     ]
    }
   ],
   "source": [
    "# Get results for the first (and only) PUB\n",
    "ideal_res = job.result()[0]\n",
    "print(f\">>> Expectation value: {ideal_res.data.evs}\")"
   ]
  },
  {
   "cell_type": "markdown",
   "metadata": {},
   "source": [
    "## Noisy"
   ]
  },
  {
   "cell_type": "code",
   "execution_count": 8,
   "metadata": {},
   "outputs": [],
   "source": [
    "# V1\n",
    "\n",
    "noise_model = NoiseModel()\n",
    "\n",
    "# # Depolarizing Noise\n",
    "# cx_depolarizing_prob = 0.1\n",
    "# noise_model.add_all_qubit_quantum_error(\n",
    "#     depolarizing_error(cx_depolarizing_prob, 2), [\"cx\"]\n",
    "# )\n",
    "\n",
    "#Coherent Noise\n",
    "epsilon = 0.1\n",
    "\n",
    "err_cx = qiskit.QuantumCircuit(2)\n",
    "err_cx.cx(0,1)\n",
    "err_cx.p(epsilon, 0)\n",
    "err_cx.p(epsilon, 1)\n",
    "\n",
    "err_cx.cx(0,1)\n",
    "err_cx.p(-epsilon, 0)\n",
    "err_cx.p(-epsilon, 1)\n",
    "\n",
    "err_cx = qi.Operator(err_cx)\n",
    "noise_model.add_all_qubit_quantum_error(\n",
    "    coherent_unitary_error(err_cx), [\"cx\"]\n",
    ")\n",
    "\n",
    "noisy_backend = AerSimulator(method='statevector', device='GPU',seed_simulator = 0,\n",
    "                       noise_model=noise_model)\n",
    "\n",
    "# noisy_backend = FakeMumbaiV2()\n",
    "noisy_estimator = Estimator(mode=noisy_backend)\n",
    "(noisy_estimator.options.simulator.noise_model) = noise_model #NOTE: Remove this?"
   ]
  },
  {
   "cell_type": "code",
   "execution_count": 9,
   "metadata": {},
   "outputs": [],
   "source": [
    "# #V2\n",
    "# # # noisy_backend = AerSimulator(method='statevector', device='GPU',seed_simulator = 0,\n",
    "# # #                        noise_model=noise_model)\n",
    "\n",
    "\n",
    "# service = QiskitRuntimeService()\n",
    "# noisy_backend = service.least_busy(operational=True, simulator=False,min_num_qubits=num_qubits)\n",
    " \n",
    "# # Setting options during primitive initialization\n",
    "# noisy_estimator = Estimator(mode=noisy_backend, options={\"resilience_level\": 2})"
   ]
  },
  {
   "cell_type": "code",
   "execution_count": 10,
   "metadata": {},
   "outputs": [
    {
     "name": "stdout",
     "output_type": "stream",
     "text": [
      ">>> Expectation value: -0.02450730416948204\n"
     ]
    }
   ],
   "source": [
    "# Get results for the first (and only) PUB\n",
    "\n",
    "pm = generate_preset_pass_manager(backend=noisy_backend, optimization_level=1)\n",
    "isa_circuit = pm.run(qc)\n",
    "isa_observable = observable.apply_layout(isa_circuit.layout)\n",
    "\n",
    "job = noisy_estimator.run([(isa_circuit, isa_observable)])\n",
    "noisy_res = job.result()[0]\n",
    "\n",
    "print(f\">>> Expectation value: {noisy_res.data.evs}\")"
   ]
  },
  {
   "cell_type": "code",
   "execution_count": 11,
   "metadata": {},
   "outputs": [
    {
     "name": "stdout",
     "output_type": "stream",
     "text": [
      "Absolute error difference: 0.00010894915297405064\n"
     ]
    }
   ],
   "source": [
    "abs_error_diff = abs(noisy_res.data.evs - ideal_res.data.evs)\n",
    "print(f\"Absolute error difference: {abs_error_diff}\")"
   ]
  },
  {
   "cell_type": "markdown",
   "metadata": {},
   "source": [
    "## Pauli Twirling Mitigation"
   ]
  },
  {
   "cell_type": "code",
   "execution_count": 12,
   "metadata": {},
   "outputs": [],
   "source": [
    "pt_estimator = Estimator(mode=noisy_backend, options={\"resilience_level\": 2})\n",
    "\n",
    "pt_estimator.options.twirling.enable_gates = True\n",
    "pt_estimator.options.twirling.num_randomizations = 100\n",
    "pt_estimator.options.twirling.shots_per_randomization = 1000\n",
    "# pt_estimator.options.simulator.noise_model = noise_model"
   ]
  },
  {
   "cell_type": "code",
   "execution_count": 13,
   "metadata": {},
   "outputs": [],
   "source": [
    "pm = generate_preset_pass_manager(backend=noisy_backend, optimization_level=1)\n",
    "isa_circuit = pm.run(qc)\n",
    "isa_observable = observable.apply_layout(isa_circuit.layout)"
   ]
  },
  {
   "cell_type": "code",
   "execution_count": 14,
   "metadata": {},
   "outputs": [
    {
     "name": "stderr",
     "output_type": "stream",
     "text": [
      "/home/dbharadwaj/.local/lib/python3.10/site-packages/qiskit_ibm_runtime/fake_provider/local_service.py:186: UserWarning: The resilience_level option has no effect in local testing mode.\n",
      "  warnings.warn(\"The resilience_level option has no effect in local testing mode.\")\n",
      "/home/dbharadwaj/.local/lib/python3.10/site-packages/qiskit_ibm_runtime/fake_provider/local_service.py:233: UserWarning: Options {'twirling': {'enable_gates': True, 'num_randomizations': 100, 'shots_per_randomization': 1000}} have no effect in local testing mode.\n",
      "  warnings.warn(f\"Options {options_copy} have no effect in local testing mode.\")\n"
     ]
    }
   ],
   "source": [
    "job = pt_estimator.run([(isa_circuit, isa_observable)])"
   ]
  },
  {
   "cell_type": "code",
   "execution_count": 15,
   "metadata": {},
   "outputs": [
    {
     "name": "stdout",
     "output_type": "stream",
     "text": [
      ">>> Expectation value: -0.02450730416948204\n"
     ]
    }
   ],
   "source": [
    "# Get results for the first (and only) PUB\n",
    "pt_res = job.result()[0]\n",
    "print(f\">>> Expectation value: {pt_res.data.evs}\")"
   ]
  },
  {
   "cell_type": "code",
   "execution_count": 16,
   "metadata": {},
   "outputs": [
    {
     "name": "stdout",
     "output_type": "stream",
     "text": [
      "Absolute error difference: 0.00010894915297405064\n"
     ]
    }
   ],
   "source": [
    "abs_error_diff_pt = abs(pt_res.data.evs - ideal_res.data.evs)\n",
    "print(f\"Absolute error difference: {abs_error_diff_pt}\")"
   ]
  },
  {
   "cell_type": "code",
   "execution_count": 17,
   "metadata": {},
   "outputs": [
    {
     "name": "stdout",
     "output_type": "stream",
     "text": [
      "Factor of Improvement: 1.0\n"
     ]
    }
   ],
   "source": [
    "factor_of_difference = abs_error_diff / abs_error_diff_pt\n",
    "print(f\"Factor of Improvement: {factor_of_difference}\")"
   ]
  }
 ],
 "metadata": {
  "kernelspec": {
   "display_name": "clapton",
   "language": "python",
   "name": "python3"
  },
  "language_info": {
   "codemirror_mode": {
    "name": "ipython",
    "version": 3
   },
   "file_extension": ".py",
   "mimetype": "text/x-python",
   "name": "python",
   "nbconvert_exporter": "python",
   "pygments_lexer": "ipython3",
   "version": "3.10.15"
  }
 },
 "nbformat": 4,
 "nbformat_minor": 2
}
