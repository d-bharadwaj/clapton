{
 "cells": [
  {
   "cell_type": "code",
   "execution_count": null,
   "metadata": {},
   "outputs": [],
   "source": [
    "## Script used to check Pauli Twirling Pass from qiskit."
   ]
  },
  {
   "cell_type": "code",
   "execution_count": 1,
   "metadata": {},
   "outputs": [],
   "source": [
    "from qiskit.dagcircuit import DAGCircuit\n",
    "from qiskit.circuit import QuantumCircuit, QuantumRegister, Gate\n",
    "from qiskit.circuit.library import CXGate, ECRGate\n",
    "from qiskit.transpiler import PassManager\n",
    "from qiskit.transpiler.basepasses import TransformationPass\n",
    "from qiskit.quantum_info import Operator, pauli_basis\n",
    "from qiskit.quantum_info import SparsePauliOp\n",
    "from qiskit_ibm_runtime.fake_provider import FakeMumbaiV2\n",
    "from qiskit_ibm_runtime import EstimatorV2 as Estimator\n",
    "from qiskit_aer import AerSimulator\n",
    "from qiskit.transpiler.preset_passmanagers import generate_preset_pass_manager\n",
    "\n",
    "# Import from Qiskit Aer noise module\n",
    "from qiskit_aer.noise import (NoiseModel, coherent_unitary_error)\n",
    "\n",
    "import numpy as np\n",
    " \n",
    "from typing import Iterable, Optional"
   ]
  },
  {
   "cell_type": "code",
   "execution_count": 2,
   "metadata": {},
   "outputs": [],
   "source": [
    "class PauliTwirl(TransformationPass):\n",
    "    \"\"\"Add Pauli twirls to two-qubit gates.\"\"\"\n",
    " \n",
    "    def __init__(\n",
    "        self,\n",
    "        gates_to_twirl: Optional[Iterable[Gate]] = None,\n",
    "    ):\n",
    "        \"\"\"\n",
    "        Args:\n",
    "            gates_to_twirl: Names of gates to twirl. The default behavior is to twirl all\n",
    "                two-qubit basis gates, `cx` and `ecr` for IBM backends.\n",
    "        \"\"\"\n",
    "        if gates_to_twirl is None:\n",
    "            gates_to_twirl = [CXGate(), ECRGate()]\n",
    "        self.gates_to_twirl = gates_to_twirl\n",
    "        self.build_twirl_set()\n",
    "        super().__init__()\n",
    " \n",
    "    def build_twirl_set(self):\n",
    "        \"\"\"\n",
    "        Build a set of Paulis to twirl for each gate and store internally as .twirl_set.\n",
    "        \"\"\"\n",
    "        self.twirl_set = {}\n",
    " \n",
    "        # iterate through gates to be twirled\n",
    "        for twirl_gate in self.gates_to_twirl:\n",
    "            twirl_list = []\n",
    " \n",
    "            # iterate through Paulis on left of gate to twirl\n",
    "            for pauli_left in pauli_basis(2):\n",
    "                # iterate through Paulis on right of gate to twirl\n",
    "                for pauli_right in pauli_basis(2):\n",
    "                    # save pairs that produce identical operation as gate to twirl\n",
    "                    if (Operator(pauli_left) @ Operator(twirl_gate)).equiv(\n",
    "                        Operator(twirl_gate) @ pauli_right\n",
    "                    ):\n",
    "                        twirl_list.append((pauli_left, pauli_right))\n",
    " \n",
    "            self.twirl_set[twirl_gate.name] = twirl_list\n",
    " \n",
    "    def run(\n",
    "        self,\n",
    "        dag: DAGCircuit,\n",
    "    ) -> DAGCircuit:\n",
    "        # collect all nodes in DAG and proceed if it is to be twirled\n",
    "        twirling_gate_classes = tuple(\n",
    "            gate.base_class for gate in self.gates_to_twirl\n",
    "        )\n",
    "        for node in dag.op_nodes():\n",
    "            if not isinstance(node.op, twirling_gate_classes):\n",
    "                continue\n",
    " \n",
    "            # random integer to select Pauli twirl pair\n",
    "            pauli_index = np.random.randint(\n",
    "                0, len(self.twirl_set[node.op.name])\n",
    "            )\n",
    "            twirl_pair = self.twirl_set[node.op.name][pauli_index]\n",
    " \n",
    "            # instantiate mini_dag and attach quantum register\n",
    "            mini_dag = DAGCircuit()\n",
    "            register = QuantumRegister(2)\n",
    "            mini_dag.add_qreg(register)\n",
    " \n",
    "            # apply left Pauli, gate to twirl, and right Pauli to empty mini-DAG\n",
    "            mini_dag.apply_operation_back(\n",
    "                twirl_pair[0].to_instruction(), [register[0], register[1]]\n",
    "            )\n",
    "            mini_dag.apply_operation_back(node.op, [register[0], register[1]])\n",
    "            mini_dag.apply_operation_back(\n",
    "                twirl_pair[1].to_instruction(), [register[0], register[1]]\n",
    "            )\n",
    " \n",
    "            # substitute gate to twirl node with twirling mini-DAG\n",
    "            dag.substitute_node_with_dag(node, mini_dag)\n",
    " \n",
    "        return dag"
   ]
  },
  {
   "cell_type": "code",
   "execution_count": 3,
   "metadata": {},
   "outputs": [],
   "source": [
    "def circular_ansatz_mirrored(N, reps=1, fix_2q=False): \n",
    "    qc = QuantumCircuit(N)\n",
    "    for _ in range(reps):\n",
    "        for i in range(N):\n",
    "            qc.ry(np.pi/2, i)\n",
    "        for i in range(N):\n",
    "            qc.rz(np.pi/2, i)\n",
    "        for i in range(N):\n",
    "            control = (i-1) % N\n",
    "            target = i\n",
    "            qc.cx(control, target)\n",
    "        for i in range(N):\n",
    "            qc.ry(np.pi/2, i)\n",
    "        for i in range(N):\n",
    "            qc.rz(np.pi/2, i)\n",
    "        for i in range(N-1, -1, -1):\n",
    "            control = (i-1) % N\n",
    "            target = i\n",
    "            qc.cx(control, target)\n",
    "    for i in range(N):\n",
    "        qc.ry(np.pi/2, i)\n",
    "    for i in range(N):\n",
    "        qc.rz(np.pi/2, i)\n",
    "    return qc\n",
    "\n",
    "num_qubits = 10\n",
    "qc = circular_ansatz_mirrored(num_qubits)"
   ]
  },
  {
   "cell_type": "markdown",
   "metadata": {},
   "source": [
    "## Ideal"
   ]
  },
  {
   "cell_type": "code",
   "execution_count": 4,
   "metadata": {},
   "outputs": [],
   "source": [
    "np.random.seed(0)\n",
    "paulis = [\"\".join(np.random.choice(['I', 'X', 'Y', 'Z'], size=num_qubits)) for _ in range(num_qubits)]\n",
    "np.random.seed(0)\n",
    "coeffs = np.random.random(len(paulis))\n",
    "observable = SparsePauliOp.from_list(list(zip(paulis, coeffs)))"
   ]
  },
  {
   "cell_type": "code",
   "execution_count": 5,
   "metadata": {},
   "outputs": [],
   "source": [
    "#Aer Backend\n",
    "backend = AerSimulator(method='statevector',device = \"GPU\", seed_simulator = 0)\n",
    "ideal_estimator = Estimator(mode=backend)"
   ]
  },
  {
   "cell_type": "code",
   "execution_count": 6,
   "metadata": {},
   "outputs": [],
   "source": [
    "pm = generate_preset_pass_manager(backend=backend, optimization_level=1,seed_transpiler=0)\n",
    "isa_circuit = pm.run(qc)\n",
    "isa_observable = observable.apply_layout(isa_circuit.layout)\n",
    "job = ideal_estimator.run([(isa_circuit, isa_observable)])\n"
   ]
  },
  {
   "cell_type": "code",
   "execution_count": 7,
   "metadata": {},
   "outputs": [
    {
     "name": "stdout",
     "output_type": "stream",
     "text": [
      ">>> Expectation value: -0.02461625332245609\n"
     ]
    }
   ],
   "source": [
    "# Get results for the first (and only) PUB\n",
    "ideal_res = job.result()[0]\n",
    "print(f\">>> Expectation value: {ideal_res.data.evs}\")"
   ]
  },
  {
   "cell_type": "markdown",
   "metadata": {},
   "source": [
    "## Noisy"
   ]
  },
  {
   "cell_type": "code",
   "execution_count": 8,
   "metadata": {},
   "outputs": [],
   "source": [
    "noise_model = NoiseModel()\n",
    "\n",
    "# # Depolarizing Noise\n",
    "# cx_depolarizing_prob = 0.1\n",
    "# noise_model.add_all_qubit_quantum_error(\n",
    "#     depolarizing_error(cx_depolarizing_prob, 2), [\"cx\"]\n",
    "# )\n",
    "\n",
    "#Coherent Noise\n",
    "epsilon = 0.1\n",
    "\n",
    "err_cx = QuantumCircuit(2)\n",
    "err_cx.cx(0,1)\n",
    "err_cx.p(epsilon, 0)\n",
    "err_cx.p(epsilon, 1)\n",
    "\n",
    "err_cx.cx(0,1)\n",
    "err_cx.p(-epsilon, 0)\n",
    "err_cx.p(-epsilon, 1)\n",
    "\n",
    "err_cx = Operator(err_cx)\n",
    "noise_model.add_all_qubit_quantum_error(\n",
    "    coherent_unitary_error(err_cx), [\"cx\"]\n",
    ")\n",
    "\n",
    "noisy_backend = AerSimulator(method='statevector', device='GPU',seed_simulator = 0,\n",
    "                       noise_model=noise_model)\n",
    "\n",
    "noisy_estimator = Estimator(mode=noisy_backend)\n",
    "# (noisy_estimator.options.simulator.noise_model) = noise_model #NOTE: Remove this?"
   ]
  },
  {
   "cell_type": "code",
   "execution_count": 9,
   "metadata": {},
   "outputs": [
    {
     "name": "stdout",
     "output_type": "stream",
     "text": [
      ">>> Expectation value: -0.02450730416948204\n"
     ]
    }
   ],
   "source": [
    "pm = generate_preset_pass_manager(backend=noisy_backend, optimization_level=1)\n",
    "isa_circuit = pm.run(qc)\n",
    "isa_observable = observable.apply_layout(isa_circuit.layout)\n",
    "\n",
    "job = noisy_estimator.run([(isa_circuit, isa_observable)])\n",
    "noisy_res = job.result()[0]\n",
    "\n",
    "print(f\">>> Expectation value: {noisy_res.data.evs}\")"
   ]
  },
  {
   "cell_type": "code",
   "execution_count": 10,
   "metadata": {},
   "outputs": [
    {
     "name": "stdout",
     "output_type": "stream",
     "text": [
      "Absolute error difference: 0.00010894915297405064\n"
     ]
    }
   ],
   "source": [
    "abs_error_diff = abs(noisy_res.data.evs - ideal_res.data.evs)\n",
    "print(f\"Absolute error difference: {abs_error_diff}\")"
   ]
  },
  {
   "cell_type": "markdown",
   "metadata": {},
   "source": [
    "## Pauli Twirling"
   ]
  },
  {
   "cell_type": "code",
   "execution_count": 11,
   "metadata": {},
   "outputs": [],
   "source": [
    "pm = PassManager([PauliTwirl()])\n",
    "twirled_qcs = [pm.run(qc) for _ in range(5)]\n",
    "isa_observable= observable.apply_layout(twirled_qcs[0].layout)"
   ]
  },
  {
   "cell_type": "code",
   "execution_count": 12,
   "metadata": {},
   "outputs": [],
   "source": [
    "estimator = Estimator(noisy_backend)\n",
    "isa_circ_obs_list = [(qc,isa_observable) for qc in twirled_qcs]"
   ]
  },
  {
   "cell_type": "code",
   "execution_count": 13,
   "metadata": {},
   "outputs": [
    {
     "data": {
      "text/plain": [
       "0.004303395106181466"
      ]
     },
     "execution_count": 13,
     "metadata": {},
     "output_type": "execute_result"
    }
   ],
   "source": [
    "job = estimator.run(isa_circ_obs_list)\n",
    "job_result = job.result()\n",
    "exp_vals = []\n",
    "for idx in range(len(job_result)):\n",
    "    pub_result = job_result[idx]\n",
    "    exp_vals.append(pub_result.data.evs)\n",
    "\n",
    "exp_vals=np.array(exp_vals)\n",
    "np.average(exp_vals)"
   ]
  },
  {
   "cell_type": "code",
   "execution_count": 14,
   "metadata": {},
   "outputs": [
    {
     "name": "stdout",
     "output_type": "stream",
     "text": [
      "Absolute error difference: 0.028919648428637555\n"
     ]
    }
   ],
   "source": [
    "abs_error_diff_pt = abs(np.average(exp_vals) - ideal_res.data.evs)\n",
    "print(f\"Absolute error difference: {abs_error_diff_pt}\")"
   ]
  }
 ],
 "metadata": {
  "kernelspec": {
   "display_name": "clapton",
   "language": "python",
   "name": "python3"
  },
  "language_info": {
   "codemirror_mode": {
    "name": "ipython",
    "version": 3
   },
   "file_extension": ".py",
   "mimetype": "text/x-python",
   "name": "python",
   "nbconvert_exporter": "python",
   "pygments_lexer": "ipython3",
   "version": "3.10.15"
  }
 },
 "nbformat": 4,
 "nbformat_minor": 2
}
