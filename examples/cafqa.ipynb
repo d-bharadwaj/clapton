{
 "cells": [
  {
   "cell_type": "markdown",
   "metadata": {},
   "source": [
    "# CAFQA"
   ]
  },
  {
   "cell_type": "code",
   "execution_count": 1,
   "metadata": {},
   "outputs": [],
   "source": [
    "import sys\n",
    "sys.path.append(\"../\")\n",
    "from clapton.clapton import claptonize\n",
    "from clapton.ansatzes import circular_ansatz,circular_ansatz_mirrored\n",
    "from clapton.evaluation import get_energy\n",
    "import numpy as np"
   ]
  },
  {
   "cell_type": "code",
   "execution_count": 2,
   "metadata": {},
   "outputs": [
    {
     "data": {
      "text/plain": [
       "(['XXI', 'IXX', 'YYI', 'IYY', 'ZZI', 'IZZ'],\n",
       " array([0.22843357, 0.99180955, 0.91298917, 0.221348  , 0.66726362,\n",
       "        0.67615904]))"
      ]
     },
     "execution_count": 2,
     "metadata": {},
     "output_type": "execute_result"
    }
   ],
   "source": [
    "# define Hamiltonian, e.g. 3q Heisenberg model with random coefficients\n",
    "paulis = [\"XXI\", \"IXX\", \"YYI\", \"IYY\", \"ZZI\", \"IZZ\"]\n",
    "coeffs = np.random.random(len(paulis))\n",
    "paulis,coeffs"
   ]
  },
  {
   "cell_type": "code",
   "execution_count": 3,
   "metadata": {},
   "outputs": [],
   "source": [
    "# define parametrized Clifford circuit that is being optimized over\n",
    "# here we use the circular_ansatz template\n",
    "# we fix 2q gates as they will not be optimized over\n",
    "vqe_pcirc = circular_ansatz(N=len(paulis[0]), reps=1, fix_2q=True)"
   ]
  },
  {
   "cell_type": "code",
   "execution_count": 4,
   "metadata": {},
   "outputs": [
    {
     "name": "stdout",
     "output_type": "stream",
     "text": [
      "RY False\n",
      "RY False\n",
      "RY False\n",
      "RZ False\n",
      "RZ False\n",
      "RZ False\n",
      "2Q True\n",
      "2Q True\n",
      "2Q True\n",
      "RY False\n",
      "RY False\n",
      "RY False\n",
      "RZ False\n",
      "RZ False\n",
      "RZ False\n"
     ]
    }
   ],
   "source": [
    "# the circuit consists of parametrized gates\n",
    "for gate in vqe_pcirc.gates:\n",
    "    print(gate.label, gate.is_fixed())"
   ]
  },
  {
   "cell_type": "code",
   "execution_count": 5,
   "metadata": {},
   "outputs": [],
   "source": [
    "# non-fixed gates will be optimized over\n",
    "# RY and RZ gates can assume 4 values k = 0,1,2,3 which describe multiples of pi/2"
   ]
  },
  {
   "cell_type": "code",
   "execution_count": 6,
   "metadata": {},
   "outputs": [
    {
     "data": {
      "text/plain": [
       "[0, 0, 0, 0, 0, 0, 0, 0, 0, 0, 0, 0]"
      ]
     },
     "execution_count": 6,
     "metadata": {},
     "output_type": "execute_result"
    }
   ],
   "source": [
    "# the initial parameters are all 0\n",
    "vqe_pcirc.read()"
   ]
  },
  {
   "cell_type": "code",
   "execution_count": 7,
   "metadata": {},
   "outputs": [
    {
     "data": {
      "text/html": [
       "<pre>q0: -I-I-X-@-I-I---\n",
       "         | |\n",
       "q1: -I-I-|-X-@-I-I-\n",
       "         |   |\n",
       "q2: -I-I-@---X-I-I-</pre>"
      ],
      "text/plain": [
       "q0: -I-I-X-@-I-I---\n",
       "         | |\n",
       "q1: -I-I-|-X-@-I-I-\n",
       "         |   |\n",
       "q2: -I-I-@---X-I-I-"
      ]
     },
     "execution_count": 7,
     "metadata": {},
     "output_type": "execute_result"
    }
   ],
   "source": [
    "# we can look at the corresponding stim circuit\n",
    "vqe_pcirc.stim_circuit().diagram()"
   ]
  },
  {
   "cell_type": "code",
   "execution_count": 8,
   "metadata": {},
   "outputs": [
    {
     "data": {
      "text/plain": [
       "<clapton.clifford.ParametrizedCliffordCircuit at 0x7f8fedf08ca0>"
      ]
     },
     "execution_count": 8,
     "metadata": {},
     "output_type": "execute_result"
    }
   ],
   "source": [
    "# we can assign a different set of parameters\n",
    "vqe_pcirc.assign([0,1,2,3,0,1,2,3,0,1,2,3])"
   ]
  },
  {
   "cell_type": "code",
   "execution_count": 9,
   "metadata": {},
   "outputs": [
    {
     "data": {
      "text/html": [
       "<pre>q0: -I------S_DAG-X-@-Y-S----------------\n",
       "                  | |\n",
       "q1: -SQRT_Y-I-----|-X-@-SQRT_Y_DAG-Z-----\n",
       "                  |   |\n",
       "q2: -Y------S-----@---X-I----------S_DAG-</pre>"
      ],
      "text/plain": [
       "q0: -I------S_DAG-X-@-Y-S----------------\n",
       "                  | |\n",
       "q1: -SQRT_Y-I-----|-X-@-SQRT_Y_DAG-Z-----\n",
       "                  |   |\n",
       "q2: -Y------S-----@---X-I----------S_DAG-"
      ]
     },
     "execution_count": 9,
     "metadata": {},
     "output_type": "execute_result"
    }
   ],
   "source": [
    "vqe_pcirc.stim_circuit().diagram()"
   ]
  },
  {
   "cell_type": "code",
   "execution_count": 10,
   "metadata": {},
   "outputs": [
    {
     "name": "stdout",
     "output_type": "stream",
     "text": [
      "STARTING ROUND 0\n",
      "\n",
      "\n",
      "started GA at id 1 with 1 procs\n",
      "\n",
      "started GA at id 2 with 1 procs\n"
     ]
    },
    {
     "name": "stderr",
     "output_type": "stream",
     "text": [
      "/home/dbharadwaj/anaconda3/envs/clapton/lib/python3.10/site-packages/pygad/pygad.py:1139: UserWarning: The 'delay_after_gen' parameter is deprecated starting from PyGAD 3.3.0. To delay or pause the evolution after each generation, assign a callback function/method to the 'on_generation' parameter to adds some time delay.\n",
      "  warnings.warn(\"The 'delay_after_gen' parameter is deprecated starting from PyGAD 3.3.0. To delay or pause the evolution after each generation, assign a callback function/method to the 'on_generation' parameter to adds some time delay.\")\n"
     ]
    },
    {
     "name": "stdout",
     "output_type": "stream",
     "text": [
      "\n",
      "started GA at id None with 1 procs\n",
      "\n"
     ]
    },
    {
     "name": "stderr",
     "output_type": "stream",
     "text": [
      "/home/dbharadwaj/anaconda3/envs/clapton/lib/python3.10/site-packages/pygad/pygad.py:1139: UserWarning: The 'delay_after_gen' parameter is deprecated starting from PyGAD 3.3.0. To delay or pause the evolution after each generation, assign a callback function/method to the 'on_generation' parameter to adds some time delay.\n",
      "  warnings.warn(\"The 'delay_after_gen' parameter is deprecated starting from PyGAD 3.3.0. To delay or pause the evolution after each generation, assign a callback function/method to the 'on_generation' parameter to adds some time delay.\")\n"
     ]
    },
    {
     "name": "stdout",
     "output_type": "stream",
     "text": [
      "started GA at id 3 with 1 procs\n"
     ]
    },
    {
     "name": "stderr",
     "output_type": "stream",
     "text": [
      "/home/dbharadwaj/anaconda3/envs/clapton/lib/python3.10/site-packages/pygad/pygad.py:1139: UserWarning: The 'delay_after_gen' parameter is deprecated starting from PyGAD 3.3.0. To delay or pause the evolution after each generation, assign a callback function/method to the 'on_generation' parameter to adds some time delay.\n",
      "  warnings.warn(\"The 'delay_after_gen' parameter is deprecated starting from PyGAD 3.3.0. To delay or pause the evolution after each generation, assign a callback function/method to the 'on_generation' parameter to adds some time delay.\")\n"
     ]
    },
    {
     "name": "stdout",
     "output_type": "stream",
     "text": [
      "\n"
     ]
    },
    {
     "name": "stderr",
     "output_type": "stream",
     "text": [
      "/home/dbharadwaj/anaconda3/envs/clapton/lib/python3.10/site-packages/pygad/pygad.py:1139: UserWarning: The 'delay_after_gen' parameter is deprecated starting from PyGAD 3.3.0. To delay or pause the evolution after each generation, assign a callback function/method to the 'on_generation' parameter to adds some time delay.\n",
      "  warnings.warn(\"The 'delay_after_gen' parameter is deprecated starting from PyGAD 3.3.0. To delay or pause the evolution after each generation, assign a callback function/method to the 'on_generation' parameter to adds some time delay.\")\n"
     ]
    },
    {
     "name": "stdout",
     "output_type": "stream",
     "text": [
      "[0, array([0., 0., 0., 0.]), array([3, 3, 0, 2, 3, 3, 2, 3, 2, 1, 1, 2], dtype=object)]\n",
      "[0, array([0., 0., 0., 0.]), array([3, 3, 0, 2, 3, 3, 2, 3, 2, 1, 1, 2], dtype=object)]\n",
      "[0, array([0., 0., 0., 0.]), array([3, 3, 0, 2, 3, 3, 2, 3, 2, 1, 1, 2], dtype=object)]\n",
      "[0, array([0., 0., 0., 0.]), array([3, 3, 0, 2, 3, 3, 2, 3, 2, 1, 1, 2], dtype=object)]\n",
      "[1, array([0., 0., 0., 0.]), array([0, 2, 1, 1, 2, 3, 0, 1, 2, 0, 0, 3], dtype=object)]\n",
      "[1, array([0., 0., 0., 0.]), array([0, 2, 1, 1, 2, 3, 0, 1, 2, 0, 0, 3], dtype=object)]\n",
      "[1, array([0., 0., 0., 0.]), array([0, 2, 1, 1, 2, 3, 0, 1, 2, 0, 0, 3], dtype=object)]\n",
      "[1, array([0., 0., 0., 0.]), array([0, 2, 1, 1, 2, 3, 0, 1, 2, 0, 0, 3], dtype=object)]\n",
      "[2, array([0., 0., 0., 0.]), array([0, 2, 1, 1, 2, 3, 0, 1, 2, 0, 0, 3], dtype=object)][2, array([0., 0., 0., 0.]), array([0, 2, 1, 1, 2, 3, 0, 1, 2, 0, 0, 3], dtype=object)]\n",
      "\n",
      "[2, array([0., 0., 0., 0.]), array([0, 2, 1, 1, 2, 3, 0, 1, 2, 0, 0, 3], dtype=object)]\n",
      "[2, array([0., 0., 0., 0.]), array([0, 2, 1, 1, 2, 3, 0, 1, 2, 0, 0, 3], dtype=object)]\n",
      "[3, array([0., 0., 0., 0.]), array([1, 3, 0, 1, 0, 1, 0, 3, 3, 3, 0, 3], dtype=object)][3, array([0., 0., 0., 0.]), array([1, 3, 0, 1, 0, 1, 0, 3, 3, 3, 0, 3], dtype=object)]\n",
      "\n",
      "[3, array([0., 0., 0., 0.]), array([1, 3, 0, 1, 0, 1, 0, 3, 3, 3, 0, 3], dtype=object)]\n",
      "[3, array([0., 0., 0., 0.]), array([1, 3, 0, 1, 0, 1, 0, 3, 3, 3, 0, 3], dtype=object)]\n",
      "[4, array([0., 0., 0., 0.]), array([1, 3, 0, 1, 0, 1, 0, 3, 3, 3, 0, 3], dtype=object)]\n",
      "[4, array([0., 0., 0., 0.]), array([1, 3, 0, 1, 0, 1, 0, 3, 3, 3, 0, 3], dtype=object)]\n",
      "[4, array([0., 0., 0., 0.]), array([1, 3, 0, 1, 0, 1, 0, 3, 3, 3, 0, 3], dtype=object)]\n",
      "[5, array([0., 0., 0., 0.]), array([2, 1, 3, 1, 0, 1, 3, 3, 3, 3, 0, 3], dtype=object)]\n",
      "\n",
      "[4, array([0., 0., 0., 0.]), array([1, 3, 0, 1, 0, 1, 0, 3, 3, 3, 0, 3], dtype=object)]\n",
      "[5, array([0., 0., 0., 0.]), array([2, 1, 3, 1, 0, 1, 3, 3, 3, 3, 0, 3], dtype=object)][5, array([0., 0., 0., 0.]), array([2, 1, 3, 1, 0, 1, 3, 3, 3, 3, 0, 3], dtype=object)]\n",
      "[6, array([0., 0., 0., 0.]), array([0, 1, 2, 0, 3, 0, 3, 2, 2, 3, 3, 3], dtype=object)]\n",
      "[6, array([0., 0., 0., 0.]), array([0, 1, 2, 0, 3, 0, 3, 2, 2, 3, 3, 3], dtype=object)]\n",
      "[5, array([0., 0., 0., 0.]), array([2, 1, 3, 1, 0, 1, 3, 3, 3, 3, 0, 3], dtype=object)]\n",
      "[6, array([0., 0., 0., 0.]), array([0, 1, 2, 0, 3, 0, 3, 2, 2, 3, 3, 3], dtype=object)]\n",
      "[7, array([0., 0., 0., 0.]), array([3, 3, 0, 3, 0, 1, 2, 2, 2, 1, 2, 0], dtype=object)]\n",
      "[7, array([0., 0., 0., 0.]), array([3, 3, 0, 3, 0, 1, 2, 2, 2, 1, 2, 0], dtype=object)]\n",
      "[6, array([0., 0., 0., 0.]), array([0, 1, 2, 0, 3, 0, 3, 2, 2, 3, 3, 3], dtype=object)]\n",
      "[7, array([0., 0., 0., 0.]), array([3, 3, 0, 3, 0, 1, 2, 2, 2, 1, 2, 0], dtype=object)]\n",
      "[8, array([0., 0., 0., 0.]), array([3, 3, 0, 3, 0, 1, 2, 2, 2, 1, 2, 0], dtype=object)]\n",
      "[8, array([0., 0., 0., 0.]), array([3, 3, 0, 3, 0, 1, 2, 2, 2, 1, 2, 0], dtype=object)]\n",
      "[7, array([0., 0., 0., 0.]), array([3, 3, 0, 3, 0, 1, 2, 2, 2, 1, 2, 0], dtype=object)]\n",
      "[8, array([0., 0., 0., 0.]), array([3, 3, 0, 3, 0, 1, 2, 2, 2, 1, 2, 0], dtype=object)]\n",
      "[9, array([0., 0., 0., 0.]), array([3, 3, 0, 0, 3, 0, 3, 2, 3, 0, 3, 1], dtype=object)]\n",
      "[9, array([0., 0., 0., 0.]), array([3, 3, 0, 0, 3, 0, 3, 2, 3, 0, 3, 1], dtype=object)]\n",
      "[8, array([0., 0., 0., 0.]), array([3, 3, 0, 3, 0, 1, 2, 2, 2, 1, 2, 0], dtype=object)]\n",
      "[9, array([0., 0., 0., 0.]), array([3, 3, 0, 0, 3, 0, 3, 2, 3, 0, 3, 1], dtype=object)]\n",
      "[10, array([0., 0., 0., 0.]), array([3, 3, 0, 0, 3, 0, 3, 2, 3, 0, 3, 1], dtype=object)]\n",
      "[10, array([0., 0., 0., 0.]), array([3, 3, 0, 0, 3, 0, 3, 2, 3, 0, 3, 1], dtype=object)]\n",
      "[9, array([0., 0., 0., 0.]), array([3, 3, 0, 0, 3, 0, 3, 2, 3, 0, 3, 1], dtype=object)]\n",
      "[10, array([0., 0., 0., 0.]), array([3, 3, 0, 0, 3, 0, 3, 2, 3, 0, 3, 1], dtype=object)]\n",
      "[11, array([0., 0., 0., 0.]), array([1, 1, 3, 1, 0, 3, 3, 2, 3, 0, 3, 1], dtype=object)]\n",
      "[11, array([0., 0., 0., 0.]), array([1, 1, 3, 1, 0, 3, 3, 2, 3, 0, 3, 1], dtype=object)]\n",
      "[10, array([0., 0., 0., 0.]), array([3, 3, 0, 0, 3, 0, 3, 2, 3, 0, 3, 1], dtype=object)]\n",
      "[11, array([0., 0., 0., 0.]), array([1, 1, 3, 1, 0, 3, 3, 2, 3, 0, 3, 1], dtype=object)]\n",
      "[12, array([0., 0., 0., 0.]), array([1, 3, 0, 1, 0, 3, 0, 2, 3, 3, 3, 2], dtype=object)]\n",
      "[12, array([0., 0., 0., 0.]), array([1, 3, 0, 1, 0, 3, 0, 2, 3, 3, 3, 2], dtype=object)]\n",
      "[11, array([0., 0., 0., 0.]), array([1, 1, 3, 1, 0, 3, 3, 2, 3, 0, 3, 1], dtype=object)]\n",
      "[12, array([0., 0., 0., 0.]), array([1, 3, 0, 1, 0, 3, 0, 2, 3, 3, 3, 2], dtype=object)]\n",
      "[13, array([0., 0., 0., 0.]), array([1, 1, 2, 0, 3, 1, 3, 2, 0, 0, 1, 1], dtype=object)]\n",
      "[13, array([0., 0., 0., 0.]), array([1, 1, 2, 0, 3, 1, 3, 2, 0, 0, 1, 1], dtype=object)]\n",
      "[12, array([0., 0., 0., 0.]), array([1, 3, 0, 1, 0, 3, 0, 2, 3, 3, 3, 2], dtype=object)]\n",
      "[13, array([0., 0., 0., 0.]), array([1, 1, 2, 0, 3, 1, 3, 2, 0, 0, 1, 1], dtype=object)]\n",
      "[14, array([0., 0., 0., 0.]), array([1, 0, 2, 0, 3, 1, 3, 2, 2, 1, 2, 0], dtype=object)]\n",
      "[14, array([0., 0., 0., 0.]), array([1, 0, 2, 0, 3, 1, 3, 2, 2, 1, 2, 0], dtype=object)]\n",
      "[14, array([0., 0., 0., 0.]), array([1, 0, 2, 0, 3, 1, 3, 2, 2, 1, 2, 0], dtype=object)]\n",
      "[15, array([0., 0., 0., 0.]), array([1, 1, 3, 1, 0, 1, 3, 2, 3, 0, 1, 1], dtype=object)]\n",
      "[13, array([0., 0., 0., 0.]), array([1, 1, 2, 0, 3, 1, 3, 2, 0, 0, 1, 1], dtype=object)]\n",
      "[15, array([0., 0., 0., 0.]), array([1, 1, 3, 1, 0, 1, 3, 2, 3, 0, 1, 1], dtype=object)]\n",
      "[15, array([0., 0., 0., 0.]), array([1, 1, 3, 1, 0, 1, 3, 2, 3, 0, 1, 1], dtype=object)]\n",
      "[14, array([0., 0., 0., 0.]), array([1, 0, 2, 0, 3, 1, 3, 2, 2, 1, 2, 0], dtype=object)]\n",
      "[16, array([0., 0., 0., 0.]), array([1, 1, 3, 1, 0, 1, 3, 2, 3, 0, 1, 1], dtype=object)]\n",
      "[16, array([0., 0., 0., 0.]), array([1, 1, 3, 1, 0, 1, 3, 2, 3, 0, 1, 1], dtype=object)]\n",
      "[16, array([0., 0., 0., 0.]), array([1, 1, 3, 1, 0, 1, 3, 2, 3, 0, 1, 1], dtype=object)]\n",
      "[17, array([0., 0., 0., 0.]), array([1, 1, 3, 0, 0, 0, 3, 2, 3, 0, 2, 0], dtype=object)]\n",
      "[17, array([0., 0., 0., 0.]), array([1, 1, 3, 0, 0, 0, 3, 2, 3, 0, 2, 0], dtype=object)]\n",
      "[15, array([0., 0., 0., 0.]), array([1, 1, 3, 1, 0, 1, 3, 2, 3, 0, 1, 1], dtype=object)]\n",
      "[17, array([0., 0., 0., 0.]), array([1, 1, 3, 0, 0, 0, 3, 2, 3, 0, 2, 0], dtype=object)]\n",
      "[18, array([0., 0., 0., 0.]), array([1, 1, 3, 0, 0, 1, 3, 2, 3, 0, 1, 0], dtype=object)]\n",
      "[18, array([0., 0., 0., 0.]), array([1, 1, 3, 0, 0, 1, 3, 2, 3, 0, 1, 0], dtype=object)]\n",
      "[16, array([0., 0., 0., 0.]), array([1, 1, 3, 1, 0, 1, 3, 2, 3, 0, 1, 1], dtype=object)]\n",
      "[18, array([0., 0., 0., 0.]), array([1, 1, 3, 0, 0, 1, 3, 2, 3, 0, 1, 0], dtype=object)]\n",
      "[19, array([0., 0., 0., 0.]), array([1, 1, 0, 0, 0, 1, 3, 2, 3, 0, 3, 2], dtype=object)]\n",
      "[19, array([0., 0., 0., 0.]), array([1, 1, 0, 0, 0, 1, 3, 2, 3, 0, 3, 2], dtype=object)]\n",
      "[17, array([0., 0., 0., 0.]), array([1, 1, 3, 0, 0, 0, 3, 2, 3, 0, 2, 0], dtype=object)]\n",
      "[19, array([0., 0., 0., 0.]), array([1, 1, 0, 0, 0, 1, 3, 2, 3, 0, 3, 2], dtype=object)]\n",
      "[20, array([0., 0., 0., 0.]), array([1, 1, 0, 0, 0, 1, 3, 2, 3, 0, 3, 2], dtype=object)]\n",
      "[20, array([0., 0., 0., 0.]), array([1, 1, 0, 0, 0, 1, 3, 2, 3, 0, 3, 2], dtype=object)]\n",
      "\n",
      "[20, array([0., 0., 0., 0.]), array([1, 1, 0, 0, 0, 1, 3, 2, 3, 0, 3, 2], dtype=object)][18, array([0., 0., 0., 0.]), array([1, 1, 3, 0, 0, 1, 3, 2, 3, 0, 1, 0], dtype=object)]\n",
      "[21, array([0., 0., 0., 0.]), array([1, 1, 3, 0, 0, 0, 3, 2, 3, 0, 3, 2], dtype=object)]\n",
      "[21, array([0., 0., 0., 0.]), array([1, 1, 3, 0, 0, 0, 3, 2, 3, 0, 3, 2], dtype=object)]\n",
      "[19, array([0., 0., 0., 0.]), array([1, 1, 0, 0, 0, 1, 3, 2, 3, 0, 3, 2], dtype=object)]\n",
      "[21, array([0., 0., 0., 0.]), array([1, 1, 3, 0, 0, 0, 3, 2, 3, 0, 3, 2], dtype=object)]\n",
      "[22, array([0., 0., 0., 0.]), array([1, 1, 3, 0, 0, 0, 3, 2, 3, 0, 3, 2], dtype=object)]\n",
      "[22, array([0., 0., 0., 0.]), array([1, 1, 3, 0, 0, 0, 3, 2, 3, 0, 3, 2], dtype=object)]\n",
      "[22, array([0., 0., 0., 0.]), array([1, 1, 3, 0, 0, 0, 3, 2, 3, 0, 3, 2], dtype=object)]\n",
      "[20, array([0., 0., 0., 0.]), array([1, 1, 0, 0, 0, 1, 3, 2, 3, 0, 3, 2], dtype=object)]\n",
      "[23, array([0., 0., 0., 0.]), array([1, 1, 3, 0, 0, 1, 3, 2, 3, 0, 2, 0], dtype=object)]\n",
      "[23, array([0., 0., 0., 0.]), array([1, 1, 3, 0, 0, 1, 3, 2, 3, 0, 2, 0], dtype=object)]\n",
      "[23, array([0., 0., 0., 0.]), array([1, 1, 3, 0, 0, 1, 3, 2, 3, 0, 2, 0], dtype=object)]\n",
      "[21, array([0., 0., 0., 0.]), array([1, 1, 3, 0, 0, 0, 3, 2, 3, 0, 3, 2], dtype=object)]\n",
      "[24, array([0., 0., 0., 0.]), array([1, 3, 0, 0, 0, 0, 2, 1, 0, 0, 1, 1], dtype=object)]\n",
      "[24, array([0., 0., 0., 0.]), array([1, 3, 0, 0, 0, 0, 2, 1, 0, 0, 1, 1], dtype=object)]\n",
      "[24, array([0., 0., 0., 0.]), array([1, 3, 0, 0, 0, 0, 2, 1, 0, 0, 1, 1], dtype=object)]\n",
      "[22, array([0., 0., 0., 0.]), array([1, 1, 3, 0, 0, 0, 3, 2, 3, 0, 3, 2], dtype=object)]\n",
      "[25, array([0., 0., 0., 0.]), array([2, 3, 3, 0, 0, 1, 3, 2, 3, 0, 1, 0], dtype=object)]\n",
      "[25, array([0., 0., 0., 0.]), array([2, 3, 3, 0, 0, 1, 3, 2, 3, 0, 1, 0], dtype=object)]\n",
      "[25, array([0., 0., 0., 0.]), array([2, 3, 3, 0, 0, 1, 3, 2, 3, 0, 1, 0], dtype=object)]\n",
      "[26, array([0., 0., 0., 0.]), array([2, 3, 3, 0, 0, 1, 3, 2, 3, 0, 1, 0], dtype=object)]\n",
      "[23, array([0., 0., 0., 0.]), array([1, 1, 3, 0, 0, 1, 3, 2, 3, 0, 2, 0], dtype=object)]\n",
      "[26, array([0., 0., 0., 0.]), array([2, 3, 3, 0, 0, 1, 3, 2, 3, 0, 1, 0], dtype=object)]\n",
      "[26, array([0., 0., 0., 0.]), array([2, 3, 3, 0, 0, 1, 3, 2, 3, 0, 1, 0], dtype=object)]\n",
      "[27, array([0., 0., 0., 0.]), array([2, 3, 3, 0, 0, 0, 2, 2, 3, 0, 2, 0], dtype=object)]\n",
      "[24, array([0., 0., 0., 0.]), array([1, 3, 0, 0, 0, 0, 2, 1, 0, 0, 1, 1], dtype=object)]\n",
      "[27, array([0., 0., 0., 0.]), array([2, 3, 3, 0, 0, 0, 2, 2, 3, 0, 2, 0], dtype=object)]\n",
      "[27, array([0., 0., 0., 0.]), array([2, 3, 3, 0, 0, 0, 2, 2, 3, 0, 2, 0], dtype=object)]\n",
      "[28, array([0., 0., 0., 0.]), array([2, 3, 3, 0, 0, 0, 2, 2, 3, 0, 2, 0], dtype=object)]\n",
      "[25, array([0., 0., 0., 0.]), array([2, 3, 3, 0, 0, 1, 3, 2, 3, 0, 1, 0], dtype=object)]\n",
      "[28, array([0., 0., 0., 0.]), array([2, 3, 3, 0, 0, 0, 2, 2, 3, 0, 2, 0], dtype=object)]\n",
      "[28, array([0., 0., 0., 0.]), array([2, 3, 3, 0, 0, 0, 2, 2, 3, 0, 2, 0], dtype=object)]\n",
      "[29, array([0., 0., 0., 0.]), array([2, 3, 1, 0, 0, 1, 3, 2, 3, 0, 3, 1], dtype=object)]\n",
      "[26, array([0., 0., 0., 0.]), array([2, 3, 3, 0, 0, 1, 3, 2, 3, 0, 1, 0], dtype=object)]\n",
      "[29, array([0., 0., 0., 0.]), array([2, 3, 1, 0, 0, 1, 3, 2, 3, 0, 3, 1], dtype=object)]\n",
      "[29, array([0., 0., 0., 0.]), array([2, 3, 1, 0, 0, 1, 3, 2, 3, 0, 3, 1], dtype=object)]\n",
      "[30, array([0., 0., 0., 0.]), array([1, 1, 0, 0, 0, 0, 2, 2, 3, 0, 2, 0], dtype=object)]\n",
      "[30, array([0., 0., 0., 0.]), array([1, 1, 0, 0, 0, 0, 2, 2, 3, 0, 2, 0], dtype=object)]\n",
      "[27, array([0., 0., 0., 0.]), array([2, 3, 3, 0, 0, 0, 2, 2, 3, 0, 2, 0], dtype=object)]\n",
      "[30, array([0., 0., 0., 0.]), array([1, 1, 0, 0, 0, 0, 2, 2, 3, 0, 2, 0], dtype=object)]\n",
      "[31, array([0., 0., 0., 0.]), array([2, 3, 3, 0, 0, 0, 3, 2, 3, 0, 2, 1], dtype=object)]\n",
      "[28, array([0., 0., 0., 0.]), array([2, 3, 3, 0, 0, 0, 2, 2, 3, 0, 2, 0], dtype=object)]\n",
      "[31, array([0., 0., 0., 0.]), array([2, 3, 3, 0, 0, 0, 3, 2, 3, 0, 2, 1], dtype=object)]\n",
      "[31, array([0., 0., 0., 0.]), array([2, 3, 3, 0, 0, 0, 3, 2, 3, 0, 2, 1], dtype=object)]\n",
      "\n",
      "[29, array([0., 0., 0., 0.]), array([2, 3, 1, 0, 0, 1, 3, 2, 3, 0, 3, 1], dtype=object)][32, array([0., 0., 0., 0.]), array([2, 3, 3, 0, 0, 0, 3, 2, 3, 0, 2, 1], dtype=object)][32, array([0., 0., 0., 0.]), array([2, 3, 3, 0, 0, 0, 3, 2, 3, 0, 2, 1], dtype=object)]\n",
      "\n",
      "[32, array([0., 0., 0., 0.]), array([2, 3, 3, 0, 0, 0, 3, 2, 3, 0, 2, 1], dtype=object)]\n",
      "[33, array([0., 0., 0., 0.]), array([1, 2, 0, 0, 0, 1, 3, 2, 3, 0, 2, 0], dtype=object)]\n",
      "[30, array([0., 0., 0., 0.]), array([1, 1, 0, 0, 0, 0, 2, 2, 3, 0, 2, 0], dtype=object)]\n",
      "[33, array([0., 0., 0., 0.]), array([1, 2, 0, 0, 0, 1, 3, 2, 3, 0, 2, 0], dtype=object)]\n",
      "[33, array([0., 0., 0., 0.]), array([1, 2, 0, 0, 0, 1, 3, 2, 3, 0, 2, 0], dtype=object)]\n",
      "[34, array([0., 0., 0., 0.]), array([1, 2, 0, 0, 2, 1, 3, 2, 3, 0, 2, 0], dtype=object)]\n",
      "[34, array([0., 0., 0., 0.]), array([1, 2, 0, 0, 2, 1, 3, 2, 3, 0, 2, 0], dtype=object)]\n",
      "[34, array([0., 0., 0., 0.]), array([1, 2, 0, 0, 2, 1, 3, 2, 3, 0, 2, 0], dtype=object)]\n",
      "[31, array([0., 0., 0., 0.]), array([2, 3, 3, 0, 0, 0, 3, 2, 3, 0, 2, 1], dtype=object)]\n",
      "[35, array([0., 0., 0., 0.]), array([1, 2, 0, 0, 0, 1, 3, 2, 3, 0, 2, 1], dtype=object)]\n",
      "[35, array([0., 0., 0., 0.]), array([1, 2, 0, 0, 0, 1, 3, 2, 3, 0, 2, 1], dtype=object)]\n",
      "[35, array([0., 0., 0., 0.]), array([1, 2, 0, 0, 0, 1, 3, 2, 3, 0, 2, 1], dtype=object)]\n",
      "[32, array([0., 0., 0., 0.]), array([2, 3, 3, 0, 0, 0, 3, 2, 3, 0, 2, 1], dtype=object)]\n",
      "[36, array([0., 0., 0., 0.]), array([1, 2, 0, 0, 0, 1, 3, 2, 3, 0, 2, 1], dtype=object)]\n",
      "[36, array([0., 0., 0., 0.]), array([1, 2, 0, 0, 0, 1, 3, 2, 3, 0, 2, 1], dtype=object)]\n",
      "[36, array([0., 0., 0., 0.]), array([1, 2, 0, 0, 0, 1, 3, 2, 3, 0, 2, 1], dtype=object)]\n",
      "[33, array([0., 0., 0., 0.]), array([1, 2, 0, 0, 0, 1, 3, 2, 3, 0, 2, 0], dtype=object)]\n",
      "[37, array([0., 0., 0., 0.]), array([1, 2, 0, 0, 0, 0, 2, 2, 3, 0, 2, 1], dtype=object)]\n",
      "[37, array([0., 0., 0., 0.]), array([1, 2, 0, 0, 0, 0, 2, 2, 3, 0, 2, 1], dtype=object)]\n",
      "[37, array([0., 0., 0., 0.]), array([1, 2, 0, 0, 0, 0, 2, 2, 3, 0, 2, 1], dtype=object)][34, array([0., 0., 0., 0.]), array([1, 2, 0, 0, 2, 1, 3, 2, 3, 0, 2, 0], dtype=object)]\n",
      "\n",
      "[38, array([0., 0., 0., 0.]), array([1, 2, 0, 0, 0, 0, 2, 2, 3, 3, 2, 1], dtype=object)]\n",
      "[38, array([0., 0., 0., 0.]), array([1, 2, 0, 0, 0, 0, 2, 2, 3, 3, 2, 1], dtype=object)]\n",
      "[38, array([0., 0., 0., 0.]), array([1, 2, 0, 0, 0, 0, 2, 2, 3, 3, 2, 1], dtype=object)]\n",
      "[35, array([0., 0., 0., 0.]), array([1, 2, 0, 0, 0, 1, 3, 2, 3, 0, 2, 1], dtype=object)]\n",
      "[39, array([0., 0., 0., 0.]), array([1, 2, 0, 0, 0, 1, 3, 2, 3, 3, 3, 1], dtype=object)]\n",
      "[39, array([0., 0., 0., 0.]), array([1, 2, 0, 0, 0, 1, 3, 2, 3, 3, 3, 1], dtype=object)]\n",
      "[39, array([0., 0., 0., 0.]), array([1, 2, 0, 0, 0, 1, 3, 2, 3, 3, 3, 1], dtype=object)]\n",
      "\n",
      "[36, array([0., 0., 0., 0.]), array([1, 2, 0, 0, 0, 1, 3, 2, 3, 0, 2, 1], dtype=object)]\n",
      "[40, array([0., 0., 0., 0.]), array([0, 2, 0, 0, 0, 0, 2, 2, 3, 0, 2, 3], dtype=object)][40, array([0., 0., 0., 0.]), array([0, 2, 0, 0, 0, 0, 2, 2, 3, 0, 2, 3], dtype=object)]\n",
      "[40, array([0., 0., 0., 0.]), array([0, 2, 0, 0, 0, 0, 2, 2, 3, 0, 2, 3], dtype=object)]\n",
      "[37, array([0., 0., 0., 0.]), array([1, 2, 0, 0, 0, 0, 2, 2, 3, 0, 2, 1], dtype=object)]\n",
      "[38, array([0., 0., 0., 0.]), array([1, 2, 0, 0, 0, 0, 2, 2, 3, 3, 2, 1], dtype=object)]\n",
      "[39, array([0., 0., 0., 0.]), array([1, 2, 0, 0, 0, 1, 3, 2, 3, 3, 3, 1], dtype=object)]\n",
      "[40, array([0., 0., 0., 0.]), array([0, 2, 0, 0, 0, 0, 2, 2, 3, 0, 2, 3], dtype=object)]\n"
     ]
    }
   ],
   "source": [
    "# we can perform CAFQA by using the main optimization function \"claptonize\"\n",
    "ks_best, _, energy_best = claptonize(\n",
    "    paulis,\n",
    "    coeffs,\n",
    "    vqe_pcirc,\n",
    "    n_proc=4,           # total number of processes in parallel\n",
    "    n_starts=4,         # number of random genetic algorithm starts in parallel\n",
    "    n_rounds=1,         # number of budget rounds, if None it will terminate itself\n",
    "    callback=print,     # callback for internal parameter (#iteration, energies, ks) processing\n",
    "    budget=20           # budget per genetic algorithm instance\n",
    ")"
   ]
  },
  {
   "cell_type": "code",
   "execution_count": 11,
   "metadata": {},
   "outputs": [
    {
     "data": {
      "text/plain": [
       "[1, 2, 0, 0, 0, 0, 3, 2, 3, 0, 3, 0]"
      ]
     },
     "execution_count": 11,
     "metadata": {},
     "output_type": "execute_result"
    }
   ],
   "source": [
    "# the best parameters are\n",
    "ks_best"
   ]
  },
  {
   "cell_type": "code",
   "execution_count": 12,
   "metadata": {},
   "outputs": [
    {
     "data": {
      "text/plain": [
       "0.0"
      ]
     },
     "execution_count": 12,
     "metadata": {},
     "output_type": "execute_result"
    }
   ],
   "source": [
    "# with energy\n",
    "energy_best"
   ]
  },
  {
   "cell_type": "code",
   "execution_count": 13,
   "metadata": {},
   "outputs": [
    {
     "data": {
      "text/html": [
       "<pre>q0: -SQRT_Y-I-X-@-SQRT_Y_DAG-I----------------\n",
       "              | |\n",
       "q1: -Y------I-|-X-@----------Y----------S_DAG-\n",
       "              |   |\n",
       "q2: -I------I-@---X----------SQRT_Y_DAG-I-----</pre>"
      ],
      "text/plain": [
       "q0: -SQRT_Y-I-X-@-SQRT_Y_DAG-I----------------\n",
       "              | |\n",
       "q1: -Y------I-|-X-@----------Y----------S_DAG-\n",
       "              |   |\n",
       "q2: -I------I-@---X----------SQRT_Y_DAG-I-----"
      ]
     },
     "execution_count": 13,
     "metadata": {},
     "output_type": "execute_result"
    }
   ],
   "source": [
    "# the corresponding circuit is\n",
    "vqe_pcirc.assign(ks_best)\n",
    "vqe_pcirc.stim_circuit().diagram()"
   ]
  },
  {
   "cell_type": "markdown",
   "metadata": {},
   "source": [
    "# noisy CAFQA (nCAFQA)"
   ]
  },
  {
   "cell_type": "code",
   "execution_count": 14,
   "metadata": {},
   "outputs": [],
   "source": [
    "from clapton.depolarization import GateGeneralDepolarizationModel"
   ]
  },
  {
   "cell_type": "code",
   "execution_count": 15,
   "metadata": {},
   "outputs": [],
   "source": [
    "# let's add a noise model where we specify global 1q and 2q gate errors\n",
    "nm = GateGeneralDepolarizationModel(p1=0.005, p2=0.1) #NOTE: This is the Noise Model, not representative of device noise"
   ]
  },
  {
   "cell_type": "code",
   "execution_count": 16,
   "metadata": {},
   "outputs": [
    {
     "data": {
      "text/plain": [
       "<clapton.clifford.ParametrizedCliffordCircuit at 0x7f8ffc2b2140>"
      ]
     },
     "execution_count": 16,
     "metadata": {},
     "output_type": "execute_result"
    }
   ],
   "source": [
    "vqe_pcirc = circular_ansatz(N=len(paulis[0]), reps=10, fix_2q=True)\n",
    "vqe_pcirc.add_depolarization_model(nm)"
   ]
  },
  {
   "cell_type": "code",
   "execution_count": 17,
   "metadata": {},
   "outputs": [
    {
     "data": {
      "text/html": [
       "<pre>q0: -I-DEPOLARIZE1(0.005)--------------------I------------------DEPOLARIZE1(0.005)---------------------------------------X-DEPOLARIZE2(0.1)-@-DEPOLARIZE2(0.1)---I----------------DEPOLARIZE1(0.005)--------------------I------------------DEPOLARIZE1(0.005)---------------------------------------X-DEPOLARIZE2(0.1)-@-DEPOLARIZE2(0.1)---I----------------DEPOLARIZE1(0.005)--------------------I------------------DEPOLARIZE1(0.005)---------------------------------------X-DEPOLARIZE2(0.1)-@-DEPOLARIZE2(0.1)---I----------------DEPOLARIZE1(0.005)--------------------I------------------DEPOLARIZE1(0.005)---------------------------------------X-DEPOLARIZE2(0.1)-@-DEPOLARIZE2(0.1)---I----------------DEPOLARIZE1(0.005)--------------------I------------------DEPOLARIZE1(0.005)---------------------------------------X-DEPOLARIZE2(0.1)-@-DEPOLARIZE2(0.1)---I----------------DEPOLARIZE1(0.005)--------------------I------------------DEPOLARIZE1(0.005)---------------------------------------X-DEPOLARIZE2(0.1)-@-DEPOLARIZE2(0.1)---I----------------DEPOLARIZE1(0.005)--------------------I------------------DEPOLARIZE1(0.005)---------------------------------------X-DEPOLARIZE2(0.1)-@-DEPOLARIZE2(0.1)---I----------------DEPOLARIZE1(0.005)--------------------I------------------DEPOLARIZE1(0.005)---------------------------------------X-DEPOLARIZE2(0.1)-@-DEPOLARIZE2(0.1)---I----------------DEPOLARIZE1(0.005)--------------------I------------------DEPOLARIZE1(0.005)---------------------------------------X-DEPOLARIZE2(0.1)-@-DEPOLARIZE2(0.1)---I----------------DEPOLARIZE1(0.005)--------------------I------------------DEPOLARIZE1(0.005)---------------------------------------X-DEPOLARIZE2(0.1)-@-DEPOLARIZE2(0.1)---I----------------DEPOLARIZE1(0.005)--------------------I------------------DEPOLARIZE1(0.005)---------------------------------------\n",
       "                                                                                                                         | |                | |                                                                                                                                                     | |                | |                                                                                                                                                     | |                | |                                                                                                                                                     | |                | |                                                                                                                                                     | |                | |                                                                                                                                                     | |                | |                                                                                                                                                     | |                | |                                                                                                                                                     | |                | |                                                                                                                                                     | |                | |                                                                                                                                                     | |                | |\n",
       "q1: ---I------------------DEPOLARIZE1(0.005)--------------------I------------------DEPOLARIZE1(0.005)--------------------|-|----------------X-DEPOLARIZE2(0.1)-@-DEPOLARIZE2(0.1)-I------------------DEPOLARIZE1(0.005)--------------------I------------------DEPOLARIZE1(0.005)--------------------|-|----------------X-DEPOLARIZE2(0.1)-@-DEPOLARIZE2(0.1)-I------------------DEPOLARIZE1(0.005)--------------------I------------------DEPOLARIZE1(0.005)--------------------|-|----------------X-DEPOLARIZE2(0.1)-@-DEPOLARIZE2(0.1)-I------------------DEPOLARIZE1(0.005)--------------------I------------------DEPOLARIZE1(0.005)--------------------|-|----------------X-DEPOLARIZE2(0.1)-@-DEPOLARIZE2(0.1)-I------------------DEPOLARIZE1(0.005)--------------------I------------------DEPOLARIZE1(0.005)--------------------|-|----------------X-DEPOLARIZE2(0.1)-@-DEPOLARIZE2(0.1)-I------------------DEPOLARIZE1(0.005)--------------------I------------------DEPOLARIZE1(0.005)--------------------|-|----------------X-DEPOLARIZE2(0.1)-@-DEPOLARIZE2(0.1)-I------------------DEPOLARIZE1(0.005)--------------------I------------------DEPOLARIZE1(0.005)--------------------|-|----------------X-DEPOLARIZE2(0.1)-@-DEPOLARIZE2(0.1)-I------------------DEPOLARIZE1(0.005)--------------------I------------------DEPOLARIZE1(0.005)--------------------|-|----------------X-DEPOLARIZE2(0.1)-@-DEPOLARIZE2(0.1)-I------------------DEPOLARIZE1(0.005)--------------------I------------------DEPOLARIZE1(0.005)--------------------|-|----------------X-DEPOLARIZE2(0.1)-@-DEPOLARIZE2(0.1)-I------------------DEPOLARIZE1(0.005)--------------------I------------------DEPOLARIZE1(0.005)--------------------|-|----------------X-DEPOLARIZE2(0.1)-@-DEPOLARIZE2(0.1)-I------------------DEPOLARIZE1(0.005)--------------------I------------------DEPOLARIZE1(0.005)--------------------\n",
       "                                                                                                                         | |                                   | |                                                                                                                                  | |                                   | |                                                                                                                                  | |                                   | |                                                                                                                                  | |                                   | |                                                                                                                                  | |                                   | |                                                                                                                                  | |                                   | |                                                                                                                                  | |                                   | |                                                                                                                                  | |                                   | |                                                                                                                                  | |                                   | |                                                                                                                                  | |                                   | |\n",
       "q2: ----------------------I------------------DEPOLARIZE1(0.005)--------------------I------------------DEPOLARIZE1(0.005)-@-DEPOLARIZE2(0.1)--------------------X-DEPOLARIZE2(0.1)--------------------I------------------DEPOLARIZE1(0.005)--------------------I------------------DEPOLARIZE1(0.005)-@-DEPOLARIZE2(0.1)--------------------X-DEPOLARIZE2(0.1)--------------------I------------------DEPOLARIZE1(0.005)--------------------I------------------DEPOLARIZE1(0.005)-@-DEPOLARIZE2(0.1)--------------------X-DEPOLARIZE2(0.1)--------------------I------------------DEPOLARIZE1(0.005)--------------------I------------------DEPOLARIZE1(0.005)-@-DEPOLARIZE2(0.1)--------------------X-DEPOLARIZE2(0.1)--------------------I------------------DEPOLARIZE1(0.005)--------------------I------------------DEPOLARIZE1(0.005)-@-DEPOLARIZE2(0.1)--------------------X-DEPOLARIZE2(0.1)--------------------I------------------DEPOLARIZE1(0.005)--------------------I------------------DEPOLARIZE1(0.005)-@-DEPOLARIZE2(0.1)--------------------X-DEPOLARIZE2(0.1)--------------------I------------------DEPOLARIZE1(0.005)--------------------I------------------DEPOLARIZE1(0.005)-@-DEPOLARIZE2(0.1)--------------------X-DEPOLARIZE2(0.1)--------------------I------------------DEPOLARIZE1(0.005)--------------------I------------------DEPOLARIZE1(0.005)-@-DEPOLARIZE2(0.1)--------------------X-DEPOLARIZE2(0.1)--------------------I------------------DEPOLARIZE1(0.005)--------------------I------------------DEPOLARIZE1(0.005)-@-DEPOLARIZE2(0.1)--------------------X-DEPOLARIZE2(0.1)--------------------I------------------DEPOLARIZE1(0.005)--------------------I------------------DEPOLARIZE1(0.005)-@-DEPOLARIZE2(0.1)--------------------X-DEPOLARIZE2(0.1)--------------------I------------------DEPOLARIZE1(0.005)--------------------I------------------DEPOLARIZE1(0.005)-</pre>"
      ],
      "text/plain": [
       "q0: -I-DEPOLARIZE1(0.005)--------------------I------------------DEPOLARIZE1(0.005)---------------------------------------X-DEPOLARIZE2(0.1)-@-DEPOLARIZE2(0.1)---I----------------DEPOLARIZE1(0.005)--------------------I------------------DEPOLARIZE1(0.005)---------------------------------------X-DEPOLARIZE2(0.1)-@-DEPOLARIZE2(0.1)---I----------------DEPOLARIZE1(0.005)--------------------I------------------DEPOLARIZE1(0.005)---------------------------------------X-DEPOLARIZE2(0.1)-@-DEPOLARIZE2(0.1)---I----------------DEPOLARIZE1(0.005)--------------------I------------------DEPOLARIZE1(0.005)---------------------------------------X-DEPOLARIZE2(0.1)-@-DEPOLARIZE2(0.1)---I----------------DEPOLARIZE1(0.005)--------------------I------------------DEPOLARIZE1(0.005)---------------------------------------X-DEPOLARIZE2(0.1)-@-DEPOLARIZE2(0.1)---I----------------DEPOLARIZE1(0.005)--------------------I------------------DEPOLARIZE1(0.005)---------------------------------------X-DEPOLARIZE2(0.1)-@-DEPOLARIZE2(0.1)---I----------------DEPOLARIZE1(0.005)--------------------I------------------DEPOLARIZE1(0.005)---------------------------------------X-DEPOLARIZE2(0.1)-@-DEPOLARIZE2(0.1)---I----------------DEPOLARIZE1(0.005)--------------------I------------------DEPOLARIZE1(0.005)---------------------------------------X-DEPOLARIZE2(0.1)-@-DEPOLARIZE2(0.1)---I----------------DEPOLARIZE1(0.005)--------------------I------------------DEPOLARIZE1(0.005)---------------------------------------X-DEPOLARIZE2(0.1)-@-DEPOLARIZE2(0.1)---I----------------DEPOLARIZE1(0.005)--------------------I------------------DEPOLARIZE1(0.005)---------------------------------------X-DEPOLARIZE2(0.1)-@-DEPOLARIZE2(0.1)---I----------------DEPOLARIZE1(0.005)--------------------I------------------DEPOLARIZE1(0.005)---------------------------------------\n",
       "                                                                                                                         | |                | |                                                                                                                                                     | |                | |                                                                                                                                                     | |                | |                                                                                                                                                     | |                | |                                                                                                                                                     | |                | |                                                                                                                                                     | |                | |                                                                                                                                                     | |                | |                                                                                                                                                     | |                | |                                                                                                                                                     | |                | |                                                                                                                                                     | |                | |\n",
       "q1: ---I------------------DEPOLARIZE1(0.005)--------------------I------------------DEPOLARIZE1(0.005)--------------------|-|----------------X-DEPOLARIZE2(0.1)-@-DEPOLARIZE2(0.1)-I------------------DEPOLARIZE1(0.005)--------------------I------------------DEPOLARIZE1(0.005)--------------------|-|----------------X-DEPOLARIZE2(0.1)-@-DEPOLARIZE2(0.1)-I------------------DEPOLARIZE1(0.005)--------------------I------------------DEPOLARIZE1(0.005)--------------------|-|----------------X-DEPOLARIZE2(0.1)-@-DEPOLARIZE2(0.1)-I------------------DEPOLARIZE1(0.005)--------------------I------------------DEPOLARIZE1(0.005)--------------------|-|----------------X-DEPOLARIZE2(0.1)-@-DEPOLARIZE2(0.1)-I------------------DEPOLARIZE1(0.005)--------------------I------------------DEPOLARIZE1(0.005)--------------------|-|----------------X-DEPOLARIZE2(0.1)-@-DEPOLARIZE2(0.1)-I------------------DEPOLARIZE1(0.005)--------------------I------------------DEPOLARIZE1(0.005)--------------------|-|----------------X-DEPOLARIZE2(0.1)-@-DEPOLARIZE2(0.1)-I------------------DEPOLARIZE1(0.005)--------------------I------------------DEPOLARIZE1(0.005)--------------------|-|----------------X-DEPOLARIZE2(0.1)-@-DEPOLARIZE2(0.1)-I------------------DEPOLARIZE1(0.005)--------------------I------------------DEPOLARIZE1(0.005)--------------------|-|----------------X-DEPOLARIZE2(0.1)-@-DEPOLARIZE2(0.1)-I------------------DEPOLARIZE1(0.005)--------------------I------------------DEPOLARIZE1(0.005)--------------------|-|----------------X-DEPOLARIZE2(0.1)-@-DEPOLARIZE2(0.1)-I------------------DEPOLARIZE1(0.005)--------------------I------------------DEPOLARIZE1(0.005)--------------------|-|----------------X-DEPOLARIZE2(0.1)-@-DEPOLARIZE2(0.1)-I------------------DEPOLARIZE1(0.005)--------------------I------------------DEPOLARIZE1(0.005)--------------------\n",
       "                                                                                                                         | |                                   | |                                                                                                                                  | |                                   | |                                                                                                                                  | |                                   | |                                                                                                                                  | |                                   | |                                                                                                                                  | |                                   | |                                                                                                                                  | |                                   | |                                                                                                                                  | |                                   | |                                                                                                                                  | |                                   | |                                                                                                                                  | |                                   | |                                                                                                                                  | |                                   | |\n",
       "q2: ----------------------I------------------DEPOLARIZE1(0.005)--------------------I------------------DEPOLARIZE1(0.005)-@-DEPOLARIZE2(0.1)--------------------X-DEPOLARIZE2(0.1)--------------------I------------------DEPOLARIZE1(0.005)--------------------I------------------DEPOLARIZE1(0.005)-@-DEPOLARIZE2(0.1)--------------------X-DEPOLARIZE2(0.1)--------------------I------------------DEPOLARIZE1(0.005)--------------------I------------------DEPOLARIZE1(0.005)-@-DEPOLARIZE2(0.1)--------------------X-DEPOLARIZE2(0.1)--------------------I------------------DEPOLARIZE1(0.005)--------------------I------------------DEPOLARIZE1(0.005)-@-DEPOLARIZE2(0.1)--------------------X-DEPOLARIZE2(0.1)--------------------I------------------DEPOLARIZE1(0.005)--------------------I------------------DEPOLARIZE1(0.005)-@-DEPOLARIZE2(0.1)--------------------X-DEPOLARIZE2(0.1)--------------------I------------------DEPOLARIZE1(0.005)--------------------I------------------DEPOLARIZE1(0.005)-@-DEPOLARIZE2(0.1)--------------------X-DEPOLARIZE2(0.1)--------------------I------------------DEPOLARIZE1(0.005)--------------------I------------------DEPOLARIZE1(0.005)-@-DEPOLARIZE2(0.1)--------------------X-DEPOLARIZE2(0.1)--------------------I------------------DEPOLARIZE1(0.005)--------------------I------------------DEPOLARIZE1(0.005)-@-DEPOLARIZE2(0.1)--------------------X-DEPOLARIZE2(0.1)--------------------I------------------DEPOLARIZE1(0.005)--------------------I------------------DEPOLARIZE1(0.005)-@-DEPOLARIZE2(0.1)--------------------X-DEPOLARIZE2(0.1)--------------------I------------------DEPOLARIZE1(0.005)--------------------I------------------DEPOLARIZE1(0.005)-@-DEPOLARIZE2(0.1)--------------------X-DEPOLARIZE2(0.1)--------------------I------------------DEPOLARIZE1(0.005)--------------------I------------------DEPOLARIZE1(0.005)-"
      ]
     },
     "execution_count": 17,
     "metadata": {},
     "output_type": "execute_result"
    }
   ],
   "source": [
    "# after every gate a depol channel is added\n",
    "vqe_pcirc.stim_circuit().diagram()"
   ]
  },
  {
   "cell_type": "code",
   "execution_count": 18,
   "metadata": {},
   "outputs": [
    {
     "name": "stdout",
     "output_type": "stream",
     "text": [
      "STARTING ROUND 0\n",
      "\n",
      "\n",
      "started GA at id 1 with 1 procs\n",
      "\n",
      "started GA at id 2 with 1 procs\n",
      "\n",
      "\n",
      "started GA at id None with 1 procs\n",
      "\n",
      "started GA at id 3 with 1 procs\n",
      "[0, array([ 0.18839828, -0.03294973,  0.221348  ,  0.        ]), array([1, 1, 2, 1, 0, 0, 3, 3, 3, 0, 2, 0, 0, 3, 2, 1, 1, 3, 0, 3, 0, 2,\n",
      "       0, 1, 0, 0, 2, 3, 2, 0, 2, 3, 2, 2, 2, 1, 0, 1, 3, 0, 3, 2, 0, 1,\n",
      "       0, 1, 0, 2, 1, 1, 3, 3, 3, 1, 3, 2, 1, 0, 2, 2, 2, 2, 1, 3, 0, 0],\n",
      "      dtype=object)]\n",
      "[0, array([ 0.19108073, -0.03026727,  0.221348  ,  0.        ]), array([0, 2, 0, 3, 1, 2, 3, 0, 3, 3, 3, 1, 1, 0, 0, 1, 3, 2, 2, 1, 0, 2,\n",
      "       2, 0, 1, 0, 3, 0, 3, 2, 2, 3, 1, 0, 1, 1, 3, 1, 2, 0, 0, 1, 0, 2,\n",
      "       2, 3, 2, 2, 2, 2, 1, 0, 3, 0, 0, 1, 1, 2, 3, 1, 2, 2, 2, 2, 0, 0],\n",
      "      dtype=object)]\n",
      "[0, array([ 0.1900526, -0.0312954,  0.221348 ,  0.       ]), array([2, 2, 0, 2, 2, 2, 2, 1, 3, 3, 1, 0, 1, 2, 3, 1, 2, 1, 2, 0, 0, 1,\n",
      "       2, 2, 0, 3, 0, 2, 1, 3, 1, 1, 2, 0, 0, 2, 3, 3, 2, 3, 2, 1, 0, 0,\n",
      "       1, 3, 2, 0, 2, 1, 3, 3, 1, 2, 2, 2, 2, 1, 2, 1, 0, 2, 3, 3, 2, 3],\n",
      "      dtype=object)]\n",
      "[0, array([ 0.18514286, -0.03620514,  0.221348  ,  0.        ]), array([1, 1, 3, 0, 2, 2, 3, 3, 2, 3, 0, 0, 0, 2, 1, 2, 3, 2, 3, 3, 2, 1,\n",
      "       0, 0, 0, 0, 2, 0, 1, 0, 0, 0, 2, 0, 3, 1, 1, 2, 2, 1, 1, 1, 1, 1,\n",
      "       1, 2, 3, 2, 1, 2, 1, 0, 1, 3, 1, 1, 0, 2, 3, 1, 2, 0, 2, 1, 0, 1],\n",
      "      dtype=object)]\n",
      "[1, array([ 0.1793856, -0.0419624,  0.221348 ,  0.       ]), array([0, 2, 0, 1, 0, 2, 0, 0, 3, 1, 0, 0, 3, 3, 1, 3, 0, 3, 0, 2, 1, 2,\n",
      "       2, 0, 2, 0, 1, 0, 0, 2, 2, 3, 1, 1, 2, 3, 2, 1, 3, 3, 0, 0, 0, 0,\n",
      "       2, 1, 2, 0, 2, 0, 0, 2, 0, 1, 0, 1, 3, 1, 1, 3, 2, 1, 3, 0, 3, 0],\n",
      "      dtype=object)]\n",
      "[1, array([ 0.19644277, -0.02490523,  0.221348  ,  0.        ]), array([3, 0, 3, 3, 0, 0, 3, 1, 3, 1, 3, 0, 2, 3, 2, 2, 1, 0, 3, 2, 1, 0,\n",
      "       1, 3, 3, 1, 0, 1, 2, 1, 2, 0, 1, 0, 1, 0, 1, 3, 1, 3, 3, 2, 0, 1,\n",
      "       3, 1, 3, 0, 3, 0, 3, 2, 1, 3, 0, 3, 0, 2, 3, 3, 3, 2, 1, 1, 2, 1],\n",
      "      dtype=object)]\n",
      "[1, array([ 0.18441108, -0.03693692,  0.221348  ,  0.        ]), array([2, 0, 1, 1, 2, 0, 3, 3, 2, 1, 2, 2, 3, 3, 0, 3, 2, 1, 0, 1, 3, 3,\n",
      "       0, 1, 0, 2, 0, 1, 1, 3, 0, 2, 3, 0, 1, 3, 2, 2, 3, 3, 3, 0, 1, 2,\n",
      "       1, 1, 0, 3, 0, 3, 1, 0, 0, 2, 1, 0, 0, 2, 2, 0, 2, 3, 0, 3, 3, 2],\n",
      "      dtype=object)]\n",
      "[1, array([ 0.17556162, -0.04578638,  0.221348  ,  0.        ]), array([0, 2, 1, 1, 3, 2, 1, 1, 3, 2, 1, 0, 1, 1, 3, 3, 1, 2, 3, 3, 2, 1,\n",
      "       0, 0, 0, 0, 2, 0, 1, 0, 0, 0, 2, 0, 3, 1, 1, 2, 2, 1, 1, 1, 1, 1,\n",
      "       1, 2, 3, 2, 1, 2, 1, 0, 1, 3, 1, 1, 0, 2, 3, 1, 2, 0, 2, 1, 0, 1],\n",
      "      dtype=object)]\n",
      "[2, array([ 0.17736643, -0.04398157,  0.221348  ,  0.        ]), array([0, 0, 0, 0, 1, 3, 2, 0, 0, 1, 0, 1, 1, 1, 3, 2, 3, 1, 3, 3, 0, 1,\n",
      "       1, 3, 3, 0, 1, 1, 0, 1, 3, 3, 3, 2, 1, 0, 3, 1, 3, 1, 0, 2, 1, 2,\n",
      "       0, 1, 0, 0, 3, 0, 1, 0, 1, 0, 3, 1, 0, 3, 0, 1, 1, 1, 3, 3, 3, 0],\n",
      "      dtype=object)]\n",
      "[2, array([ 0.17806384, -0.04328416,  0.221348  ,  0.        ]), array([3, 2, 1, 1, 2, 1, 3, 0, 3, 3, 0, 2, 1, 2, 1, 0, 2, 3, 0, 3, 2, 2,\n",
      "       1, 0, 3, 0, 1, 3, 2, 0, 0, 0, 2, 0, 3, 1, 1, 2, 2, 1, 1, 1, 1, 1,\n",
      "       1, 2, 3, 2, 1, 2, 1, 0, 1, 3, 1, 1, 0, 2, 3, 1, 2, 0, 2, 1, 0, 1],\n",
      "      dtype=object)]\n",
      "[2, array([ 0.19325076, -0.02809725,  0.221348  ,  0.        ]), array([1, 2, 0, 0, 3, 1, 0, 1, 3, 3, 0, 0, 1, 2, 0, 0, 2, 0, 1, 1, 1, 3,\n",
      "       2, 0, 3, 1, 3, 0, 1, 3, 0, 1, 2, 3, 2, 1, 1, 3, 1, 1, 3, 3, 3, 3,\n",
      "       2, 3, 3, 0, 2, 3, 1, 2, 3, 2, 3, 0, 2, 3, 3, 0, 2, 3, 2, 3, 0, 0],\n",
      "      dtype=object)]\n",
      "[2, array([ 0.19605882, -0.02528918,  0.221348  ,  0.        ]), array([2, 1, 2, 1, 0, 2, 3, 0, 2, 0, 2, 1, 2, 3, 1, 0, 3, 3, 3, 3, 1, 3,\n",
      "       2, 3, 3, 1, 0, 0, 3, 2, 3, 0, 3, 0, 0, 3, 0, 2, 0, 1, 1, 0, 1, 1,\n",
      "       0, 3, 0, 0, 3, 2, 1, 0, 1, 3, 2, 1, 0, 3, 0, 2, 2, 1, 3, 3, 2, 0],\n",
      "      dtype=object)]\n",
      "[3, array([ 0.19992883, -0.02141918,  0.221348  ,  0.        ]), array([2, 0, 1, 1, 2, 0, 3, 3, 2, 1, 2, 2, 3, 3, 0, 3, 2, 1, 0, 1, 3, 3,\n",
      "       0, 1, 0, 2, 0, 1, 1, 3, 0, 2, 3, 0, 1, 3, 2, 2, 3, 0, 2, 0, 0, 3,\n",
      "       3, 0, 0, 3, 3, 2, 1, 2, 0, 3, 3, 2, 2, 3, 2, 2, 1, 0, 2, 2, 0, 0],\n",
      "      dtype=object)]\n",
      "[3, array([ 0.18863179, -0.03271622,  0.221348  ,  0.        ]), array([0, 1, 3, 3, 0, 0, 0, 2, 2, 0, 1, 3, 0, 0, 2, 3, 2, 0, 2, 3, 0, 2,\n",
      "       0, 3, 0, 3, 2, 3, 3, 3, 1, 1, 2, 0, 2, 2, 3, 3, 2, 3, 3, 1, 3, 3,\n",
      "       1, 3, 1, 0, 3, 0, 2, 2, 2, 0, 3, 1, 2, 0, 0, 1, 3, 0, 3, 3, 0, 3],\n",
      "      dtype=object)]\n",
      "[3, array([ 0.18114365, -0.04020435,  0.221348  ,  0.        ]), array([0, 0, 0, 1, 2, 3, 3, 0, 3, 0, 0, 2, 2, 1, 0, 2, 3, 3, 3, 0, 2, 2,\n",
      "       2, 1, 0, 0, 0, 2, 2, 2, 0, 1, 1, 0, 3, 2, 2, 1, 1, 0, 3, 3, 2, 2,\n",
      "       3, 2, 1, 1, 0, 0, 3, 3, 3, 1, 2, 2, 3, 3, 1, 3, 3, 2, 3, 0, 3, 2],\n",
      "      dtype=object)]\n",
      "[3, array([ 0.19233582, -0.02901218,  0.221348  ,  0.        ]), array([3, 0, 3, 0, 3, 2, 3, 2, 3, 0, 2, 1, 3, 3, 2, 3, 1, 3, 2, 0, 2, 0,\n",
      "       1, 2, 0, 1, 0, 3, 3, 0, 0, 0, 2, 0, 3, 1, 1, 2, 2, 1, 1, 1, 1, 1,\n",
      "       1, 2, 3, 2, 1, 2, 1, 0, 1, 3, 1, 1, 0, 2, 3, 1, 2, 0, 3, 0, 2, 1],\n",
      "      dtype=object)]\n",
      "[4, array([ 0.19329249, -0.02805551,  0.221348  ,  0.        ]), array([2, 2, 2, 3, 1, 3, 1, 3, 1, 3, 2, 2, 0, 0, 1, 2, 2, 1, 0, 2, 0, 1,\n",
      "       1, 3, 2, 0, 2, 1, 0, 1, 1, 2, 3, 0, 1, 2, 1, 2, 0, 2, 3, 2, 2, 0,\n",
      "       2, 0, 2, 2, 1, 2, 3, 3, 3, 1, 3, 2, 1, 0, 2, 2, 2, 2, 1, 3, 0, 0],\n",
      "      dtype=object)]\n",
      "[4, array([ 0.16389276, -0.05745525,  0.221348  ,  0.        ]), array([3, 2, 0, 3, 3, 2, 2, 0, 2, 1, 2, 1, 1, 3, 0, 3, 0, 0, 1, 0, 1, 1,\n",
      "       3, 0, 1, 1, 1, 0, 0, 1, 2, 2, 3, 1, 3, 1, 2, 1, 3, 3, 0, 0, 3, 0,\n",
      "       0, 3, 2, 1, 1, 0, 0, 2, 3, 2, 1, 3, 3, 2, 2, 3, 2, 3, 3, 0, 2, 0],\n",
      "      dtype=object)]\n",
      "[4, array([ 0.19196295, -0.02938506,  0.221348  ,  0.        ]), array([1, 2, 2, 0, 2, 3, 0, 1, 1, 2, 2, 3, 0, 1, 1, 3, 0, 1, 1, 3, 0, 3,\n",
      "       3, 2, 1, 3, 2, 2, 0, 0, 0, 3, 0, 3, 1, 3, 3, 3, 3, 0, 3, 1, 3, 0,\n",
      "       3, 0, 1, 2, 3, 3, 2, 0, 2, 1, 3, 3, 0, 0, 3, 3, 0, 2, 1, 0, 3, 2],\n",
      "      dtype=object)]\n",
      "[4, array([ 0.18790497, -0.03344303,  0.221348  ,  0.        ]), array([3, 3, 0, 0, 0, 2, 2, 2, 3, 2, 1, 1, 0, 2, 2, 1, 2, 1, 0, 1, 2, 1,\n",
      "       0, 3, 3, 0, 2, 3, 0, 3, 2, 2, 3, 2, 1, 1, 0, 2, 1, 2, 1, 0, 2, 2,\n",
      "       1, 1, 0, 0, 2, 2, 1, 0, 2, 3, 3, 1, 0, 3, 3, 0, 3, 2, 1, 1, 3, 0],\n",
      "      dtype=object)]\n",
      "[5, array([ 0.19086439, -0.03048361,  0.221348  ,  0.        ]), array([0, 2, 0, 1, 0, 0, 3, 3, 2, 1, 2, 2, 3, 2, 1, 0, 2, 3, 0, 3, 2, 0,\n",
      "       1, 0, 3, 0, 1, 3, 2, 3, 0, 2, 3, 0, 1, 3, 2, 2, 3, 3, 3, 0, 1, 2,\n",
      "       1, 1, 1, 1, 2, 1, 1, 2, 0, 3, 1, 3, 1, 1, 1, 1, 1, 2, 0, 3, 1, 0],\n",
      "      dtype=object)]\n",
      "[5, array([ 0.18380273, -0.03754527,  0.221348  ,  0.        ]), array([2, 2, 0, 1, 3, 1, 2, 3, 3, 2, 3, 1, 0, 3, 2, 0, 3, 0, 2, 2, 2, 0,\n",
      "       0, 2, 3, 3, 1, 2, 1, 0, 3, 0, 2, 0, 0, 2, 2, 1, 1, 0, 0, 1, 2, 0,\n",
      "       2, 2, 2, 1, 0, 0, 2, 0, 3, 1, 2, 2, 0, 3, 0, 3, 2, 0, 3, 0, 2, 2],\n",
      "      dtype=object)]\n",
      "[5, array([ 0.20404315, -0.01730485,  0.221348  ,  0.        ]), array([1, 1, 0, 0, 0, 2, 0, 0, 2, 1, 0, 1, 0, 2, 2, 2, 3, 0, 0, 0, 2, 3,\n",
      "       3, 2, 3, 3, 3, 3, 2, 3, 2, 3, 0, 3, 2, 3, 3, 0, 0, 2, 3, 1, 3, 2,\n",
      "       2, 0, 0, 1, 1, 3, 2, 2, 2, 1, 0, 3, 0, 2, 2, 3, 2, 0, 1, 3, 2, 1],\n",
      "      dtype=object)]\n",
      "[5, array([ 0.19359659, -0.02775142,  0.221348  ,  0.        ]), array([3, 3, 0, 3, 3, 1, 1, 2, 3, 3, 3, 2, 0, 2, 2, 1, 2, 3, 0, 1, 2, 1,\n",
      "       2, 2, 3, 0, 2, 0, 1, 0, 0, 0, 2, 0, 3, 1, 1, 2, 2, 1, 1, 1, 1, 1,\n",
      "       1, 2, 3, 2, 1, 2, 1, 0, 1, 3, 1, 1, 0, 2, 3, 1, 2, 0, 2, 1, 0, 1],\n",
      "      dtype=object)]\n",
      "[6, array([ 0.18984495, -0.03150306,  0.221348  ,  0.        ]), array([2, 0, 1, 1, 2, 1, 3, 3, 2, 1, 2, 3, 1, 2, 1, 0, 2, 1, 0, 2, 2, 0,\n",
      "       1, 0, 1, 0, 3, 3, 2, 3, 3, 3, 3, 0, 1, 3, 2, 2, 3, 3, 3, 0, 1, 2,\n",
      "       1, 1, 2, 1, 2, 1, 3, 2, 2, 0, 3, 3, 3, 0, 1, 0, 3, 1, 2, 1, 1, 3],\n",
      "      dtype=object)]\n",
      "[6, array([ 0.17973226, -0.04161574,  0.221348  ,  0.        ]), array([0, 2, 1, 3, 3, 0, 3, 0, 0, 2, 0, 3, 2, 3, 0, 3, 3, 3, 0, 0, 2, 2,\n",
      "       3, 1, 0, 0, 0, 2, 2, 1, 0, 1, 0, 1, 1, 2, 0, 2, 2, 3, 0, 0, 0, 0,\n",
      "       2, 1, 2, 0, 2, 0, 0, 2, 3, 3, 1, 3, 0, 0, 3, 0, 3, 1, 0, 1, 1, 3],\n",
      "      dtype=object)]\n",
      "[6, array([ 0.18804731, -0.03330069,  0.221348  ,  0.        ]), array([3, 2, 1, 1, 2, 1, 2, 0, 3, 3, 0, 0, 1, 2, 0, 0, 1, 3, 3, 3, 2, 2,\n",
      "       1, 2, 3, 0, 1, 1, 3, 0, 0, 0, 2, 0, 3, 1, 1, 2, 0, 2, 1, 3, 3, 2,\n",
      "       0, 1, 3, 3, 1, 0, 3, 0, 2, 0, 3, 2, 0, 3, 0, 2, 3, 2, 0, 1, 3, 1],\n",
      "      dtype=object)]\n",
      "[6, array([ 0.19244633, -0.02890167,  0.221348  ,  0.        ]), array([1, 1, 3, 0, 2, 2, 3, 3, 2, 3, 0, 0, 0, 2, 1, 2, 3, 2, 3, 3, 2, 1,\n",
      "       0, 0, 0, 0, 2, 0, 1, 0, 0, 0, 2, 1, 0, 0, 1, 3, 1, 0, 3, 0, 2, 3,\n",
      "       2, 0, 0, 1, 0, 3, 2, 0, 0, 0, 0, 1, 2, 1, 1, 1, 1, 0, 0, 2, 3, 2],\n",
      "      dtype=object)]\n",
      "[7, array([ 0.17472487, -0.04662313,  0.221348  ,  0.        ]), array([2, 2, 2, 3, 1, 3, 1, 3, 1, 3, 2, 2, 0, 0, 1, 2, 2, 1, 0, 2, 2, 0,\n",
      "       0, 2, 1, 0, 3, 0, 1, 3, 0, 2, 3, 0, 1, 3, 2, 2, 3, 3, 3, 0, 1, 2,\n",
      "       1, 1, 1, 1, 2, 1, 1, 2, 0, 3, 1, 3, 1, 1, 1, 1, 1, 2, 0, 3, 1, 0],\n",
      "      dtype=object)]\n",
      "[7, array([ 0.18627292, -0.03507508,  0.221348  ,  0.        ]), array([2, 2, 1, 3, 3, 3, 0, 0, 0, 2, 0, 3, 1, 2, 0, 2, 3, 3, 3, 3, 0, 1,\n",
      "       1, 1, 1, 0, 1, 1, 0, 1, 3, 3, 1, 3, 1, 0, 1, 2, 0, 2, 3, 3, 2, 3,\n",
      "       1, 0, 2, 2, 1, 2, 1, 1, 2, 2, 2, 2, 2, 1, 1, 1, 2, 3, 2, 3, 0, 3],\n",
      "      dtype=object)]\n",
      "[7, array([ 0.18603171, -0.0353163 ,  0.221348  ,  0.        ]), array([3, 2, 1, 1, 2, 0, 2, 2, 2, 3, 1, 0, 2, 0, 0, 2, 0, 1, 1, 3, 1, 2,\n",
      "       1, 3, 0, 0, 2, 1, 2, 3, 1, 3, 2, 0, 2, 2, 3, 1, 3, 1, 3, 0, 2, 2,\n",
      "       0, 0, 0, 1, 0, 2, 2, 3, 0, 3, 3, 2, 0, 1, 2, 2, 2, 1, 2, 2, 0, 3],\n",
      "      dtype=object)]\n",
      "[7, array([ 0.18517538, -0.03617263,  0.221348  ,  0.        ]), array([0, 1, 3, 0, 3, 2, 3, 3, 2, 3, 0, 0, 2, 2, 1, 2, 3, 3, 3, 3, 1, 3,\n",
      "       2, 3, 3, 1, 0, 0, 3, 2, 3, 0, 3, 0, 0, 3, 0, 2, 0, 1, 1, 0, 1, 1,\n",
      "       0, 3, 0, 0, 3, 2, 1, 0, 1, 3, 2, 1, 0, 3, 0, 2, 2, 1, 3, 3, 2, 0],\n",
      "      dtype=object)]\n",
      "[8, array([ 0.1769658, -0.0443822,  0.221348 ,  0.       ]), array([2, 1, 1, 1, 2, 1, 2, 1, 2, 3, 0, 1, 3, 3, 0, 3, 1, 1, 1, 1, 2, 3,\n",
      "       1, 1, 0, 2, 1, 3, 0, 3, 3, 1, 3, 0, 1, 3, 2, 2, 3, 3, 3, 0, 1, 2,\n",
      "       1, 1, 1, 1, 2, 1, 1, 2, 0, 3, 1, 3, 1, 1, 1, 1, 1, 2, 0, 3, 1, 0],\n",
      "      dtype=object)]\n",
      "[8, array([ 0.19346101, -0.02788699,  0.221348  ,  0.        ]), array([3, 2, 1, 1, 2, 0, 3, 3, 2, 1, 2, 2, 3, 3, 0, 3, 2, 1, 0, 1, 3, 3,\n",
      "       0, 1, 0, 2, 0, 1, 1, 3, 0, 2, 3, 0, 1, 3, 2, 2, 3, 3, 3, 0, 1, 2,\n",
      "       1, 1, 1, 1, 2, 1, 1, 2, 0, 1, 1, 3, 1, 1, 0, 1, 1, 2, 0, 3, 1, 0],\n",
      "      dtype=object)]\n",
      "[8, array([ 0.18174028, -0.03960772,  0.221348  ,  0.        ]), array([2, 0, 0, 2, 2, 3, 2, 2, 3, 2, 3, 0, 3, 3, 2, 2, 2, 2, 1, 3, 2, 2,\n",
      "       3, 0, 2, 2, 1, 3, 2, 0, 0, 1, 1, 3, 3, 3, 1, 1, 0, 2, 1, 1, 1, 1,\n",
      "       1, 2, 1, 2, 2, 2, 1, 2, 1, 3, 0, 2, 0, 0, 3, 1, 2, 0, 2, 3, 0, 1],\n",
      "      dtype=object)]\n",
      "[8, array([ 0.17699791, -0.04435009,  0.221348  ,  0.        ]), array([1, 1, 3, 0, 2, 0, 3, 3, 2, 3, 0, 0, 0, 2, 1, 2, 3, 2, 3, 3, 2, 1,\n",
      "       0, 0, 0, 0, 2, 0, 2, 0, 0, 0, 2, 0, 3, 1, 1, 2, 2, 1, 1, 1, 1, 1,\n",
      "       1, 2, 0, 2, 1, 2, 1, 0, 1, 1, 2, 0, 2, 1, 3, 0, 3, 0, 0, 0, 1, 1],\n",
      "      dtype=object)]\n",
      "[9, array([ 0.19037133, -0.03097667,  0.221348  ,  0.        ]), array([2, 2, 2, 3, 1, 3, 1, 3, 1, 3, 2, 2, 1, 2, 3, 2, 1, 1, 0, 0, 0, 3,\n",
      "       1, 3, 0, 0, 2, 1, 1, 3, 3, 3, 3, 0, 1, 0, 3, 0, 3, 2, 0, 2, 1, 2,\n",
      "       2, 2, 3, 3, 3, 2, 3, 0, 1, 1, 0, 1, 3, 3, 1, 1, 1, 2, 3, 3, 1, 0],\n",
      "      dtype=object)]\n",
      "[9, array([ 0.18902608, -0.03232192,  0.221348  ,  0.        ]), array([0, 3, 2, 3, 1, 0, 1, 3, 0, 2, 2, 3, 2, 0, 0, 2, 3, 1, 0, 2, 0, 1,\n",
      "       1, 3, 3, 0, 2, 1, 3, 1, 0, 1, 1, 0, 2, 2, 2, 3, 1, 2, 2, 1, 2, 2,\n",
      "       2, 1, 2, 1, 0, 2, 2, 0, 3, 2, 2, 2, 3, 3, 1, 2, 2, 0, 3, 0, 1, 2],\n",
      "      dtype=object)]\n",
      "[9, array([ 0.18048034, -0.04086766,  0.221348  ,  0.        ]), array([0, 2, 0, 0, 1, 2, 3, 0, 3, 3, 3, 1, 2, 2, 2, 3, 0, 2, 2, 2, 3, 3,\n",
      "       1, 0, 3, 0, 1, 3, 2, 2, 2, 0, 2, 2, 0, 0, 0, 3, 0, 1, 0, 0, 2, 2,\n",
      "       0, 0, 0, 1, 0, 2, 3, 0, 2, 0, 0, 2, 0, 3, 0, 2, 0, 2, 0, 1, 2, 1],\n",
      "      dtype=object)]\n",
      "[9, array([ 0.18983947, -0.03150854,  0.221348  ,  0.        ]), array([3, 3, 0, 2, 3, 3, 2, 3, 2, 1, 1, 2, 1, 0, 2, 1, 2, 0, 0, 2, 3, 0,\n",
      "       2, 3, 2, 1, 3, 3, 0, 3, 2, 3, 1, 2, 1, 1, 0, 3, 1, 0, 2, 2, 2, 2,\n",
      "       0, 3, 2, 1, 2, 3, 0, 2, 2, 2, 2, 0, 2, 0, 3, 1, 0, 0, 0, 1, 0, 1],\n",
      "      dtype=object)]\n",
      "[10, array([ 0.18622115, -0.03512686,  0.221348  ,  0.        ]), array([1, 1, 1, 0, 0, 1, 3, 3, 2, 0, 2, 0, 0, 3, 2, 1, 3, 3, 0, 0, 0, 2,\n",
      "       2, 3, 1, 2, 3, 1, 1, 0, 0, 3, 2, 1, 0, 1, 1, 3, 3, 0, 3, 3, 0, 3,\n",
      "       0, 1, 3, 3, 0, 1, 0, 3, 1, 1, 0, 1, 3, 3, 3, 1, 3, 0, 0, 2, 1, 3],\n",
      "      dtype=object)]\n",
      "[10, array([ 0.18777894, -0.03356906,  0.221348  ,  0.        ]), array([1, 3, 2, 0, 3, 1, 3, 1, 0, 2, 0, 0, 2, 0, 0, 3, 0, 3, 1, 2, 1, 2,\n",
      "       3, 2, 2, 0, 2, 1, 1, 1, 3, 0, 2, 2, 2, 3, 2, 1, 1, 1, 2, 1, 2, 0,\n",
      "       3, 0, 2, 3, 0, 0, 2, 0, 1, 1, 2, 2, 0, 3, 0, 3, 2, 0, 3, 0, 3, 1],\n",
      "      dtype=object)]\n",
      "[10, array([ 0.19225226, -0.02909575,  0.221348  ,  0.        ]), array([3, 0, 2, 3, 0, 2, 3, 3, 3, 3, 3, 1, 1, 0, 0, 1, 1, 2, 3, 1, 0, 2,\n",
      "       3, 0, 0, 0, 3, 2, 1, 2, 2, 3, 2, 0, 1, 1, 0, 2, 0, 2, 0, 1, 3, 2,\n",
      "       2, 3, 2, 2, 2, 2, 1, 0, 3, 2, 3, 1, 1, 2, 1, 1, 2, 2, 0, 0, 3, 2],\n",
      "      dtype=object)]\n",
      "[10, array([ 0.18604042, -0.03530758,  0.221348  ,  0.        ]), array([1, 3, 1, 2, 3, 0, 2, 1, 0, 3, 3, 0, 2, 3, 0, 2, 2, 2, 0, 2, 1, 2,\n",
      "       1, 2, 1, 0, 2, 1, 3, 2, 1, 1, 3, 3, 1, 0, 2, 2, 0, 3, 3, 1, 3, 3,\n",
      "       2, 2, 1, 2, 2, 0, 3, 2, 2, 0, 1, 1, 0, 2, 3, 1, 0, 0, 2, 1, 0, 0],\n",
      "      dtype=object)]\n",
      "[11, array([ 0.17740571, -0.04394229,  0.221348  ,  0.        ]), array([1, 1, 2, 1, 0, 0, 2, 0, 3, 2, 0, 2, 0, 3, 2, 1, 1, 2, 0, 2, 0, 2,\n",
      "       0, 3, 0, 0, 2, 3, 1, 2, 2, 3, 2, 2, 2, 2, 0, 1, 0, 0, 1, 2, 0, 1,\n",
      "       0, 0, 1, 3, 2, 1, 1, 3, 0, 1, 3, 1, 1, 3, 2, 2, 0, 3, 2, 3, 3, 3],\n",
      "      dtype=object)]\n",
      "[11, array([ 0.1855875, -0.0357605,  0.221348 ,  0.       ]), array([2, 2, 0, 2, 2, 2, 2, 1, 3, 3, 1, 0, 1, 2, 3, 1, 2, 1, 2, 0, 0, 1,\n",
      "       2, 2, 0, 3, 0, 2, 1, 3, 1, 1, 2, 0, 0, 2, 3, 3, 2, 3, 2, 1, 0, 0,\n",
      "       1, 3, 2, 0, 2, 1, 3, 3, 3, 3, 3, 0, 2, 3, 3, 1, 2, 3, 2, 3, 0, 0],\n",
      "      dtype=object)]\n",
      "[11, array([ 0.19183811, -0.02950989,  0.221348  ,  0.        ]), array([2, 2, 1, 1, 2, 0, 2, 0, 2, 3, 2, 0, 2, 0, 0, 0, 0, 1, 1, 3, 0, 2,\n",
      "       2, 0, 0, 3, 3, 0, 3, 3, 1, 3, 2, 3, 1, 2, 3, 1, 0, 3, 1, 1, 2, 2,\n",
      "       0, 0, 1, 0, 0, 3, 1, 3, 1, 0, 0, 0, 0, 1, 1, 3, 3, 1, 2, 1, 1, 1],\n",
      "      dtype=object)]\n",
      "[11, array([ 0.17608383, -0.04526418,  0.221348  ,  0.        ]), array([1, 2, 1, 0, 1, 0, 0, 3, 1, 3, 2, 0, 1, 1, 0, 2, 3, 2, 3, 1, 2, 1,\n",
      "       2, 0, 3, 0, 0, 0, 1, 1, 3, 0, 3, 2, 3, 1, 1, 2, 0, 0, 3, 0, 2, 0,\n",
      "       1, 2, 2, 2, 1, 2, 1, 1, 3, 1, 2, 0, 2, 1, 3, 0, 3, 0, 0, 0, 1, 1],\n",
      "      dtype=object)]\n",
      "[12, array([ 0.18900514, -0.03234286,  0.221348  ,  0.        ]), array([3, 2, 0, 0, 1, 2, 1, 0, 3, 2, 1, 2, 2, 1, 2, 1, 3, 1, 2, 0, 2, 0,\n",
      "       0, 1, 0, 1, 2, 0, 0, 0, 2, 3, 2, 0, 2, 2, 0, 1, 3, 3, 3, 2, 3, 1,\n",
      "       0, 1, 2, 0, 1, 3, 3, 3, 2, 1, 3, 2, 0, 1, 2, 2, 2, 1, 1, 2, 3, 3],\n",
      "      dtype=object)]\n",
      "[12, array([ 0.18624608, -0.03510192,  0.221348  ,  0.        ]), array([3, 3, 2, 3, 3, 1, 3, 3, 2, 1, 2, 2, 3, 3, 0, 2, 0, 2, 0, 2, 2, 3,\n",
      "       2, 2, 0, 3, 3, 2, 3, 0, 1, 0, 0, 0, 2, 3, 1, 1, 0, 0, 0, 1, 3, 2,\n",
      "       1, 3, 2, 2, 2, 3, 3, 2, 3, 3, 0, 1, 2, 3, 2, 3, 2, 0, 3, 0, 2, 1],\n",
      "      dtype=object)]\n",
      "[12, array([ 0.1845348, -0.0368132,  0.221348 ,  0.       ]), array([2, 1, 1, 1, 1, 0, 2, 0, 2, 3, 2, 0, 2, 0, 0, 0, 0, 1, 3, 3, 0, 2,\n",
      "       2, 0, 0, 0, 1, 0, 1, 3, 1, 3, 2, 3, 1, 2, 0, 1, 0, 3, 1, 1, 2, 1,\n",
      "       0, 3, 1, 2, 3, 2, 2, 0, 0, 3, 2, 3, 0, 0, 3, 0, 0, 2, 1, 0, 3, 2],\n",
      "      dtype=object)]\n",
      "[12, array([ 0.18632348, -0.03502452,  0.221348  ,  0.        ]), array([1, 1, 3, 0, 2, 2, 3, 3, 2, 3, 0, 0, 0, 2, 1, 2, 3, 2, 3, 3, 2, 1,\n",
      "       0, 0, 0, 0, 2, 0, 1, 0, 0, 0, 2, 0, 3, 1, 1, 2, 2, 1, 1, 1, 2, 0,\n",
      "       1, 2, 0, 2, 1, 2, 0, 0, 1, 3, 3, 1, 0, 3, 3, 0, 3, 2, 1, 1, 3, 3],\n",
      "      dtype=object)]\n",
      "[13, array([ 0.18674291, -0.0346051 ,  0.221348  ,  0.        ]), array([3, 3, 2, 0, 0, 2, 3, 3, 3, 0, 2, 3, 2, 3, 3, 1, 1, 1, 2, 0, 0, 2,\n",
      "       3, 1, 0, 0, 2, 1, 2, 3, 2, 0, 1, 2, 1, 0, 0, 1, 2, 1, 3, 2, 0, 1,\n",
      "       1, 1, 0, 2, 0, 1, 3, 3, 3, 0, 3, 0, 3, 2, 3, 1, 3, 0, 0, 0, 1, 0],\n",
      "      dtype=object)]\n",
      "[13, array([ 0.19340418, -0.02794382,  0.221348  ,  0.        ]), array([3, 2, 0, 3, 3, 1, 3, 3, 1, 0, 0, 0, 1, 1, 0, 0, 2, 3, 1, 1, 2, 3,\n",
      "       2, 2, 1, 2, 1, 0, 1, 3, 0, 2, 3, 3, 2, 1, 1, 3, 1, 3, 1, 1, 1, 3,\n",
      "       1, 0, 3, 2, 0, 0, 2, 3, 0, 1, 3, 2, 3, 3, 0, 3, 2, 0, 3, 0, 3, 1],\n",
      "      dtype=object)]\n",
      "[13, array([ 0.17820385, -0.04314415,  0.221348  ,  0.        ]), array([0, 1, 3, 0, 2, 2, 2, 3, 2, 3, 0, 0, 0, 2, 1, 1, 0, 2, 3, 0, 3, 1,\n",
      "       1, 1, 1, 3, 3, 0, 2, 3, 2, 3, 0, 3, 3, 1, 1, 0, 0, 2, 3, 0, 2, 2,\n",
      "       2, 0, 0, 1, 1, 3, 2, 2, 2, 1, 0, 3, 0, 2, 3, 1, 0, 0, 1, 1, 2, 1],\n",
      "      dtype=object)]\n",
      "[13, array([ 0.17497097, -0.04637704,  0.221348  ,  0.        ]), array([1, 1, 3, 0, 2, 2, 3, 3, 2, 3, 0, 0, 0, 2, 1, 1, 2, 3, 0, 1, 2, 1,\n",
      "       2, 2, 3, 0, 2, 3, 0, 3, 2, 3, 1, 2, 1, 1, 0, 1, 1, 0, 0, 1, 0, 0,\n",
      "       0, 3, 0, 1, 2, 2, 1, 2, 1, 2, 1, 1, 0, 0, 3, 0, 2, 2, 0, 1, 2, 1],\n",
      "      dtype=object)]\n",
      "[14, array([ 0.18939548, -0.03195252,  0.221348  ,  0.        ]), array([2, 0, 1, 1, 3, 0, 3, 2, 3, 1, 2, 2, 3, 2, 1, 0, 1, 1, 2, 0, 0, 2,\n",
      "       3, 1, 3, 0, 2, 1, 2, 3, 3, 1, 2, 2, 1, 0, 2, 1, 2, 1, 3, 1, 0, 3,\n",
      "       0, 2, 0, 2, 0, 1, 3, 3, 3, 0, 3, 0, 1, 2, 3, 1, 3, 2, 0, 0, 0, 0],\n",
      "      dtype=object)]\n",
      "[14, array([ 0.189307  , -0.03204101,  0.221348  ,  0.        ]), array([1, 1, 2, 0, 3, 3, 3, 1, 2, 2, 0, 0, 2, 0, 0, 2, 0, 1, 1, 2, 1, 2,\n",
      "       3, 2, 3, 2, 2, 1, 2, 1, 3, 0, 2, 1, 2, 2, 1, 2, 3, 0, 3, 2, 1, 2,\n",
      "       2, 0, 0, 2, 2, 1, 1, 2, 3, 3, 1, 2, 2, 3, 0, 0, 1, 3, 3, 0, 2, 1],\n",
      "      dtype=object)]\n",
      "[14, array([ 0.18149249, -0.03985551,  0.221348  ,  0.        ]), array([3, 0, 0, 2, 1, 3, 2, 3, 3, 2, 3, 0, 3, 0, 0, 2, 2, 2, 0, 3, 1, 2,\n",
      "       3, 2, 2, 2, 1, 3, 2, 0, 0, 2, 2, 2, 3, 3, 1, 1, 0, 2, 1, 1, 1, 1,\n",
      "       0, 1, 1, 2, 1, 0, 3, 0, 2, 2, 3, 2, 2, 3, 3, 2, 0, 2, 0, 1, 0, 2],\n",
      "      dtype=object)]\n",
      "[14, array([ 0.18018551, -0.0411625 ,  0.221348  ,  0.        ]), array([0, 3, 0, 3, 0, 3, 0, 2, 3, 0, 1, 2, 1, 0, 0, 1, 1, 0, 0, 2, 3, 0,\n",
      "       2, 1, 2, 1, 1, 1, 3, 0, 0, 0, 3, 0, 3, 0, 1, 2, 0, 1, 1, 1, 2, 1,\n",
      "       0, 0, 2, 3, 2, 2, 3, 0, 2, 0, 2, 3, 1, 3, 2, 2, 2, 3, 1, 1, 0, 2],\n",
      "      dtype=object)]\n",
      "[15, array([ 0.19177447, -0.02957353,  0.221348  ,  0.        ]), array([2, 0, 1, 1, 2, 0, 2, 3, 3, 1, 2, 2, 3, 2, 1, 1, 2, 3, 0, 1, 3, 0,\n",
      "       1, 2, 3, 0, 3, 3, 1, 1, 2, 1, 0, 2, 0, 1, 0, 0, 3, 1, 2, 2, 2, 1,\n",
      "       1, 1, 0, 0, 3, 1, 3, 1, 2, 1, 3, 3, 3, 2, 2, 0, 2, 1, 2, 3, 3, 2],\n",
      "      dtype=object)]\n",
      "[15, array([ 0.19391108, -0.02743692,  0.221348  ,  0.        ]), array([1, 3, 2, 0, 3, 1, 3, 3, 1, 1, 2, 0, 0, 3, 2, 1, 1, 3, 1, 3, 0, 2,\n",
      "       0, 1, 0, 0, 2, 3, 2, 0, 3, 3, 2, 0, 2, 1, 0, 1, 3, 0, 3, 2, 0, 1,\n",
      "       0, 1, 0, 2, 1, 0, 0, 2, 1, 2, 1, 3, 3, 2, 2, 3, 3, 3, 3, 0, 0, 0],\n",
      "      dtype=object)]\n",
      "[15, array([ 0.18726502, -0.03408298,  0.221348  ,  0.        ]), array([0, 2, 0, 0, 1, 2, 3, 0, 3, 3, 3, 1, 2, 0, 0, 3, 3, 1, 0, 3, 0, 3,\n",
      "       1, 0, 3, 2, 1, 3, 0, 2, 2, 0, 2, 3, 1, 2, 0, 1, 0, 3, 1, 1, 2, 1,\n",
      "       0, 3, 1, 2, 3, 2, 2, 0, 0, 3, 2, 3, 0, 0, 3, 0, 0, 2, 1, 0, 3, 2],\n",
      "      dtype=object)]\n",
      "[15, array([ 0.18864695, -0.03270105,  0.221348  ,  0.        ]), array([1, 1, 3, 0, 1, 0, 0, 3, 1, 3, 3, 2, 0, 2, 2, 1, 2, 3, 0, 1, 2, 1,\n",
      "       2, 2, 3, 0, 2, 1, 3, 2, 1, 1, 3, 3, 1, 0, 2, 2, 0, 3, 3, 1, 3, 3,\n",
      "       2, 2, 1, 2, 2, 0, 3, 2, 2, 0, 1, 0, 2, 0, 3, 1, 0, 1, 3, 2, 1, 3],\n",
      "      dtype=object)]\n",
      "[16, array([ 0.18255788, -0.03879012,  0.221348  ,  0.        ]), array([1, 1, 1, 0, 0, 1, 3, 3, 2, 0, 2, 0, 0, 3, 2, 1, 3, 3, 0, 0, 0, 2,\n",
      "       2, 3, 1, 2, 3, 1, 1, 0, 0, 3, 2, 2, 2, 1, 0, 1, 3, 0, 3, 2, 0, 1,\n",
      "       0, 1, 0, 2, 1, 1, 3, 3, 3, 1, 3, 2, 1, 0, 2, 2, 2, 2, 1, 3, 0, 0],\n",
      "      dtype=object)]\n",
      "[16, array([ 0.17908276, -0.04226524,  0.221348  ,  0.        ]), array([2, 3, 2, 3, 1, 1, 1, 3, 0, 3, 3, 1, 1, 3, 3, 0, 0, 1, 0, 3, 3, 3,\n",
      "       0, 3, 2, 2, 0, 2, 0, 0, 0, 0, 3, 2, 1, 2, 1, 2, 2, 3, 2, 0, 1, 3,\n",
      "       1, 1, 1, 2, 0, 0, 1, 0, 0, 0, 0, 0, 3, 3, 3, 3, 2, 0, 3, 0, 1, 3],\n",
      "      dtype=object)]\n",
      "[16, array([ 0.17791551, -0.0434325 ,  0.221348  ,  0.        ]), array([1, 2, 2, 0, 2, 3, 0, 2, 1, 3, 1, 2, 0, 3, 1, 0, 2, 1, 0, 2, 3, 2,\n",
      "       2, 2, 0, 3, 3, 0, 2, 3, 1, 0, 3, 2, 2, 3, 1, 0, 0, 2, 3, 1, 3, 3,\n",
      "       3, 3, 1, 2, 0, 0, 1, 0, 3, 1, 1, 0, 0, 2, 2, 2, 1, 2, 3, 2, 3, 2],\n",
      "      dtype=object)]\n",
      "[16, array([ 0.19725305, -0.02409495,  0.221348  ,  0.        ]), array([3, 3, 0, 0, 0, 2, 2, 2, 3, 3, 2, 1, 2, 3, 0, 3, 2, 2, 3, 2, 2, 2,\n",
      "       1, 1, 1, 0, 2, 2, 3, 2, 1, 1, 3, 3, 1, 0, 2, 2, 0, 3, 3, 1, 3, 3,\n",
      "       2, 2, 1, 2, 2, 2, 0, 3, 0, 0, 1, 1, 0, 2, 3, 1, 3, 0, 2, 1, 0, 2],\n",
      "      dtype=object)]\n",
      "[17, array([ 0.18032008, -0.04102792,  0.221348  ,  0.        ]), array([2, 0, 1, 1, 2, 1, 3, 3, 3, 0, 2, 0, 0, 3, 2, 1, 1, 3, 0, 3, 0, 2,\n",
      "       0, 1, 0, 0, 2, 3, 2, 0, 2, 3, 2, 2, 2, 1, 0, 1, 3, 0, 3, 2, 0, 1,\n",
      "       0, 1, 0, 2, 1, 1, 3, 3, 3, 1, 3, 2, 1, 0, 2, 2, 2, 2, 1, 3, 0, 0],\n",
      "      dtype=object)]\n",
      "[17, array([ 0.19268842, -0.02865958,  0.221348  ,  0.        ]), array([0, 2, 3, 3, 0, 0, 3, 0, 0, 2, 0, 2, 3, 3, 2, 2, 0, 3, 0, 0, 2, 3,\n",
      "       2, 2, 2, 3, 1, 0, 3, 1, 2, 1, 0, 0, 1, 3, 0, 0, 1, 1, 1, 2, 1, 2,\n",
      "       0, 0, 2, 3, 3, 1, 3, 0, 1, 1, 1, 1, 0, 0, 3, 0, 3, 1, 0, 1, 1, 3],\n",
      "      dtype=object)]\n",
      "[17, array([ 0.18637415, -0.03497385,  0.221348  ,  0.        ]), array([2, 1, 1, 1, 1, 0, 2, 0, 2, 3, 2, 0, 2, 0, 0, 0, 0, 1, 3, 3, 0, 2,\n",
      "       2, 0, 0, 0, 1, 0, 1, 3, 1, 3, 2, 3, 1, 2, 0, 1, 0, 3, 1, 1, 2, 1,\n",
      "       0, 3, 1, 2, 3, 2, 2, 0, 0, 3, 2, 3, 0, 0, 3, 0, 0, 2, 2, 3, 2, 0],\n",
      "      dtype=object)]\n",
      "[17, array([ 0.19246454, -0.02888347,  0.221348  ,  0.        ]), array([1, 1, 3, 0, 2, 2, 3, 3, 2, 3, 0, 0, 0, 2, 1, 2, 3, 2, 3, 3, 2, 1,\n",
      "       0, 3, 3, 1, 2, 3, 1, 3, 0, 3, 0, 2, 1, 0, 0, 3, 1, 0, 2, 2, 0, 2,\n",
      "       0, 3, 2, 0, 2, 2, 1, 2, 3, 3, 3, 0, 3, 0, 3, 2, 0, 1, 3, 2, 1, 3],\n",
      "      dtype=object)]\n",
      "[18, array([ 0.18329612, -0.03805189,  0.221348  ,  0.        ]), array([0, 3, 0, 1, 1, 1, 3, 2, 1, 3, 2, 0, 2, 2, 2, 3, 2, 1, 0, 0, 2, 1,\n",
      "       1, 2, 0, 2, 2, 0, 2, 0, 2, 0, 2, 2, 1, 2, 3, 2, 3, 3, 3, 0, 1, 0,\n",
      "       3, 0, 1, 3, 1, 2, 3, 3, 3, 2, 2, 2, 1, 0, 2, 2, 2, 1, 2, 3, 0, 0],\n",
      "      dtype=object)]\n",
      "[18, array([ 0.18658409, -0.03476391,  0.221348  ,  0.        ]), array([0, 2, 3, 3, 0, 0, 3, 0, 3, 1, 2, 1, 3, 3, 3, 2, 3, 1, 0, 3, 3, 2,\n",
      "       2, 3, 3, 1, 0, 2, 1, 3, 0, 1, 1, 0, 2, 2, 2, 3, 1, 2, 2, 1, 2, 2,\n",
      "       2, 1, 2, 1, 0, 2, 2, 0, 3, 2, 2, 2, 3, 3, 1, 2, 2, 0, 3, 0, 1, 2],\n",
      "      dtype=object)]\n",
      "[18, array([ 0.1891711, -0.0321769,  0.221348 ,  0.       ]), array([1, 1, 3, 1, 1, 0, 2, 2, 2, 1, 1, 0, 2, 0, 3, 2, 0, 1, 1, 0, 1, 2,\n",
      "       3, 0, 2, 0, 1, 3, 2, 3, 1, 0, 1, 2, 2, 3, 1, 3, 3, 1, 0, 3, 3, 3,\n",
      "       0, 0, 0, 1, 0, 2, 2, 0, 2, 1, 0, 2, 0, 3, 2, 3, 0, 2, 0, 1, 2, 0],\n",
      "      dtype=object)]\n",
      "[18, array([ 0.18808862, -0.03325938,  0.221348  ,  0.        ]), array([1, 1, 3, 0, 2, 2, 1, 3, 1, 3, 3, 2, 0, 2, 2, 1, 2, 3, 1, 0, 2, 1,\n",
      "       1, 0, 3, 3, 2, 1, 3, 2, 1, 1, 2, 3, 1, 0, 2, 2, 0, 3, 3, 1, 3, 3,\n",
      "       2, 2, 1, 2, 2, 2, 0, 3, 0, 0, 1, 1, 0, 2, 3, 1, 3, 0, 2, 1, 0, 2],\n",
      "      dtype=object)]\n",
      "[19, array([ 0.19653766, -0.02481034,  0.221348  ,  0.        ]), array([0, 0, 1, 1, 2, 1, 0, 3, 1, 3, 0, 2, 0, 0, 1, 2, 2, 1, 0, 2, 0, 1,\n",
      "       0, 3, 2, 2, 3, 0, 2, 1, 1, 1, 3, 0, 1, 3, 1, 0, 0, 2, 1, 2, 2, 0,\n",
      "       0, 0, 2, 0, 1, 3, 3, 3, 2, 1, 3, 2, 0, 1, 2, 2, 2, 1, 1, 3, 0, 0],\n",
      "      dtype=object)]\n",
      "[19, array([ 0.18621188, -0.03513613,  0.221348  ,  0.        ]), array([0, 2, 1, 3, 3, 0, 3, 0, 2, 3, 0, 3, 2, 0, 3, 3, 1, 2, 0, 2, 2, 2,\n",
      "       3, 1, 0, 0, 1, 3, 3, 1, 0, 1, 1, 0, 2, 2, 1, 3, 1, 2, 2, 1, 2, 0,\n",
      "       2, 1, 2, 3, 0, 3, 2, 0, 0, 2, 2, 2, 3, 2, 1, 2, 2, 1, 1, 2, 1, 0],\n",
      "      dtype=object)]\n",
      "[19, array([ 0.1843203, -0.0370277,  0.221348 ,  0.       ]), array([1, 0, 3, 1, 2, 1, 2, 0, 3, 3, 0, 0, 1, 2, 0, 0, 1, 3, 3, 3, 2, 2,\n",
      "       0, 0, 0, 3, 3, 0, 0, 0, 2, 0, 2, 3, 2, 1, 3, 2, 0, 1, 0, 1, 2, 3,\n",
      "       0, 0, 0, 1, 0, 2, 0, 0, 2, 1, 0, 2, 0, 3, 0, 2, 0, 2, 0, 1, 2, 1],\n",
      "      dtype=object)]\n",
      "[19, array([ 0.190046  , -0.03130201,  0.221348  ,  0.        ]), array([1, 3, 1, 2, 3, 1, 2, 1, 0, 3, 1, 2, 3, 0, 0, 0, 3, 2, 3, 2, 1, 2,\n",
      "       1, 2, 3, 2, 3, 1, 0, 0, 0, 3, 0, 0, 3, 0, 3, 2, 2, 1, 1, 0, 2, 1,\n",
      "       1, 3, 0, 3, 0, 0, 0, 2, 3, 2, 3, 1, 0, 3, 1, 0, 1, 0, 0, 0, 3, 1],\n",
      "      dtype=object)]\n",
      "[20, array([ 0.17031689, -0.05103112,  0.221348  ,  0.        ]), array([3, 0, 2, 2, 2, 0, 1, 2, 1, 1, 2, 2, 2, 0, 2, 1, 2, 3, 0, 1, 3, 0,\n",
      "       1, 1, 3, 3, 3, 1, 2, 0, 3, 0, 0, 2, 0, 0, 1, 0, 3, 3, 1, 2, 2, 2,\n",
      "       1, 0, 3, 2, 1, 2, 3, 0, 3, 1, 3, 2, 2, 0, 1, 1, 2, 2, 2, 3, 3, 0],\n",
      "      dtype=object)]\n",
      "[20, array([ 0.1987571, -0.0225909,  0.221348 ,  0.       ]), array([0, 2, 3, 3, 0, 0, 3, 0, 0, 2, 0, 2, 3, 3, 2, 2, 0, 3, 0, 0, 2, 3,\n",
      "       2, 2, 2, 3, 1, 0, 3, 1, 2, 1, 0, 0, 1, 3, 0, 0, 2, 3, 0, 1, 0, 0,\n",
      "       3, 3, 2, 2, 2, 3, 3, 2, 3, 3, 1, 1, 3, 2, 1, 0, 1, 1, 2, 0, 2, 0],\n",
      "      dtype=object)]\n",
      "[20, array([ 0.19844549, -0.02290251,  0.221348  ,  0.        ]), array([1, 0, 3, 1, 2, 1, 2, 0, 3, 3, 0, 0, 1, 2, 0, 0, 1, 3, 3, 3, 2, 2,\n",
      "       0, 0, 0, 3, 3, 0, 0, 0, 2, 0, 2, 3, 2, 1, 3, 2, 0, 1, 0, 1, 2, 3,\n",
      "       0, 0, 0, 1, 2, 2, 0, 0, 2, 1, 0, 2, 0, 3, 0, 2, 0, 2, 0, 1, 2, 1],\n",
      "      dtype=object)]\n",
      "[20, array([ 0.18810653, -0.03324148,  0.221348  ,  0.        ]), array([3, 3, 0, 3, 3, 2, 2, 2, 3, 3, 3, 2, 0, 2, 0, 3, 2, 3, 0, 3, 0, 2,\n",
      "       2, 1, 3, 1, 2, 1, 1, 1, 3, 0, 3, 2, 3, 1, 1, 2, 0, 0, 3, 0, 2, 3,\n",
      "       1, 2, 2, 1, 1, 3, 1, 1, 2, 1, 2, 0, 2, 1, 3, 1, 3, 3, 2, 1, 0, 0],\n",
      "      dtype=object)]\n",
      "[21, array([ 0.17674316, -0.04460485,  0.221348  ,  0.        ]), array([2, 1, 3, 1, 0, 1, 2, 1, 2, 2, 3, 1, 2, 3, 0, 0, 1, 1, 1, 0, 2, 1,\n",
      "       1, 2, 0, 2, 2, 0, 2, 0, 2, 0, 2, 2, 1, 2, 3, 2, 3, 3, 3, 0, 1, 0,\n",
      "       3, 0, 1, 3, 1, 2, 3, 3, 3, 2, 2, 2, 1, 0, 2, 2, 2, 1, 2, 3, 0, 0],\n",
      "      dtype=object)]\n",
      "[21, array([ 0.17728882, -0.04405918,  0.221348  ,  0.        ]), array([3, 2, 0, 3, 3, 2, 2, 0, 2, 1, 2, 1, 1, 3, 0, 3, 0, 0, 1, 0, 1, 1,\n",
      "       3, 0, 1, 1, 1, 0, 0, 1, 2, 2, 3, 1, 3, 1, 2, 1, 3, 3, 0, 0, 3, 0,\n",
      "       3, 2, 1, 0, 2, 0, 2, 0, 3, 3, 2, 2, 0, 3, 0, 3, 3, 3, 3, 0, 2, 1],\n",
      "      dtype=object)]\n",
      "[21, array([ 0.18907265, -0.03227535,  0.221348  ,  0.        ]), array([2, 0, 0, 2, 3, 1, 0, 0, 2, 3, 0, 1, 3, 0, 3, 3, 3, 1, 0, 3, 2, 3,\n",
      "       1, 0, 0, 0, 3, 3, 2, 3, 3, 3, 0, 0, 3, 2, 0, 1, 0, 2, 1, 1, 2, 1,\n",
      "       1, 3, 2, 2, 2, 3, 0, 3, 3, 3, 3, 3, 3, 2, 3, 2, 3, 2, 0, 3, 0, 2],\n",
      "      dtype=object)]\n",
      "[21, array([ 0.1899749, -0.0313731,  0.221348 ,  0.       ]), array([1, 1, 3, 3, 3, 1, 3, 2, 3, 3, 1, 2, 0, 2, 2, 1, 2, 3, 0, 1, 0, 2,\n",
      "       1, 3, 3, 1, 1, 0, 2, 3, 2, 0, 3, 1, 3, 1, 3, 0, 0, 3, 0, 1, 3, 3,\n",
      "       2, 3, 1, 2, 3, 0, 0, 0, 2, 0, 3, 1, 0, 3, 0, 0, 3, 3, 2, 1, 0, 0],\n",
      "      dtype=object)]\n",
      "[22, array([ 0.17635247, -0.04499554,  0.221348  ,  0.        ]), array([0, 3, 2, 1, 0, 1, 1, 3, 0, 3, 2, 1, 2, 2, 2, 0, 2, 0, 0, 1, 2, 1,\n",
      "       2, 2, 2, 0, 1, 2, 3, 3, 2, 3, 3, 2, 2, 2, 2, 2, 1, 3, 3, 0, 1, 2,\n",
      "       1, 1, 1, 1, 2, 0, 1, 2, 0, 0, 1, 3, 2, 1, 1, 2, 1, 3, 0, 2, 3, 2],\n",
      "      dtype=object)]\n",
      "[22, array([ 0.18275423, -0.03859377,  0.221348  ,  0.        ]), array([0, 0, 1, 1, 1, 1, 1, 2, 2, 0, 3, 3, 2, 2, 0, 2, 2, 2, 2, 1, 0, 2,\n",
      "       3, 1, 0, 3, 2, 0, 0, 0, 1, 3, 1, 1, 2, 2, 3, 2, 1, 2, 0, 1, 2, 1,\n",
      "       1, 0, 2, 0, 2, 3, 0, 0, 2, 2, 2, 1, 2, 3, 1, 2, 2, 2, 0, 3, 2, 1],\n",
      "      dtype=object)]\n",
      "[22, array([ 0.18625967, -0.03508833,  0.221348  ,  0.        ]), array([0, 2, 1, 3, 3, 2, 3, 0, 2, 2, 0, 3, 2, 2, 3, 1, 2, 1, 0, 3, 3, 2,\n",
      "       2, 1, 3, 1, 3, 2, 2, 3, 0, 3, 1, 2, 2, 2, 0, 3, 1, 2, 3, 1, 2, 2,\n",
      "       2, 0, 1, 1, 1, 2, 3, 0, 1, 0, 2, 2, 1, 3, 1, 2, 2, 1, 3, 0, 1, 2],\n",
      "      dtype=object)]\n",
      "[22, array([ 0.18551844, -0.03582957,  0.221348  ,  0.        ]), array([2, 1, 2, 0, 1, 0, 0, 3, 1, 2, 2, 0, 0, 3, 2, 1, 2, 3, 0, 1, 0, 2,\n",
      "       1, 3, 3, 1, 1, 0, 2, 3, 2, 0, 3, 1, 1, 1, 3, 0, 0, 3, 0, 1, 3, 3,\n",
      "       2, 3, 1, 2, 3, 0, 0, 0, 2, 0, 3, 1, 0, 3, 0, 0, 3, 2, 1, 1, 3, 0],\n",
      "      dtype=object)]\n",
      "[23, array([ 0.18313444, -0.03821357,  0.221348  ,  0.        ]), array([0, 0, 1, 1, 2, 1, 0, 3, 1, 3, 0, 2, 0, 0, 1, 2, 2, 1, 0, 2, 0, 1,\n",
      "       0, 3, 2, 2, 3, 0, 2, 1, 1, 1, 3, 0, 1, 3, 1, 0, 0, 2, 1, 2, 2, 0,\n",
      "       0, 0, 2, 0, 1, 3, 3, 3, 2, 1, 2, 2, 1, 2, 2, 2, 2, 2, 0, 2, 2, 0],\n",
      "      dtype=object)]\n",
      "[23, array([ 0.17959064, -0.04175736,  0.221348  ,  0.        ]), array([0, 2, 1, 3, 3, 0, 3, 0, 0, 2, 0, 3, 2, 3, 0, 3, 3, 3, 0, 0, 2, 2,\n",
      "       3, 1, 0, 0, 0, 2, 2, 1, 0, 1, 0, 1, 1, 2, 0, 2, 2, 3, 0, 0, 0, 0,\n",
      "       2, 1, 2, 0, 2, 3, 0, 0, 3, 2, 0, 2, 2, 3, 0, 1, 3, 0, 3, 0, 2, 2],\n",
      "      dtype=object)]\n",
      "[23, array([ 0.17791305, -0.04343496,  0.221348  ,  0.        ]), array([3, 2, 0, 0, 1, 2, 3, 3, 3, 3, 1, 0, 1, 2, 1, 1, 2, 3, 0, 3, 0, 3,\n",
      "       1, 0, 0, 0, 1, 3, 0, 2, 1, 1, 1, 2, 3, 2, 0, 1, 0, 1, 1, 2, 2, 3,\n",
      "       1, 3, 1, 2, 0, 0, 2, 0, 2, 1, 0, 2, 0, 0, 1, 2, 0, 1, 0, 1, 1, 3],\n",
      "      dtype=object)]\n",
      "[23, array([ 0.1852099 , -0.03613811,  0.221348  ,  0.        ]), array([1, 3, 0, 3, 3, 1, 3, 2, 1, 1, 3, 0, 0, 1, 1, 1, 2, 3, 2, 3, 0, 2,\n",
      "       1, 3, 2, 0, 1, 0, 2, 3, 2, 2, 2, 1, 3, 1, 3, 0, 2, 3, 3, 1, 3, 3,\n",
      "       2, 2, 1, 1, 0, 0, 3, 3, 3, 0, 1, 1, 3, 2, 3, 1, 1, 0, 2, 3, 2, 0],\n",
      "      dtype=object)]\n",
      "[24, array([ 0.18539187, -0.03595614,  0.221348  ,  0.        ]), array([3, 0, 0, 0, 0, 0, 0, 0, 0, 3, 2, 0, 0, 1, 2, 1, 3, 3, 1, 3, 1, 0,\n",
      "       0, 1, 0, 1, 1, 2, 1, 0, 2, 0, 2, 0, 0, 2, 2, 0, 0, 1, 1, 2, 1, 2,\n",
      "       2, 0, 1, 3, 1, 2, 3, 3, 2, 2, 2, 0, 1, 0, 2, 3, 2, 1, 0, 3, 0, 3],\n",
      "      dtype=object)]\n",
      "[24, array([ 0.19569568, -0.02565233,  0.221348  ,  0.        ]), array([3, 2, 0, 3, 1, 2, 2, 3, 3, 0, 1, 0, 1, 2, 3, 1, 3, 1, 0, 3, 3, 2,\n",
      "       3, 1, 3, 0, 0, 2, 2, 0, 0, 1, 0, 1, 1, 2, 3, 2, 0, 3, 0, 3, 0, 0,\n",
      "       2, 0, 2, 0, 2, 1, 0, 2, 3, 2, 1, 3, 3, 3, 3, 0, 3, 1, 0, 1, 1, 1],\n",
      "      dtype=object)]\n",
      "[24, array([ 0.19312529, -0.02822271,  0.221348  ,  0.        ]), array([1, 1, 3, 2, 2, 1, 2, 0, 1, 3, 3, 0, 3, 3, 0, 2, 2, 1, 2, 3, 2, 2,\n",
      "       0, 2, 1, 1, 1, 2, 2, 0, 0, 0, 0, 0, 3, 2, 3, 3, 2, 3, 0, 0, 2, 1,\n",
      "       1, 2, 1, 0, 2, 2, 1, 2, 1, 3, 1, 3, 0, 0, 0, 1, 2, 0, 2, 0, 0, 1],\n",
      "      dtype=object)]\n",
      "[24, array([ 0.18327985, -0.03806815,  0.221348  ,  0.        ]), array([3, 3, 0, 3, 3, 2, 2, 1, 3, 3, 3, 0, 0, 2, 1, 3, 2, 3, 0, 3, 0, 2,\n",
      "       3, 3, 2, 1, 1, 0, 2, 0, 2, 0, 3, 1, 3, 0, 3, 1, 0, 0, 0, 1, 3, 3,\n",
      "       2, 3, 1, 0, 3, 0, 0, 0, 2, 0, 3, 3, 1, 3, 0, 3, 0, 2, 3, 1, 3, 0],\n",
      "      dtype=object)]\n",
      "[25, array([ 0.18180386, -0.03954415,  0.221348  ,  0.        ]), array([3, 0, 2, 2, 2, 0, 1, 2, 1, 1, 2, 2, 2, 0, 2, 1, 2, 3, 0, 1, 3, 0,\n",
      "       1, 1, 3, 3, 3, 1, 2, 0, 3, 0, 0, 2, 0, 0, 1, 0, 3, 3, 1, 2, 2, 2,\n",
      "       1, 0, 3, 2, 1, 2, 3, 0, 3, 1, 3, 2, 2, 0, 2, 3, 2, 1, 0, 3, 0, 3],\n",
      "      dtype=object)]\n",
      "[25, array([ 0.18939919, -0.03194882,  0.221348  ,  0.        ]), array([0, 1, 2, 3, 3, 0, 3, 3, 0, 2, 0, 1, 2, 3, 3, 3, 3, 3, 0, 0, 2, 2,\n",
      "       0, 2, 2, 3, 1, 0, 0, 1, 2, 2, 3, 1, 3, 1, 2, 1, 3, 3, 0, 0, 3, 0,\n",
      "       0, 3, 2, 1, 1, 0, 0, 2, 3, 2, 1, 3, 3, 2, 2, 3, 2, 3, 3, 0, 2, 0],\n",
      "      dtype=object)]\n",
      "[25, array([ 0.1899991, -0.0313489,  0.221348 ,  0.       ]), array([3, 2, 1, 1, 2, 1, 0, 1, 0, 3, 0, 1, 0, 2, 1, 0, 2, 1, 0, 2, 3, 2,\n",
      "       2, 2, 0, 3, 3, 0, 2, 3, 1, 0, 3, 2, 2, 3, 1, 0, 0, 2, 3, 1, 3, 3,\n",
      "       3, 3, 1, 2, 0, 0, 1, 0, 3, 1, 1, 0, 0, 2, 2, 2, 1, 2, 3, 2, 3, 2],\n",
      "      dtype=object)]\n",
      "[25, array([ 0.17897682, -0.04237118,  0.221348  ,  0.        ]), array([1, 3, 0, 3, 3, 1, 3, 2, 1, 1, 3, 0, 0, 1, 1, 1, 2, 3, 2, 3, 0, 2,\n",
      "       1, 3, 2, 1, 1, 0, 2, 3, 2, 0, 3, 1, 3, 1, 3, 0, 0, 3, 0, 1, 3, 3,\n",
      "       2, 3, 1, 2, 3, 0, 0, 0, 2, 0, 3, 1, 0, 3, 0, 0, 3, 3, 2, 2, 3, 0],\n",
      "      dtype=object)]\n",
      "[26, array([ 0.18999679, -0.03135121,  0.221348  ,  0.        ]), array([1, 0, 1, 0, 0, 1, 3, 3, 1, 0, 1, 0, 1, 2, 2, 1, 1, 3, 1, 2, 0, 2,\n",
      "       2, 2, 3, 0, 2, 3, 2, 1, 1, 0, 1, 2, 2, 1, 0, 1, 3, 0, 3, 3, 0, 0,\n",
      "       0, 2, 0, 2, 2, 2, 3, 3, 1, 2, 1, 2, 0, 0, 3, 2, 3, 2, 2, 1, 2, 0],\n",
      "      dtype=object)]\n",
      "[26, array([ 0.18782337, -0.03352463,  0.221348  ,  0.        ]), array([1, 3, 1, 0, 3, 0, 1, 0, 1, 2, 0, 3, 1, 2, 0, 1, 2, 1, 0, 2, 3, 2,\n",
      "       2, 3, 0, 1, 0, 3, 2, 3, 1, 3, 1, 0, 2, 2, 1, 1, 2, 0, 0, 1, 2, 2,\n",
      "       2, 1, 2, 0, 3, 2, 2, 0, 3, 3, 1, 1, 3, 2, 2, 0, 2, 2, 1, 0, 2, 1],\n",
      "      dtype=object)]\n",
      "[26, array([ 0.1829488, -0.0383992,  0.221348 ,  0.       ]), array([0, 2, 2, 2, 2, 3, 0, 2, 1, 3, 0, 2, 0, 3, 1, 0, 2, 1, 0, 2, 3, 2,\n",
      "       2, 2, 0, 3, 1, 3, 2, 0, 3, 0, 1, 0, 3, 1, 1, 1, 0, 3, 1, 3, 3, 3,\n",
      "       0, 1, 2, 3, 1, 0, 3, 3, 0, 0, 3, 2, 0, 3, 1, 2, 0, 1, 0, 1, 3, 3],\n",
      "      dtype=object)]\n",
      "[26, array([ 0.18585227, -0.03549573,  0.221348  ,  0.        ]), array([2, 3, 2, 3, 3, 3, 0, 1, 3, 2, 1, 1, 1, 0, 2, 0, 1, 1, 3, 2, 0, 0,\n",
      "       0, 0, 2, 2, 0, 2, 3, 3, 3, 0, 2, 1, 1, 3, 1, 1, 2, 1, 3, 1, 1, 1,\n",
      "       1, 2, 3, 3, 1, 2, 1, 0, 3, 3, 1, 1, 0, 2, 3, 1, 2, 0, 2, 1, 0, 1],\n",
      "      dtype=object)]\n",
      "[27, array([ 0.17979476, -0.04155325,  0.221348  ,  0.        ]), array([3, 0, 0, 0, 0, 0, 0, 0, 0, 3, 2, 0, 0, 1, 2, 1, 3, 3, 1, 3, 1, 0,\n",
      "       0, 1, 0, 1, 1, 2, 1, 0, 2, 0, 2, 0, 0, 2, 2, 0, 0, 1, 1, 2, 1, 2,\n",
      "       0, 1, 0, 0, 3, 0, 1, 0, 1, 0, 3, 1, 0, 3, 0, 1, 1, 1, 3, 3, 3, 0],\n",
      "      dtype=object)]\n",
      "[27, array([ 0.17878661, -0.04256139,  0.221348  ,  0.        ]), array([2, 2, 0, 3, 1, 2, 2, 3, 3, 3, 1, 0, 1, 2, 3, 1, 3, 1, 0, 3, 3, 2,\n",
      "       2, 3, 3, 1, 0, 2, 2, 3, 0, 1, 1, 0, 2, 2, 2, 3, 1, 2, 2, 1, 2, 2,\n",
      "       2, 1, 2, 0, 3, 2, 2, 0, 3, 3, 1, 1, 3, 2, 2, 0, 2, 2, 1, 0, 2, 1],\n",
      "      dtype=object)]\n",
      "[27, array([ 0.18815776, -0.03319025,  0.221348  ,  0.        ]), array([3, 2, 1, 1, 2, 1, 2, 2, 3, 0, 0, 1, 2, 2, 2, 2, 2, 1, 2, 3, 2, 1,\n",
      "       1, 0, 3, 1, 3, 3, 1, 0, 0, 0, 3, 2, 3, 0, 2, 3, 0, 3, 0, 0, 2, 1,\n",
      "       0, 0, 2, 1, 2, 0, 1, 1, 1, 2, 0, 2, 1, 1, 2, 2, 0, 3, 0, 0, 2, 0],\n",
      "      dtype=object)]\n",
      "[27, array([ 0.175999, -0.045349,  0.221348,  0.      ]), array([0, 0, 0, 3, 3, 2, 2, 3, 1, 2, 0, 2, 1, 2, 3, 2, 3, 1, 0, 0, 2, 0,\n",
      "       2, 0, 1, 3, 3, 1, 3, 3, 3, 0, 3, 1, 3, 0, 3, 1, 0, 0, 0, 1, 3, 3,\n",
      "       2, 3, 1, 0, 3, 0, 0, 0, 2, 0, 3, 3, 1, 3, 0, 0, 0, 2, 3, 1, 3, 0],\n",
      "      dtype=object)]\n",
      "[28, array([ 0.18564108, -0.03570692,  0.221348  ,  0.        ]), array([0, 0, 0, 1, 1, 3, 2, 3, 0, 3, 0, 1, 1, 1, 3, 2, 1, 1, 3, 3, 0, 0,\n",
      "       2, 3, 0, 0, 1, 1, 0, 1, 0, 3, 0, 0, 1, 0, 3, 1, 3, 1, 3, 2, 2, 2,\n",
      "       1, 0, 3, 2, 1, 2, 3, 0, 3, 1, 3, 2, 2, 0, 1, 1, 2, 2, 2, 3, 1, 0],\n",
      "      dtype=object)]\n",
      "[28, array([ 0.1925388 , -0.02880921,  0.221348  ,  0.        ]), array([0, 3, 3, 2, 3, 3, 1, 0, 1, 2, 0, 3, 1, 2, 0, 2, 2, 2, 0, 2, 3, 2,\n",
      "       3, 0, 1, 1, 1, 0, 3, 3, 0, 1, 2, 1, 3, 1, 2, 1, 3, 3, 3, 2, 2, 0,\n",
      "       0, 3, 2, 1, 1, 0, 0, 2, 1, 0, 1, 3, 3, 2, 2, 3, 2, 3, 3, 0, 2, 2],\n",
      "      dtype=object)]\n",
      "[28, array([ 0.18877631, -0.03257169,  0.221348  ,  0.        ]), array([0, 2, 2, 0, 2, 3, 0, 2, 1, 3, 0, 2, 3, 3, 1, 0, 2, 3, 2, 2, 3, 2,\n",
      "       2, 2, 0, 3, 1, 3, 2, 0, 3, 0, 1, 1, 3, 1, 0, 1, 0, 3, 1, 3, 3, 3,\n",
      "       0, 1, 2, 3, 3, 2, 3, 3, 0, 1, 3, 2, 0, 3, 1, 2, 3, 2, 0, 3, 2, 1],\n",
      "      dtype=object)]\n",
      "[28, array([ 0.19868479, -0.02266321,  0.221348  ,  0.        ]), array([0, 1, 2, 0, 3, 0, 0, 3, 1, 3, 0, 2, 3, 2, 1, 0, 0, 3, 3, 3, 2, 3,\n",
      "       3, 2, 0, 0, 3, 2, 1, 0, 3, 0, 0, 0, 2, 2, 1, 3, 0, 3, 1, 1, 3, 3,\n",
      "       2, 3, 1, 2, 3, 0, 2, 2, 2, 0, 1, 1, 2, 0, 1, 3, 3, 2, 1, 3, 0, 1],\n",
      "      dtype=object)]\n",
      "[29, array([ 0.18149695, -0.03985106,  0.221348  ,  0.        ]), array([3, 0, 0, 0, 0, 0, 0, 0, 0, 3, 2, 0, 0, 1, 2, 1, 3, 0, 1, 3, 1, 0,\n",
      "       0, 1, 0, 1, 1, 2, 1, 0, 2, 0, 2, 0, 0, 2, 2, 0, 0, 1, 1, 2, 1, 2,\n",
      "       0, 1, 0, 2, 1, 1, 3, 3, 3, 1, 3, 2, 1, 0, 2, 2, 2, 2, 1, 3, 0, 0],\n",
      "      dtype=object)]\n",
      "[29, array([ 0.1834068, -0.0379412,  0.221348 ,  0.       ]), array([0, 2, 1, 3, 3, 0, 3, 0, 0, 2, 0, 3, 2, 3, 0, 3, 3, 3, 0, 0, 2, 2,\n",
      "       3, 1, 0, 0, 0, 2, 2, 1, 0, 1, 0, 1, 1, 2, 0, 2, 2, 3, 0, 0, 1, 0,\n",
      "       2, 1, 2, 0, 2, 0, 0, 2, 3, 3, 1, 3, 0, 0, 3, 0, 3, 1, 0, 1, 1, 3],\n",
      "      dtype=object)]\n",
      "[29, array([ 0.18889884, -0.03244917,  0.221348  ,  0.        ]), array([1, 0, 0, 2, 1, 3, 2, 3, 3, 2, 3, 0, 3, 0, 0, 2, 2, 2, 0, 3, 1, 2,\n",
      "       3, 2, 2, 2, 1, 3, 2, 0, 0, 2, 2, 2, 3, 3, 1, 1, 0, 2, 1, 1, 1, 1,\n",
      "       0, 1, 1, 2, 1, 0, 3, 0, 2, 2, 3, 2, 2, 3, 3, 2, 0, 2, 0, 1, 0, 2],\n",
      "      dtype=object)]\n",
      "[29, array([ 0.19014072, -0.03120728,  0.221348  ,  0.        ]), array([2, 1, 2, 0, 1, 0, 0, 3, 1, 2, 2, 0, 0, 3, 2, 1, 2, 3, 0, 1, 0, 2,\n",
      "       1, 3, 3, 1, 1, 0, 2, 3, 2, 0, 3, 1, 1, 1, 3, 0, 0, 3, 0, 1, 3, 3,\n",
      "       2, 3, 1, 2, 3, 0, 2, 1, 2, 0, 3, 3, 3, 0, 2, 1, 1, 2, 2, 1, 3, 3],\n",
      "      dtype=object)]\n",
      "[30, array([ 0.18023655, -0.04111145,  0.221348  ,  0.        ]), array([0, 1, 1, 1, 0, 1, 3, 3, 2, 0, 2, 0, 2, 3, 2, 1, 3, 3, 0, 0, 0, 2,\n",
      "       2, 3, 1, 2, 3, 1, 1, 0, 0, 3, 2, 0, 0, 2, 2, 1, 3, 3, 2, 1, 1, 3,\n",
      "       2, 1, 3, 3, 2, 1, 2, 0, 2, 1, 2, 0, 0, 1, 3, 1, 1, 2, 2, 0, 0, 1],\n",
      "      dtype=object)]\n",
      "[30, array([ 0.18117897, -0.04016904,  0.221348  ,  0.        ]), array([1, 0, 0, 3, 1, 3, 3, 3, 3, 3, 0, 0, 1, 2, 3, 2, 3, 0, 0, 0, 2, 3,\n",
      "       3, 1, 0, 3, 3, 2, 3, 0, 1, 0, 3, 0, 0, 3, 1, 1, 0, 0, 0, 1, 0, 2,\n",
      "       1, 3, 0, 2, 2, 1, 0, 3, 1, 0, 0, 1, 2, 3, 2, 1, 2, 0, 3, 0, 1, 2],\n",
      "      dtype=object)]\n",
      "[30, array([ 0.19197781, -0.02937019,  0.221348  ,  0.        ]), array([2, 0, 3, 3, 0, 0, 3, 1, 0, 3, 1, 0, 2, 0, 2, 0, 2, 1, 1, 3, 0, 2,\n",
      "       2, 0, 0, 0, 3, 0, 1, 2, 0, 1, 0, 1, 0, 1, 0, 3, 2, 0, 0, 3, 3, 3,\n",
      "       2, 1, 0, 1, 0, 2, 3, 0, 2, 1, 1, 2, 0, 3, 2, 0, 0, 2, 0, 1, 1, 0],\n",
      "      dtype=object)]\n",
      "[30, array([ 0.18580852, -0.03553949,  0.221348  ,  0.        ]), array([2, 2, 1, 1, 1, 2, 3, 3, 1, 3, 3, 2, 2, 3, 2, 1, 2, 3, 0, 3, 2, 1,\n",
      "       1, 3, 3, 1, 3, 3, 3, 0, 2, 3, 0, 0, 2, 1, 1, 0, 1, 3, 2, 1, 1, 3,\n",
      "       1, 2, 2, 2, 3, 2, 0, 0, 2, 2, 1, 1, 0, 2, 0, 1, 3, 1, 2, 1, 0, 1],\n",
      "      dtype=object)]\n",
      "[31, array([ 0.16956158, -0.05178642,  0.221348  ,  0.        ]), array([2, 2, 1, 3, 3, 0, 3, 0, 0, 2, 1, 2, 1, 1, 3, 1, 3, 1, 1, 3, 1, 0,\n",
      "       0, 3, 3, 1, 0, 2, 1, 3, 2, 2, 3, 1, 3, 1, 2, 1, 3, 3, 0, 0, 3, 0,\n",
      "       0, 3, 2, 1, 1, 0, 0, 2, 3, 2, 1, 3, 3, 2, 2, 3, 2, 3, 3, 0, 2, 0],\n",
      "      dtype=object)]\n",
      "[31, array([ 0.19056333, -0.03078467,  0.221348  ,  0.        ]), array([0, 0, 0, 1, 1, 3, 2, 3, 0, 3, 0, 1, 1, 1, 3, 2, 3, 1, 3, 3, 0, 1,\n",
      "       1, 3, 3, 0, 1, 1, 0, 1, 3, 3, 3, 2, 1, 0, 3, 1, 3, 1, 0, 2, 1, 2,\n",
      "       0, 1, 0, 0, 3, 0, 1, 0, 1, 0, 3, 1, 0, 3, 0, 1, 1, 1, 3, 3, 3, 0],\n",
      "      dtype=object)]\n",
      "[31, array([ 0.19276355, -0.02858445,  0.221348  ,  0.        ]), array([1, 2, 2, 0, 2, 3, 0, 2, 1, 3, 1, 2, 0, 3, 1, 0, 2, 1, 0, 2, 1, 2,\n",
      "       3, 2, 3, 2, 3, 3, 1, 0, 2, 3, 1, 1, 3, 3, 1, 1, 0, 2, 1, 1, 1, 1,\n",
      "       2, 1, 1, 2, 1, 0, 3, 2, 2, 2, 1, 2, 2, 0, 3, 0, 0, 2, 0, 3, 2, 1],\n",
      "      dtype=object)]\n",
      "[31, array([ 0.18827626, -0.03307174,  0.221348  ,  0.        ]), array([2, 1, 2, 0, 1, 0, 0, 3, 1, 2, 2, 0, 0, 3, 2, 1, 2, 3, 0, 1, 0, 2,\n",
      "       1, 3, 3, 1, 1, 0, 2, 3, 2, 0, 3, 1, 1, 1, 3, 0, 0, 3, 0, 1, 3, 3,\n",
      "       2, 3, 1, 2, 1, 2, 1, 0, 1, 1, 2, 0, 2, 1, 3, 0, 3, 0, 0, 0, 1, 1],\n",
      "      dtype=object)]\n",
      "[32, array([ 0.18994021, -0.03140779,  0.221348  ,  0.        ]), array([3, 2, 0, 3, 3, 2, 2, 0, 2, 1, 2, 1, 1, 3, 0, 3, 0, 0, 1, 0, 1, 1,\n",
      "       3, 0, 1, 1, 1, 0, 0, 1, 2, 2, 3, 1, 3, 1, 2, 2, 2, 3, 0, 0, 0, 1,\n",
      "       2, 1, 2, 0, 2, 0, 0, 2, 2, 3, 1, 2, 0, 2, 0, 0, 3, 1, 0, 2, 1, 3],\n",
      "      dtype=object)]\n",
      "[32, array([ 0.19705301, -0.024295  ,  0.221348  ,  0.        ]), array([0, 0, 1, 3, 2, 2, 0, 3, 1, 3, 0, 2, 0, 0, 1, 2, 2, 1, 0, 3, 0, 1,\n",
      "       0, 3, 2, 2, 3, 0, 2, 0, 1, 1, 0, 0, 0, 3, 1, 0, 0, 1, 1, 2, 2, 0,\n",
      "       0, 0, 2, 0, 3, 1, 1, 3, 2, 1, 3, 2, 3, 1, 3, 1, 3, 0, 2, 1, 1, 1],\n",
      "      dtype=object)]\n",
      "[32, array([ 0.19082137, -0.03052663,  0.221348  ,  0.        ]), array([2, 2, 3, 3, 0, 0, 0, 1, 0, 3, 3, 0, 2, 0, 2, 0, 2, 1, 0, 3, 0, 3,\n",
      "       2, 3, 0, 0, 1, 0, 1, 2, 0, 1, 0, 3, 0, 3, 1, 1, 0, 2, 1, 1, 1, 1,\n",
      "       2, 1, 1, 2, 1, 0, 3, 2, 2, 2, 1, 2, 2, 0, 3, 0, 0, 2, 0, 3, 2, 1],\n",
      "      dtype=object)]\n",
      "[32, array([ 0.19321167, -0.02813633,  0.221348  ,  0.        ]), array([1, 1, 3, 0, 2, 2, 3, 3, 2, 3, 0, 0, 0, 2, 1, 2, 3, 2, 3, 3, 2, 1,\n",
      "       0, 0, 0, 0, 2, 0, 1, 0, 0, 0, 2, 0, 3, 1, 1, 2, 2, 1, 1, 1, 2, 0,\n",
      "       1, 2, 0, 2, 1, 2, 0, 0, 1, 0, 2, 3, 1, 3, 2, 2, 2, 3, 1, 1, 0, 2],\n",
      "      dtype=object)]\n",
      "[33, array([ 0.16558165, -0.05576635,  0.221348  ,  0.        ]), array([1, 2, 2, 0, 1, 2, 2, 0, 1, 1, 1, 3, 1, 1, 3, 1, 3, 1, 2, 1, 2, 2,\n",
      "       3, 3, 3, 2, 3, 0, 2, 3, 0, 1, 1, 0, 1, 3, 2, 0, 2, 1, 0, 0, 3, 0,\n",
      "       0, 3, 2, 1, 3, 0, 0, 2, 3, 2, 1, 1, 3, 2, 1, 3, 2, 3, 0, 1, 2, 3],\n",
      "      dtype=object)]\n",
      "[33, array([ 0.18900924, -0.03233876,  0.221348  ,  0.        ]), array([0, 0, 1, 1, 2, 1, 0, 3, 1, 3, 0, 2, 0, 0, 1, 2, 2, 1, 0, 2, 0, 1,\n",
      "       0, 3, 2, 2, 3, 0, 2, 1, 1, 1, 3, 0, 1, 3, 1, 0, 0, 2, 1, 2, 2, 0,\n",
      "       2, 1, 2, 0, 2, 3, 3, 0, 2, 1, 2, 3, 0, 1, 3, 2, 2, 1, 1, 2, 3, 2],\n",
      "      dtype=object)]\n",
      "[33, array([ 0.18652914, -0.03481886,  0.221348  ,  0.        ]), array([0, 2, 0, 0, 1, 2, 3, 0, 3, 3, 3, 1, 2, 0, 0, 3, 3, 1, 0, 3, 0, 3,\n",
      "       1, 0, 3, 2, 1, 3, 0, 2, 2, 0, 2, 3, 0, 2, 3, 3, 0, 1, 0, 1, 2, 2,\n",
      "       0, 0, 0, 1, 0, 2, 0, 0, 2, 1, 0, 2, 0, 3, 0, 2, 0, 2, 0, 1, 2, 1],\n",
      "      dtype=object)]\n",
      "[33, array([ 0.18645507, -0.03489294,  0.221348  ,  0.        ]), array([0, 3, 0, 3, 0, 3, 0, 2, 0, 0, 1, 0, 1, 0, 0, 0, 1, 1, 3, 3, 2, 1,\n",
      "       0, 0, 2, 0, 0, 2, 3, 3, 3, 0, 1, 1, 1, 1, 2, 2, 2, 2, 1, 3, 1, 1,\n",
      "       1, 2, 0, 2, 1, 3, 1, 0, 2, 1, 2, 3, 2, 3, 0, 1, 3, 2, 3, 1, 2, 0],\n",
      "      dtype=object)]\n",
      "[34, array([ 0.18401886, -0.03732914,  0.221348  ,  0.        ]), array([3, 1, 0, 0, 3, 2, 2, 0, 2, 3, 3, 1, 0, 3, 2, 3, 2, 0, 1, 0, 0, 1,\n",
      "       3, 0, 1, 2, 3, 0, 2, 1, 2, 2, 1, 1, 1, 1, 3, 2, 3, 3, 0, 0, 3, 3,\n",
      "       0, 0, 2, 1, 0, 0, 1, 1, 3, 0, 1, 3, 2, 2, 2, 3, 2, 0, 3, 0, 1, 3],\n",
      "      dtype=object)]\n",
      "[34, array([ 0.19831441, -0.02303359,  0.221348  ,  0.        ]), array([1, 2, 3, 1, 1, 1, 3, 0, 1, 0, 3, 2, 1, 2, 1, 2, 2, 3, 0, 1, 0, 3,\n",
      "       1, 1, 0, 2, 1, 3, 3, 3, 3, 1, 3, 0, 1, 3, 3, 2, 1, 3, 3, 0, 1, 2,\n",
      "       0, 0, 1, 1, 2, 1, 1, 2, 0, 3, 1, 3, 1, 1, 1, 3, 1, 2, 2, 3, 1, 0],\n",
      "      dtype=object)]\n",
      "[34, array([ 0.18228445, -0.03906356,  0.221348  ,  0.        ]), array([1, 0, 3, 0, 2, 2, 2, 0, 0, 3, 3, 1, 2, 0, 2, 3, 0, 1, 2, 3, 0, 2,\n",
      "       3, 1, 3, 2, 2, 2, 1, 3, 0, 1, 0, 3, 0, 3, 2, 2, 3, 1, 0, 3, 3, 3,\n",
      "       0, 0, 0, 2, 0, 2, 2, 0, 2, 0, 0, 2, 0, 3, 1, 1, 0, 2, 0, 1, 3, 1],\n",
      "      dtype=object)]\n",
      "[34, array([ 0.17914221, -0.04220579,  0.221348  ,  0.        ]), array([0, 3, 0, 3, 0, 3, 0, 2, 0, 0, 1, 0, 1, 0, 0, 0, 1, 1, 3, 3, 2, 1,\n",
      "       0, 0, 2, 0, 0, 2, 3, 3, 3, 0, 1, 1, 1, 1, 2, 2, 2, 2, 1, 3, 1, 1,\n",
      "       1, 2, 0, 2, 1, 3, 1, 0, 2, 1, 2, 3, 2, 1, 0, 1, 3, 2, 3, 1, 2, 0],\n",
      "      dtype=object)]\n",
      "[35, array([ 0.18736894, -0.03397907,  0.221348  ,  0.        ]), array([2, 3, 2, 3, 1, 1, 1, 3, 0, 3, 3, 1, 1, 3, 3, 3, 3, 3, 0, 0, 2, 2,\n",
      "       3, 1, 0, 0, 0, 2, 2, 1, 0, 1, 0, 1, 1, 2, 0, 2, 2, 3, 0, 0, 0, 0,\n",
      "       2, 1, 2, 0, 2, 0, 0, 2, 3, 3, 1, 3, 0, 0, 3, 0, 3, 1, 0, 1, 1, 3],\n",
      "      dtype=object)]\n",
      "[35, array([ 0.17305973, -0.04828827,  0.221348  ,  0.        ]), array([0, 1, 1, 1, 0, 1, 3, 3, 2, 0, 2, 0, 2, 3, 2, 1, 3, 3, 0, 0, 0, 2,\n",
      "       2, 3, 1, 2, 3, 1, 1, 0, 0, 3, 2, 2, 1, 3, 0, 0, 3, 2, 0, 3, 1, 2,\n",
      "       3, 1, 1, 0, 0, 0, 2, 3, 2, 0, 0, 1, 0, 3, 0, 1, 1, 1, 0, 3, 1, 0],\n",
      "      dtype=object)]\n",
      "[35, array([ 0.18356346, -0.03778454,  0.221348  ,  0.        ]), array([2, 1, 1, 1, 1, 0, 2, 0, 2, 3, 2, 0, 2, 0, 0, 0, 0, 1, 3, 3, 0, 2,\n",
      "       2, 0, 0, 0, 1, 0, 1, 3, 1, 3, 2, 3, 0, 2, 0, 3, 3, 1, 0, 1, 3, 3,\n",
      "       0, 0, 2, 1, 0, 2, 3, 0, 2, 2, 0, 2, 0, 3, 2, 3, 0, 1, 0, 1, 3, 1],\n",
      "      dtype=object)]\n",
      "[35, array([ 0.18444711, -0.03690089,  0.221348  ,  0.        ]), array([3, 3, 0, 2, 3, 2, 2, 1, 3, 3, 3, 2, 0, 2, 1, 3, 2, 3, 0, 3, 3, 2,\n",
      "       3, 3, 1, 1, 3, 0, 2, 0, 0, 0, 2, 0, 3, 1, 1, 2, 2, 0, 1, 1, 1, 1,\n",
      "       1, 2, 0, 2, 1, 2, 1, 0, 1, 1, 2, 3, 2, 1, 3, 0, 3, 0, 0, 3, 1, 1],\n",
      "      dtype=object)]\n",
      "[36, array([ 0.18885523, -0.03249277,  0.221348  ,  0.        ]), array([1, 1, 0, 0, 1, 1, 3, 0, 0, 2, 0, 3, 2, 3, 0, 3, 3, 3, 0, 0, 2, 2,\n",
      "       3, 1, 0, 0, 0, 2, 2, 1, 0, 1, 0, 1, 1, 2, 0, 2, 2, 3, 0, 0, 0, 0,\n",
      "       2, 1, 2, 0, 2, 0, 0, 2, 3, 3, 1, 3, 0, 0, 3, 0, 3, 1, 0, 1, 1, 3],\n",
      "      dtype=object)]\n",
      "[36, array([ 0.16485189, -0.05649612,  0.221348  ,  0.        ]), array([0, 0, 1, 3, 1, 3, 2, 3, 0, 3, 0, 1, 1, 1, 3, 2, 1, 1, 3, 3, 0, 0,\n",
      "       2, 3, 0, 0, 1, 1, 0, 1, 0, 3, 0, 0, 1, 0, 3, 1, 3, 1, 3, 2, 2, 2,\n",
      "       1, 0, 3, 2, 1, 2, 3, 0, 3, 1, 2, 0, 0, 1, 3, 1, 1, 2, 2, 0, 0, 1],\n",
      "      dtype=object)]\n",
      "[36, array([ 0.17871956, -0.04262845,  0.221348  ,  0.        ]), array([3, 0, 2, 3, 2, 1, 0, 0, 1, 3, 0, 2, 0, 3, 1, 0, 3, 1, 0, 2, 0, 2,\n",
      "       3, 2, 2, 3, 1, 0, 1, 3, 1, 3, 2, 3, 1, 2, 0, 1, 0, 3, 1, 1, 2, 1,\n",
      "       0, 3, 1, 2, 3, 2, 2, 0, 0, 3, 2, 3, 0, 0, 3, 0, 0, 2, 1, 0, 3, 2],\n",
      "      dtype=object)]\n",
      "[36, array([ 0.18837655, -0.03297145,  0.221348  ,  0.        ]), array([1, 1, 3, 3, 0, 2, 3, 3, 2, 3, 0, 0, 0, 2, 1, 2, 3, 2, 3, 3, 2, 1,\n",
      "       0, 0, 0, 0, 2, 0, 2, 0, 0, 0, 2, 0, 3, 1, 1, 2, 2, 1, 1, 1, 1, 1,\n",
      "       1, 2, 0, 2, 1, 2, 1, 0, 2, 1, 2, 0, 2, 1, 3, 0, 3, 0, 0, 0, 1, 1],\n",
      "      dtype=object)]\n",
      "[37, array([ 0.18627104, -0.03507697,  0.221348  ,  0.        ]), array([1, 1, 0, 0, 1, 0, 3, 0, 0, 2, 0, 3, 2, 3, 0, 3, 3, 3, 0, 0, 2, 2,\n",
      "       3, 1, 0, 0, 0, 2, 2, 1, 0, 1, 0, 1, 1, 2, 0, 2, 2, 3, 0, 0, 0, 0,\n",
      "       2, 1, 2, 0, 2, 0, 0, 2, 3, 3, 1, 3, 0, 0, 3, 0, 3, 1, 0, 1, 1, 3],\n",
      "      dtype=object)]\n",
      "[37, array([ 0.18454085, -0.03680715,  0.221348  ,  0.        ]), array([2, 1, 1, 1, 2, 1, 2, 1, 2, 3, 0, 1, 3, 3, 0, 3, 1, 1, 1, 1, 2, 3,\n",
      "       1, 1, 0, 2, 1, 3, 0, 3, 3, 1, 3, 0, 1, 3, 2, 2, 3, 3, 3, 0, 1, 2,\n",
      "       1, 1, 1, 1, 2, 1, 1, 2, 0, 0, 1, 3, 2, 1, 1, 2, 1, 3, 0, 2, 3, 2],\n",
      "      dtype=object)]\n",
      "[37, array([ 0.19595784, -0.02539017,  0.221348  ,  0.        ]), array([2, 1, 3, 2, 2, 0, 3, 0, 1, 3, 2, 1, 2, 0, 2, 0, 0, 1, 3, 3, 3, 2,\n",
      "       2, 0, 2, 0, 2, 3, 2, 0, 0, 0, 2, 0, 3, 1, 1, 2, 2, 1, 1, 1, 1, 1,\n",
      "       1, 2, 3, 2, 1, 2, 1, 0, 1, 3, 1, 1, 0, 2, 3, 1, 2, 0, 2, 1, 0, 1],\n",
      "      dtype=object)]\n",
      "[37, array([ 0.19671371, -0.02463429,  0.221348  ,  0.        ]), array([1, 1, 1, 0, 2, 2, 3, 3, 2, 3, 0, 0, 0, 3, 1, 2, 0, 2, 3, 3, 2, 1,\n",
      "       0, 0, 0, 0, 2, 1, 2, 3, 0, 3, 2, 0, 0, 1, 1, 2, 3, 2, 1, 1, 1, 1,\n",
      "       1, 1, 2, 2, 1, 0, 1, 0, 1, 3, 3, 1, 3, 2, 0, 1, 2, 0, 2, 0, 1, 1],\n",
      "      dtype=object)]\n",
      "[38, array([ 0.18341614, -0.03793186,  0.221348  ,  0.        ]), array([0, 2, 1, 3, 3, 0, 3, 0, 0, 2, 0, 3, 2, 3, 0, 3, 3, 3, 0, 0, 2, 2,\n",
      "       3, 1, 0, 0, 0, 2, 2, 1, 0, 1, 3, 1, 3, 1, 2, 1, 3, 3, 0, 0, 3, 0,\n",
      "       0, 3, 2, 1, 1, 0, 0, 2, 3, 2, 1, 3, 3, 2, 2, 3, 2, 3, 3, 0, 2, 0],\n",
      "      dtype=object)]\n",
      "[38, array([ 0.18184334, -0.03950466,  0.221348  ,  0.        ]), array([0, 0, 2, 0, 2, 1, 3, 0, 1, 3, 0, 2, 3, 0, 0, 3, 2, 3, 3, 1, 0, 2,\n",
      "       2, 1, 3, 0, 0, 2, 2, 2, 2, 1, 2, 2, 2, 2, 0, 1, 1, 2, 1, 1, 1, 2,\n",
      "       1, 1, 3, 2, 2, 0, 1, 2, 3, 0, 1, 3, 2, 2, 1, 2, 1, 3, 0, 2, 2, 1],\n",
      "      dtype=object)]\n",
      "[38, array([ 0.18325248, -0.03809553,  0.221348  ,  0.        ]), array([3, 1, 3, 2, 2, 0, 3, 0, 1, 3, 1, 1, 2, 1, 2, 0, 0, 1, 3, 1, 2, 2,\n",
      "       2, 0, 2, 0, 2, 3, 3, 0, 2, 0, 0, 2, 0, 1, 0, 1, 0, 3, 3, 1, 2, 1,\n",
      "       1, 3, 2, 2, 0, 2, 2, 0, 3, 3, 1, 1, 1, 0, 2, 3, 2, 2, 1, 3, 1, 1],\n",
      "      dtype=object)]\n",
      "[38, array([ 0.18493639, -0.03641162,  0.221348  ,  0.        ]), array([2, 2, 2, 3, 1, 2, 3, 3, 2, 1, 2, 1, 0, 2, 3, 2, 3, 3, 3, 3, 2, 1,\n",
      "       0, 3, 0, 0, 2, 0, 2, 0, 0, 2, 2, 3, 3, 1, 1, 1, 1, 1, 0, 1, 2, 0,\n",
      "       1, 1, 2, 1, 1, 2, 1, 2, 2, 0, 2, 0, 2, 1, 2, 1, 3, 3, 0, 0, 3, 1],\n",
      "      dtype=object)]\n",
      "[39, array([ 0.19488166, -0.02646634,  0.221348  ,  0.        ]), array([3, 2, 3, 3, 3, 3, 3, 3, 3, 2, 2, 0, 2, 3, 0, 2, 3, 1, 0, 0, 2, 2,\n",
      "       3, 1, 0, 0, 0, 2, 2, 1, 0, 2, 0, 2, 1, 2, 0, 2, 2, 2, 0, 0, 0, 0,\n",
      "       1, 3, 2, 0, 2, 0, 0, 0, 3, 0, 1, 0, 0, 2, 2, 3, 3, 1, 0, 1, 1, 3],\n",
      "      dtype=object)]\n",
      "[39, array([ 0.1888819, -0.0324661,  0.221348 ,  0.       ]), array([0, 1, 1, 0, 1, 3, 2, 3, 0, 3, 0, 1, 1, 1, 2, 2, 1, 1, 3, 3, 3, 0,\n",
      "       3, 3, 0, 0, 1, 1, 0, 3, 0, 3, 0, 0, 1, 0, 3, 1, 3, 1, 3, 2, 2, 2,\n",
      "       1, 0, 3, 2, 1, 2, 3, 0, 3, 1, 3, 2, 2, 0, 1, 1, 2, 2, 2, 3, 3, 0],\n",
      "      dtype=object)]\n",
      "[39, array([ 0.18726105, -0.03408695,  0.221348  ,  0.        ]), array([3, 2, 1, 1, 2, 1, 3, 0, 1, 3, 3, 2, 0, 3, 0, 0, 2, 1, 1, 3, 2, 1,\n",
      "       2, 2, 3, 1, 3, 3, 1, 1, 2, 1, 0, 3, 0, 3, 1, 1, 2, 0, 0, 1, 1, 1,\n",
      "       2, 1, 1, 2, 1, 0, 3, 2, 2, 2, 1, 2, 2, 0, 3, 0, 0, 2, 0, 3, 2, 1],\n",
      "      dtype=object)]\n",
      "[39, array([ 0.15987598, -0.06147203,  0.221348  ,  0.        ]), array([1, 1, 3, 0, 2, 0, 3, 3, 2, 3, 0, 0, 0, 2, 1, 2, 3, 1, 3, 3, 2, 3,\n",
      "       1, 0, 2, 0, 2, 1, 2, 0, 1, 0, 2, 0, 3, 1, 0, 3, 0, 3, 1, 1, 0, 3,\n",
      "       0, 1, 3, 3, 1, 1, 3, 3, 1, 3, 0, 1, 0, 2, 3, 1, 3, 0, 2, 2, 2, 1],\n",
      "      dtype=object)]\n",
      "[40, array([ 0.19073958, -0.03060842,  0.221348  ,  0.        ]), array([0, 2, 1, 3, 3, 0, 3, 0, 0, 2, 0, 3, 2, 3, 0, 3, 3, 3, 0, 1, 2, 0,\n",
      "       1, 2, 3, 2, 0, 1, 2, 2, 1, 3, 2, 0, 1, 3, 0, 3, 1, 0, 1, 1, 2, 1,\n",
      "       1, 3, 1, 0, 1, 3, 2, 0, 2, 3, 1, 3, 0, 0, 3, 0, 3, 1, 0, 1, 1, 3],\n",
      "      dtype=object)]\n",
      "[40, array([ 0.19622836, -0.02511965,  0.221348  ,  0.        ]), array([3, 1, 1, 1, 2, 1, 3, 3, 2, 2, 1, 0, 1, 0, 3, 0, 3, 3, 3, 2, 0, 0,\n",
      "       2, 3, 3, 0, 1, 1, 1, 1, 0, 3, 2, 3, 0, 0, 3, 1, 3, 0, 3, 2, 2, 2,\n",
      "       3, 0, 2, 2, 1, 2, 2, 0, 3, 1, 2, 0, 0, 1, 3, 2, 1, 2, 2, 0, 3, 1],\n",
      "      dtype=object)]\n",
      "[40, array([ 0.18782566, -0.03352235,  0.221348  ,  0.        ]), array([2, 0, 1, 1, 2, 0, 1, 2, 3, 3, 2, 0, 2, 3, 0, 0, 0, 2, 3, 3, 0, 0,\n",
      "       3, 0, 1, 1, 3, 1, 1, 3, 1, 2, 2, 3, 2, 2, 1, 1, 0, 2, 0, 3, 2, 3,\n",
      "       0, 0, 2, 3, 3, 0, 0, 3, 0, 2, 1, 3, 1, 2, 1, 3, 2, 3, 2, 1, 0, 1],\n",
      "      dtype=object)]\n",
      "[40, array([ 0.17093923, -0.05040878,  0.221348  ,  0.        ]), array([1, 1, 3, 0, 2, 0, 0, 3, 3, 3, 0, 0, 0, 2, 1, 0, 1, 2, 3, 2, 2, 1,\n",
      "       2, 0, 0, 0, 3, 0, 1, 2, 0, 0, 2, 0, 1, 1, 3, 2, 2, 3, 1, 2, 1, 1,\n",
      "       1, 2, 3, 3, 1, 2, 1, 0, 1, 0, 2, 0, 2, 2, 2, 1, 3, 1, 0, 3, 1, 0],\n",
      "      dtype=object)]\n"
     ]
    }
   ],
   "source": [
    "# we can perform nCAFQA by using the main optimization function \"claptonize\"\n",
    "# now with the noisy circuit\n",
    "ks_best, energy_noisy, energy_noiseless = claptonize(\n",
    "    paulis,\n",
    "    coeffs,\n",
    "    vqe_pcirc,\n",
    "    n_proc=4,           # total number of processes in parallel\n",
    "    n_starts=4,         # number of random genetic algorithm starts in parallel\n",
    "    n_rounds=1,         # number of budget rounds, if None it will terminate itself\n",
    "    callback=print,     # callback for internal parameter (#iteration, energies, ks) processing\n",
    "    budget=20           # budget per genetic algorithm instance\n",
    ")"
   ]
  },
  {
   "cell_type": "code",
   "execution_count": 19,
   "metadata": {},
   "outputs": [
    {
     "data": {
      "text/plain": [
       "[3,\n",
       " 2,\n",
       " 0,\n",
       " 3,\n",
       " 3,\n",
       " 2,\n",
       " 2,\n",
       " 0,\n",
       " 2,\n",
       " 1,\n",
       " 2,\n",
       " 1,\n",
       " 1,\n",
       " 3,\n",
       " 0,\n",
       " 3,\n",
       " 0,\n",
       " 0,\n",
       " 1,\n",
       " 0,\n",
       " 1,\n",
       " 1,\n",
       " 3,\n",
       " 0,\n",
       " 1,\n",
       " 1,\n",
       " 1,\n",
       " 0,\n",
       " 0,\n",
       " 1,\n",
       " 2,\n",
       " 2,\n",
       " 3,\n",
       " 1,\n",
       " 3,\n",
       " 1,\n",
       " 2,\n",
       " 1,\n",
       " 3,\n",
       " 3,\n",
       " 0,\n",
       " 0,\n",
       " 3,\n",
       " 0,\n",
       " 0,\n",
       " 3,\n",
       " 2,\n",
       " 1,\n",
       " 1,\n",
       " 0,\n",
       " 0,\n",
       " 2,\n",
       " 3,\n",
       " 2,\n",
       " 1,\n",
       " 3,\n",
       " 3,\n",
       " 2,\n",
       " 2,\n",
       " 3,\n",
       " 2,\n",
       " 3,\n",
       " 3,\n",
       " 0,\n",
       " 2,\n",
       " 0]"
      ]
     },
     "execution_count": 19,
     "metadata": {},
     "output_type": "execute_result"
    }
   ],
   "source": [
    "# the best parameters are\n",
    "ks_best"
   ]
  },
  {
   "cell_type": "code",
   "execution_count": 20,
   "metadata": {},
   "outputs": [
    {
     "data": {
      "text/plain": [
       "(0.022569077577455732, 0.22134800364866636)"
      ]
     },
     "execution_count": 20,
     "metadata": {},
     "output_type": "execute_result"
    }
   ],
   "source": [
    "# with noisy/noiseless energy\n",
    "energy_noisy, energy_noiseless"
   ]
  },
  {
   "cell_type": "code",
   "execution_count": 21,
   "metadata": {},
   "outputs": [
    {
     "data": {
      "text/plain": [
       "0.19877892607121062"
      ]
     },
     "execution_count": 21,
     "metadata": {},
     "output_type": "execute_result"
    }
   ],
   "source": [
    "# differrence\n",
    "np.abs(energy_noisy-energy_noiseless)"
   ]
  },
  {
   "cell_type": "code",
   "execution_count": 22,
   "metadata": {},
   "outputs": [
    {
     "data": {
      "text/html": [
       "<pre>q0: -SQRT_Y_DAG-S_DAG-X-@-Y-S---X-@-SQRT_Y-S_DAG--------X-@-SQRT_Y-S------------X-@-SQRT_Y-I--------X-@-Y-S----------------X-@-Y-S_DAG--------X-@-SQRT_Y_DAG-S_DAG---X-@-SQRT_Y-Z-------X-@-SQRT_Y-Z----------------X-@-Y-I------------\n",
       "                      | |       | |                     | |                     | |                 | |                    | |                | |                    | |                | |                         | |\n",
       "q1: -Y----------S_DAG-|-X-@-I-Z-|-X-@------SQRT_Y_DAG-I-|-X-@------I------S_DAG-|-X-@------SQRT_Y-I-|-X-@-Y----------S_DAG-|-X-@-SQRT_Y-----I-|-X-@----------I-----Z-|-X-@------I-S_DAG-|-X-@------SQRT_Y_DAG-Z-----|-X-@-SQRT_Y_DAG-Z-\n",
       "                      |   |     |   |                   |   |                   |   |               |   |                  |   |              |   |                  |   |              |   |                       |   |\n",
       "q2: -I----------Z-----@---X-Y-S-@---X------I----------I-@---X------SQRT_Y-I-----@---X------SQRT_Y-S-@---X-SQRT_Y_DAG-S-----@---X-SQRT_Y_DAG-I-@---X----------I-----S-@---X------I-Z-----@---X------SQRT_Y_DAG-S_DAG-@---X-SQRT_Y_DAG-I-</pre>"
      ],
      "text/plain": [
       "q0: -SQRT_Y_DAG-S_DAG-X-@-Y-S---X-@-SQRT_Y-S_DAG--------X-@-SQRT_Y-S------------X-@-SQRT_Y-I--------X-@-Y-S----------------X-@-Y-S_DAG--------X-@-SQRT_Y_DAG-S_DAG---X-@-SQRT_Y-Z-------X-@-SQRT_Y-Z----------------X-@-Y-I------------\n",
       "                      | |       | |                     | |                     | |                 | |                    | |                | |                    | |                | |                         | |\n",
       "q1: -Y----------S_DAG-|-X-@-I-Z-|-X-@------SQRT_Y_DAG-I-|-X-@------I------S_DAG-|-X-@------SQRT_Y-I-|-X-@-Y----------S_DAG-|-X-@-SQRT_Y-----I-|-X-@----------I-----Z-|-X-@------I-S_DAG-|-X-@------SQRT_Y_DAG-Z-----|-X-@-SQRT_Y_DAG-Z-\n",
       "                      |   |     |   |                   |   |                   |   |               |   |                  |   |              |   |                  |   |              |   |                       |   |\n",
       "q2: -I----------Z-----@---X-Y-S-@---X------I----------I-@---X------SQRT_Y-I-----@---X------SQRT_Y-S-@---X-SQRT_Y_DAG-S-----@---X-SQRT_Y_DAG-I-@---X----------I-----S-@---X------I-Z-----@---X------SQRT_Y_DAG-S_DAG-@---X-SQRT_Y_DAG-I-"
      ]
     },
     "execution_count": 22,
     "metadata": {},
     "output_type": "execute_result"
    }
   ],
   "source": [
    "# the corresponding circuit is\n",
    "vqe_pcirc.assign(ks_best)\n",
    "vqe_pcirc.snapshot_noiseless().circ_snapshot_noiseless.diagram()"
   ]
  },
  {
   "cell_type": "markdown",
   "metadata": {},
   "source": [
    "## Implementing PT after CAFQA "
   ]
  },
  {
   "cell_type": "code",
   "execution_count": 23,
   "metadata": {},
   "outputs": [
    {
     "data": {
      "text/plain": [
       "<clapton.clifford.ParametrizedCliffordCircuit at 0x7f8ffc2b2140>"
      ]
     },
     "execution_count": 23,
     "metadata": {},
     "output_type": "execute_result"
    }
   ],
   "source": [
    "pauli_twirl_list = [vqe_pcirc.add_pauli_twirl() for _ in range(1000)]\n",
    "for circuit in pauli_twirl_list:\n",
    "    circuit.assign(ks_best)\n",
    "pauli_twirl_list = [circuit.add_depolarization_model(nm) for circuit in pauli_twirl_list]\n",
    "vqe_pcirc.add_pauli_twirl_list(pauli_twirl_list) #NOTE: Made major change here by adding list after adding noise"
   ]
  },
  {
   "cell_type": "code",
   "execution_count": 24,
   "metadata": {},
   "outputs": [
    {
     "data": {
      "text/plain": [
       "0.003412766075869007"
      ]
     },
     "execution_count": 24,
     "metadata": {},
     "output_type": "execute_result"
    }
   ],
   "source": [
    "get_energy(vqe_pcirc,paulis,coeffs)"
   ]
  },
  {
   "cell_type": "code",
   "execution_count": null,
   "metadata": {},
   "outputs": [],
   "source": []
  }
 ],
 "metadata": {
  "kernelspec": {
   "display_name": "clapton",
   "language": "python",
   "name": "python3"
  },
  "language_info": {
   "codemirror_mode": {
    "name": "ipython",
    "version": 3
   },
   "file_extension": ".py",
   "mimetype": "text/x-python",
   "name": "python",
   "nbconvert_exporter": "python",
   "pygments_lexer": "ipython3",
   "version": "3.10.15"
  }
 },
 "nbformat": 4,
 "nbformat_minor": 2
}
