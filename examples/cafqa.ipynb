{
 "cells": [
  {
   "cell_type": "markdown",
   "metadata": {},
   "source": [
    "# CAFQA"
   ]
  },
  {
   "cell_type": "code",
   "execution_count": 1,
   "metadata": {},
   "outputs": [],
   "source": [
    "import sys\n",
    "sys.path.append(\"../\")\n",
    "from clapton.clapton import claptonize\n",
    "from clapton.ansatzes import circular_ansatz,circular_ansatz_mirrored\n",
    "from clapton.evaluation import get_energy\n",
    "import numpy as np"
   ]
  },
  {
   "cell_type": "code",
   "execution_count": 2,
   "metadata": {},
   "outputs": [],
   "source": [
    "# define Hamiltonian, e.g. 3q Heisenberg model with random coefficients\n",
    "paulis = [\"XXI\", \"IXX\", \"YYI\", \"IYY\", \"ZZI\", \"IZZ\"]\n",
    "coeffs = np.random.random(len(paulis))"
   ]
  },
  {
   "cell_type": "code",
   "execution_count": 3,
   "metadata": {},
   "outputs": [],
   "source": [
    "# define parametrized Clifford circuit that is being optimized over\n",
    "# here we use the circular_ansatz template\n",
    "# we fix 2q gates as they will not be optimized over\n",
    "vqe_pcirc = circular_ansatz(N=len(paulis[0]), reps=1, fix_2q=True)"
   ]
  },
  {
   "cell_type": "code",
   "execution_count": 4,
   "metadata": {},
   "outputs": [
    {
     "name": "stdout",
     "output_type": "stream",
     "text": [
      "RY False\n",
      "RY False\n",
      "RY False\n",
      "RZ False\n",
      "RZ False\n",
      "RZ False\n",
      "2Q True\n",
      "2Q True\n",
      "2Q True\n",
      "RY False\n",
      "RY False\n",
      "RY False\n",
      "RZ False\n",
      "RZ False\n",
      "RZ False\n"
     ]
    }
   ],
   "source": [
    "# the circuit consists of parametrized gates\n",
    "for gate in vqe_pcirc.gates:\n",
    "    print(gate.label, gate.is_fixed())"
   ]
  },
  {
   "cell_type": "code",
   "execution_count": 5,
   "metadata": {},
   "outputs": [],
   "source": [
    "# non-fixed gates will be optimized over\n",
    "# RY and RZ gates can assume 4 values k = 0,1,2,3 which describe multiples of pi/2"
   ]
  },
  {
   "cell_type": "code",
   "execution_count": 6,
   "metadata": {},
   "outputs": [
    {
     "data": {
      "text/plain": [
       "[0, 0, 0, 0, 0, 0, 0, 0, 0, 0, 0, 0]"
      ]
     },
     "execution_count": 6,
     "metadata": {},
     "output_type": "execute_result"
    }
   ],
   "source": [
    "# the initial parameters are all 0\n",
    "vqe_pcirc.read()"
   ]
  },
  {
   "cell_type": "code",
   "execution_count": 7,
   "metadata": {},
   "outputs": [
    {
     "data": {
      "text/html": [
       "<pre>q0: -I-I-X-@-I-I---\n",
       "         | |\n",
       "q1: -I-I-|-X-@-I-I-\n",
       "         |   |\n",
       "q2: -I-I-@---X-I-I-</pre>"
      ],
      "text/plain": [
       "q0: -I-I-X-@-I-I---\n",
       "         | |\n",
       "q1: -I-I-|-X-@-I-I-\n",
       "         |   |\n",
       "q2: -I-I-@---X-I-I-"
      ]
     },
     "execution_count": 7,
     "metadata": {},
     "output_type": "execute_result"
    }
   ],
   "source": [
    "# we can look at the corresponding stim circuit\n",
    "vqe_pcirc.stim_circuit().diagram()"
   ]
  },
  {
   "cell_type": "code",
   "execution_count": 8,
   "metadata": {},
   "outputs": [
    {
     "data": {
      "text/plain": [
       "<clapton.clifford.ParametrizedCliffordCircuit at 0x7fef107a17e0>"
      ]
     },
     "execution_count": 8,
     "metadata": {},
     "output_type": "execute_result"
    }
   ],
   "source": [
    "# we can assign a different set of parameters\n",
    "vqe_pcirc.assign([0,1,2,3,0,1,2,3,0,1,2,3])"
   ]
  },
  {
   "cell_type": "code",
   "execution_count": 9,
   "metadata": {},
   "outputs": [
    {
     "data": {
      "text/html": [
       "<pre>q0: -I------S_DAG-X-@-Y-S----------------\n",
       "                  | |\n",
       "q1: -SQRT_Y-I-----|-X-@-SQRT_Y_DAG-Z-----\n",
       "                  |   |\n",
       "q2: -Y------S-----@---X-I----------S_DAG-</pre>"
      ],
      "text/plain": [
       "q0: -I------S_DAG-X-@-Y-S----------------\n",
       "                  | |\n",
       "q1: -SQRT_Y-I-----|-X-@-SQRT_Y_DAG-Z-----\n",
       "                  |   |\n",
       "q2: -Y------S-----@---X-I----------S_DAG-"
      ]
     },
     "execution_count": 9,
     "metadata": {},
     "output_type": "execute_result"
    }
   ],
   "source": [
    "vqe_pcirc.stim_circuit().diagram()"
   ]
  },
  {
   "cell_type": "code",
   "execution_count": 10,
   "metadata": {},
   "outputs": [
    {
     "name": "stdout",
     "output_type": "stream",
     "text": [
      "STARTING ROUND 0\n",
      "\n",
      "\n",
      "started GA at id 1 with 1 procs\n",
      "\n",
      "started GA at id 2 with 1 procs\n"
     ]
    },
    {
     "name": "stderr",
     "output_type": "stream",
     "text": [
      "/home/dbharadwaj/anaconda3/envs/clapton/lib/python3.10/site-packages/pygad/pygad.py:1139: UserWarning: The 'delay_after_gen' parameter is deprecated starting from PyGAD 3.3.0. To delay or pause the evolution after each generation, assign a callback function/method to the 'on_generation' parameter to adds some time delay.\n",
      "  warnings.warn(\"The 'delay_after_gen' parameter is deprecated starting from PyGAD 3.3.0. To delay or pause the evolution after each generation, assign a callback function/method to the 'on_generation' parameter to adds some time delay.\")\n"
     ]
    },
    {
     "name": "stdout",
     "output_type": "stream",
     "text": [
      "\n",
      "started GA at id None with 1 procs\n",
      "\n"
     ]
    },
    {
     "name": "stderr",
     "output_type": "stream",
     "text": [
      "/home/dbharadwaj/anaconda3/envs/clapton/lib/python3.10/site-packages/pygad/pygad.py:1139: UserWarning: The 'delay_after_gen' parameter is deprecated starting from PyGAD 3.3.0. To delay or pause the evolution after each generation, assign a callback function/method to the 'on_generation' parameter to adds some time delay.\n",
      "  warnings.warn(\"The 'delay_after_gen' parameter is deprecated starting from PyGAD 3.3.0. To delay or pause the evolution after each generation, assign a callback function/method to the 'on_generation' parameter to adds some time delay.\")\n"
     ]
    },
    {
     "name": "stdout",
     "output_type": "stream",
     "text": [
      "started GA at id 3 with 1 procs\n"
     ]
    },
    {
     "name": "stderr",
     "output_type": "stream",
     "text": [
      "/home/dbharadwaj/anaconda3/envs/clapton/lib/python3.10/site-packages/pygad/pygad.py:1139: UserWarning: The 'delay_after_gen' parameter is deprecated starting from PyGAD 3.3.0. To delay or pause the evolution after each generation, assign a callback function/method to the 'on_generation' parameter to adds some time delay.\n",
      "  warnings.warn(\"The 'delay_after_gen' parameter is deprecated starting from PyGAD 3.3.0. To delay or pause the evolution after each generation, assign a callback function/method to the 'on_generation' parameter to adds some time delay.\")\n"
     ]
    },
    {
     "name": "stdout",
     "output_type": "stream",
     "text": [
      "\n"
     ]
    },
    {
     "name": "stderr",
     "output_type": "stream",
     "text": [
      "/home/dbharadwaj/anaconda3/envs/clapton/lib/python3.10/site-packages/pygad/pygad.py:1139: UserWarning: The 'delay_after_gen' parameter is deprecated starting from PyGAD 3.3.0. To delay or pause the evolution after each generation, assign a callback function/method to the 'on_generation' parameter to adds some time delay.\n",
      "  warnings.warn(\"The 'delay_after_gen' parameter is deprecated starting from PyGAD 3.3.0. To delay or pause the evolution after each generation, assign a callback function/method to the 'on_generation' parameter to adds some time delay.\")\n"
     ]
    },
    {
     "name": "stdout",
     "output_type": "stream",
     "text": [
      "[0, array([0., 0., 0., 0.]), array([3, 3, 0, 2, 3, 3, 2, 3, 2, 1, 1, 2], dtype=object)]\n",
      "[0, array([0., 0., 0., 0.]), array([3, 3, 0, 2, 3, 3, 2, 3, 2, 1, 1, 2], dtype=object)]\n",
      "[0, array([0., 0., 0., 0.]), array([3, 3, 0, 2, 3, 3, 2, 3, 2, 1, 1, 2], dtype=object)]\n",
      "[0, array([0., 0., 0., 0.]), array([3, 3, 0, 2, 3, 3, 2, 3, 2, 1, 1, 2], dtype=object)]\n",
      "[1, array([0., 0., 0., 0.]), array([0, 2, 1, 1, 2, 3, 0, 1, 2, 0, 0, 3], dtype=object)]\n",
      "[1, array([0., 0., 0., 0.]), array([0, 2, 1, 1, 2, 3, 0, 1, 2, 0, 0, 3], dtype=object)]\n",
      "[1, array([0., 0., 0., 0.]), array([0, 2, 1, 1, 2, 3, 0, 1, 2, 0, 0, 3], dtype=object)]\n",
      "[1, array([0., 0., 0., 0.]), array([0, 2, 1, 1, 2, 3, 0, 1, 2, 0, 0, 3], dtype=object)]\n",
      "[2, array([0., 0., 0., 0.]), array([0, 2, 1, 1, 2, 3, 0, 1, 2, 0, 0, 3], dtype=object)]\n",
      "[2, array([0., 0., 0., 0.]), array([0, 2, 1, 1, 2, 3, 0, 1, 2, 0, 0, 3], dtype=object)]\n",
      "[2, array([0., 0., 0., 0.]), array([0, 2, 1, 1, 2, 3, 0, 1, 2, 0, 0, 3], dtype=object)]\n",
      "[2, array([0., 0., 0., 0.]), array([0, 2, 1, 1, 2, 3, 0, 1, 2, 0, 0, 3], dtype=object)]\n",
      "[3, array([0., 0., 0., 0.]), array([1, 3, 0, 1, 0, 1, 0, 3, 3, 3, 0, 3], dtype=object)][3, array([0., 0., 0., 0.]), array([1, 3, 0, 1, 0, 1, 0, 3, 3, 3, 0, 3], dtype=object)]\n",
      "\n",
      "[3, array([0., 0., 0., 0.]), array([1, 3, 0, 1, 0, 1, 0, 3, 3, 3, 0, 3], dtype=object)]\n",
      "[4, array([0., 0., 0., 0.]), array([1, 3, 0, 1, 0, 1, 0, 3, 3, 3, 0, 3], dtype=object)][4, array([0., 0., 0., 0.]), array([1, 3, 0, 1, 0, 1, 0, 3, 3, 3, 0, 3], dtype=object)]\n",
      "\n",
      "[3, array([0., 0., 0., 0.]), array([1, 3, 0, 1, 0, 1, 0, 3, 3, 3, 0, 3], dtype=object)]\n",
      "[4, array([0., 0., 0., 0.]), array([1, 3, 0, 1, 0, 1, 0, 3, 3, 3, 0, 3], dtype=object)]\n",
      "[4, array([0., 0., 0., 0.]), array([1, 3, 0, 1, 0, 1, 0, 3, 3, 3, 0, 3], dtype=object)]\n",
      "[5, array([0., 0., 0., 0.]), array([2, 1, 3, 1, 0, 1, 3, 3, 3, 3, 0, 3], dtype=object)][5, array([0., 0., 0., 0.]), array([2, 1, 3, 1, 0, 1, 3, 3, 3, 3, 0, 3], dtype=object)]\n",
      "\n",
      "[5, array([0., 0., 0., 0.]), array([2, 1, 3, 1, 0, 1, 3, 3, 3, 3, 0, 3], dtype=object)]\n",
      "[6, array([0., 0., 0., 0.]), array([0, 1, 2, 0, 3, 0, 3, 2, 2, 3, 3, 3], dtype=object)]\n",
      "[6, array([0., 0., 0., 0.]), array([0, 1, 2, 0, 3, 0, 3, 2, 2, 3, 3, 3], dtype=object)]\n",
      "[6, array([0., 0., 0., 0.]), array([0, 1, 2, 0, 3, 0, 3, 2, 2, 3, 3, 3], dtype=object)][5, array([0., 0., 0., 0.]), array([2, 1, 3, 1, 0, 1, 3, 3, 3, 3, 0, 3], dtype=object)]\n",
      "\n",
      "[7, array([0., 0., 0., 0.]), array([3, 3, 0, 3, 0, 1, 2, 2, 2, 1, 2, 0], dtype=object)][7, array([0., 0., 0., 0.]), array([3, 3, 0, 3, 0, 1, 2, 2, 2, 1, 2, 0], dtype=object)]\n",
      "\n",
      "[6, array([0., 0., 0., 0.]), array([0, 1, 2, 0, 3, 0, 3, 2, 2, 3, 3, 3], dtype=object)]\n",
      "[7, array([0., 0., 0., 0.]), array([3, 3, 0, 3, 0, 1, 2, 2, 2, 1, 2, 0], dtype=object)]\n",
      "[8, array([0., 0., 0., 0.]), array([3, 3, 0, 3, 0, 1, 2, 2, 2, 1, 2, 0], dtype=object)]\n",
      "[8, array([0., 0., 0., 0.]), array([3, 3, 0, 3, 0, 1, 2, 2, 2, 1, 2, 0], dtype=object)]\n",
      "[8, array([0., 0., 0., 0.]), array([3, 3, 0, 3, 0, 1, 2, 2, 2, 1, 2, 0], dtype=object)]\n",
      "[7, array([0., 0., 0., 0.]), array([3, 3, 0, 3, 0, 1, 2, 2, 2, 1, 2, 0], dtype=object)]\n",
      "[9, array([0., 0., 0., 0.]), array([3, 3, 0, 0, 3, 0, 3, 2, 3, 0, 3, 1], dtype=object)][9, array([0., 0., 0., 0.]), array([3, 3, 0, 0, 3, 0, 3, 2, 3, 0, 3, 1], dtype=object)]\n",
      "\n",
      "[9, array([0., 0., 0., 0.]), array([3, 3, 0, 0, 3, 0, 3, 2, 3, 0, 3, 1], dtype=object)]\n",
      "[10, array([0., 0., 0., 0.]), array([3, 3, 0, 0, 3, 0, 3, 2, 3, 0, 3, 1], dtype=object)][8, array([0., 0., 0., 0.]), array([3, 3, 0, 3, 0, 1, 2, 2, 2, 1, 2, 0], dtype=object)]\n",
      "\n",
      "[10, array([0., 0., 0., 0.]), array([3, 3, 0, 0, 3, 0, 3, 2, 3, 0, 3, 1], dtype=object)]\n",
      "[10, array([0., 0., 0., 0.]), array([3, 3, 0, 0, 3, 0, 3, 2, 3, 0, 3, 1], dtype=object)]\n",
      "[9, array([0., 0., 0., 0.]), array([3, 3, 0, 0, 3, 0, 3, 2, 3, 0, 3, 1], dtype=object)]\n",
      "[11, array([0., 0., 0., 0.]), array([1, 1, 3, 1, 0, 3, 3, 2, 3, 0, 3, 1], dtype=object)][11, array([0., 0., 0., 0.]), array([1, 1, 3, 1, 0, 3, 3, 2, 3, 0, 3, 1], dtype=object)]\n",
      "\n",
      "[11, array([0., 0., 0., 0.]), array([1, 1, 3, 1, 0, 3, 3, 2, 3, 0, 3, 1], dtype=object)]\n",
      "[12, array([0., 0., 0., 0.]), array([1, 3, 0, 1, 0, 3, 0, 2, 3, 3, 3, 2], dtype=object)]\n",
      "[12, array([0., 0., 0., 0.]), array([1, 3, 0, 1, 0, 3, 0, 2, 3, 3, 3, 2], dtype=object)]\n",
      "[10, array([0., 0., 0., 0.]), array([3, 3, 0, 0, 3, 0, 3, 2, 3, 0, 3, 1], dtype=object)]\n",
      "[12, array([0., 0., 0., 0.]), array([1, 3, 0, 1, 0, 3, 0, 2, 3, 3, 3, 2], dtype=object)]\n",
      "[13, array([0., 0., 0., 0.]), array([1, 1, 2, 0, 3, 1, 3, 2, 0, 0, 1, 1], dtype=object)]\n",
      "[13, array([0., 0., 0., 0.]), array([1, 1, 2, 0, 3, 1, 3, 2, 0, 0, 1, 1], dtype=object)]\n",
      "[11, array([0., 0., 0., 0.]), array([1, 1, 3, 1, 0, 3, 3, 2, 3, 0, 3, 1], dtype=object)]\n",
      "[13, array([0., 0., 0., 0.]), array([1, 1, 2, 0, 3, 1, 3, 2, 0, 0, 1, 1], dtype=object)]\n",
      "[14, array([0., 0., 0., 0.]), array([1, 0, 2, 0, 3, 1, 3, 2, 2, 1, 2, 0], dtype=object)]\n",
      "[14, array([0., 0., 0., 0.]), array([1, 0, 2, 0, 3, 1, 3, 2, 2, 1, 2, 0], dtype=object)]\n",
      "[14, array([0., 0., 0., 0.]), array([1, 0, 2, 0, 3, 1, 3, 2, 2, 1, 2, 0], dtype=object)]\n",
      "[12, array([0., 0., 0., 0.]), array([1, 3, 0, 1, 0, 3, 0, 2, 3, 3, 3, 2], dtype=object)]\n",
      "[15, array([0., 0., 0., 0.]), array([1, 1, 3, 1, 0, 1, 3, 2, 3, 0, 1, 1], dtype=object)]\n",
      "[15, array([0., 0., 0., 0.]), array([1, 1, 3, 1, 0, 1, 3, 2, 3, 0, 1, 1], dtype=object)]\n",
      "[15, array([0., 0., 0., 0.]), array([1, 1, 3, 1, 0, 1, 3, 2, 3, 0, 1, 1], dtype=object)]\n",
      "[13, array([0., 0., 0., 0.]), array([1, 1, 2, 0, 3, 1, 3, 2, 0, 0, 1, 1], dtype=object)]\n",
      "[16, array([0., 0., 0., 0.]), array([1, 1, 3, 1, 0, 1, 3, 2, 3, 0, 1, 1], dtype=object)]\n",
      "[16, array([0., 0., 0., 0.]), array([1, 1, 3, 1, 0, 1, 3, 2, 3, 0, 1, 1], dtype=object)]\n",
      "[16, array([0., 0., 0., 0.]), array([1, 1, 3, 1, 0, 1, 3, 2, 3, 0, 1, 1], dtype=object)]\n",
      "[17, array([0., 0., 0., 0.]), array([1, 1, 3, 0, 0, 0, 3, 2, 3, 0, 2, 0], dtype=object)]\n",
      "[14, array([0., 0., 0., 0.]), array([1, 0, 2, 0, 3, 1, 3, 2, 2, 1, 2, 0], dtype=object)]\n",
      "[17, array([0., 0., 0., 0.]), array([1, 1, 3, 0, 0, 0, 3, 2, 3, 0, 2, 0], dtype=object)]\n",
      "[17, array([0., 0., 0., 0.]), array([1, 1, 3, 0, 0, 0, 3, 2, 3, 0, 2, 0], dtype=object)]\n",
      "\n",
      "[18, array([0., 0., 0., 0.]), array([1, 1, 3, 0, 0, 1, 3, 2, 3, 0, 1, 0], dtype=object)][18, array([0., 0., 0., 0.]), array([1, 1, 3, 0, 0, 1, 3, 2, 3, 0, 1, 0], dtype=object)]\n",
      "[15, array([0., 0., 0., 0.]), array([1, 1, 3, 1, 0, 1, 3, 2, 3, 0, 1, 1], dtype=object)]\n",
      "[18, array([0., 0., 0., 0.]), array([1, 1, 3, 0, 0, 1, 3, 2, 3, 0, 1, 0], dtype=object)]\n",
      "[19, array([0., 0., 0., 0.]), array([1, 1, 0, 0, 0, 1, 3, 2, 3, 0, 3, 2], dtype=object)]\n",
      "[19, array([0., 0., 0., 0.]), array([1, 1, 0, 0, 0, 1, 3, 2, 3, 0, 3, 2], dtype=object)]\n",
      "[16, array([0., 0., 0., 0.]), array([1, 1, 3, 1, 0, 1, 3, 2, 3, 0, 1, 1], dtype=object)]\n",
      "[19, array([0., 0., 0., 0.]), array([1, 1, 0, 0, 0, 1, 3, 2, 3, 0, 3, 2], dtype=object)]\n",
      "[20, array([0., 0., 0., 0.]), array([1, 1, 0, 0, 0, 1, 3, 2, 3, 0, 3, 2], dtype=object)]\n",
      "[20, array([0., 0., 0., 0.]), array([1, 1, 0, 0, 0, 1, 3, 2, 3, 0, 3, 2], dtype=object)]\n",
      "[17, array([0., 0., 0., 0.]), array([1, 1, 3, 0, 0, 0, 3, 2, 3, 0, 2, 0], dtype=object)]\n",
      "[20, array([0., 0., 0., 0.]), array([1, 1, 0, 0, 0, 1, 3, 2, 3, 0, 3, 2], dtype=object)]\n",
      "[21, array([0., 0., 0., 0.]), array([1, 1, 3, 0, 0, 0, 3, 2, 3, 0, 3, 2], dtype=object)]\n",
      "[21, array([0., 0., 0., 0.]), array([1, 1, 3, 0, 0, 0, 3, 2, 3, 0, 3, 2], dtype=object)]\n",
      "[18, array([0., 0., 0., 0.]), array([1, 1, 3, 0, 0, 1, 3, 2, 3, 0, 1, 0], dtype=object)]\n",
      "[22, array([0., 0., 0., 0.]), array([1, 1, 3, 0, 0, 0, 3, 2, 3, 0, 3, 2], dtype=object)]\n",
      "[21, array([0., 0., 0., 0.]), array([1, 1, 3, 0, 0, 0, 3, 2, 3, 0, 3, 2], dtype=object)]\n",
      "[22, array([0., 0., 0., 0.]), array([1, 1, 3, 0, 0, 0, 3, 2, 3, 0, 3, 2], dtype=object)]\n",
      "[22, array([0., 0., 0., 0.]), array([1, 1, 3, 0, 0, 0, 3, 2, 3, 0, 3, 2], dtype=object)][19, array([0., 0., 0., 0.]), array([1, 1, 0, 0, 0, 1, 3, 2, 3, 0, 3, 2], dtype=object)]\n",
      "\n",
      "[23, array([0., 0., 0., 0.]), array([1, 1, 3, 0, 0, 1, 3, 2, 3, 0, 2, 0], dtype=object)]\n",
      "[23, array([0., 0., 0., 0.]), array([1, 1, 3, 0, 0, 1, 3, 2, 3, 0, 2, 0], dtype=object)]\n",
      "[20, array([0., 0., 0., 0.]), array([1, 1, 0, 0, 0, 1, 3, 2, 3, 0, 3, 2], dtype=object)]\n",
      "[24, array([0., 0., 0., 0.]), array([1, 3, 0, 0, 0, 0, 2, 1, 0, 0, 1, 1], dtype=object)][23, array([0., 0., 0., 0.]), array([1, 1, 3, 0, 0, 1, 3, 2, 3, 0, 2, 0], dtype=object)]\n",
      "\n",
      "[24, array([0., 0., 0., 0.]), array([1, 3, 0, 0, 0, 0, 2, 1, 0, 0, 1, 1], dtype=object)]\n",
      "[24, array([0., 0., 0., 0.]), array([1, 3, 0, 0, 0, 0, 2, 1, 0, 0, 1, 1], dtype=object)]\n",
      "[21, array([0., 0., 0., 0.]), array([1, 1, 3, 0, 0, 0, 3, 2, 3, 0, 3, 2], dtype=object)]\n",
      "[25, array([0., 0., 0., 0.]), array([2, 3, 3, 0, 0, 1, 3, 2, 3, 0, 1, 0], dtype=object)]\n",
      "[25, array([0., 0., 0., 0.]), array([2, 3, 3, 0, 0, 1, 3, 2, 3, 0, 1, 0], dtype=object)]\n",
      "[25, array([0., 0., 0., 0.]), array([2, 3, 3, 0, 0, 1, 3, 2, 3, 0, 1, 0], dtype=object)]\n",
      "[26, array([0., 0., 0., 0.]), array([2, 3, 3, 0, 0, 1, 3, 2, 3, 0, 1, 0], dtype=object)]\n",
      "[22, array([0., 0., 0., 0.]), array([1, 1, 3, 0, 0, 0, 3, 2, 3, 0, 3, 2], dtype=object)]\n",
      "[26, array([0., 0., 0., 0.]), array([2, 3, 3, 0, 0, 1, 3, 2, 3, 0, 1, 0], dtype=object)]\n",
      "[26, array([0., 0., 0., 0.]), array([2, 3, 3, 0, 0, 1, 3, 2, 3, 0, 1, 0], dtype=object)]\n",
      "[27, array([0., 0., 0., 0.]), array([2, 3, 3, 0, 0, 0, 2, 2, 3, 0, 2, 0], dtype=object)]\n",
      "[23, array([0., 0., 0., 0.]), array([1, 1, 3, 0, 0, 1, 3, 2, 3, 0, 2, 0], dtype=object)]\n",
      "[27, array([0., 0., 0., 0.]), array([2, 3, 3, 0, 0, 0, 2, 2, 3, 0, 2, 0], dtype=object)]\n",
      "[27, array([0., 0., 0., 0.]), array([2, 3, 3, 0, 0, 0, 2, 2, 3, 0, 2, 0], dtype=object)]\n",
      "[28, array([0., 0., 0., 0.]), array([2, 3, 3, 0, 0, 0, 2, 2, 3, 0, 2, 0], dtype=object)]\n",
      "[24, array([0., 0., 0., 0.]), array([1, 3, 0, 0, 0, 0, 2, 1, 0, 0, 1, 1], dtype=object)]\n",
      "[28, array([0., 0., 0., 0.]), array([2, 3, 3, 0, 0, 0, 2, 2, 3, 0, 2, 0], dtype=object)]\n",
      "[28, array([0., 0., 0., 0.]), array([2, 3, 3, 0, 0, 0, 2, 2, 3, 0, 2, 0], dtype=object)]\n",
      "[29, array([0., 0., 0., 0.]), array([2, 3, 1, 0, 0, 1, 3, 2, 3, 0, 3, 1], dtype=object)]\n",
      "[25, array([0., 0., 0., 0.]), array([2, 3, 3, 0, 0, 1, 3, 2, 3, 0, 1, 0], dtype=object)]\n",
      "[29, array([0., 0., 0., 0.]), array([2, 3, 1, 0, 0, 1, 3, 2, 3, 0, 3, 1], dtype=object)]\n",
      "[29, array([0., 0., 0., 0.]), array([2, 3, 1, 0, 0, 1, 3, 2, 3, 0, 3, 1], dtype=object)]\n",
      "[30, array([0., 0., 0., 0.]), array([1, 1, 0, 0, 0, 0, 2, 2, 3, 0, 2, 0], dtype=object)]\n",
      "[30, array([0., 0., 0., 0.]), array([1, 1, 0, 0, 0, 0, 2, 2, 3, 0, 2, 0], dtype=object)][26, array([0., 0., 0., 0.]), array([2, 3, 3, 0, 0, 1, 3, 2, 3, 0, 1, 0], dtype=object)]\n",
      "\n",
      "[30, array([0., 0., 0., 0.]), array([1, 1, 0, 0, 0, 0, 2, 2, 3, 0, 2, 0], dtype=object)]\n",
      "[31, array([0., 0., 0., 0.]), array([2, 3, 3, 0, 0, 0, 3, 2, 3, 0, 2, 1], dtype=object)]\n",
      "[31, array([0., 0., 0., 0.]), array([2, 3, 3, 0, 0, 0, 3, 2, 3, 0, 2, 1], dtype=object)]\n",
      "[27, array([0., 0., 0., 0.]), array([2, 3, 3, 0, 0, 0, 2, 2, 3, 0, 2, 0], dtype=object)]\n",
      "[31, array([0., 0., 0., 0.]), array([2, 3, 3, 0, 0, 0, 3, 2, 3, 0, 2, 1], dtype=object)]\n",
      "[32, array([0., 0., 0., 0.]), array([2, 3, 3, 0, 0, 0, 3, 2, 3, 0, 2, 1], dtype=object)]\n",
      "[32, array([0., 0., 0., 0.]), array([2, 3, 3, 0, 0, 0, 3, 2, 3, 0, 2, 1], dtype=object)]\n",
      "[28, array([0., 0., 0., 0.]), array([2, 3, 3, 0, 0, 0, 2, 2, 3, 0, 2, 0], dtype=object)]\n",
      "[32, array([0., 0., 0., 0.]), array([2, 3, 3, 0, 0, 0, 3, 2, 3, 0, 2, 1], dtype=object)]\n",
      "[33, array([0., 0., 0., 0.]), array([1, 2, 0, 0, 0, 1, 3, 2, 3, 0, 2, 0], dtype=object)]\n",
      "[33, array([0., 0., 0., 0.]), array([1, 2, 0, 0, 0, 1, 3, 2, 3, 0, 2, 0], dtype=object)]\n",
      "[29, array([0., 0., 0., 0.]), array([2, 3, 1, 0, 0, 1, 3, 2, 3, 0, 3, 1], dtype=object)]\n",
      "[33, array([0., 0., 0., 0.]), array([1, 2, 0, 0, 0, 1, 3, 2, 3, 0, 2, 0], dtype=object)]\n",
      "[34, array([0., 0., 0., 0.]), array([1, 2, 0, 0, 2, 1, 3, 2, 3, 0, 2, 0], dtype=object)]\n",
      "[34, array([0., 0., 0., 0.]), array([1, 2, 0, 0, 2, 1, 3, 2, 3, 0, 2, 0], dtype=object)]\n",
      "[30, array([0., 0., 0., 0.]), array([1, 1, 0, 0, 0, 0, 2, 2, 3, 0, 2, 0], dtype=object)]\n",
      "[34, array([0., 0., 0., 0.]), array([1, 2, 0, 0, 2, 1, 3, 2, 3, 0, 2, 0], dtype=object)]\n",
      "[35, array([0., 0., 0., 0.]), array([1, 2, 0, 0, 0, 1, 3, 2, 3, 0, 2, 1], dtype=object)]\n",
      "[35, array([0., 0., 0., 0.]), array([1, 2, 0, 0, 0, 1, 3, 2, 3, 0, 2, 1], dtype=object)]\n",
      "[35, array([0., 0., 0., 0.]), array([1, 2, 0, 0, 0, 1, 3, 2, 3, 0, 2, 1], dtype=object)]\n",
      "[31, array([0., 0., 0., 0.]), array([2, 3, 3, 0, 0, 0, 3, 2, 3, 0, 2, 1], dtype=object)]\n",
      "[36, array([0., 0., 0., 0.]), array([1, 2, 0, 0, 0, 1, 3, 2, 3, 0, 2, 1], dtype=object)]\n",
      "[36, array([0., 0., 0., 0.]), array([1, 2, 0, 0, 0, 1, 3, 2, 3, 0, 2, 1], dtype=object)]\n",
      "[36, array([0., 0., 0., 0.]), array([1, 2, 0, 0, 0, 1, 3, 2, 3, 0, 2, 1], dtype=object)]\n",
      "[32, array([0., 0., 0., 0.]), array([2, 3, 3, 0, 0, 0, 3, 2, 3, 0, 2, 1], dtype=object)]\n",
      "[37, array([0., 0., 0., 0.]), array([1, 2, 0, 0, 0, 0, 2, 2, 3, 0, 2, 1], dtype=object)][37, array([0., 0., 0., 0.]), array([1, 2, 0, 0, 0, 0, 2, 2, 3, 0, 2, 1], dtype=object)]\n",
      "\n",
      "[37, array([0., 0., 0., 0.]), array([1, 2, 0, 0, 0, 0, 2, 2, 3, 0, 2, 1], dtype=object)]\n",
      "[33, array([0., 0., 0., 0.]), array([1, 2, 0, 0, 0, 1, 3, 2, 3, 0, 2, 0], dtype=object)]\n",
      "[38, array([0., 0., 0., 0.]), array([1, 2, 0, 0, 0, 0, 2, 2, 3, 3, 2, 1], dtype=object)][38, array([0., 0., 0., 0.]), array([1, 2, 0, 0, 0, 0, 2, 2, 3, 3, 2, 1], dtype=object)]\n",
      "\n",
      "[38, array([0., 0., 0., 0.]), array([1, 2, 0, 0, 0, 0, 2, 2, 3, 3, 2, 1], dtype=object)]\n",
      "[34, array([0., 0., 0., 0.]), array([1, 2, 0, 0, 2, 1, 3, 2, 3, 0, 2, 0], dtype=object)]\n",
      "[39, array([0., 0., 0., 0.]), array([1, 2, 0, 0, 0, 1, 3, 2, 3, 3, 3, 1], dtype=object)][39, array([0., 0., 0., 0.]), array([1, 2, 0, 0, 0, 1, 3, 2, 3, 3, 3, 1], dtype=object)]\n",
      "\n",
      "[39, array([0., 0., 0., 0.]), array([1, 2, 0, 0, 0, 1, 3, 2, 3, 3, 3, 1], dtype=object)]\n",
      "[35, array([0., 0., 0., 0.]), array([1, 2, 0, 0, 0, 1, 3, 2, 3, 0, 2, 1], dtype=object)]\n",
      "[40, array([0., 0., 0., 0.]), array([0, 2, 0, 0, 0, 0, 2, 2, 3, 0, 2, 3], dtype=object)]\n",
      "[40, array([0., 0., 0., 0.]), array([0, 2, 0, 0, 0, 0, 2, 2, 3, 0, 2, 3], dtype=object)]\n",
      "[40, array([0., 0., 0., 0.]), array([0, 2, 0, 0, 0, 0, 2, 2, 3, 0, 2, 3], dtype=object)]\n",
      "[36, array([0., 0., 0., 0.]), array([1, 2, 0, 0, 0, 1, 3, 2, 3, 0, 2, 1], dtype=object)]\n",
      "[37, array([0., 0., 0., 0.]), array([1, 2, 0, 0, 0, 0, 2, 2, 3, 0, 2, 1], dtype=object)]\n",
      "[38, array([0., 0., 0., 0.]), array([1, 2, 0, 0, 0, 0, 2, 2, 3, 3, 2, 1], dtype=object)]\n",
      "[39, array([0., 0., 0., 0.]), array([1, 2, 0, 0, 0, 1, 3, 2, 3, 3, 3, 1], dtype=object)]\n",
      "[40, array([0., 0., 0., 0.]), array([0, 2, 0, 0, 0, 0, 2, 2, 3, 0, 2, 3], dtype=object)]\n"
     ]
    }
   ],
   "source": [
    "# we can perform CAFQA by using the main optimization function \"claptonize\"\n",
    "ks_best, _, energy_best = claptonize(\n",
    "    paulis,\n",
    "    coeffs,\n",
    "    vqe_pcirc,\n",
    "    n_proc=4,           # total number of processes in parallel\n",
    "    n_starts=4,         # number of random genetic algorithm starts in parallel\n",
    "    n_rounds=1,         # number of budget rounds, if None it will terminate itself\n",
    "    callback=print,     # callback for internal parameter (#iteration, energies, ks) processing\n",
    "    budget=20           # budget per genetic algorithm instance\n",
    ")"
   ]
  },
  {
   "cell_type": "code",
   "execution_count": 11,
   "metadata": {},
   "outputs": [
    {
     "data": {
      "text/plain": [
       "[1, 2, 0, 0, 0, 0, 3, 2, 3, 0, 3, 0]"
      ]
     },
     "execution_count": 11,
     "metadata": {},
     "output_type": "execute_result"
    }
   ],
   "source": [
    "# the best parameters are\n",
    "ks_best"
   ]
  },
  {
   "cell_type": "code",
   "execution_count": 12,
   "metadata": {},
   "outputs": [
    {
     "data": {
      "text/plain": [
       "0.0"
      ]
     },
     "execution_count": 12,
     "metadata": {},
     "output_type": "execute_result"
    }
   ],
   "source": [
    "# with energy\n",
    "energy_best"
   ]
  },
  {
   "cell_type": "code",
   "execution_count": 13,
   "metadata": {},
   "outputs": [
    {
     "data": {
      "text/html": [
       "<pre>q0: -SQRT_Y-I-X-@-SQRT_Y_DAG-I----------------\n",
       "              | |\n",
       "q1: -Y------I-|-X-@----------Y----------S_DAG-\n",
       "              |   |\n",
       "q2: -I------I-@---X----------SQRT_Y_DAG-I-----</pre>"
      ],
      "text/plain": [
       "q0: -SQRT_Y-I-X-@-SQRT_Y_DAG-I----------------\n",
       "              | |\n",
       "q1: -Y------I-|-X-@----------Y----------S_DAG-\n",
       "              |   |\n",
       "q2: -I------I-@---X----------SQRT_Y_DAG-I-----"
      ]
     },
     "execution_count": 13,
     "metadata": {},
     "output_type": "execute_result"
    }
   ],
   "source": [
    "# the corresponding circuit is\n",
    "vqe_pcirc.assign(ks_best)\n",
    "vqe_pcirc.stim_circuit().diagram()"
   ]
  },
  {
   "cell_type": "markdown",
   "metadata": {},
   "source": [
    "# noisy CAFQA (nCAFQA)"
   ]
  },
  {
   "cell_type": "code",
   "execution_count": 14,
   "metadata": {},
   "outputs": [],
   "source": [
    "from clapton.depolarization import GateGeneralDepolarizationModel"
   ]
  },
  {
   "cell_type": "code",
   "execution_count": 15,
   "metadata": {},
   "outputs": [],
   "source": [
    "# let's add a noise model where we specify global 1q and 2q gate errors\n",
    "nm = GateGeneralDepolarizationModel(p1=0.005, p2=0.1) #NOTE: This is the Noise Model, not representative of device noise"
   ]
  },
  {
   "cell_type": "code",
   "execution_count": 16,
   "metadata": {},
   "outputs": [
    {
     "data": {
      "text/plain": [
       "<clapton.clifford.ParametrizedCliffordCircuit at 0x7fef107a2170>"
      ]
     },
     "execution_count": 16,
     "metadata": {},
     "output_type": "execute_result"
    }
   ],
   "source": [
    "vqe_pcirc = circular_ansatz(N=len(paulis[0]), reps=1, fix_2q=True)\n",
    "vqe_pcirc.add_depolarization_model(nm)"
   ]
  },
  {
   "cell_type": "code",
   "execution_count": 17,
   "metadata": {},
   "outputs": [
    {
     "data": {
      "text/html": [
       "<pre>q0: -I-DEPOLARIZE1(0.005)--------------------I------------------DEPOLARIZE1(0.005)---------------------------------------X-DEPOLARIZE2(0.1)-@-DEPOLARIZE2(0.1)---I----------------DEPOLARIZE1(0.005)--------------------I------------------DEPOLARIZE1(0.005)---------------------------------------\n",
       "                                                                                                                         | |                | |\n",
       "q1: ---I------------------DEPOLARIZE1(0.005)--------------------I------------------DEPOLARIZE1(0.005)--------------------|-|----------------X-DEPOLARIZE2(0.1)-@-DEPOLARIZE2(0.1)-I------------------DEPOLARIZE1(0.005)--------------------I------------------DEPOLARIZE1(0.005)--------------------\n",
       "                                                                                                                         | |                                   | |\n",
       "q2: ----------------------I------------------DEPOLARIZE1(0.005)--------------------I------------------DEPOLARIZE1(0.005)-@-DEPOLARIZE2(0.1)--------------------X-DEPOLARIZE2(0.1)--------------------I------------------DEPOLARIZE1(0.005)--------------------I------------------DEPOLARIZE1(0.005)-</pre>"
      ],
      "text/plain": [
       "q0: -I-DEPOLARIZE1(0.005)--------------------I------------------DEPOLARIZE1(0.005)---------------------------------------X-DEPOLARIZE2(0.1)-@-DEPOLARIZE2(0.1)---I----------------DEPOLARIZE1(0.005)--------------------I------------------DEPOLARIZE1(0.005)---------------------------------------\n",
       "                                                                                                                         | |                | |\n",
       "q1: ---I------------------DEPOLARIZE1(0.005)--------------------I------------------DEPOLARIZE1(0.005)--------------------|-|----------------X-DEPOLARIZE2(0.1)-@-DEPOLARIZE2(0.1)-I------------------DEPOLARIZE1(0.005)--------------------I------------------DEPOLARIZE1(0.005)--------------------\n",
       "                                                                                                                         | |                                   | |\n",
       "q2: ----------------------I------------------DEPOLARIZE1(0.005)--------------------I------------------DEPOLARIZE1(0.005)-@-DEPOLARIZE2(0.1)--------------------X-DEPOLARIZE2(0.1)--------------------I------------------DEPOLARIZE1(0.005)--------------------I------------------DEPOLARIZE1(0.005)-"
      ]
     },
     "execution_count": 17,
     "metadata": {},
     "output_type": "execute_result"
    }
   ],
   "source": [
    "# after every gate a depol channel is added\n",
    "vqe_pcirc.stim_circuit().diagram()"
   ]
  },
  {
   "cell_type": "code",
   "execution_count": 18,
   "metadata": {},
   "outputs": [
    {
     "name": "stdout",
     "output_type": "stream",
     "text": [
      "STARTING ROUND 0\n",
      "\n",
      "\n",
      "started GA at id 1 with 1 procs\n",
      "\n",
      "started GA at id 2 with 1 procs\n",
      "\n",
      "\n",
      "started GA at id None with 1 procs\n",
      "\n",
      "started GA at id 3 with 1 procs\n",
      "[0, array([-0.02762743, -0.02762743,  0.        ,  0.        ]), array([3, 3, 3, 0, 3, 2, 1, 2, 2, 0, 3, 3], dtype=object)]\n",
      "[0, array([-0.03150593, -0.03150593,  0.        ,  0.        ]), array([1, 2, 2, 2, 2, 0, 2, 0, 0, 2, 1, 1], dtype=object)]\n",
      "[0, array([-0.04664404, -0.04664404,  0.        ,  0.        ]), array([2, 2, 3, 2, 1, 1, 0, 0, 3, 3, 3, 1], dtype=object)]\n",
      "[0, array([-0.03341862, -0.03341862,  0.        ,  0.        ]), array([1, 2, 0, 1, 1, 0, 1, 0, 0, 2, 2, 0], dtype=object)]\n",
      "[1, array([-0.03583461, -0.03583461,  0.        ,  0.        ]), array([2, 3, 2, 2, 3, 0, 0, 3, 3, 0, 0, 3], dtype=object)]\n",
      "[1, array([-0.03560219, -0.03560219,  0.        ,  0.        ]), array([0, 2, 1, 1, 2, 3, 0, 1, 1, 2, 1, 3], dtype=object)]\n",
      "[1, array([-0.03794829, -0.03794829,  0.        ,  0.        ]), array([2, 3, 2, 2, 3, 0, 0, 3, 3, 2, 1, 0], dtype=object)]\n",
      "[1, array([-0.04075471, -0.04075471,  0.        ,  0.        ]), array([0, 2, 2, 1, 3, 1, 2, 1, 3, 2, 0, 3], dtype=object)]\n",
      "[2, array([-0.03356248, -0.03356248,  0.        ,  0.        ]), array([2, 1, 3, 1, 0, 0, 1, 2, 2, 2, 0, 3], dtype=object)]\n",
      "[2, array([-0.03327886, -0.03327886,  0.        ,  0.        ]), array([0, 3, 0, 0, 0, 1, 0, 3, 0, 3, 1, 3], dtype=object)]\n",
      "[2, array([-0.04392206, -0.04392206,  0.        ,  0.        ]), array([3, 3, 0, 3, 3, 0, 1, 1, 2, 3, 0, 0], dtype=object)]\n",
      "[2, array([-0.0346497, -0.0346497,  0.       ,  0.       ]), array([2, 0, 1, 2, 0, 3, 1, 0, 1, 2, 0, 0], dtype=object)]\n",
      "[3, array([-0.02338146, -0.02338146,  0.        ,  0.        ]), array([1, 1, 1, 3, 0, 0, 2, 2, 3, 0, 0, 3], dtype=object)]\n",
      "[3, array([-0.0244806, -0.0244806,  0.       ,  0.       ]), array([2, 1, 1, 3, 2, 3, 2, 0, 3, 0, 0, 3], dtype=object)]\n",
      "[3, array([-0.03279863, -0.03279863,  0.        ,  0.        ]), array([3, 3, 2, 3, 3, 1, 1, 2, 1, 3, 2, 0], dtype=object)]\n",
      "[3, array([-0.03761335, -0.03761335,  0.        ,  0.        ]), array([2, 2, 3, 2, 0, 3, 1, 0, 1, 2, 0, 0], dtype=object)]\n",
      "[4, array([-0.03596741, -0.03596741,  0.        ,  0.        ]), array([2, 2, 0, 3, 1, 0, 3, 2, 2, 0, 3, 3], dtype=object)]\n",
      "[4, array([-0.03852422, -0.03852422,  0.        ,  0.        ]), array([0, 2, 2, 2, 3, 1, 0, 0, 3, 3, 0, 1], dtype=object)]\n",
      "[4, array([-0.02998685, -0.02998685,  0.        ,  0.        ]), array([2, 3, 2, 2, 3, 0, 3, 0, 1, 1, 2, 3], dtype=object)]\n",
      "[4, array([-0.04177461, -0.04177461,  0.        ,  0.        ]), array([1, 1, 0, 3, 1, 1, 1, 2, 0, 1, 3, 3], dtype=object)]\n",
      "[5, array([-0.03534674, -0.03534674,  0.        ,  0.        ]), array([3, 2, 3, 1, 0, 0, 1, 2, 2, 0, 1, 3], dtype=object)]\n",
      "[5, array([-0.03848973, -0.03848973,  0.        ,  0.        ]), array([2, 3, 2, 0, 2, 3, 3, 1, 2, 3, 1, 1], dtype=object)]\n",
      "[5, array([-0.03649596, -0.03649596,  0.        ,  0.        ]), array([1, 2, 2, 1, 0, 3, 3, 0, 0, 2, 3, 0], dtype=object)]\n",
      "[5, array([-0.02846762, -0.02846762,  0.        ,  0.        ]), array([1, 3, 3, 0, 3, 2, 1, 0, 2, 0, 0, 3], dtype=object)]\n",
      "[6, array([-0.03640552, -0.03640552,  0.        ,  0.        ]), array([2, 0, 2, 2, 2, 0, 0, 3, 1, 3, 0, 0], dtype=object)]\n",
      "[6, array([-0.03607436, -0.03607436,  0.        ,  0.        ]), array([3, 0, 2, 2, 3, 0, 2, 0, 3, 3, 0, 0], dtype=object)]\n",
      "[6, array([-0.03773714, -0.03773714,  0.        ,  0.        ]), array([1, 2, 2, 1, 0, 3, 1, 0, 1, 2, 0, 0], dtype=object)]\n",
      "[6, array([-0.02608342, -0.02608342,  0.        ,  0.        ]), array([1, 2, 3, 3, 3, 2, 1, 2, 2, 0, 3, 3], dtype=object)]\n",
      "[7, array([-0.02791158, -0.02791158,  0.        ,  0.        ]), array([3, 3, 3, 0, 3, 2, 1, 3, 3, 0, 1, 2], dtype=object)]\n",
      "[7, array([-0.03610936, -0.03610936,  0.        ,  0.        ]), array([3, 2, 2, 3, 3, 2, 0, 0, 0, 2, 1, 1], dtype=object)]\n",
      "[7, array([-0.03937867, -0.03937867,  0.        ,  0.        ]), array([3, 1, 2, 2, 0, 1, 0, 2, 2, 3, 3, 2], dtype=object)]\n",
      "[7, array([-0.0329386, -0.0329386,  0.       ,  0.       ]), array([2, 1, 1, 0, 3, 0, 0, 3, 0, 3, 0, 2], dtype=object)]\n",
      "[8, array([-0.02454292, -0.02454292,  0.        ,  0.        ]), array([1, 1, 2, 0, 3, 0, 0, 0, 0, 2, 1, 0], dtype=object)]\n",
      "[8, array([-0.03648807, -0.03648807,  0.        ,  0.        ]), array([3, 1, 3, 2, 0, 0, 2, 2, 3, 0, 1, 2], dtype=object)][8, array([-0.03882936, -0.03882936,  0.        ,  0.        ]), array([3, 1, 2, 2, 0, 1, 0, 2, 2, 3, 3, 2], dtype=object)]\n",
      "\n",
      "[8, array([-0.0344248, -0.0344248,  0.       ,  0.       ]), array([3, 3, 0, 0, 3, 3, 0, 3, 0, 0, 2, 0], dtype=object)]\n",
      "[9, array([-0.02593485, -0.02593485,  0.        ,  0.        ]), array([0, 3, 2, 1, 3, 0, 0, 0, 0, 2, 2, 0], dtype=object)]\n",
      "[9, array([-0.03447122, -0.03447122,  0.        ,  0.        ]), array([2, 3, 3, 3, 2, 3, 2, 2, 3, 0, 3, 3], dtype=object)]\n",
      "[9, array([-0.03522612, -0.03522612,  0.        ,  0.        ]), array([2, 2, 1, 3, 3, 3, 0, 0, 1, 0, 1, 3], dtype=object)]\n",
      "[9, array([-0.02924126, -0.02924126,  0.        ,  0.        ]), array([2, 3, 2, 3, 3, 2, 1, 2, 2, 0, 3, 3], dtype=object)]\n",
      "[10, array([-0.03414035, -0.03414035,  0.        ,  0.        ]), array([1, 2, 2, 1, 3, 1, 1, 0, 0, 3, 2, 2], dtype=object)]\n",
      "[10, array([-0.03797718, -0.03797718,  0.        ,  0.        ]), array([1, 1, 2, 0, 2, 3, 1, 0, 1, 3, 2, 0], dtype=object)]\n",
      "[10, array([-0.0292532, -0.0292532,  0.       ,  0.       ]), array([2, 0, 1, 3, 2, 2, 0, 2, 3, 1, 1, 0], dtype=object)]\n",
      "[10, array([-0.03160885, -0.03160885,  0.        ,  0.        ]), array([2, 3, 1, 1, 1, 2, 1, 1, 1, 3, 3, 2], dtype=object)]\n",
      "[11, array([-0.02996248, -0.02996248,  0.        ,  0.        ]), array([3, 0, 0, 3, 3, 2, 3, 2, 3, 2, 2, 0], dtype=object)]\n",
      "[11, array([-0.03775816, -0.03775816,  0.        ,  0.        ]), array([1, 2, 2, 1, 0, 0, 3, 3, 1, 0, 0, 3], dtype=object)]\n",
      "[11, array([-0.03698473, -0.03698473,  0.        ,  0.        ]), array([2, 1, 3, 0, 3, 3, 0, 0, 1, 0, 1, 0], dtype=object)]\n",
      "[11, array([-0.02173297, -0.02173297,  0.        ,  0.        ]), array([3, 2, 3, 0, 2, 1, 3, 2, 2, 0, 3, 3], dtype=object)]\n",
      "[12, array([-0.04556556, -0.04556556,  0.        ,  0.        ]), array([1, 2, 2, 0, 3, 3, 0, 1, 1, 2, 2, 1], dtype=object)]\n",
      "[12, array([-0.02907751, -0.02907751,  0.        ,  0.        ]), array([2, 2, 2, 2, 1, 2, 1, 0, 1, 1, 0, 3], dtype=object)]\n",
      "[12, array([-0.03400951, -0.03400951,  0.        ,  0.        ]), array([3, 0, 3, 0, 1, 3, 1, 0, 0, 2, 1, 2], dtype=object)]\n",
      "[12, array([-0.03133851, -0.03133851,  0.        ,  0.        ]), array([0, 3, 3, 2, 2, 3, 1, 2, 1, 3, 1, 3], dtype=object)]\n",
      "[13, array([-0.03227542, -0.03227542,  0.        ,  0.        ]), array([1, 3, 2, 0, 3, 1, 0, 0, 0, 2, 1, 3], dtype=object)]\n",
      "[13, array([-0.0268598, -0.0268598,  0.       ,  0.       ]), array([1, 2, 2, 0, 2, 3, 1, 0, 1, 3, 2, 0], dtype=object)]\n",
      "[13, array([-0.03634876, -0.03634876,  0.        ,  0.        ]), array([1, 0, 2, 2, 2, 0, 1, 0, 1, 0, 0, 0], dtype=object)]\n",
      "[13, array([-0.04575104, -0.04575104,  0.        ,  0.        ]), array([2, 1, 1, 0, 3, 0, 0, 0, 2, 2, 3, 1], dtype=object)]\n",
      "[14, array([-0.04908349, -0.04908349,  0.        ,  0.        ]), array([2, 2, 2, 1, 3, 0, 0, 0, 0, 1, 1, 1], dtype=object)]\n",
      "[14, array([-0.02591892, -0.02591892,  0.        ,  0.        ]), array([1, 2, 1, 3, 2, 3, 1, 0, 1, 3, 2, 3], dtype=object)]\n",
      "[14, array([-0.03851226, -0.03851226,  0.        ,  0.        ]), array([3, 3, 3, 3, 0, 0, 0, 3, 1, 3, 0, 2], dtype=object)]\n",
      "[14, array([-0.03501255, -0.03501255,  0.        ,  0.        ]), array([2, 1, 1, 1, 0, 1, 3, 2, 1, 3, 3, 3], dtype=object)]\n",
      "[15, array([-0.0302459, -0.0302459,  0.       ,  0.       ]), array([2, 3, 0, 3, 3, 0, 1, 1, 2, 3, 0, 0], dtype=object)]\n",
      "[15, array([-0.02886824, -0.02886824,  0.        ,  0.        ]), array([3, 2, 2, 1, 3, 2, 1, 0, 1, 2, 0, 0], dtype=object)]\n",
      "[15, array([-0.04324011, -0.04324011,  0.        ,  0.        ]), array([3, 2, 2, 3, 2, 0, 3, 2, 2, 0, 3, 3], dtype=object)]\n",
      "[15, array([-0.03436785, -0.03436785,  0.        ,  0.        ]), array([3, 1, 0, 0, 3, 0, 1, 0, 2, 2, 2, 3], dtype=object)]\n",
      "[16, array([-0.03112202, -0.03112202,  0.        ,  0.        ]), array([1, 2, 2, 2, 3, 0, 2, 0, 3, 3, 0, 0], dtype=object)]\n",
      "[16, array([-0.02301691, -0.02301691,  0.        ,  0.        ]), array([2, 2, 1, 2, 1, 1, 0, 0, 0, 0, 1, 3], dtype=object)]\n",
      "[16, array([-0.03565655, -0.03565655,  0.        ,  0.        ]), array([2, 0, 2, 2, 2, 2, 0, 3, 1, 3, 0, 0], dtype=object)]\n",
      "[16, array([-0.02357413, -0.02357413,  0.        ,  0.        ]), array([0, 3, 3, 2, 2, 3, 1, 0, 0, 2, 2, 0], dtype=object)]\n",
      "[17, array([-0.02858109, -0.02858109,  0.        ,  0.        ]), array([3, 2, 0, 0, 3, 3, 3, 0, 0, 0, 1, 2], dtype=object)]\n",
      "\n",
      "[17, array([-0.03931521, -0.03931521,  0.        ,  0.        ]), array([2, 1, 2, 2, 2, 0, 0, 3, 1, 3, 0, 0], dtype=object)][17, array([-0.03478357, -0.03478357,  0.        ,  0.        ]), array([1, 2, 2, 1, 0, 3, 1, 3, 1, 3, 1, 2], dtype=object)]\n",
      "[17, array([-0.02919261, -0.02919261,  0.        ,  0.        ]), array([1, 2, 0, 1, 2, 3, 1, 2, 1, 3, 1, 3], dtype=object)]\n",
      "[18, array([-0.03691293, -0.03691293,  0.        ,  0.        ]), array([3, 0, 2, 2, 3, 3, 2, 3, 1, 0, 2, 3], dtype=object)]\n",
      "[18, array([-0.03350813, -0.03350813,  0.        ,  0.        ]), array([1, 1, 0, 3, 1, 1, 1, 3, 1, 3, 1, 2], dtype=object)]\n",
      "[18, array([-0.03763855, -0.03763855,  0.        ,  0.        ]), array([2, 1, 2, 1, 2, 0, 0, 0, 1, 3, 0, 3], dtype=object)]\n",
      "[18, array([-0.03393936, -0.03393936,  0.        ,  0.        ]), array([1, 2, 0, 1, 1, 0, 1, 1, 0, 1, 0, 1], dtype=object)]\n",
      "[19, array([-0.02747138, -0.02747138,  0.        ,  0.        ]), array([1, 2, 2, 1, 3, 1, 1, 0, 0, 3, 3, 0], dtype=object)]\n",
      "[19, array([-0.03423073, -0.03423073,  0.        ,  0.        ]), array([1, 2, 2, 1, 1, 1, 1, 2, 0, 1, 3, 3], dtype=object)]\n",
      "[19, array([-0.03544673, -0.03544673,  0.        ,  0.        ]), array([2, 2, 0, 3, 1, 0, 0, 3, 1, 2, 0, 0], dtype=object)]\n",
      "[19, array([-0.02820192, -0.02820192,  0.        ,  0.        ]), array([0, 3, 3, 2, 2, 3, 1, 2, 1, 3, 1, 3], dtype=object)]\n",
      "[20, array([-0.03778888, -0.03778888,  0.        ,  0.        ]), array([3, 0, 2, 2, 3, 0, 1, 1, 2, 2, 2, 0], dtype=object)]\n",
      "[20, array([-0.03903917, -0.03903917,  0.        ,  0.        ]), array([1, 1, 0, 3, 1, 1, 1, 2, 0, 1, 3, 2], dtype=object)]\n",
      "[20, array([-0.04712174, -0.04712174,  0.        ,  0.        ]), array([3, 2, 3, 2, 1, 3, 1, 1, 3, 2, 0, 3], dtype=object)]\n",
      "[20, array([-0.02846539, -0.02846539,  0.        ,  0.        ]), array([0, 2, 0, 1, 1, 0, 1, 0, 0, 2, 2, 0], dtype=object)]\n",
      "[21, array([-0.03167593, -0.03167593,  0.        ,  0.        ]), array([3, 3, 0, 3, 3, 0, 1, 1, 1, 3, 3, 2], dtype=object)]\n",
      "[21, array([-0.03014275, -0.03014275,  0.        ,  0.        ]), array([1, 1, 0, 3, 1, 1, 1, 3, 0, 2, 0, 3], dtype=object)]\n",
      "[21, array([-0.04130217, -0.04130217,  0.        ,  0.        ]), array([3, 3, 3, 0, 3, 1, 1, 0, 2, 3, 3, 1], dtype=object)]\n",
      "[21, array([-0.02625326, -0.02625326,  0.        ,  0.        ]), array([1, 2, 0, 1, 1, 0, 2, 0, 0, 3, 3, 0], dtype=object)]\n",
      "[22, array([-0.03606551, -0.03606551,  0.        ,  0.        ]), array([1, 2, 2, 3, 3, 0, 1, 1, 2, 3, 0, 0], dtype=object)]\n",
      "[22, array([-0.02912928, -0.02912928,  0.        ,  0.        ]), array([0, 3, 2, 1, 0, 3, 3, 0, 0, 2, 3, 0], dtype=object)]\n",
      "[22, array([-0.03475262, -0.03475262,  0.        ,  0.        ]), array([3, 3, 3, 3, 0, 3, 0, 3, 1, 3, 0, 0], dtype=object)]\n",
      "[22, array([-0.02646266, -0.02646266,  0.        ,  0.        ]), array([3, 0, 3, 1, 0, 0, 1, 3, 1, 1, 3, 3], dtype=object)]\n",
      "[23, array([-0.03725985, -0.03725985,  0.        ,  0.        ]), array([0, 2, 2, 3, 3, 0, 1, 1, 3, 3, 0, 0], dtype=object)]\n",
      "[23, array([-0.03739251, -0.03739251,  0.        ,  0.        ]), array([0, 3, 2, 1, 0, 3, 3, 0, 0, 2, 3, 3], dtype=object)]\n",
      "[23, array([-0.02970965, -0.02970965,  0.        ,  0.        ]), array([2, 0, 2, 2, 2, 0, 0, 3, 1, 3, 0, 0], dtype=object)]\n",
      "[23, array([-0.02991779, -0.02991779,  0.        ,  0.        ]), array([1, 3, 2, 2, 1, 0, 2, 0, 0, 2, 2, 2], dtype=object)]\n",
      "[24, array([-0.02648306, -0.02648306,  0.        ,  0.        ]), array([3, 3, 0, 2, 3, 3, 1, 0, 0, 3, 1, 1], dtype=object)]\n",
      "[24, array([-0.0435021, -0.0435021,  0.       ,  0.       ]), array([0, 3, 2, 1, 0, 3, 3, 0, 2, 2, 0, 1], dtype=object)]\n",
      "[24, array([-0.02804756, -0.02804756,  0.        ,  0.        ]), array([3, 3, 2, 1, 1, 0, 0, 3, 1, 3, 2, 1], dtype=object)]\n",
      "[24, array([-0.03531406, -0.03531406,  0.        ,  0.        ]), array([1, 1, 2, 2, 0, 1, 3, 3, 0, 2, 0, 0], dtype=object)]\n",
      "[25, array([-0.02998361, -0.02998361,  0.        ,  0.        ]), array([3, 0, 2, 3, 3, 0, 1, 0, 3, 3, 0, 1], dtype=object)]\n",
      "[25, array([-0.03322737, -0.03322737,  0.        ,  0.        ]), array([0, 3, 0, 3, 1, 1, 2, 0, 1, 2, 1, 3], dtype=object)]\n",
      "[25, array([-0.05131851, -0.05131851,  0.        ,  0.        ]), array([0, 2, 2, 0, 0, 1, 1, 0, 0, 3, 1, 0], dtype=object)]\n",
      "[25, array([-0.03370839, -0.03370839,  0.        ,  0.        ]), array([0, 2, 1, 1, 0, 1, 3, 2, 1, 3, 0, 1], dtype=object)]\n",
      "[26, array([-0.02725241, -0.02725241,  0.        ,  0.        ]), array([3, 2, 2, 3, 3, 3, 1, 0, 0, 3, 1, 1], dtype=object)]\n",
      "[26, array([-0.03752046, -0.03752046,  0.        ,  0.        ]), array([2, 2, 3, 3, 0, 1, 1, 2, 0, 1, 3, 3], dtype=object)]\n",
      "[26, array([-0.03146411, -0.03146411,  0.        ,  0.        ]), array([2, 3, 3, 3, 0, 3, 3, 3, 1, 3, 0, 0], dtype=object)]\n",
      "[26, array([-0.04009582, -0.04009582,  0.        ,  0.        ]), array([3, 3, 0, 0, 2, 0, 3, 2, 3, 3, 3, 2], dtype=object)]\n",
      "[27, array([-0.0304447, -0.0304447,  0.       ,  0.       ]), array([3, 0, 0, 1, 3, 3, 3, 0, 3, 3, 2, 1], dtype=object)]\n",
      "[27, array([-0.04339616, -0.04339616,  0.        ,  0.        ]), array([0, 3, 2, 2, 2, 3, 0, 3, 3, 2, 3, 3], dtype=object)]\n",
      "[27, array([-0.02783718, -0.02783718,  0.        ,  0.        ]), array([2, 0, 3, 3, 0, 3, 3, 2, 1, 0, 0, 0], dtype=object)]\n",
      "[27, array([-0.02439378, -0.02439378,  0.        ,  0.        ]), array([1, 2, 0, 1, 1, 1, 1, 0, 0, 0, 2, 0], dtype=object)]\n",
      "[28, array([-0.02848747, -0.02848747,  0.        ,  0.        ]), array([3, 0, 2, 2, 3, 3, 2, 3, 1, 3, 2, 0], dtype=object)]\n",
      "[28, array([-0.03178479, -0.03178479,  0.        ,  0.        ]), array([3, 0, 3, 3, 0, 2, 2, 0, 1, 2, 1, 3], dtype=object)]\n",
      "[28, array([-0.03308847, -0.03308847,  0.        ,  0.        ]), array([2, 0, 2, 2, 2, 0, 0, 3, 1, 0, 0, 0], dtype=object)]\n",
      "[28, array([-0.03323537, -0.03323537,  0.        ,  0.        ]), array([1, 1, 2, 2, 1, 0, 1, 1, 0, 1, 0, 1], dtype=object)]\n",
      "[29, array([-0.0250819, -0.0250819,  0.       ,  0.       ]), array([0, 1, 2, 2, 3, 1, 1, 1, 2, 3, 2, 1], dtype=object)]\n",
      "[29, array([-0.03413867, -0.03413867,  0.        ,  0.        ]), array([1, 1, 0, 2, 3, 1, 1, 0, 2, 2, 0, 1], dtype=object)]\n",
      "[29, array([-0.03596688, -0.03596688,  0.        ,  0.        ]), array([2, 0, 1, 1, 2, 3, 0, 0, 1, 3, 0, 0], dtype=object)]\n",
      "[29, array([-0.04021086, -0.04021086,  0.        ,  0.        ]), array([1, 2, 2, 2, 0, 1, 3, 3, 0, 2, 0, 0], dtype=object)]\n",
      "[30, array([-0.04456348, -0.04456348,  0.        ,  0.        ]), array([3, 3, 2, 3, 0, 0, 1, 3, 2, 3, 3, 2], dtype=object)]\n",
      "[30, array([-0.02186629, -0.02186629,  0.        ,  0.        ]), array([2, 1, 0, 0, 3, 1, 3, 3, 0, 3, 3, 3], dtype=object)]\n",
      "[30, array([-0.03745367, -0.03745367,  0.        ,  0.        ]), array([3, 3, 3, 3, 1, 0, 0, 3, 1, 3, 0, 0], dtype=object)]\n",
      "[30, array([-0.0314982, -0.0314982,  0.       ,  0.       ]), array([1, 2, 1, 1, 0, 1, 3, 2, 1, 3, 3, 3], dtype=object)]\n",
      "[31, array([-0.03036787, -0.03036787,  0.        ,  0.        ]), array([1, 2, 2, 0, 3, 3, 0, 2, 3, 3, 2, 0], dtype=object)]\n",
      "[31, array([-0.04646171, -0.04646171,  0.        ,  0.        ]), array([1, 1, 3, 3, 1, 1, 2, 2, 3, 1, 3, 3], dtype=object)]\n",
      "[31, array([-0.02863575, -0.02863575,  0.        ,  0.        ]), array([0, 0, 1, 2, 0, 0, 2, 2, 3, 0, 3, 0], dtype=object)]\n",
      "[32, array([-0.036649, -0.036649,  0.      ,  0.      ]), array([1, 2, 2, 2, 0, 0, 1, 2, 1, 2, 0, 0], dtype=object)]\n",
      "[31, array([-0.03678456, -0.03678456,  0.        ,  0.        ]), array([2, 1, 1, 1, 0, 1, 3, 2, 1, 3, 2, 0], dtype=object)]\n",
      "[32, array([-0.03094117, -0.03094117,  0.        ,  0.        ]), array([1, 1, 0, 3, 1, 3, 3, 3, 3, 1, 0, 0], dtype=object)]\n",
      "[32, array([-0.03986477, -0.03986477,  0.        ,  0.        ]), array([1, 0, 3, 3, 1, 3, 0, 3, 1, 3, 0, 3], dtype=object)]\n",
      "[33, array([-0.04258229, -0.04258229,  0.        ,  0.        ]), array([1, 2, 2, 0, 3, 2, 0, 1, 1, 2, 2, 1], dtype=object)]\n",
      "[32, array([-0.03062714, -0.03062714,  0.        ,  0.        ]), array([1, 2, 1, 1, 1, 0, 2, 0, 0, 1, 0, 3], dtype=object)]\n",
      "[33, array([-0.03698125, -0.03698125,  0.        ,  0.        ]), array([1, 1, 0, 3, 1, 1, 2, 2, 3, 2, 3, 3], dtype=object)]\n",
      "[33, array([-0.03086508, -0.03086508,  0.        ,  0.        ]), array([2, 0, 2, 0, 2, 3, 1, 3, 1, 3, 0, 0], dtype=object)]\n",
      "[34, array([-0.04014936, -0.04014936,  0.        ,  0.        ]), array([3, 2, 2, 1, 0, 0, 1, 2, 1, 2, 2, 1], dtype=object)]\n",
      "[34, array([-0.03440831, -0.03440831,  0.        ,  0.        ]), array([0, 3, 2, 3, 1, 1, 1, 2, 2, 1, 3, 3], dtype=object)]\n",
      "[33, array([-0.02979011, -0.02979011,  0.        ,  0.        ]), array([1, 2, 0, 0, 1, 0, 1, 2, 1, 1, 2, 1], dtype=object)]\n",
      "[34, array([-0.03869428, -0.03869428,  0.        ,  0.        ]), array([2, 0, 3, 2, 2, 2, 2, 2, 3, 0, 1, 2], dtype=object)]\n",
      "[35, array([-0.03536341, -0.03536341,  0.        ,  0.        ]), array([0, 2, 2, 3, 3, 1, 0, 1, 1, 2, 2, 1], dtype=object)]\n",
      "[34, array([-0.0422284, -0.0422284,  0.       ,  0.       ]), array([1, 2, 3, 2, 1, 0, 1, 2, 2, 1, 1, 0], dtype=object)]\n",
      "[35, array([-0.03259669, -0.03259669,  0.        ,  0.        ]), array([1, 1, 3, 3, 0, 3, 3, 0, 2, 1, 0, 0], dtype=object)]\n",
      "[35, array([-0.03089221, -0.03089221,  0.        ,  0.        ]), array([2, 0, 1, 2, 2, 0, 0, 3, 1, 3, 1, 1], dtype=object)]\n",
      "[36, array([-0.02009101, -0.02009101,  0.        ,  0.        ]), array([3, 0, 1, 3, 3, 0, 1, 1, 2, 3, 1, 0], dtype=object)]\n",
      "[36, array([-0.03302992, -0.03302992,  0.        ,  0.        ]), array([0, 3, 2, 2, 1, 1, 0, 3, 3, 2, 3, 3], dtype=object)]\n",
      "[35, array([-0.03341744, -0.03341744,  0.        ,  0.        ]), array([0, 3, 1, 3, 0, 3, 0, 3, 0, 0, 2, 0], dtype=object)]\n",
      "[36, array([-0.0302563, -0.0302563,  0.       ,  0.       ]), array([0, 0, 0, 1, 0, 2, 1, 3, 1, 3, 1, 1], dtype=object)]\n",
      "\n",
      "[37, array([-0.03248592, -0.03248592,  0.        ,  0.        ]), array([3, 1, 1, 0, 2, 2, 2, 0, 1, 0, 1, 3], dtype=object)][37, array([-0.03993089, -0.03993089,  0.        ,  0.        ]), array([3, 2, 1, 0, 3, 3, 0, 1, 1, 2, 2, 1], dtype=object)]\n",
      "[36, array([-0.03790663, -0.03790663,  0.        ,  0.        ]), array([3, 3, 1, 2, 0, 1, 3, 2, 1, 1, 2, 1], dtype=object)]\n",
      "[37, array([-0.03368746, -0.03368746,  0.        ,  0.        ]), array([1, 1, 0, 1, 3, 1, 1, 3, 2, 0, 1, 3], dtype=object)]\n",
      "[38, array([-0.03441617, -0.03441617,  0.        ,  0.        ]), array([3, 0, 1, 0, 1, 1, 0, 3, 1, 0, 0, 2], dtype=object)]\n",
      "[38, array([-0.02872662, -0.02872662,  0.        ,  0.        ]), array([3, 1, 2, 3, 1, 2, 1, 2, 2, 2, 2, 1], dtype=object)]\n",
      "[37, array([-0.03189215, -0.03189215,  0.        ,  0.        ]), array([1, 2, 0, 0, 1, 3, 1, 1, 1, 1, 1, 2], dtype=object)]\n",
      "[38, array([-0.02996952, -0.02996952,  0.        ,  0.        ]), array([0, 2, 3, 1, 2, 0, 0, 3, 1, 3, 0, 0], dtype=object)]\n",
      "[39, array([-0.02701129, -0.02701129,  0.        ,  0.        ]), array([1, 2, 0, 3, 3, 3, 0, 1, 0, 2, 0, 2], dtype=object)]\n",
      "[39, array([-0.03145539, -0.03145539,  0.        ,  0.        ]), array([3, 1, 1, 0, 2, 2, 2, 0, 1, 1, 0, 2], dtype=object)]\n",
      "[38, array([-0.04898787, -0.04898787,  0.        ,  0.        ]), array([3, 2, 3, 0, 1, 0, 2, 0, 2, 0, 2, 3], dtype=object)]\n",
      "[39, array([-0.03222729, -0.03222729,  0.        ,  0.        ]), array([2, 1, 2, 3, 2, 2, 1, 1, 1, 1, 0, 2], dtype=object)]\n",
      "[40, array([-0.03536062, -0.03536062,  0.        ,  0.        ]), array([1, 1, 3, 2, 1, 0, 2, 3, 2, 2, 2, 1], dtype=object)]\n",
      "[40, array([-0.03213517, -0.03213517,  0.        ,  0.        ]), array([0, 1, 3, 3, 1, 2, 3, 3, 2, 1, 0, 1], dtype=object)]\n",
      "[39, array([-0.03296314, -0.03296314,  0.        ,  0.        ]), array([2, 3, 0, 0, 3, 3, 0, 3, 1, 0, 2, 0], dtype=object)]\n",
      "[40, array([-0.03485354, -0.03485354,  0.        ,  0.        ]), array([3, 3, 3, 3, 0, 0, 1, 3, 1, 0, 3, 0], dtype=object)]\n",
      "[40, array([-0.02940964, -0.02940964,  0.        ,  0.        ]), array([3, 1, 3, 2, 1, 1, 1, 3, 0, 0, 2, 0], dtype=object)]\n"
     ]
    }
   ],
   "source": [
    "# we can perform nCAFQA by using the main optimization function \"claptonize\"\n",
    "# now with the noisy circuit\n",
    "ks_best, energy_noisy, energy_noiseless = claptonize(\n",
    "    paulis,\n",
    "    coeffs,\n",
    "    vqe_pcirc,\n",
    "    n_proc=4,           # total number of processes in parallel\n",
    "    n_starts=4,         # number of random genetic algorithm starts in parallel\n",
    "    n_rounds=1,         # number of budget rounds, if None it will terminate itself\n",
    "    callback=print,     # callback for internal parameter (#iteration, energies, ks) processing\n",
    "    budget=20           # budget per genetic algorithm instance\n",
    ")"
   ]
  },
  {
   "cell_type": "code",
   "execution_count": 19,
   "metadata": {},
   "outputs": [
    {
     "data": {
      "text/plain": [
       "[2, 2, 2, 1, 3, 0, 0, 0, 0, 1, 1, 1]"
      ]
     },
     "execution_count": 19,
     "metadata": {},
     "output_type": "execute_result"
    }
   ],
   "source": [
    "# the best parameters are\n",
    "ks_best"
   ]
  },
  {
   "cell_type": "code",
   "execution_count": 20,
   "metadata": {},
   "outputs": [
    {
     "data": {
      "text/plain": [
       "(0.02945344215647839, 0.0)"
      ]
     },
     "execution_count": 20,
     "metadata": {},
     "output_type": "execute_result"
    }
   ],
   "source": [
    "# with noisy/noiseless energy\n",
    "energy_noisy, energy_noiseless"
   ]
  },
  {
   "cell_type": "code",
   "execution_count": 21,
   "metadata": {},
   "outputs": [
    {
     "data": {
      "text/plain": [
       "0.02945344215647839"
      ]
     },
     "execution_count": 21,
     "metadata": {},
     "output_type": "execute_result"
    }
   ],
   "source": [
    "# differrence\n",
    "np.abs(energy_noisy-energy_noiseless)"
   ]
  },
  {
   "cell_type": "code",
   "execution_count": 22,
   "metadata": {},
   "outputs": [
    {
     "data": {
      "text/html": [
       "<pre>q0: -Y-S-----X-@-I-S---\n",
       "             | |\n",
       "q1: -Y-S_DAG-|-X-@-I-S-\n",
       "             |   |\n",
       "q2: -Y-I-----@---X-I-S-</pre>"
      ],
      "text/plain": [
       "q0: -Y-S-----X-@-I-S---\n",
       "             | |\n",
       "q1: -Y-S_DAG-|-X-@-I-S-\n",
       "             |   |\n",
       "q2: -Y-I-----@---X-I-S-"
      ]
     },
     "execution_count": 22,
     "metadata": {},
     "output_type": "execute_result"
    }
   ],
   "source": [
    "# the corresponding circuit is\n",
    "vqe_pcirc.assign(ks_best)\n",
    "vqe_pcirc.snapshot_noiseless().circ_snapshot_noiseless.diagram()"
   ]
  },
  {
   "cell_type": "markdown",
   "metadata": {},
   "source": [
    "## Implementing PT after CAFQA "
   ]
  },
  {
   "cell_type": "code",
   "execution_count": 23,
   "metadata": {},
   "outputs": [
    {
     "data": {
      "text/plain": [
       "<clapton.clifford.ParametrizedCliffordCircuit at 0x7fef107a2170>"
      ]
     },
     "execution_count": 23,
     "metadata": {},
     "output_type": "execute_result"
    }
   ],
   "source": [
    "pauli_twirl_list = [vqe_pcirc.add_pauli_twirl() for _ in range(100)]\n",
    "[circuit.assign(ks_best) for circuit in pauli_twirl_list]\n",
    "pauli_twirl_list = [circuit.add_depolarization_model(nm) for circuit in pauli_twirl_list]\n",
    "vqe_pcirc.add_pauli_twirl_list(pauli_twirl_list) #NOTE: Made major change here by adding list after adding noise\n",
    "\n",
    "# vqe_pcirc.add_depolarization_model(nm).stim_circuit().diagram()"
   ]
  },
  {
   "cell_type": "code",
   "execution_count": 27,
   "metadata": {},
   "outputs": [
    {
     "data": {
      "text/plain": [
       "-1.2742520626133833"
      ]
     },
     "execution_count": 27,
     "metadata": {},
     "output_type": "execute_result"
    }
   ],
   "source": [
    "get_energy(vqe_pcirc,paulis,coeffs)"
   ]
  },
  {
   "cell_type": "code",
   "execution_count": null,
   "metadata": {},
   "outputs": [],
   "source": []
  }
 ],
 "metadata": {
  "kernelspec": {
   "display_name": "clapton",
   "language": "python",
   "name": "python3"
  },
  "language_info": {
   "codemirror_mode": {
    "name": "ipython",
    "version": 3
   },
   "file_extension": ".py",
   "mimetype": "text/x-python",
   "name": "python",
   "nbconvert_exporter": "python",
   "pygments_lexer": "ipython3",
   "version": "3.10.15"
  }
 },
 "nbformat": 4,
 "nbformat_minor": 2
}
