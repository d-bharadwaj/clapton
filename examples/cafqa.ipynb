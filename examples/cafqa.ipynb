{
 "cells": [
  {
   "cell_type": "markdown",
   "metadata": {},
   "source": [
    "# CAFQA"
   ]
  },
  {
   "cell_type": "code",
   "execution_count": 4,
   "metadata": {},
   "outputs": [],
   "source": [
    "import sys\n",
    "sys.path.append(\"../\")\n",
    "from clapton.clapton import claptonize\n",
    "from clapton.ansatzes import circular_ansatz,circular_ansatz_mirrored\n",
    "import numpy as np"
   ]
  },
  {
   "cell_type": "code",
   "execution_count": 5,
   "metadata": {},
   "outputs": [],
   "source": [
    "# define Hamiltonian, e.g. 3q Heisenberg model with random coefficients\n",
    "paulis = [\"XXI\", \"IXX\", \"YYI\", \"IYY\", \"ZZI\", \"IZZ\"]\n",
    "coeffs = np.random.random(len(paulis))"
   ]
  },
  {
   "cell_type": "code",
   "execution_count": 6,
   "metadata": {},
   "outputs": [],
   "source": [
    "# define parametrized Clifford circuit that is being optimized over\n",
    "# here we use the circular_ansatz template\n",
    "# we fix 2q gates as they will not be optimized over\n",
    "vqe_pcirc = circular_ansatz_mirrored(N=len(paulis[0]), reps=1, fix_2q=True)"
   ]
  },
  {
   "cell_type": "code",
   "execution_count": 7,
   "metadata": {},
   "outputs": [
    {
     "name": "stdout",
     "output_type": "stream",
     "text": [
      "RY False\n",
      "RY False\n",
      "RY False\n",
      "RZ False\n",
      "RZ False\n",
      "RZ False\n",
      "2Q True\n",
      "2Q True\n",
      "2Q True\n",
      "RY False\n",
      "RY False\n",
      "RY False\n",
      "RZ False\n",
      "RZ False\n",
      "RZ False\n",
      "2Q True\n",
      "2Q True\n",
      "2Q True\n",
      "RY False\n",
      "RY False\n",
      "RY False\n",
      "RZ False\n",
      "RZ False\n",
      "RZ False\n"
     ]
    }
   ],
   "source": [
    "# the circuit consists of parametrized gates\n",
    "for gate in vqe_pcirc.gates:\n",
    "    print(gate.label, gate.is_fixed())"
   ]
  },
  {
   "cell_type": "code",
   "execution_count": 8,
   "metadata": {},
   "outputs": [],
   "source": [
    "# non-fixed gates will be optimized over\n",
    "# RY and RZ gates can assume 4 values k = 0,1,2,3 which describe multiples of pi/2"
   ]
  },
  {
   "cell_type": "code",
   "execution_count": 9,
   "metadata": {},
   "outputs": [
    {
     "data": {
      "text/plain": [
       "[0, 0, 0, 0, 0, 0, 0, 0, 0, 0, 0, 0, 0, 0, 0, 0, 0, 0]"
      ]
     },
     "execution_count": 9,
     "metadata": {},
     "output_type": "execute_result"
    }
   ],
   "source": [
    "# the initial parameters are all 0\n",
    "vqe_pcirc.read()"
   ]
  },
  {
   "cell_type": "code",
   "execution_count": 10,
   "metadata": {},
   "outputs": [
    {
     "data": {
      "text/html": [
       "<pre>q0: -I-I-X-@-I-I-----@-X-I-I-\n",
       "         | |         | |\n",
       "q1: -I-I-|-X-@-I-I-@-X-|-I-I-\n",
       "         |   |     |   |\n",
       "q2: -I-I-@---X-I-I-X---@-I-I-</pre>"
      ],
      "text/plain": [
       "q0: -I-I-X-@-I-I-----@-X-I-I-\n",
       "         | |         | |\n",
       "q1: -I-I-|-X-@-I-I-@-X-|-I-I-\n",
       "         |   |     |   |\n",
       "q2: -I-I-@---X-I-I-X---@-I-I-"
      ]
     },
     "execution_count": 10,
     "metadata": {},
     "output_type": "execute_result"
    }
   ],
   "source": [
    "# we can look at the corresponding stim circuit\n",
    "vqe_pcirc.stim_circuit().diagram()"
   ]
  },
  {
   "cell_type": "code",
   "execution_count": 73,
   "metadata": {},
   "outputs": [
    {
     "data": {
      "text/plain": [
       "<clapton.clifford.ParametrizedCliffordCircuit at 0x7fe97ded2e90>"
      ]
     },
     "execution_count": 73,
     "metadata": {},
     "output_type": "execute_result"
    }
   ],
   "source": [
    "# we can assign a different set of parameters\n",
    "vqe_pcirc.assign([0,1,2,3,0,1,2,3,0,1,2,3])"
   ]
  },
  {
   "cell_type": "code",
   "execution_count": 74,
   "metadata": {},
   "outputs": [
    {
     "data": {
      "text/html": [
       "<pre>q0: -I------S_DAG-X-@-Y-S----------------\n",
       "                  | |\n",
       "q1: -SQRT_Y-I-----|-X-@-SQRT_Y_DAG-Z-----\n",
       "                  |   |\n",
       "q2: -Y------S-----@---X-I----------S_DAG-</pre>"
      ],
      "text/plain": [
       "q0: -I------S_DAG-X-@-Y-S----------------\n",
       "                  | |\n",
       "q1: -SQRT_Y-I-----|-X-@-SQRT_Y_DAG-Z-----\n",
       "                  |   |\n",
       "q2: -Y------S-----@---X-I----------S_DAG-"
      ]
     },
     "execution_count": 74,
     "metadata": {},
     "output_type": "execute_result"
    }
   ],
   "source": [
    "vqe_pcirc.stim_circuit().diagram()"
   ]
  },
  {
   "cell_type": "code",
   "execution_count": 75,
   "metadata": {},
   "outputs": [
    {
     "name": "stdout",
     "output_type": "stream",
     "text": [
      "STARTING ROUND 0\n",
      "\n",
      "\n",
      "started GA at id 1 with 1 procs\n",
      "\n",
      "started GA at id 2 with 1 procs\n",
      "\n",
      "\n",
      "started GA at id None with 1 procs\n",
      "\n",
      "started GA at id 3 with 1 procs\n",
      "[0, array([0., 0., 0., 0.]), array([3, 3, 0, 2, 3, 3, 2, 3, 2, 1, 1, 2], dtype=object)]\n",
      "[0, array([0., 0., 0., 0.]), array([3, 3, 0, 2, 3, 3, 2, 3, 2, 1, 1, 2], dtype=object)]\n",
      "[0, array([0., 0., 0., 0.]), array([3, 3, 0, 2, 3, 3, 2, 3, 2, 1, 1, 2], dtype=object)]\n",
      "[0, array([0., 0., 0., 0.]), array([3, 3, 0, 2, 3, 3, 2, 3, 2, 1, 1, 2], dtype=object)]\n",
      "[1, array([0., 0., 0., 0.]), array([0, 2, 1, 1, 2, 3, 0, 1, 2, 0, 0, 3], dtype=object)]\n",
      "[1, array([0., 0., 0., 0.]), array([0, 2, 1, 1, 2, 3, 0, 1, 2, 0, 0, 3], dtype=object)]\n",
      "[1, array([0., 0., 0., 0.]), array([0, 2, 1, 1, 2, 3, 0, 1, 2, 0, 0, 3], dtype=object)]\n",
      "[1, array([0., 0., 0., 0.]), array([0, 2, 1, 1, 2, 3, 0, 1, 2, 0, 0, 3], dtype=object)]\n",
      "[2, array([0., 0., 0., 0.]), array([0, 2, 1, 1, 2, 3, 0, 1, 2, 0, 0, 3], dtype=object)]\n",
      "[2, array([0., 0., 0., 0.]), array([0, 2, 1, 1, 2, 3, 0, 1, 2, 0, 0, 3], dtype=object)]\n",
      "[2, array([0., 0., 0., 0.]), array([0, 2, 1, 1, 2, 3, 0, 1, 2, 0, 0, 3], dtype=object)]\n",
      "[2, array([0., 0., 0., 0.]), array([0, 2, 1, 1, 2, 3, 0, 1, 2, 0, 0, 3], dtype=object)]\n",
      "[3, array([0., 0., 0., 0.]), array([1, 3, 0, 1, 0, 1, 0, 3, 3, 3, 0, 3], dtype=object)][3, array([0., 0., 0., 0.]), array([1, 3, 0, 1, 0, 1, 0, 3, 3, 3, 0, 3], dtype=object)]\n",
      "\n",
      "[3, array([0., 0., 0., 0.]), array([1, 3, 0, 1, 0, 1, 0, 3, 3, 3, 0, 3], dtype=object)]\n",
      "[3, array([0., 0., 0., 0.]), array([1, 3, 0, 1, 0, 1, 0, 3, 3, 3, 0, 3], dtype=object)]\n",
      "[4, array([0., 0., 0., 0.]), array([1, 3, 0, 1, 0, 1, 0, 3, 3, 3, 0, 3], dtype=object)][4, array([0., 0., 0., 0.]), array([1, 3, 0, 1, 0, 1, 0, 3, 3, 3, 0, 3], dtype=object)]\n",
      "\n",
      "[4, array([0., 0., 0., 0.]), array([1, 3, 0, 1, 0, 1, 0, 3, 3, 3, 0, 3], dtype=object)]\n",
      "[4, array([0., 0., 0., 0.]), array([1, 3, 0, 1, 0, 1, 0, 3, 3, 3, 0, 3], dtype=object)]\n",
      "[5, array([0., 0., 0., 0.]), array([2, 1, 3, 1, 0, 1, 3, 3, 3, 3, 0, 3], dtype=object)][5, array([0., 0., 0., 0.]), array([2, 1, 3, 1, 0, 1, 3, 3, 3, 3, 0, 3], dtype=object)]\n",
      "\n",
      "[5, array([0., 0., 0., 0.]), array([2, 1, 3, 1, 0, 1, 3, 3, 3, 3, 0, 3], dtype=object)]\n",
      "[5, array([0., 0., 0., 0.]), array([2, 1, 3, 1, 0, 1, 3, 3, 3, 3, 0, 3], dtype=object)]\n",
      "[6, array([0., 0., 0., 0.]), array([0, 1, 2, 0, 3, 0, 3, 2, 2, 3, 3, 3], dtype=object)][6, array([0., 0., 0., 0.]), array([0, 1, 2, 0, 3, 0, 3, 2, 2, 3, 3, 3], dtype=object)]\n",
      "\n",
      "[6, array([0., 0., 0., 0.]), array([0, 1, 2, 0, 3, 0, 3, 2, 2, 3, 3, 3], dtype=object)]\n",
      "[7, array([0., 0., 0., 0.]), array([3, 3, 0, 3, 0, 1, 2, 2, 2, 1, 2, 0], dtype=object)][7, array([0., 0., 0., 0.]), array([3, 3, 0, 3, 0, 1, 2, 2, 2, 1, 2, 0], dtype=object)][6, array([0., 0., 0., 0.]), array([0, 1, 2, 0, 3, 0, 3, 2, 2, 3, 3, 3], dtype=object)]\n",
      "\n",
      "\n",
      "[7, array([0., 0., 0., 0.]), array([3, 3, 0, 3, 0, 1, 2, 2, 2, 1, 2, 0], dtype=object)]\n",
      "[8, array([0., 0., 0., 0.]), array([3, 3, 0, 3, 0, 1, 2, 2, 2, 1, 2, 0], dtype=object)][8, array([0., 0., 0., 0.]), array([3, 3, 0, 3, 0, 1, 2, 2, 2, 1, 2, 0], dtype=object)]\n",
      "\n",
      "[7, array([0., 0., 0., 0.]), array([3, 3, 0, 3, 0, 1, 2, 2, 2, 1, 2, 0], dtype=object)]\n",
      "[8, array([0., 0., 0., 0.]), array([3, 3, 0, 3, 0, 1, 2, 2, 2, 1, 2, 0], dtype=object)]\n",
      "[9, array([0., 0., 0., 0.]), array([3, 3, 0, 0, 3, 0, 3, 2, 3, 0, 3, 1], dtype=object)]\n",
      "[9, array([0., 0., 0., 0.]), array([3, 3, 0, 0, 3, 0, 3, 2, 3, 0, 3, 1], dtype=object)][8, array([0., 0., 0., 0.]), array([3, 3, 0, 3, 0, 1, 2, 2, 2, 1, 2, 0], dtype=object)]\n",
      "\n",
      "[9, array([0., 0., 0., 0.]), array([3, 3, 0, 0, 3, 0, 3, 2, 3, 0, 3, 1], dtype=object)]\n",
      "[10, array([0., 0., 0., 0.]), array([3, 3, 0, 0, 3, 0, 3, 2, 3, 0, 3, 1], dtype=object)]\n",
      "[10, array([0., 0., 0., 0.]), array([3, 3, 0, 0, 3, 0, 3, 2, 3, 0, 3, 1], dtype=object)]\n",
      "[9, array([0., 0., 0., 0.]), array([3, 3, 0, 0, 3, 0, 3, 2, 3, 0, 3, 1], dtype=object)]\n",
      "[10, array([0., 0., 0., 0.]), array([3, 3, 0, 0, 3, 0, 3, 2, 3, 0, 3, 1], dtype=object)]\n",
      "[11, array([0., 0., 0., 0.]), array([1, 1, 3, 1, 0, 3, 3, 2, 3, 0, 3, 1], dtype=object)][11, array([0., 0., 0., 0.]), array([1, 1, 3, 1, 0, 3, 3, 2, 3, 0, 3, 1], dtype=object)]\n",
      "\n",
      "[10, array([0., 0., 0., 0.]), array([3, 3, 0, 0, 3, 0, 3, 2, 3, 0, 3, 1], dtype=object)]\n",
      "[11, array([0., 0., 0., 0.]), array([1, 1, 3, 1, 0, 3, 3, 2, 3, 0, 3, 1], dtype=object)]\n",
      "[12, array([0., 0., 0., 0.]), array([1, 3, 0, 1, 0, 3, 0, 2, 3, 3, 3, 2], dtype=object)][12, array([0., 0., 0., 0.]), array([1, 3, 0, 1, 0, 3, 0, 2, 3, 3, 3, 2], dtype=object)]\n",
      "\n",
      "[12, array([0., 0., 0., 0.]), array([1, 3, 0, 1, 0, 3, 0, 2, 3, 3, 3, 2], dtype=object)][11, array([0., 0., 0., 0.]), array([1, 1, 3, 1, 0, 3, 3, 2, 3, 0, 3, 1], dtype=object)]\n",
      "\n",
      "[13, array([0., 0., 0., 0.]), array([1, 1, 2, 0, 3, 1, 3, 2, 0, 0, 1, 1], dtype=object)][13, array([0., 0., 0., 0.]), array([1, 1, 2, 0, 3, 1, 3, 2, 0, 0, 1, 1], dtype=object)]\n",
      "\n",
      "[12, array([0., 0., 0., 0.]), array([1, 3, 0, 1, 0, 3, 0, 2, 3, 3, 3, 2], dtype=object)]\n",
      "[13, array([0., 0., 0., 0.]), array([1, 1, 2, 0, 3, 1, 3, 2, 0, 0, 1, 1], dtype=object)]\n",
      "[14, array([0., 0., 0., 0.]), array([1, 0, 2, 0, 3, 1, 3, 2, 2, 1, 2, 0], dtype=object)]\n",
      "[14, array([0., 0., 0., 0.]), array([1, 0, 2, 0, 3, 1, 3, 2, 2, 1, 2, 0], dtype=object)]\n",
      "[14, array([0., 0., 0., 0.]), array([1, 0, 2, 0, 3, 1, 3, 2, 2, 1, 2, 0], dtype=object)]\n",
      "[13, array([0., 0., 0., 0.]), array([1, 1, 2, 0, 3, 1, 3, 2, 0, 0, 1, 1], dtype=object)]\n",
      "[15, array([0., 0., 0., 0.]), array([1, 1, 3, 1, 0, 1, 3, 2, 3, 0, 1, 1], dtype=object)][15, array([0., 0., 0., 0.]), array([1, 1, 3, 1, 0, 1, 3, 2, 3, 0, 1, 1], dtype=object)]\n",
      "\n",
      "[15, array([0., 0., 0., 0.]), array([1, 1, 3, 1, 0, 1, 3, 2, 3, 0, 1, 1], dtype=object)]\n",
      "[14, array([0., 0., 0., 0.]), array([1, 0, 2, 0, 3, 1, 3, 2, 2, 1, 2, 0], dtype=object)]\n",
      "[16, array([0., 0., 0., 0.]), array([1, 1, 3, 1, 0, 1, 3, 2, 3, 0, 1, 1], dtype=object)]\n",
      "[16, array([0., 0., 0., 0.]), array([1, 1, 3, 1, 0, 1, 3, 2, 3, 0, 1, 1], dtype=object)]\n",
      "[16, array([0., 0., 0., 0.]), array([1, 1, 3, 1, 0, 1, 3, 2, 3, 0, 1, 1], dtype=object)]\n",
      "[15, array([0., 0., 0., 0.]), array([1, 1, 3, 1, 0, 1, 3, 2, 3, 0, 1, 1], dtype=object)]\n",
      "[17, array([0., 0., 0., 0.]), array([1, 1, 3, 0, 0, 0, 3, 2, 3, 0, 2, 0], dtype=object)][17, array([0., 0., 0., 0.]), array([1, 1, 3, 0, 0, 0, 3, 2, 3, 0, 2, 0], dtype=object)]\n",
      "\n",
      "[16, array([0., 0., 0., 0.]), array([1, 1, 3, 1, 0, 1, 3, 2, 3, 0, 1, 1], dtype=object)]\n",
      "[17, array([0., 0., 0., 0.]), array([1, 1, 3, 0, 0, 0, 3, 2, 3, 0, 2, 0], dtype=object)]\n",
      "[18, array([0., 0., 0., 0.]), array([1, 1, 3, 0, 0, 1, 3, 2, 3, 0, 1, 0], dtype=object)][18, array([0., 0., 0., 0.]), array([1, 1, 3, 0, 0, 1, 3, 2, 3, 0, 1, 0], dtype=object)]\n",
      "\n",
      "[18, array([0., 0., 0., 0.]), array([1, 1, 3, 0, 0, 1, 3, 2, 3, 0, 1, 0], dtype=object)]\n",
      "[17, array([0., 0., 0., 0.]), array([1, 1, 3, 0, 0, 0, 3, 2, 3, 0, 2, 0], dtype=object)]\n",
      "[19, array([0., 0., 0., 0.]), array([1, 1, 0, 0, 0, 1, 3, 2, 3, 0, 3, 2], dtype=object)][19, array([0., 0., 0., 0.]), array([1, 1, 0, 0, 0, 1, 3, 2, 3, 0, 3, 2], dtype=object)]\n",
      "\n",
      "[19, array([0., 0., 0., 0.]), array([1, 1, 0, 0, 0, 1, 3, 2, 3, 0, 3, 2], dtype=object)]\n",
      "[18, array([0., 0., 0., 0.]), array([1, 1, 3, 0, 0, 1, 3, 2, 3, 0, 1, 0], dtype=object)]\n",
      "[20, array([0., 0., 0., 0.]), array([1, 1, 0, 0, 0, 1, 3, 2, 3, 0, 3, 2], dtype=object)]\n",
      "[20, array([0., 0., 0., 0.]), array([1, 1, 0, 0, 0, 1, 3, 2, 3, 0, 3, 2], dtype=object)]\n",
      "[20, array([0., 0., 0., 0.]), array([1, 1, 0, 0, 0, 1, 3, 2, 3, 0, 3, 2], dtype=object)]\n",
      "[19, array([0., 0., 0., 0.]), array([1, 1, 0, 0, 0, 1, 3, 2, 3, 0, 3, 2], dtype=object)]\n",
      "[21, array([0., 0., 0., 0.]), array([1, 1, 3, 0, 0, 0, 3, 2, 3, 0, 3, 2], dtype=object)]\n",
      "[21, array([0., 0., 0., 0.]), array([1, 1, 3, 0, 0, 0, 3, 2, 3, 0, 3, 2], dtype=object)]\n",
      "[21, array([0., 0., 0., 0.]), array([1, 1, 3, 0, 0, 0, 3, 2, 3, 0, 3, 2], dtype=object)]\n",
      "[22, array([0., 0., 0., 0.]), array([1, 1, 3, 0, 0, 0, 3, 2, 3, 0, 3, 2], dtype=object)][20, array([0., 0., 0., 0.]), array([1, 1, 0, 0, 0, 1, 3, 2, 3, 0, 3, 2], dtype=object)]\n",
      "\n",
      "[22, array([0., 0., 0., 0.]), array([1, 1, 3, 0, 0, 0, 3, 2, 3, 0, 3, 2], dtype=object)]\n",
      "[22, array([0., 0., 0., 0.]), array([1, 1, 3, 0, 0, 0, 3, 2, 3, 0, 3, 2], dtype=object)]\n",
      "[23, array([0., 0., 0., 0.]), array([1, 1, 3, 0, 0, 1, 3, 2, 3, 0, 2, 0], dtype=object)][21, array([0., 0., 0., 0.]), array([1, 1, 3, 0, 0, 0, 3, 2, 3, 0, 3, 2], dtype=object)]\n",
      "\n",
      "[23, array([0., 0., 0., 0.]), array([1, 1, 3, 0, 0, 1, 3, 2, 3, 0, 2, 0], dtype=object)]\n",
      "[23, array([0., 0., 0., 0.]), array([1, 1, 3, 0, 0, 1, 3, 2, 3, 0, 2, 0], dtype=object)]\n",
      "[24, array([0., 0., 0., 0.]), array([1, 3, 0, 0, 0, 0, 2, 1, 0, 0, 1, 1], dtype=object)]\n",
      "[24, array([0., 0., 0., 0.]), array([1, 3, 0, 0, 0, 0, 2, 1, 0, 0, 1, 1], dtype=object)]\n",
      "[22, array([0., 0., 0., 0.]), array([1, 1, 3, 0, 0, 0, 3, 2, 3, 0, 3, 2], dtype=object)]\n",
      "[24, array([0., 0., 0., 0.]), array([1, 3, 0, 0, 0, 0, 2, 1, 0, 0, 1, 1], dtype=object)]\n",
      "[25, array([0., 0., 0., 0.]), array([2, 3, 3, 0, 0, 1, 3, 2, 3, 0, 1, 0], dtype=object)]\n",
      "[25, array([0., 0., 0., 0.]), array([2, 3, 3, 0, 0, 1, 3, 2, 3, 0, 1, 0], dtype=object)]\n",
      "[23, array([0., 0., 0., 0.]), array([1, 1, 3, 0, 0, 1, 3, 2, 3, 0, 2, 0], dtype=object)]\n",
      "[25, array([0., 0., 0., 0.]), array([2, 3, 3, 0, 0, 1, 3, 2, 3, 0, 1, 0], dtype=object)]\n",
      "[26, array([0., 0., 0., 0.]), array([2, 3, 3, 0, 0, 1, 3, 2, 3, 0, 1, 0], dtype=object)]\n",
      "[26, array([0., 0., 0., 0.]), array([2, 3, 3, 0, 0, 1, 3, 2, 3, 0, 1, 0], dtype=object)]\n",
      "[24, array([0., 0., 0., 0.]), array([1, 3, 0, 0, 0, 0, 2, 1, 0, 0, 1, 1], dtype=object)]\n",
      "[26, array([0., 0., 0., 0.]), array([2, 3, 3, 0, 0, 1, 3, 2, 3, 0, 1, 0], dtype=object)]\n",
      "[27, array([0., 0., 0., 0.]), array([2, 3, 3, 0, 0, 0, 2, 2, 3, 0, 2, 0], dtype=object)]\n",
      "[27, array([0., 0., 0., 0.]), array([2, 3, 3, 0, 0, 0, 2, 2, 3, 0, 2, 0], dtype=object)]\n",
      "[25, array([0., 0., 0., 0.]), array([2, 3, 3, 0, 0, 1, 3, 2, 3, 0, 1, 0], dtype=object)]\n",
      "[27, array([0., 0., 0., 0.]), array([2, 3, 3, 0, 0, 0, 2, 2, 3, 0, 2, 0], dtype=object)]\n",
      "[28, array([0., 0., 0., 0.]), array([2, 3, 3, 0, 0, 0, 2, 2, 3, 0, 2, 0], dtype=object)]\n",
      "[28, array([0., 0., 0., 0.]), array([2, 3, 3, 0, 0, 0, 2, 2, 3, 0, 2, 0], dtype=object)]\n",
      "[26, array([0., 0., 0., 0.]), array([2, 3, 3, 0, 0, 1, 3, 2, 3, 0, 1, 0], dtype=object)]\n",
      "[28, array([0., 0., 0., 0.]), array([2, 3, 3, 0, 0, 0, 2, 2, 3, 0, 2, 0], dtype=object)]\n",
      "[29, array([0., 0., 0., 0.]), array([2, 3, 1, 0, 0, 1, 3, 2, 3, 0, 3, 1], dtype=object)]\n",
      "\n",
      "[29, array([0., 0., 0., 0.]), array([2, 3, 1, 0, 0, 1, 3, 2, 3, 0, 3, 1], dtype=object)][27, array([0., 0., 0., 0.]), array([2, 3, 3, 0, 0, 0, 2, 2, 3, 0, 2, 0], dtype=object)]\n",
      "[29, array([0., 0., 0., 0.]), array([2, 3, 1, 0, 0, 1, 3, 2, 3, 0, 3, 1], dtype=object)]\n",
      "[30, array([0., 0., 0., 0.]), array([1, 1, 0, 0, 0, 0, 2, 2, 3, 0, 2, 0], dtype=object)]\n",
      "[30, array([0., 0., 0., 0.]), array([1, 1, 0, 0, 0, 0, 2, 2, 3, 0, 2, 0], dtype=object)]\n",
      "[30, array([0., 0., 0., 0.]), array([1, 1, 0, 0, 0, 0, 2, 2, 3, 0, 2, 0], dtype=object)]\n",
      "[28, array([0., 0., 0., 0.]), array([2, 3, 3, 0, 0, 0, 2, 2, 3, 0, 2, 0], dtype=object)]\n",
      "[31, array([0., 0., 0., 0.]), array([2, 3, 3, 0, 0, 0, 3, 2, 3, 0, 2, 1], dtype=object)]\n",
      "[31, array([0., 0., 0., 0.]), array([2, 3, 3, 0, 0, 0, 3, 2, 3, 0, 2, 1], dtype=object)]\n",
      "[31, array([0., 0., 0., 0.]), array([2, 3, 3, 0, 0, 0, 3, 2, 3, 0, 2, 1], dtype=object)]\n",
      "[32, array([0., 0., 0., 0.]), array([2, 3, 3, 0, 0, 0, 3, 2, 3, 0, 2, 1], dtype=object)]\n",
      "[32, array([0., 0., 0., 0.]), array([2, 3, 3, 0, 0, 0, 3, 2, 3, 0, 2, 1], dtype=object)][29, array([0., 0., 0., 0.]), array([2, 3, 1, 0, 0, 1, 3, 2, 3, 0, 3, 1], dtype=object)]\n",
      "\n",
      "[32, array([0., 0., 0., 0.]), array([2, 3, 3, 0, 0, 0, 3, 2, 3, 0, 2, 1], dtype=object)]\n",
      "[30, array([0., 0., 0., 0.]), array([1, 1, 0, 0, 0, 0, 2, 2, 3, 0, 2, 0], dtype=object)]\n",
      "[33, array([0., 0., 0., 0.]), array([1, 2, 0, 0, 0, 1, 3, 2, 3, 0, 2, 0], dtype=object)][33, array([0., 0., 0., 0.]), array([1, 2, 0, 0, 0, 1, 3, 2, 3, 0, 2, 0], dtype=object)]\n",
      "\n",
      "[33, array([0., 0., 0., 0.]), array([1, 2, 0, 0, 0, 1, 3, 2, 3, 0, 2, 0], dtype=object)]\n",
      "[34, array([0., 0., 0., 0.]), array([1, 2, 0, 0, 2, 1, 3, 2, 3, 0, 2, 0], dtype=object)]\n",
      "[34, array([0., 0., 0., 0.]), array([1, 2, 0, 0, 2, 1, 3, 2, 3, 0, 2, 0], dtype=object)]\n",
      "[31, array([0., 0., 0., 0.]), array([2, 3, 3, 0, 0, 0, 3, 2, 3, 0, 2, 1], dtype=object)]\n",
      "[34, array([0., 0., 0., 0.]), array([1, 2, 0, 0, 2, 1, 3, 2, 3, 0, 2, 0], dtype=object)]\n",
      "[35, array([0., 0., 0., 0.]), array([1, 2, 0, 0, 0, 1, 3, 2, 3, 0, 2, 1], dtype=object)]\n",
      "[35, array([0., 0., 0., 0.]), array([1, 2, 0, 0, 0, 1, 3, 2, 3, 0, 2, 1], dtype=object)][32, array([0., 0., 0., 0.]), array([2, 3, 3, 0, 0, 0, 3, 2, 3, 0, 2, 1], dtype=object)]\n",
      "\n",
      "[35, array([0., 0., 0., 0.]), array([1, 2, 0, 0, 0, 1, 3, 2, 3, 0, 2, 1], dtype=object)]\n",
      "[36, array([0., 0., 0., 0.]), array([1, 2, 0, 0, 0, 1, 3, 2, 3, 0, 2, 1], dtype=object)]\n",
      "[36, array([0., 0., 0., 0.]), array([1, 2, 0, 0, 0, 1, 3, 2, 3, 0, 2, 1], dtype=object)]\n",
      "[33, array([0., 0., 0., 0.]), array([1, 2, 0, 0, 0, 1, 3, 2, 3, 0, 2, 0], dtype=object)]\n",
      "[36, array([0., 0., 0., 0.]), array([1, 2, 0, 0, 0, 1, 3, 2, 3, 0, 2, 1], dtype=object)]\n",
      "[37, array([0., 0., 0., 0.]), array([1, 2, 0, 0, 0, 0, 2, 2, 3, 0, 2, 1], dtype=object)]\n",
      "[37, array([0., 0., 0., 0.]), array([1, 2, 0, 0, 0, 0, 2, 2, 3, 0, 2, 1], dtype=object)]\n",
      "[34, array([0., 0., 0., 0.]), array([1, 2, 0, 0, 2, 1, 3, 2, 3, 0, 2, 0], dtype=object)]\n",
      "[37, array([0., 0., 0., 0.]), array([1, 2, 0, 0, 0, 0, 2, 2, 3, 0, 2, 1], dtype=object)]\n",
      "[38, array([0., 0., 0., 0.]), array([1, 2, 0, 0, 0, 0, 2, 2, 3, 3, 2, 1], dtype=object)]\n",
      "[38, array([0., 0., 0., 0.]), array([1, 2, 0, 0, 0, 0, 2, 2, 3, 3, 2, 1], dtype=object)]\n",
      "[38, array([0., 0., 0., 0.]), array([1, 2, 0, 0, 0, 0, 2, 2, 3, 3, 2, 1], dtype=object)][35, array([0., 0., 0., 0.]), array([1, 2, 0, 0, 0, 1, 3, 2, 3, 0, 2, 1], dtype=object)]\n",
      "\n",
      "[39, array([0., 0., 0., 0.]), array([1, 2, 0, 0, 0, 1, 3, 2, 3, 3, 3, 1], dtype=object)]\n",
      "[39, array([0., 0., 0., 0.]), array([1, 2, 0, 0, 0, 1, 3, 2, 3, 3, 3, 1], dtype=object)]\n",
      "[40, array([0., 0., 0., 0.]), array([0, 2, 0, 0, 0, 0, 2, 2, 3, 0, 2, 3], dtype=object)][39, array([0., 0., 0., 0.]), array([1, 2, 0, 0, 0, 1, 3, 2, 3, 3, 3, 1], dtype=object)][36, array([0., 0., 0., 0.]), array([1, 2, 0, 0, 0, 1, 3, 2, 3, 0, 2, 1], dtype=object)]\n",
      "\n",
      "\n",
      "[40, array([0., 0., 0., 0.]), array([0, 2, 0, 0, 0, 0, 2, 2, 3, 0, 2, 3], dtype=object)]\n",
      "[40, array([0., 0., 0., 0.]), array([0, 2, 0, 0, 0, 0, 2, 2, 3, 0, 2, 3], dtype=object)]\n",
      "[37, array([0., 0., 0., 0.]), array([1, 2, 0, 0, 0, 0, 2, 2, 3, 0, 2, 1], dtype=object)]\n",
      "[38, array([0., 0., 0., 0.]), array([1, 2, 0, 0, 0, 0, 2, 2, 3, 3, 2, 1], dtype=object)]\n",
      "[39, array([0., 0., 0., 0.]), array([1, 2, 0, 0, 0, 1, 3, 2, 3, 3, 3, 1], dtype=object)]\n",
      "[40, array([0., 0., 0., 0.]), array([0, 2, 0, 0, 0, 0, 2, 2, 3, 0, 2, 3], dtype=object)]\n"
     ]
    }
   ],
   "source": [
    "# we can perform CAFQA by using the main optimization function \"claptonize\"\n",
    "ks_best, _, energy_best = claptonize(\n",
    "    paulis,\n",
    "    coeffs,\n",
    "    vqe_pcirc,\n",
    "    n_proc=4,           # total number of processes in parallel\n",
    "    n_starts=4,         # number of random genetic algorithm starts in parallel\n",
    "    n_rounds=1,         # number of budget rounds, if None it will terminate itself\n",
    "    callback=print,     # callback for internal parameter (#iteration, energies, ks) processing\n",
    "    budget=20           # budget per genetic algorithm instance\n",
    ")"
   ]
  },
  {
   "cell_type": "code",
   "execution_count": 76,
   "metadata": {},
   "outputs": [
    {
     "data": {
      "text/plain": [
       "[1, 2, 0, 0, 0, 0, 3, 2, 3, 0, 3, 0]"
      ]
     },
     "execution_count": 76,
     "metadata": {},
     "output_type": "execute_result"
    }
   ],
   "source": [
    "# the best parameters are\n",
    "ks_best"
   ]
  },
  {
   "cell_type": "code",
   "execution_count": 77,
   "metadata": {},
   "outputs": [
    {
     "data": {
      "text/plain": [
       "0.0"
      ]
     },
     "execution_count": 77,
     "metadata": {},
     "output_type": "execute_result"
    }
   ],
   "source": [
    "# with energy\n",
    "energy_best"
   ]
  },
  {
   "cell_type": "code",
   "execution_count": 78,
   "metadata": {},
   "outputs": [
    {
     "data": {
      "text/html": [
       "<pre>q0: -SQRT_Y-I-X-@-SQRT_Y_DAG-I----------------\n",
       "              | |\n",
       "q1: -Y------I-|-X-@----------Y----------S_DAG-\n",
       "              |   |\n",
       "q2: -I------I-@---X----------SQRT_Y_DAG-I-----</pre>"
      ],
      "text/plain": [
       "q0: -SQRT_Y-I-X-@-SQRT_Y_DAG-I----------------\n",
       "              | |\n",
       "q1: -Y------I-|-X-@----------Y----------S_DAG-\n",
       "              |   |\n",
       "q2: -I------I-@---X----------SQRT_Y_DAG-I-----"
      ]
     },
     "execution_count": 78,
     "metadata": {},
     "output_type": "execute_result"
    }
   ],
   "source": [
    "# the corresponding circuit is\n",
    "vqe_pcirc.assign(ks_best)\n",
    "vqe_pcirc.stim_circuit().diagram()"
   ]
  },
  {
   "cell_type": "markdown",
   "metadata": {},
   "source": [
    "# noisy CAFQA (nCAFQA)"
   ]
  },
  {
   "cell_type": "code",
   "execution_count": 79,
   "metadata": {},
   "outputs": [],
   "source": [
    "from clapton.depolarization import GateGeneralDepolarizationModel #TODO: check this out "
   ]
  },
  {
   "cell_type": "code",
   "execution_count": 80,
   "metadata": {},
   "outputs": [],
   "source": [
    "# let's add a noise model where we specify global 1q and 2q gate errors\n",
    "nm = GateGeneralDepolarizationModel(p1=0.005, p2=0.1) #NOTE: This is the Noise Model, not representative of device noise"
   ]
  },
  {
   "cell_type": "code",
   "execution_count": 81,
   "metadata": {},
   "outputs": [
    {
     "data": {
      "text/plain": [
       "<clapton.clifford.ParametrizedCliffordCircuit at 0x7fe97df61f60>"
      ]
     },
     "execution_count": 81,
     "metadata": {},
     "output_type": "execute_result"
    }
   ],
   "source": [
    "vqe_pcirc = circular_ansatz(N=len(paulis[0]), reps=1, fix_2q=True)\n",
    "vqe_pcirc.add_depolarization_model(nm)"
   ]
  },
  {
   "cell_type": "code",
   "execution_count": 82,
   "metadata": {},
   "outputs": [
    {
     "data": {
      "text/html": [
       "<pre>q0: -I-DEPOLARIZE1(0.005)--------------------I------------------DEPOLARIZE1(0.005)---------------------------------------X-DEPOLARIZE2(0.1)-@-DEPOLARIZE2(0.1)---I----------------DEPOLARIZE1(0.005)--------------------I------------------DEPOLARIZE1(0.005)---------------------------------------\n",
       "                                                                                                                         | |                | |\n",
       "q1: ---I------------------DEPOLARIZE1(0.005)--------------------I------------------DEPOLARIZE1(0.005)--------------------|-|----------------X-DEPOLARIZE2(0.1)-@-DEPOLARIZE2(0.1)-I------------------DEPOLARIZE1(0.005)--------------------I------------------DEPOLARIZE1(0.005)--------------------\n",
       "                                                                                                                         | |                                   | |\n",
       "q2: ----------------------I------------------DEPOLARIZE1(0.005)--------------------I------------------DEPOLARIZE1(0.005)-@-DEPOLARIZE2(0.1)--------------------X-DEPOLARIZE2(0.1)--------------------I------------------DEPOLARIZE1(0.005)--------------------I------------------DEPOLARIZE1(0.005)-</pre>"
      ],
      "text/plain": [
       "q0: -I-DEPOLARIZE1(0.005)--------------------I------------------DEPOLARIZE1(0.005)---------------------------------------X-DEPOLARIZE2(0.1)-@-DEPOLARIZE2(0.1)---I----------------DEPOLARIZE1(0.005)--------------------I------------------DEPOLARIZE1(0.005)---------------------------------------\n",
       "                                                                                                                         | |                | |\n",
       "q1: ---I------------------DEPOLARIZE1(0.005)--------------------I------------------DEPOLARIZE1(0.005)--------------------|-|----------------X-DEPOLARIZE2(0.1)-@-DEPOLARIZE2(0.1)-I------------------DEPOLARIZE1(0.005)--------------------I------------------DEPOLARIZE1(0.005)--------------------\n",
       "                                                                                                                         | |                                   | |\n",
       "q2: ----------------------I------------------DEPOLARIZE1(0.005)--------------------I------------------DEPOLARIZE1(0.005)-@-DEPOLARIZE2(0.1)--------------------X-DEPOLARIZE2(0.1)--------------------I------------------DEPOLARIZE1(0.005)--------------------I------------------DEPOLARIZE1(0.005)-"
      ]
     },
     "execution_count": 82,
     "metadata": {},
     "output_type": "execute_result"
    }
   ],
   "source": [
    "# after every gate a depol channel is added\n",
    "vqe_pcirc.stim_circuit().diagram()"
   ]
  },
  {
   "cell_type": "code",
   "execution_count": 83,
   "metadata": {},
   "outputs": [
    {
     "name": "stdout",
     "output_type": "stream",
     "text": [
      "STARTING ROUND 0\n",
      "\n",
      "\n",
      "started GA at id 1 with 1 procs\n",
      "\n",
      "started GA at id 2 with 1 procs\n",
      "\n",
      "started GA at id None with 1 procs\n",
      "\n",
      "started GA at id 3 with 1 procs\n",
      "\n",
      "[0, array([-0.02620387, -0.02620387,  0.        ,  0.        ]), array([0, 2, 0, 0, 0, 2, 2, 1, 1, 2, 1, 0], dtype=object)]\n",
      "[0, array([-0.02538953, -0.02538953,  0.        ,  0.        ]), array([2, 1, 2, 0, 1, 2, 0, 0, 0, 1, 2, 2], dtype=object)]\n",
      "[0, array([-0.03177963, -0.03177963,  0.        ,  0.        ]), array([2, 1, 2, 0, 1, 2, 0, 0, 0, 1, 2, 2], dtype=object)]\n",
      "[0, array([-0.0280677, -0.0280677,  0.       ,  0.       ]), array([0, 1, 1, 0, 3, 2, 2, 1, 1, 0, 3, 3], dtype=object)]\n",
      "[1, array([-0.02972533, -0.02972533,  0.        ,  0.        ]), array([2, 1, 2, 0, 0, 1, 1, 0, 3, 1, 0, 0], dtype=object)]\n",
      "[1, array([-0.02838842, -0.02838842,  0.        ,  0.        ]), array([2, 3, 0, 0, 2, 0, 2, 1, 2, 3, 3, 2], dtype=object)]\n",
      "[1, array([-0.03756204, -0.03756204,  0.        ,  0.        ]), array([0, 1, 1, 0, 3, 0, 0, 2, 2, 2, 0, 3], dtype=object)]\n",
      "[1, array([-0.02282535, -0.02282535,  0.        ,  0.        ]), array([2, 2, 3, 2, 3, 2, 1, 0, 2, 0, 1, 3], dtype=object)]\n",
      "[2, array([-0.03663719, -0.03663719,  0.        ,  0.        ]), array([2, 1, 2, 0, 2, 2, 2, 2, 3, 2, 1, 3], dtype=object)]\n",
      "[2, array([-0.03381644, -0.03381644,  0.        ,  0.        ]), array([0, 1, 3, 1, 0, 2, 1, 2, 2, 2, 0, 0], dtype=object)]\n",
      "[2, array([-0.04346058, -0.04346058,  0.        ,  0.        ]), array([3, 3, 0, 3, 0, 1, 1, 0, 3, 1, 0, 0], dtype=object)]\n",
      "[2, array([-0.03264088, -0.03264088,  0.        ,  0.        ]), array([2, 2, 3, 2, 1, 1, 0, 0, 3, 3, 0, 3], dtype=object)]\n",
      "[3, array([-0.02518237, -0.02518237,  0.        ,  0.        ]), array([2, 3, 3, 3, 0, 1, 3, 2, 3, 1, 3, 3], dtype=object)][3, array([-0.02954837, -0.02954837,  0.        ,  0.        ]), array([1, 2, 3, 0, 0, 3, 2, 1, 0, 3, 2, 0], dtype=object)]\n",
      "\n",
      "[3, array([-0.02943076, -0.02943076,  0.        ,  0.        ]), array([1, 2, 2, 2, 2, 0, 2, 0, 0, 3, 1, 2], dtype=object)]\n",
      "[3, array([-0.03700164, -0.03700164,  0.        ,  0.        ]), array([2, 0, 1, 2, 1, 1, 0, 0, 3, 3, 0, 3], dtype=object)]\n",
      "[4, array([-0.03082091, -0.03082091,  0.        ,  0.        ]), array([0, 1, 2, 0, 1, 2, 0, 0, 0, 1, 2, 2], dtype=object)]\n",
      "[4, array([-0.03010731, -0.03010731,  0.        ,  0.        ]), array([2, 1, 1, 0, 0, 2, 2, 1, 1, 2, 1, 0], dtype=object)]\n",
      "[4, array([-0.0254799, -0.0254799,  0.       ,  0.       ]), array([3, 3, 0, 0, 3, 2, 0, 2, 2, 2, 0, 2], dtype=object)]\n",
      "[4, array([-0.0297394, -0.0297394,  0.       ,  0.       ]), array([0, 3, 1, 1, 3, 2, 0, 0, 2, 1, 2, 0], dtype=object)]\n",
      "[5, array([-0.0292737, -0.0292737,  0.       ,  0.       ]), array([1, 2, 3, 0, 0, 3, 2, 1, 1, 3, 2, 3], dtype=object)]\n",
      "[5, array([-0.03761006, -0.03761006,  0.        ,  0.        ]), array([0, 2, 1, 0, 3, 0, 0, 1, 0, 3, 0, 2], dtype=object)]\n",
      "[5, array([-0.03430637, -0.03430637,  0.        ,  0.        ]), array([0, 2, 0, 0, 0, 0, 0, 3, 2, 3, 1, 2], dtype=object)]\n",
      "[5, array([-0.02521417, -0.02521417,  0.        ,  0.        ]), array([3, 3, 0, 3, 1, 1, 3, 2, 1, 2, 0, 3], dtype=object)]\n",
      "[6, array([-0.03262832, -0.03262832,  0.        ,  0.        ]), array([1, 3, 1, 3, 1, 0, 0, 0, 3, 2, 1, 2], dtype=object)]\n",
      "[6, array([-0.03417581, -0.03417581,  0.        ,  0.        ]), array([2, 1, 2, 3, 3, 0, 2, 3, 0, 0, 1, 2], dtype=object)][6, array([-0.02766482, -0.02766482,  0.        ,  0.        ]), array([1, 1, 3, 3, 0, 3, 1, 0, 0, 1, 0, 0], dtype=object)]\n",
      "\n",
      "[6, array([-0.03556101, -0.03556101,  0.        ,  0.        ]), array([3, 3, 2, 2, 0, 1, 0, 0, 3, 0, 3, 0], dtype=object)]\n",
      "[7, array([-0.0364665, -0.0364665,  0.       ,  0.       ]), array([1, 3, 2, 1, 1, 2, 0, 1, 1, 2, 2, 0], dtype=object)]\n",
      "[7, array([-0.02584253, -0.02584253,  0.        ,  0.        ]), array([2, 1, 0, 3, 3, 1, 2, 0, 0, 3, 0, 2], dtype=object)]\n",
      "[7, array([-0.02928889, -0.02928889,  0.        ,  0.        ]), array([1, 2, 0, 0, 0, 2, 0, 1, 1, 3, 1, 2], dtype=object)]\n",
      "[7, array([-0.04022691, -0.04022691,  0.        ,  0.        ]), array([1, 3, 1, 3, 0, 0, 0, 1, 2, 2, 0, 2], dtype=object)]\n",
      "[8, array([-0.03151609, -0.03151609,  0.        ,  0.        ]), array([2, 1, 3, 1, 0, 2, 2, 0, 0, 1, 2, 3], dtype=object)]\n",
      "[8, array([-0.02862979, -0.02862979,  0.        ,  0.        ]), array([2, 2, 0, 2, 3, 1, 2, 0, 0, 3, 0, 2], dtype=object)]\n",
      "[8, array([-0.03190017, -0.03190017,  0.        ,  0.        ]), array([1, 2, 0, 0, 0, 2, 0, 1, 1, 3, 1, 2], dtype=object)]\n",
      "[8, array([-0.02706089, -0.02706089,  0.        ,  0.        ]), array([1, 3, 1, 3, 0, 1, 0, 1, 3, 0, 1, 3], dtype=object)]\n",
      "[9, array([-0.03230359, -0.03230359,  0.        ,  0.        ]), array([0, 3, 1, 3, 1, 3, 0, 2, 2, 1, 3, 3], dtype=object)]\n",
      "[9, array([-0.03946703, -0.03946703,  0.        ,  0.        ]), array([2, 3, 2, 3, 0, 2, 0, 0, 0, 1, 3, 2], dtype=object)]\n",
      "[9, array([-0.0271618, -0.0271618,  0.       ,  0.       ]), array([1, 0, 3, 3, 3, 2, 1, 2, 2, 1, 3, 1], dtype=object)]\n",
      "[9, array([-0.02993235, -0.02993235,  0.        ,  0.        ]), array([3, 3, 0, 3, 3, 2, 0, 2, 1, 0, 2, 3], dtype=object)]\n",
      "[10, array([-0.03461153, -0.03461153,  0.        ,  0.        ]), array([0, 0, 3, 3, 2, 2, 0, 2, 2, 2, 1, 3], dtype=object)]\n",
      "[10, array([-0.0329588, -0.0329588,  0.       ,  0.       ]), array([2, 1, 1, 3, 3, 3, 0, 0, 0, 0, 0, 0], dtype=object)]\n",
      "[10, array([-0.02949317, -0.02949317,  0.        ,  0.        ]), array([1, 0, 3, 3, 1, 0, 0, 0, 1, 1, 3, 1], dtype=object)]\n",
      "[10, array([-0.02931321, -0.02931321,  0.        ,  0.        ]), array([1, 3, 2, 2, 3, 1, 2, 2, 2, 1, 0, 1], dtype=object)]\n",
      "[11, array([-0.02645728, -0.02645728,  0.        ,  0.        ]), array([1, 1, 2, 1, 3, 0, 3, 3, 2, 2, 2, 1], dtype=object)]\n",
      "[11, array([-0.02933697, -0.02933697,  0.        ,  0.        ]), array([2, 1, 1, 2, 2, 3, 3, 2, 0, 1, 1, 2], dtype=object)]\n",
      "[11, array([-0.03193439, -0.03193439,  0.        ,  0.        ]), array([1, 2, 3, 0, 0, 3, 2, 1, 1, 1, 3, 1], dtype=object)]\n",
      "[11, array([-0.03001796, -0.03001796,  0.        ,  0.        ]), array([3, 3, 1, 2, 2, 3, 2, 2, 3, 0, 0, 3], dtype=object)]\n",
      "[12, array([-0.03788606, -0.03788606,  0.        ,  0.        ]), array([2, 3, 0, 3, 3, 3, 2, 2, 1, 3, 3, 0], dtype=object)]\n",
      "[12, array([-0.02869062, -0.02869062,  0.        ,  0.        ]), array([3, 1, 1, 2, 2, 3, 3, 0, 0, 0, 1, 0], dtype=object)]\n",
      "[12, array([-0.02690114, -0.02690114,  0.        ,  0.        ]), array([3, 3, 2, 3, 1, 0, 2, 0, 3, 1, 1, 3], dtype=object)]\n",
      "[12, array([-0.03607449, -0.03607449,  0.        ,  0.        ]), array([2, 3, 2, 1, 3, 3, 1, 2, 3, 0, 0, 3], dtype=object)]\n",
      "[13, array([-0.0289906, -0.0289906,  0.       ,  0.       ]), array([1, 2, 3, 3, 1, 2, 0, 2, 1, 3, 2, 0], dtype=object)]\n",
      "[13, array([-0.02516975, -0.02516975,  0.        ,  0.        ]), array([2, 3, 2, 2, 3, 0, 0, 0, 2, 3, 1, 0], dtype=object)]\n",
      "[13, array([-0.03606863, -0.03606863,  0.        ,  0.        ]), array([3, 3, 3, 3, 2, 2, 0, 2, 2, 2, 2, 1], dtype=object)]\n",
      "[13, array([-0.02936423, -0.02936423,  0.        ,  0.        ]), array([3, 3, 2, 0, 3, 0, 2, 1, 3, 0, 0, 2], dtype=object)]\n",
      "[14, array([-0.0306323, -0.0306323,  0.       ,  0.       ]), array([3, 3, 0, 2, 2, 3, 1, 3, 3, 1, 0, 0], dtype=object)]\n",
      "[14, array([-0.02403278, -0.02403278,  0.        ,  0.        ]), array([0, 3, 3, 3, 0, 2, 3, 2, 0, 0, 3, 2], dtype=object)]\n",
      "[14, array([-0.02603263, -0.02603263,  0.        ,  0.        ]), array([0, 1, 3, 1, 3, 0, 2, 1, 3, 3, 2, 0], dtype=object)]\n",
      "[14, array([-0.024387, -0.024387,  0.      ,  0.      ]), array([2, 3, 0, 3, 3, 2, 3, 0, 2, 0, 0, 3], dtype=object)]\n",
      "[15, array([-0.02950455, -0.02950455,  0.        ,  0.        ]), array([1, 2, 3, 0, 0, 3, 3, 1, 1, 2, 1, 0], dtype=object)]\n",
      "[15, array([-0.03745736, -0.03745736,  0.        ,  0.        ]), array([3, 3, 0, 3, 3, 2, 3, 3, 2, 2, 2, 0], dtype=object)]\n",
      "[15, array([-0.0352412, -0.0352412,  0.       ,  0.       ]), array([3, 3, 2, 1, 2, 3, 2, 2, 2, 2, 0, 3], dtype=object)]\n",
      "[15, array([-0.02986044, -0.02986044,  0.        ,  0.        ]), array([1, 3, 0, 2, 0, 0, 2, 2, 2, 1, 0, 1], dtype=object)]\n",
      "[16, array([-0.03609972, -0.03609972,  0.        ,  0.        ]), array([1, 1, 1, 3, 2, 2, 2, 1, 0, 0, 2, 2], dtype=object)]\n",
      "[16, array([-0.03036976, -0.03036976,  0.        ,  0.        ]), array([3, 3, 0, 3, 0, 1, 1, 0, 3, 0, 0, 0], dtype=object)]\n",
      "[16, array([-0.03041483, -0.03041483,  0.        ,  0.        ]), array([3, 3, 0, 0, 3, 0, 0, 0, 0, 2, 0, 2], dtype=object)]\n",
      "[16, array([-0.03178418, -0.03178418,  0.        ,  0.        ]), array([2, 2, 0, 1, 2, 1, 0, 0, 1, 0, 3, 0], dtype=object)]\n",
      "[17, array([-0.03269013, -0.03269013,  0.        ,  0.        ]), array([0, 1, 1, 3, 3, 1, 2, 3, 0, 3, 1, 0], dtype=object)]\n",
      "[17, array([-0.02263171, -0.02263171,  0.        ,  0.        ]), array([3, 3, 0, 3, 0, 3, 1, 0, 3, 1, 0, 0], dtype=object)]\n",
      "[17, array([-0.03116989, -0.03116989,  0.        ,  0.        ]), array([0, 3, 0, 3, 1, 2, 0, 2, 1, 2, 0, 2], dtype=object)]\n",
      "[17, array([-0.02453977, -0.02453977,  0.        ,  0.        ]), array([2, 2, 0, 1, 0, 1, 0, 1, 3, 1, 0, 1], dtype=object)]\n",
      "[18, array([-0.05349519, -0.05349519,  0.        ,  0.        ]), array([2, 1, 1, 2, 3, 3, 0, 0, 0, 0, 0, 3], dtype=object)]\n",
      "[18, array([-0.02719637, -0.02719637,  0.        ,  0.        ]), array([3, 3, 0, 3, 0, 0, 1, 0, 3, 2, 3, 0], dtype=object)]\n",
      "[18, array([-0.0249033, -0.0249033,  0.       ,  0.       ]), array([3, 1, 3, 2, 0, 2, 1, 2, 2, 2, 0, 0], dtype=object)]\n",
      "[18, array([-0.02021391, -0.02021391,  0.        ,  0.        ]), array([0, 3, 1, 1, 3, 2, 3, 2, 2, 1, 0, 3], dtype=object)]\n",
      "[19, array([-0.02857489, -0.02857489,  0.        ,  0.        ]), array([2, 1, 1, 0, 3, 0, 1, 0, 0, 2, 2, 0], dtype=object)]\n",
      "[19, array([-0.02637278, -0.02637278,  0.        ,  0.        ]), array([3, 1, 0, 3, 2, 0, 0, 0, 3, 1, 0, 0], dtype=object)]\n",
      "[19, array([-0.02937824, -0.02937824,  0.        ,  0.        ]), array([3, 0, 3, 2, 1, 2, 0, 0, 1, 0, 1, 2], dtype=object)]\n",
      "[19, array([-0.03476109, -0.03476109,  0.        ,  0.        ]), array([0, 3, 3, 0, 3, 2, 1, 0, 3, 3, 0, 3], dtype=object)]\n",
      "[20, array([-0.0215807, -0.0215807,  0.       ,  0.       ]), array([3, 3, 3, 1, 0, 2, 2, 2, 1, 3, 3, 0], dtype=object)]\n",
      "[20, array([-0.02514557, -0.02514557,  0.        ,  0.        ]), array([2, 1, 2, 3, 3, 0, 2, 3, 0, 0, 1, 0], dtype=object)]\n",
      "[20, array([-0.02748142, -0.02748142,  0.        ,  0.        ]), array([2, 0, 3, 3, 1, 0, 2, 0, 1, 1, 3, 3], dtype=object)]\n",
      "[20, array([-0.03196198, -0.03196198,  0.        ,  0.        ]), array([3, 3, 0, 2, 0, 0, 2, 3, 3, 0, 0, 3], dtype=object)]\n",
      "[21, array([-0.02699287, -0.02699287,  0.        ,  0.        ]), array([3, 3, 0, 3, 0, 1, 1, 0, 3, 1, 0, 0], dtype=object)]\n",
      "[21, array([-0.03117817, -0.03117817,  0.        ,  0.        ]), array([1, 2, 0, 0, 0, 2, 0, 1, 1, 3, 1, 2], dtype=object)]\n",
      "[21, array([-0.02958801, -0.02958801,  0.        ,  0.        ]), array([1, 3, 1, 3, 1, 0, 0, 3, 3, 0, 2, 3], dtype=object)]\n",
      "[22, array([-0.0364393, -0.0364393,  0.       ,  0.       ]), array([3, 3, 0, 3, 0, 1, 1, 0, 3, 2, 3, 1], dtype=object)]\n",
      "[21, array([-0.0291742, -0.0291742,  0.       ,  0.       ]), array([2, 3, 2, 2, 0, 0, 3, 1, 3, 2, 1, 2], dtype=object)]\n",
      "[22, array([-0.03804228, -0.03804228,  0.        ,  0.        ]), array([0, 2, 1, 2, 0, 3, 2, 3, 2, 0, 1, 2], dtype=object)]\n",
      "[22, array([-0.03485855, -0.03485855,  0.        ,  0.        ]), array([3, 1, 1, 1, 3, 1, 0, 0, 2, 2, 1, 1], dtype=object)]\n",
      "[23, array([-0.03374047, -0.03374047,  0.        ,  0.        ]), array([3, 3, 2, 3, 1, 1, 2, 0, 3, 1, 0, 0], dtype=object)]\n",
      "[22, array([-0.04411351, -0.04411351,  0.        ,  0.        ]), array([3, 2, 2, 2, 0, 0, 3, 0, 3, 1, 1, 3], dtype=object)]\n",
      "[23, array([-0.0307174, -0.0307174,  0.       ,  0.       ]), array([2, 1, 2, 2, 0, 2, 2, 1, 3, 2, 1, 3], dtype=object)]\n",
      "[23, array([-0.04821245, -0.04821245,  0.        ,  0.        ]), array([1, 3, 1, 0, 3, 0, 0, 0, 0, 2, 0, 2], dtype=object)]\n",
      "[24, array([-0.03279903, -0.03279903,  0.        ,  0.        ]), array([3, 3, 0, 3, 0, 2, 2, 2, 1, 0, 3, 2], dtype=object)]\n",
      "[24, array([-0.02685332, -0.02685332,  0.        ,  0.        ]), array([2, 1, 2, 0, 2, 2, 2, 2, 3, 2, 0, 0], dtype=object)]\n",
      "[23, array([-0.03428868, -0.03428868,  0.        ,  0.        ]), array([2, 3, 2, 1, 3, 3, 1, 2, 3, 3, 0, 3], dtype=object)]\n",
      "[24, array([-0.03233919, -0.03233919,  0.        ,  0.        ]), array([3, 0, 3, 3, 0, 2, 0, 0, 1, 1, 0, 0], dtype=object)]\n",
      "[25, array([-0.03339927, -0.03339927,  0.        ,  0.        ]), array([3, 3, 2, 3, 1, 1, 1, 0, 3, 1, 0, 0], dtype=object)]\n",
      "[25, array([-0.03441159, -0.03441159,  0.        ,  0.        ]), array([1, 1, 2, 3, 1, 0, 0, 2, 1, 3, 1, 2], dtype=object)]\n",
      "[24, array([-0.03471366, -0.03471366,  0.        ,  0.        ]), array([2, 3, 2, 1, 3, 3, 1, 2, 3, 3, 0, 3], dtype=object)]\n",
      "[25, array([-0.03115257, -0.03115257,  0.        ,  0.        ]), array([3, 3, 0, 0, 3, 2, 0, 2, 2, 2, 0, 3], dtype=object)]\n",
      "[26, array([-0.02436288, -0.02436288,  0.        ,  0.        ]), array([3, 3, 2, 3, 2, 1, 1, 0, 3, 1, 2, 2], dtype=object)]\n",
      "[26, array([-0.04055139, -0.04055139,  0.        ,  0.        ]), array([3, 0, 0, 0, 0, 2, 0, 1, 1, 0, 1, 3], dtype=object)]\n",
      "[25, array([-0.03494574, -0.03494574,  0.        ,  0.        ]), array([3, 2, 2, 2, 0, 0, 3, 0, 3, 1, 1, 3], dtype=object)]\n",
      "[26, array([-0.03884159, -0.03884159,  0.        ,  0.        ]), array([3, 2, 0, 1, 2, 2, 2, 2, 2, 0, 1, 3], dtype=object)]\n",
      "[27, array([-0.03831674, -0.03831674,  0.        ,  0.        ]), array([3, 3, 0, 3, 0, 1, 1, 0, 3, 1, 0, 0], dtype=object)]\n",
      "[27, array([-0.03630087, -0.03630087,  0.        ,  0.        ]), array([2, 1, 2, 2, 0, 0, 2, 3, 3, 0, 1, 1], dtype=object)]\n",
      "[26, array([-0.02968284, -0.02968284,  0.        ,  0.        ]), array([0, 2, 3, 2, 2, 2, 3, 1, 2, 1, 0, 0], dtype=object)]\n",
      "[27, array([-0.02551463, -0.02551463,  0.        ,  0.        ]), array([2, 0, 3, 1, 0, 2, 2, 0, 0, 1, 2, 3], dtype=object)]\n",
      "[28, array([-0.01995178, -0.01995178,  0.        ,  0.        ]), array([3, 2, 0, 2, 0, 1, 1, 0, 3, 3, 1, 1], dtype=object)]\n",
      "[28, array([-0.02910062, -0.02910062,  0.        ,  0.        ]), array([1, 1, 0, 1, 3, 0, 0, 3, 1, 1, 0, 0], dtype=object)]\n",
      "[27, array([-0.02528677, -0.02528677,  0.        ,  0.        ]), array([2, 3, 2, 2, 1, 1, 0, 3, 0, 0, 1, 3], dtype=object)]\n",
      "[28, array([-0.03249482, -0.03249482,  0.        ,  0.        ]), array([0, 1, 3, 1, 3, 3, 0, 0, 3, 2, 3, 3], dtype=object)]\n",
      "[29, array([-0.03940466, -0.03940466,  0.        ,  0.        ]), array([1, 3, 2, 0, 1, 1, 1, 0, 0, 2, 3, 0], dtype=object)]\n",
      "[29, array([-0.03268735, -0.03268735,  0.        ,  0.        ]), array([3, 0, 0, 0, 0, 2, 2, 1, 0, 0, 2, 2], dtype=object)]\n",
      "[28, array([-0.03523616, -0.03523616,  0.        ,  0.        ]), array([3, 3, 0, 0, 3, 0, 3, 1, 3, 1, 0, 3], dtype=object)]\n",
      "[30, array([-0.03536317, -0.03536317,  0.        ,  0.        ]), array([3, 3, 2, 1, 0, 1, 1, 1, 1, 1, 0, 0], dtype=object)]\n",
      "[29, array([-0.03794991, -0.03794991,  0.        ,  0.        ]), array([2, 0, 2, 0, 2, 3, 0, 0, 1, 1, 3, 2], dtype=object)]\n",
      "[30, array([-0.02386431, -0.02386431,  0.        ,  0.        ]), array([0, 0, 2, 0, 0, 0, 0, 2, 0, 0, 0, 0], dtype=object)]\n",
      "[30, array([-0.02601145, -0.02601145,  0.        ,  0.        ]), array([2, 1, 1, 1, 3, 1, 0, 0, 2, 2, 1, 1], dtype=object)]\n",
      "[31, array([-0.04057123, -0.04057123,  0.        ,  0.        ]), array([3, 3, 0, 3, 0, 1, 1, 0, 0, 2, 3, 1], dtype=object)]\n",
      "[29, array([-0.02486779, -0.02486779,  0.        ,  0.        ]), array([3, 3, 2, 2, 0, 1, 0, 0, 3, 0, 3, 0], dtype=object)]\n",
      "[31, array([-0.03456463, -0.03456463,  0.        ,  0.        ]), array([2, 1, 2, 3, 1, 0, 2, 1, 1, 2, 0, 3], dtype=object)]\n",
      "[32, array([-0.04142261, -0.04142261,  0.        ,  0.        ]), array([0, 3, 2, 1, 0, 3, 0, 2, 1, 1, 0, 0], dtype=object)]\n",
      "[30, array([-0.03046938, -0.03046938,  0.        ,  0.        ]), array([3, 3, 2, 3, 2, 1, 0, 0, 1, 0, 3, 2], dtype=object)]\n",
      "[31, array([-0.03492591, -0.03492591,  0.        ,  0.        ]), array([2, 0, 2, 0, 2, 3, 0, 0, 1, 1, 3, 2], dtype=object)]\n",
      "[32, array([-0.0237655, -0.0237655,  0.       ,  0.       ]), array([3, 1, 0, 2, 3, 2, 2, 1, 0, 2, 2, 2], dtype=object)]\n",
      "[33, array([-0.03197762, -0.03197762,  0.        ,  0.        ]), array([3, 3, 0, 3, 3, 1, 1, 0, 3, 1, 0, 0], dtype=object)]\n",
      "[32, array([-0.02937571, -0.02937571,  0.        ,  0.        ]), array([2, 3, 1, 3, 2, 3, 0, 0, 1, 1, 3, 2], dtype=object)]\n",
      "[31, array([-0.03006282, -0.03006282,  0.        ,  0.        ]), array([3, 2, 2, 2, 0, 0, 0, 0, 3, 0, 2, 0], dtype=object)]\n",
      "[33, array([-0.0319438, -0.0319438,  0.       ,  0.       ]), array([2, 0, 2, 3, 2, 1, 2, 2, 3, 2, 1, 3], dtype=object)]\n",
      "[34, array([-0.02824835, -0.02824835,  0.        ,  0.        ]), array([3, 3, 1, 3, 1, 2, 1, 1, 0, 1, 1, 0], dtype=object)]\n",
      "[32, array([-0.02249578, -0.02249578,  0.        ,  0.        ]), array([0, 3, 2, 2, 0, 1, 0, 0, 2, 0, 3, 2], dtype=object)]\n",
      "[33, array([-0.020286, -0.020286,  0.      ,  0.      ]), array([2, 3, 0, 3, 2, 2, 0, 3, 1, 0, 0, 0], dtype=object)]\n",
      "[34, array([-0.03998471, -0.03998471,  0.        ,  0.        ]), array([2, 1, 2, 3, 3, 2, 2, 3, 0, 0, 1, 3], dtype=object)]\n",
      "[35, array([-0.0262236, -0.0262236,  0.       ,  0.       ]), array([3, 3, 0, 3, 0, 1, 1, 0, 3, 1, 0, 0], dtype=object)]\n",
      "[34, array([-0.02122241, -0.02122241,  0.        ,  0.        ]), array([1, 3, 1, 3, 1, 0, 0, 3, 0, 3, 0, 3], dtype=object)]\n",
      "[33, array([-0.03307327, -0.03307327,  0.        ,  0.        ]), array([3, 3, 2, 2, 0, 0, 3, 0, 3, 1, 1, 3], dtype=object)]\n",
      "[36, array([-0.03509528, -0.03509528,  0.        ,  0.        ]), array([3, 1, 2, 3, 2, 3, 1, 1, 3, 1, 1, 2], dtype=object)]\n",
      "[35, array([-0.03422539, -0.03422539,  0.        ,  0.        ]), array([0, 1, 1, 2, 0, 3, 2, 3, 2, 0, 1, 2], dtype=object)]\n",
      "[35, array([-0.03096647, -0.03096647,  0.        ,  0.        ]), array([3, 3, 2, 2, 3, 3, 1, 3, 0, 0, 0, 0], dtype=object)]\n",
      "[34, array([-0.02536956, -0.02536956,  0.        ,  0.        ]), array([3, 3, 2, 2, 3, 0, 2, 2, 3, 0, 3, 3], dtype=object)]\n",
      "[36, array([-0.03091785, -0.03091785,  0.        ,  0.        ]), array([1, 1, 2, 1, 1, 2, 2, 2, 0, 0, 0, 2], dtype=object)][37, array([-0.03570114, -0.03570114,  0.        ,  0.        ]), array([3, 3, 0, 3, 0, 1, 1, 0, 3, 1, 0, 0], dtype=object)]\n",
      "\n",
      "[36, array([-0.02410897, -0.02410897,  0.        ,  0.        ]), array([1, 3, 1, 3, 1, 1, 0, 0, 2, 1, 3, 2], dtype=object)]\n",
      "[35, array([-0.03250408, -0.03250408,  0.        ,  0.        ]), array([3, 1, 2, 2, 0, 1, 3, 0, 3, 1, 1, 3], dtype=object)]\n",
      "[38, array([-0.02758738, -0.02758738,  0.        ,  0.        ]), array([3, 3, 1, 3, 1, 2, 2, 1, 3, 1, 0, 1], dtype=object)]\n",
      "[37, array([-0.03177128, -0.03177128,  0.        ,  0.        ]), array([2, 2, 0, 0, 1, 1, 2, 2, 3, 2, 1, 2], dtype=object)]\n",
      "[37, array([-0.03382465, -0.03382465,  0.        ,  0.        ]), array([3, 2, 0, 1, 1, 2, 0, 2, 2, 2, 0, 3], dtype=object)]\n",
      "[36, array([-0.02812575, -0.02812575,  0.        ,  0.        ]), array([1, 0, 3, 3, 0, 0, 0, 1, 3, 1, 1, 3], dtype=object)]\n",
      "[39, array([-0.03766846, -0.03766846,  0.        ,  0.        ]), array([3, 3, 0, 3, 0, 1, 1, 0, 3, 1, 0, 0], dtype=object)]\n",
      "[38, array([-0.0308908, -0.0308908,  0.       ,  0.       ]), array([2, 1, 3, 0, 2, 2, 2, 2, 1, 0, 0, 2], dtype=object)]\n",
      "[38, array([-0.02488076, -0.02488076,  0.        ,  0.        ]), array([1, 2, 0, 3, 1, 0, 2, 0, 0, 1, 2, 3], dtype=object)]\n",
      "[37, array([-0.02602749, -0.02602749,  0.        ,  0.        ]), array([2, 3, 2, 1, 3, 3, 1, 2, 3, 0, 3, 0], dtype=object)]\n",
      "[40, array([-0.03476194, -0.03476194,  0.        ,  0.        ]), array([2, 1, 2, 3, 2, 1, 2, 3, 2, 1, 0, 0], dtype=object)]\n",
      "[39, array([-0.02439763, -0.02439763,  0.        ,  0.        ]), array([0, 0, 2, 0, 0, 1, 0, 2, 2, 2, 1, 3], dtype=object)]\n",
      "[39, array([-0.03830737, -0.03830737,  0.        ,  0.        ]), array([0, 1, 3, 1, 0, 2, 1, 2, 2, 2, 0, 3], dtype=object)]\n",
      "[38, array([-0.02975803, -0.02975803,  0.        ,  0.        ]), array([3, 2, 2, 2, 0, 2, 3, 1, 3, 0, 0, 0], dtype=object)]\n",
      "[40, array([-0.02428776, -0.02428776,  0.        ,  0.        ]), array([0, 2, 2, 0, 2, 2, 2, 2, 3, 2, 1, 3], dtype=object)]\n",
      "[40, array([-0.03564366, -0.03564366,  0.        ,  0.        ]), array([1, 3, 0, 0, 3, 1, 0, 2, 2, 2, 0, 3], dtype=object)]\n",
      "[39, array([-0.02294239, -0.02294239,  0.        ,  0.        ]), array([3, 2, 2, 2, 0, 0, 3, 0, 3, 1, 1, 3], dtype=object)]\n",
      "[40, array([-0.0302883, -0.0302883,  0.       ,  0.       ]), array([3, 1, 3, 0, 1, 1, 2, 0, 3, 1, 0, 1], dtype=object)]\n"
     ]
    }
   ],
   "source": [
    "# we can perform nCAFQA by using the main optimization function \"claptonize\"\n",
    "# now with the noisy circuit\n",
    "ks_best, energy_noisy, energy_noiseless = claptonize(\n",
    "    paulis,\n",
    "    coeffs,\n",
    "    vqe_pcirc,\n",
    "    n_proc=4,           # total number of processes in parallel\n",
    "    n_starts=4,         # number of random genetic algorithm starts in parallel\n",
    "    n_rounds=1,         # number of budget rounds, if None it will terminate itself\n",
    "    callback=print,     # callback for internal parameter (#iteration, energies, ks) processing\n",
    "    budget=20           # budget per genetic algorithm instance\n",
    ")"
   ]
  },
  {
   "cell_type": "code",
   "execution_count": 84,
   "metadata": {},
   "outputs": [
    {
     "data": {
      "text/plain": [
       "[2, 1, 1, 2, 3, 3, 0, 0, 0, 0, 0, 3]"
      ]
     },
     "execution_count": 84,
     "metadata": {},
     "output_type": "execute_result"
    }
   ],
   "source": [
    "# the best parameters are\n",
    "ks_best"
   ]
  },
  {
   "cell_type": "code",
   "execution_count": 85,
   "metadata": {},
   "outputs": [
    {
     "data": {
      "text/plain": [
       "(0.002429814460377592, 0.0)"
      ]
     },
     "execution_count": 85,
     "metadata": {},
     "output_type": "execute_result"
    }
   ],
   "source": [
    "# with noisy/noiseless energy\n",
    "energy_noisy, energy_noiseless"
   ]
  },
  {
   "cell_type": "code",
   "execution_count": 86,
   "metadata": {},
   "outputs": [
    {
     "data": {
      "text/plain": [
       "0.002429814460377592"
      ]
     },
     "execution_count": 86,
     "metadata": {},
     "output_type": "execute_result"
    }
   ],
   "source": [
    "# differrence\n",
    "np.abs(energy_noisy-energy_noiseless)"
   ]
  },
  {
   "cell_type": "code",
   "execution_count": 87,
   "metadata": {},
   "outputs": [
    {
     "data": {
      "text/html": [
       "<pre>q0: -Y------Z-----X-@-I-I-------\n",
       "                  | |\n",
       "q1: -SQRT_Y-S_DAG-|-X-@-I-I-----\n",
       "                  |   |\n",
       "q2: -SQRT_Y-S_DAG-@---X-I-S_DAG-</pre>"
      ],
      "text/plain": [
       "q0: -Y------Z-----X-@-I-I-------\n",
       "                  | |\n",
       "q1: -SQRT_Y-S_DAG-|-X-@-I-I-----\n",
       "                  |   |\n",
       "q2: -SQRT_Y-S_DAG-@---X-I-S_DAG-"
      ]
     },
     "execution_count": 87,
     "metadata": {},
     "output_type": "execute_result"
    }
   ],
   "source": [
    "# the corresponding circuit is\n",
    "vqe_pcirc.assign(ks_best)\n",
    "vqe_pcirc.snapshot_noiseless().circ_snapshot_noiseless.diagram()"
   ]
  }
 ],
 "metadata": {
  "kernelspec": {
   "display_name": "clapton",
   "language": "python",
   "name": "python3"
  },
  "language_info": {
   "codemirror_mode": {
    "name": "ipython",
    "version": 3
   },
   "file_extension": ".py",
   "mimetype": "text/x-python",
   "name": "python",
   "nbconvert_exporter": "python",
   "pygments_lexer": "ipython3",
   "version": "3.10.15"
  }
 },
 "nbformat": 4,
 "nbformat_minor": 2
}
