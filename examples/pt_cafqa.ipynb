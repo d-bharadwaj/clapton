{
 "cells": [
  {
   "cell_type": "code",
   "execution_count": null,
   "metadata": {},
   "outputs": [],
   "source": [
    "# Notebook used to test nCAFQA with PT."
   ]
  },
  {
   "cell_type": "markdown",
   "metadata": {},
   "source": [
    "# CAFQA"
   ]
  },
  {
   "cell_type": "code",
   "execution_count": 1,
   "metadata": {},
   "outputs": [],
   "source": [
    "import sys\n",
    "sys.path.append(\"../\")\n",
    "from clapton.clapton import claptonize\n",
    "from clapton.ansatzes import circular_ansatz,circular_ansatz_mirrored\n",
    "from clapton.evaluation import get_energy\n",
    "import numpy as np\n",
    "from numbers import Number"
   ]
  },
  {
   "cell_type": "code",
   "execution_count": 2,
   "metadata": {},
   "outputs": [],
   "source": [
    "def ising_model(N, Jx, h, Jy=0., periodic=False):\n",
    "    \"\"\"\n",
    "    Constructs qubit Hamiltonian for linear Ising model.\n",
    "    H = sum_{i=0...N-2} (Jx_i X_i X_{i+1} + Jy_i Y_i Y_{i+1}) + sum_{i=0...N-1}  h_i Z_i\n",
    "\n",
    "    N (Int): # sites/qubits.\n",
    "    Jx (Float, Iterable[Float]): XX strength, either constant value or list (values for each pair of neighboring sites).\n",
    "    h (Float, Iterable[Float]): Z self-energy, either constant value or list (values for each site).\n",
    "    Jy (Float, Iterable[Float]): YY strength, either constant value or list (values for each pair of neighboring sites).\n",
    "    periodic: If periodic boundary conditions. If True, include term X_0 X_{N-1} and Y_0 Y_{N-1}.\n",
    "\n",
    "    Returns:\n",
    "    (Iterable[Float], Iterable[String], String) (Pauli coefficients, Pauli strings, \"0\"*N)\n",
    "    \"\"\"\n",
    "    if isinstance(Jx, Number):\n",
    "        if periodic:\n",
    "            Jx = [Jx] * N\n",
    "        else:\n",
    "            Jx = [Jx] * (N-1)\n",
    "    if isinstance(Jy, Number):\n",
    "        if periodic:\n",
    "            Jy = [Jy] * N\n",
    "        else:\n",
    "            Jy = [Jy] * (N-1)\n",
    "    if isinstance(h, Number):\n",
    "        h = [h] * N        \n",
    "    if N > 1:\n",
    "        assert len(Jx) == N if periodic else len(Jx) == N-1, \"Jx has wrong length\"\n",
    "        assert len(Jy) == N if periodic else len(Jy) == N-1, \"Jy has wrong length\"\n",
    "        assert len(h) == N, \"h has wrong length\"\n",
    "    coeffs = []\n",
    "    paulis = []\n",
    "    # add XX terms\n",
    "    for j in range(N-1):\n",
    "        if np.abs(Jx[j]) > 1e-12:\n",
    "            coeffs.append(Jx[j])\n",
    "            paulis.append(\"I\"*j+\"XX\"+\"I\"*(N-j-2))\n",
    "    if N > 2 and periodic and np.abs(Jx[N-1]) > 1e-12:\n",
    "        coeffs.append(Jx[N-1])\n",
    "        paulis.append(\"X\"+\"I\"*(N-2)+\"X\")\n",
    "    # add YY terms\n",
    "    for j in range(N-1):\n",
    "        if np.abs(Jy[j]) > 1e-12:\n",
    "            coeffs.append(Jy[j])\n",
    "            paulis.append(\"I\"*j+\"YY\"+\"I\"*(N-j-2))\n",
    "    if N > 2 and periodic and np.abs(Jy[N-1]) > 1e-12:\n",
    "        coeffs.append(Jy[N-1])\n",
    "        paulis.append(\"Y\"+\"I\"*(N-2)+\"Y\")\n",
    "    # add Z terms\n",
    "    for j in range(N):\n",
    "        if np.abs(h[j]) > 1e-12:\n",
    "            coeffs.append(h[j])\n",
    "            paulis.append(\"I\"*j+\"Z\"+\"I\"*(N-j-1))\n",
    "    return coeffs, paulis, \"1\"*N"
   ]
  },
  {
   "cell_type": "code",
   "execution_count": 3,
   "metadata": {},
   "outputs": [],
   "source": [
    "# set seed for reproducibility\n",
    "np.random.seed(42)\n",
    "\n",
    "# # define Hamiltonian, e.g. 3q Heisenberg model with random coefficients\n",
    "# paulis = [\"XXI\", \"IXX\", \"YYI\", \"IYY\", \"ZZI\", \"IZZ\"]\n",
    "# coeffs = np.random.random(len(paulis))\n",
    "# paulis, coeffs\n",
    "\n",
    "# Multi Qubit Hamiltonian\n",
    "num_qubits = 2\n",
    "coeffs,paulis,_ = ising_model(N=num_qubits,Jx=0.2,Jy=0.3,h=0.4)"
   ]
  },
  {
   "cell_type": "code",
   "execution_count": 4,
   "metadata": {},
   "outputs": [
    {
     "name": "stdout",
     "output_type": "stream",
     "text": [
      "Reference value: -0.80623\n"
     ]
    }
   ],
   "source": [
    "from qiskit.quantum_info import Pauli, SparsePauliOp\n",
    "from qiskit_algorithms import NumPyMinimumEigensolver\n",
    "\n",
    "weights  =  coeffs\n",
    "pauli_op = [([pauli,weight]) for pauli,weight in zip(paulis,weights)]\n",
    "hamiltonian = SparsePauliOp.from_list([ op for op in pauli_op ])\n",
    "\n",
    "numpy_solver = NumPyMinimumEigensolver()\n",
    "result = numpy_solver.compute_minimum_eigenvalue(operator=hamiltonian)\n",
    "ref_value = result.eigenvalue.real\n",
    "print(f\"Reference value: {ref_value:.5f}\")"
   ]
  },
  {
   "cell_type": "code",
   "execution_count": 5,
   "metadata": {},
   "outputs": [],
   "source": [
    "# define parametrized Clifford circuit that is being optimized over\n",
    "# here we use the circular_ansatz template\n",
    "# we fix 2q gates as they will not be optimized over\n",
    "reps = 1\n",
    "vqe_pcirc = circular_ansatz(N=num_qubits, reps=reps, fix_2q=True)"
   ]
  },
  {
   "cell_type": "code",
   "execution_count": 6,
   "metadata": {},
   "outputs": [
    {
     "name": "stdout",
     "output_type": "stream",
     "text": [
      "RY False\n",
      "RY False\n",
      "RZ False\n",
      "RZ False\n",
      "2Q True\n",
      "2Q True\n",
      "RY False\n",
      "RY False\n",
      "RZ False\n",
      "RZ False\n"
     ]
    }
   ],
   "source": [
    "# the circuit consists of parametrized gates\n",
    "for gate in vqe_pcirc.gates:\n",
    "    print(gate.label, gate.is_fixed())"
   ]
  },
  {
   "cell_type": "code",
   "execution_count": 7,
   "metadata": {},
   "outputs": [],
   "source": [
    "# non-fixed gates will be optimized over\n",
    "# RY and RZ gates can assume 4 values k = 0,1,2,3 which describe multiples of pi/2"
   ]
  },
  {
   "cell_type": "code",
   "execution_count": 8,
   "metadata": {},
   "outputs": [
    {
     "data": {
      "text/plain": [
       "[0, 0, 0, 0, 0, 0, 0, 0]"
      ]
     },
     "execution_count": 8,
     "metadata": {},
     "output_type": "execute_result"
    }
   ],
   "source": [
    "# the initial parameters are all 0\n",
    "vqe_pcirc.read()"
   ]
  },
  {
   "cell_type": "code",
   "execution_count": 9,
   "metadata": {},
   "outputs": [
    {
     "data": {
      "text/html": [
       "<pre>q0: -I-I-X-@-I-I-\n",
       "         | |\n",
       "q1: -I-I-@-X-I-I-</pre>"
      ],
      "text/plain": [
       "q0: -I-I-X-@-I-I-\n",
       "         | |\n",
       "q1: -I-I-@-X-I-I-"
      ]
     },
     "execution_count": 9,
     "metadata": {},
     "output_type": "execute_result"
    }
   ],
   "source": [
    "# we can look at the corresponding stim circuit\n",
    "vqe_pcirc.stim_circuit().diagram()"
   ]
  },
  {
   "cell_type": "code",
   "execution_count": 10,
   "metadata": {},
   "outputs": [],
   "source": [
    "# we can assign a different set of parameters\n",
    "# vqe_pcirc.assign([0,1,2,3,0,1,2,3,0,1,2,3])"
   ]
  },
  {
   "cell_type": "code",
   "execution_count": 11,
   "metadata": {},
   "outputs": [
    {
     "data": {
      "text/html": [
       "<pre>q0: -I-I-X-@-I-I-\n",
       "         | |\n",
       "q1: -I-I-@-X-I-I-</pre>"
      ],
      "text/plain": [
       "q0: -I-I-X-@-I-I-\n",
       "         | |\n",
       "q1: -I-I-@-X-I-I-"
      ]
     },
     "execution_count": 11,
     "metadata": {},
     "output_type": "execute_result"
    }
   ],
   "source": [
    "vqe_pcirc.stim_circuit().diagram()"
   ]
  },
  {
   "cell_type": "code",
   "execution_count": 12,
   "metadata": {},
   "outputs": [
    {
     "name": "stdout",
     "output_type": "stream",
     "text": [
      "STARTING ROUND 0\n",
      "\n",
      "\n",
      "started GA at id 1 with 1 procs\n",
      "\n",
      "started GA at id 2 with 1 procs\n",
      "\n"
     ]
    },
    {
     "name": "stderr",
     "output_type": "stream",
     "text": [
      "/home/dbharadwaj/anaconda3/envs/clapton/lib/python3.10/site-packages/pygad/pygad.py:1139: UserWarning: The 'delay_after_gen' parameter is deprecated starting from PyGAD 3.3.0. To delay or pause the evolution after each generation, assign a callback function/method to the 'on_generation' parameter to adds some time delay.\n",
      "  warnings.warn(\"The 'delay_after_gen' parameter is deprecated starting from PyGAD 3.3.0. To delay or pause the evolution after each generation, assign a callback function/method to the 'on_generation' parameter to adds some time delay.\")\n"
     ]
    },
    {
     "name": "stdout",
     "output_type": "stream",
     "text": [
      "started GA at id None with 1 procs\n",
      "\n",
      "\n",
      "started GA at id 3 with 1 procs\n"
     ]
    },
    {
     "name": "stderr",
     "output_type": "stream",
     "text": [
      "/home/dbharadwaj/anaconda3/envs/clapton/lib/python3.10/site-packages/pygad/pygad.py:1139: UserWarning: The 'delay_after_gen' parameter is deprecated starting from PyGAD 3.3.0. To delay or pause the evolution after each generation, assign a callback function/method to the 'on_generation' parameter to adds some time delay.\n",
      "  warnings.warn(\"The 'delay_after_gen' parameter is deprecated starting from PyGAD 3.3.0. To delay or pause the evolution after each generation, assign a callback function/method to the 'on_generation' parameter to adds some time delay.\")\n",
      "/home/dbharadwaj/anaconda3/envs/clapton/lib/python3.10/site-packages/pygad/pygad.py:1139: UserWarning: The 'delay_after_gen' parameter is deprecated starting from PyGAD 3.3.0. To delay or pause the evolution after each generation, assign a callback function/method to the 'on_generation' parameter to adds some time delay.\n",
      "  warnings.warn(\"The 'delay_after_gen' parameter is deprecated starting from PyGAD 3.3.0. To delay or pause the evolution after each generation, assign a callback function/method to the 'on_generation' parameter to adds some time delay.\")\n",
      "/home/dbharadwaj/anaconda3/envs/clapton/lib/python3.10/site-packages/pygad/pygad.py:1139: UserWarning: The 'delay_after_gen' parameter is deprecated starting from PyGAD 3.3.0. To delay or pause the evolution after each generation, assign a callback function/method to the 'on_generation' parameter to adds some time delay.\n",
      "  warnings.warn(\"The 'delay_after_gen' parameter is deprecated starting from PyGAD 3.3.0. To delay or pause the evolution after each generation, assign a callback function/method to the 'on_generation' parameter to adds some time delay.\")\n"
     ]
    },
    {
     "name": "stdout",
     "output_type": "stream",
     "text": [
      "[0, array([0., 0., 0., 0.]), array([3, 3, 0, 2, 3, 3, 2, 3], dtype=object)]\n",
      "[0, array([0., 0., 0., 0.]), array([3, 3, 0, 2, 3, 3, 2, 3], dtype=object)]\n",
      "[0, array([0., 0., 0., 0.]), array([3, 3, 0, 2, 3, 3, 2, 3], dtype=object)]\n",
      "[0, array([0., 0., 0., 0.]), array([3, 3, 0, 2, 3, 3, 2, 3], dtype=object)]\n",
      "[1, array([0., 0., 0., 0.]), array([3, 1, 1, 3, 2, 1, 2, 3], dtype=object)]\n",
      "[1, array([0., 0., 0., 0.]), array([3, 1, 1, 3, 2, 1, 2, 3], dtype=object)]\n",
      "[1, array([0., 0., 0., 0.]), array([3, 1, 1, 3, 2, 1, 2, 3], dtype=object)][1, array([0., 0., 0., 0.]), array([3, 1, 1, 3, 2, 1, 2, 3], dtype=object)]\n",
      "\n",
      "[2, array([0., 0., 0., 0.]), array([3, 1, 2, 3, 2, 1, 2, 3], dtype=object)]\n",
      "[2, array([0., 0., 0., 0.]), array([3, 1, 2, 3, 2, 1, 2, 3], dtype=object)][2, array([0., 0., 0., 0.]), array([3, 1, 2, 3, 2, 1, 2, 3], dtype=object)][2, array([0., 0., 0., 0.]), array([3, 1, 2, 3, 2, 1, 2, 3], dtype=object)]\n",
      "\n",
      "\n",
      "[3, array([0., 0., 0., 0.]), array([1, 1, 3, 2, 0, 0, 2, 1], dtype=object)]\n",
      "[3, array([0., 0., 0., 0.]), array([1, 1, 3, 2, 0, 0, 2, 1], dtype=object)][3, array([0., 0., 0., 0.]), array([1, 1, 3, 2, 0, 0, 2, 1], dtype=object)][3, array([0., 0., 0., 0.]), array([1, 1, 3, 2, 0, 0, 2, 1], dtype=object)]\n",
      "\n",
      "\n",
      "[4, array([0., 0., 0., 0.]), array([1, 1, 3, 2, 0, 0, 2, 1], dtype=object)]\n",
      "[4, array([0., 0., 0., 0.]), array([1, 1, 3, 2, 0, 0, 2, 1], dtype=object)][4, array([0., 0., 0., 0.]), array([1, 1, 3, 2, 0, 0, 2, 1], dtype=object)][4, array([0., 0., 0., 0.]), array([1, 1, 3, 2, 0, 0, 2, 1], dtype=object)]\n",
      "\n",
      "\n",
      "[5, array([0., 0., 0., 0.]), array([3, 1, 1, 0, 3, 0, 0, 3], dtype=object)]\n",
      "[5, array([0., 0., 0., 0.]), array([3, 1, 1, 0, 3, 0, 0, 3], dtype=object)][5, array([0., 0., 0., 0.]), array([3, 1, 1, 0, 3, 0, 0, 3], dtype=object)][5, array([0., 0., 0., 0.]), array([3, 1, 1, 0, 3, 0, 0, 3], dtype=object)]\n",
      "\n",
      "\n",
      "[6, array([0., 0., 0., 0.]), array([3, 1, 1, 0, 3, 0, 0, 3], dtype=object)]\n",
      "[6, array([0., 0., 0., 0.]), array([3, 1, 1, 0, 3, 0, 0, 3], dtype=object)][6, array([0., 0., 0., 0.]), array([3, 1, 1, 0, 3, 0, 0, 3], dtype=object)]\n",
      "[6, array([0., 0., 0., 0.]), array([3, 1, 1, 0, 3, 0, 0, 3], dtype=object)]\n",
      "\n",
      "[7, array([0., 0., 0., 0.]), array([3, 1, 1, 0, 3, 0, 0, 3], dtype=object)]\n",
      "[7, array([0., 0., 0., 0.]), array([3, 1, 1, 0, 3, 0, 0, 3], dtype=object)][7, array([0., 0., 0., 0.]), array([3, 1, 1, 0, 3, 0, 0, 3], dtype=object)]\n",
      "\n",
      "[7, array([0., 0., 0., 0.]), array([3, 1, 1, 0, 3, 0, 0, 3], dtype=object)]\n",
      "[8, array([0., 0., 0., 0.]), array([3, 1, 1, 0, 3, 0, 0, 3], dtype=object)]\n",
      "[8, array([0., 0., 0., 0.]), array([3, 1, 1, 0, 3, 0, 0, 3], dtype=object)]\n",
      "[8, array([0., 0., 0., 0.]), array([3, 1, 1, 0, 3, 0, 0, 3], dtype=object)]\n",
      "[8, array([0., 0., 0., 0.]), array([3, 1, 1, 0, 3, 0, 0, 3], dtype=object)]\n",
      "[9, array([0., 0., 0., 0.]), array([3, 0, 1, 2, 2, 3, 2, 1], dtype=object)]\n",
      "[9, array([0., 0., 0., 0.]), array([3, 0, 1, 2, 2, 3, 2, 1], dtype=object)][9, array([0., 0., 0., 0.]), array([3, 0, 1, 2, 2, 3, 2, 1], dtype=object)]\n",
      "\n",
      "\n",
      "[9, array([0., 0., 0., 0.]), array([3, 0, 1, 2, 2, 3, 2, 1], dtype=object)][10, array([0., 0., 0., 0.]), array([3, 0, 1, 2, 2, 3, 2, 1], dtype=object)]\n",
      "[10, array([0., 0., 0., 0.]), array([3, 0, 1, 2, 2, 3, 2, 1], dtype=object)]\n",
      "[10, array([0., 0., 0., 0.]), array([3, 0, 1, 2, 2, 3, 2, 1], dtype=object)][10, array([0., 0., 0., 0.]), array([3, 0, 1, 2, 2, 3, 2, 1], dtype=object)]\n",
      "\n",
      "[11, array([0., 0., 0., 0.]), array([3, 3, 0, 1, 2, 1, 2, 1], dtype=object)][11, array([0., 0., 0., 0.]), array([3, 3, 0, 1, 2, 1, 2, 1], dtype=object)]\n",
      "\n",
      "[11, array([0., 0., 0., 0.]), array([3, 3, 0, 1, 2, 1, 2, 1], dtype=object)]\n",
      "[11, array([0., 0., 0., 0.]), array([3, 3, 0, 1, 2, 1, 2, 1], dtype=object)]\n",
      "[12, array([0., 0., 0., 0.]), array([3, 3, 0, 1, 0, 0, 2, 1], dtype=object)]\n",
      "[12, array([0., 0., 0., 0.]), array([3, 3, 0, 1, 0, 0, 2, 1], dtype=object)]\n",
      "[12, array([0., 0., 0., 0.]), array([3, 3, 0, 1, 0, 0, 2, 1], dtype=object)]\n",
      "[12, array([0., 0., 0., 0.]), array([3, 3, 0, 1, 0, 0, 2, 1], dtype=object)]\n",
      "[13, array([0., 0., 0., 0.]), array([3, 1, 1, 2, 2, 1, 3, 3], dtype=object)][13, array([0., 0., 0., 0.]), array([3, 1, 1, 2, 2, 1, 3, 3], dtype=object)]\n",
      "\n",
      "[13, array([0., 0., 0., 0.]), array([3, 1, 1, 2, 2, 1, 3, 3], dtype=object)]\n",
      "[13, array([0., 0., 0., 0.]), array([3, 1, 1, 2, 2, 1, 3, 3], dtype=object)]\n",
      "[14, array([0., 0., 0., 0.]), array([3, 1, 1, 2, 2, 1, 3, 3], dtype=object)][14, array([0., 0., 0., 0.]), array([3, 1, 1, 2, 2, 1, 3, 3], dtype=object)]\n",
      "\n",
      "[14, array([0., 0., 0., 0.]), array([3, 1, 1, 2, 2, 1, 3, 3], dtype=object)]\n",
      "[14, array([0., 0., 0., 0.]), array([3, 1, 1, 2, 2, 1, 3, 3], dtype=object)]\n",
      "[15, array([0., 0., 0., 0.]), array([3, 1, 1, 2, 2, 3, 3, 3], dtype=object)][15, array([0., 0., 0., 0.]), array([3, 1, 1, 2, 2, 3, 3, 3], dtype=object)]\n",
      "\n",
      "[15, array([0., 0., 0., 0.]), array([3, 1, 1, 2, 2, 3, 3, 3], dtype=object)]\n",
      "[15, array([0., 0., 0., 0.]), array([3, 1, 1, 2, 2, 3, 3, 3], dtype=object)]\n",
      "[16, array([0., 0., 0., 0.]), array([3, 1, 1, 2, 2, 3, 3, 3], dtype=object)][16, array([0., 0., 0., 0.]), array([3, 1, 1, 2, 2, 3, 3, 3], dtype=object)]\n",
      "\n",
      "[16, array([0., 0., 0., 0.]), array([3, 1, 1, 2, 2, 3, 3, 3], dtype=object)]\n",
      "[16, array([0., 0., 0., 0.]), array([3, 1, 1, 2, 2, 3, 3, 3], dtype=object)]\n",
      "[17, array([0., 0., 0., 0.]), array([3, 0, 1, 1, 2, 2, 3, 1], dtype=object)][17, array([0., 0., 0., 0.]), array([3, 0, 1, 1, 2, 2, 3, 1], dtype=object)]\n",
      "\n",
      "[17, array([0., 0., 0., 0.]), array([3, 0, 1, 1, 2, 2, 3, 1], dtype=object)]\n",
      "[17, array([0., 0., 0., 0.]), array([3, 0, 1, 1, 2, 2, 3, 1], dtype=object)]\n",
      "[18, array([0., 0., 0., 0.]), array([3, 0, 1, 1, 2, 2, 3, 1], dtype=object)][18, array([0., 0., 0., 0.]), array([3, 0, 1, 1, 2, 2, 3, 1], dtype=object)]\n",
      "\n",
      "[18, array([0., 0., 0., 0.]), array([3, 0, 1, 1, 2, 2, 3, 1], dtype=object)]\n",
      "[18, array([0., 0., 0., 0.]), array([3, 0, 1, 1, 2, 2, 3, 1], dtype=object)]\n",
      "[19, array([0., 0., 0., 0.]), array([3, 0, 1, 0, 2, 2, 3, 1], dtype=object)][19, array([0., 0., 0., 0.]), array([3, 0, 1, 0, 2, 2, 3, 1], dtype=object)]\n",
      "\n",
      "[19, array([0., 0., 0., 0.]), array([3, 0, 1, 0, 2, 2, 3, 1], dtype=object)]\n",
      "[20, array([0., 0., 0., 0.]), array([3, 0, 1, 1, 2, 2, 3, 1], dtype=object)]\n",
      "[20, array([0., 0., 0., 0.]), array([3, 0, 1, 1, 2, 2, 3, 1], dtype=object)]\n",
      "[19, array([0., 0., 0., 0.]), array([3, 0, 1, 0, 2, 2, 3, 1], dtype=object)]\n",
      "[20, array([0., 0., 0., 0.]), array([3, 0, 1, 1, 2, 2, 3, 1], dtype=object)]\n",
      "[20, array([0., 0., 0., 0.]), array([3, 0, 1, 1, 2, 2, 3, 1], dtype=object)]\n",
      "[21, array([0., 0., 0., 0.]), array([3, 0, 1, 2, 2, 2, 3, 3], dtype=object)][21, array([0., 0., 0., 0.]), array([3, 0, 1, 2, 2, 2, 3, 3], dtype=object)]\n",
      "\n",
      "[21, array([0., 0., 0., 0.]), array([3, 0, 1, 2, 2, 2, 3, 3], dtype=object)]\n",
      "[22, array([0., 0., 0., 0.]), array([1, 0, 0, 3, 2, 1, 3, 3], dtype=object)][22, array([0., 0., 0., 0.]), array([1, 0, 0, 3, 2, 1, 3, 3], dtype=object)]\n",
      "\n",
      "[21, array([0., 0., 0., 0.]), array([3, 0, 1, 2, 2, 2, 3, 3], dtype=object)]\n",
      "[22, array([0., 0., 0., 0.]), array([1, 0, 0, 3, 2, 1, 3, 3], dtype=object)]\n",
      "[23, array([0., 0., 0., 0.]), array([0, 0, 1, 3, 0, 2, 3, 1], dtype=object)][23, array([0., 0., 0., 0.]), array([0, 0, 1, 3, 0, 2, 3, 1], dtype=object)]\n",
      "\n",
      "[22, array([0., 0., 0., 0.]), array([1, 0, 0, 3, 2, 1, 3, 3], dtype=object)]\n",
      "[23, array([0., 0., 0., 0.]), array([0, 0, 1, 3, 0, 2, 3, 1], dtype=object)]\n",
      "[23, array([0., 0., 0., 0.]), array([0, 0, 1, 3, 0, 2, 3, 1], dtype=object)]\n",
      "[24, array([0., 0., 0., 0.]), array([0, 0, 1, 3, 0, 2, 3, 1], dtype=object)][24, array([0., 0., 0., 0.]), array([0, 0, 1, 3, 0, 2, 3, 1], dtype=object)]\n",
      "\n",
      "[24, array([0., 0., 0., 0.]), array([0, 0, 1, 3, 0, 2, 3, 1], dtype=object)]\n",
      "[24, array([0., 0., 0., 0.]), array([0, 0, 1, 3, 0, 2, 3, 1], dtype=object)]\n",
      "[25, array([0., 0., 0., 0.]), array([3, 0, 2, 0, 2, 2, 3, 1], dtype=object)]\n",
      "[25, array([0., 0., 0., 0.]), array([3, 0, 2, 0, 2, 2, 3, 1], dtype=object)]\n",
      "[25, array([0., 0., 0., 0.]), array([3, 0, 2, 0, 2, 2, 3, 1], dtype=object)]\n",
      "[26, array([0., 0., 0., 0.]), array([3, 0, 2, 0, 2, 2, 3, 1], dtype=object)]\n",
      "[26, array([0., 0., 0., 0.]), array([3, 0, 2, 0, 2, 2, 3, 1], dtype=object)]\n",
      "[25, array([0., 0., 0., 0.]), array([3, 0, 2, 0, 2, 2, 3, 1], dtype=object)]\n",
      "[26, array([0., 0., 0., 0.]), array([3, 0, 2, 0, 2, 2, 3, 1], dtype=object)]\n",
      "[27, array([0., 0., 0., 0.]), array([1, 0, 1, 2, 2, 1, 3, 1], dtype=object)]\n",
      "[27, array([0., 0., 0., 0.]), array([1, 0, 1, 2, 2, 1, 3, 1], dtype=object)][26, array([0., 0., 0., 0.]), array([3, 0, 2, 0, 2, 2, 3, 1], dtype=object)]\n",
      "\n",
      "[27, array([0., 0., 0., 0.]), array([1, 0, 1, 2, 2, 1, 3, 1], dtype=object)]\n",
      "[28, array([0., 0., 0., 0.]), array([1, 0, 1, 2, 2, 1, 3, 1], dtype=object)]\n",
      "[28, array([0., 0., 0., 0.]), array([1, 0, 1, 2, 2, 1, 3, 1], dtype=object)]\n",
      "[27, array([0., 0., 0., 0.]), array([1, 0, 1, 2, 2, 1, 3, 1], dtype=object)]\n",
      "[28, array([0., 0., 0., 0.]), array([1, 0, 1, 2, 2, 1, 3, 1], dtype=object)]\n",
      "[29, array([0., 0., 0., 0.]), array([3, 0, 2, 1, 2, 1, 3, 1], dtype=object)]\n",
      "[29, array([0., 0., 0., 0.]), array([3, 0, 2, 1, 2, 1, 3, 1], dtype=object)]\n",
      "[28, array([0., 0., 0., 0.]), array([1, 0, 1, 2, 2, 1, 3, 1], dtype=object)]\n",
      "[29, array([0., 0., 0., 0.]), array([3, 0, 2, 1, 2, 1, 3, 1], dtype=object)]\n",
      "[30, array([0., 0., 0., 0.]), array([1, 0, 0, 0, 2, 1, 3, 1], dtype=object)]\n",
      "[30, array([0., 0., 0., 0.]), array([1, 0, 0, 0, 2, 1, 3, 1], dtype=object)]\n",
      "[29, array([0., 0., 0., 0.]), array([3, 0, 2, 1, 2, 1, 3, 1], dtype=object)]\n",
      "[30, array([0., 0., 0., 0.]), array([1, 0, 0, 0, 2, 1, 3, 1], dtype=object)]\n",
      "[31, array([0., 0., 0., 0.]), array([3, 0, 0, 0, 2, 1, 3, 1], dtype=object)][31, array([0., 0., 0., 0.]), array([3, 0, 0, 0, 2, 1, 3, 1], dtype=object)]\n",
      "\n",
      "[30, array([0., 0., 0., 0.]), array([1, 0, 0, 0, 2, 1, 3, 1], dtype=object)]\n",
      "[31, array([0., 0., 0., 0.]), array([3, 0, 0, 0, 2, 1, 3, 1], dtype=object)]\n",
      "[32, array([0., 0., 0., 0.]), array([3, 0, 0, 0, 0, 1, 3, 1], dtype=object)][32, array([0., 0., 0., 0.]), array([3, 0, 0, 0, 0, 1, 3, 1], dtype=object)]\n",
      "\n",
      "[31, array([0., 0., 0., 0.]), array([3, 0, 0, 0, 2, 1, 3, 1], dtype=object)]\n",
      "[32, array([0., 0., 0., 0.]), array([3, 0, 0, 0, 0, 1, 3, 1], dtype=object)]\n",
      "[33, array([0., 0., 0., 0.]), array([3, 0, 0, 2, 2, 1, 3, 1], dtype=object)][33, array([0., 0., 0., 0.]), array([3, 0, 0, 2, 2, 1, 3, 1], dtype=object)]\n",
      "\n",
      "[33, array([0., 0., 0., 0.]), array([3, 0, 0, 2, 2, 1, 3, 1], dtype=object)]\n",
      "[32, array([0., 0., 0., 0.]), array([3, 0, 0, 0, 0, 1, 3, 1], dtype=object)]\n",
      "[34, array([0., 0., 0., 0.]), array([3, 0, 0, 2, 2, 1, 3, 1], dtype=object)][34, array([0., 0., 0., 0.]), array([3, 0, 0, 2, 2, 1, 3, 1], dtype=object)]\n",
      "\n",
      "[34, array([0., 0., 0., 0.]), array([3, 0, 0, 2, 2, 1, 3, 1], dtype=object)]\n",
      "[33, array([0., 0., 0., 0.]), array([3, 0, 0, 2, 2, 1, 3, 1], dtype=object)]\n",
      "[35, array([0., 0., 0., 0.]), array([3, 0, 2, 1, 2, 1, 3, 3], dtype=object)]\n",
      "[35, array([0., 0., 0., 0.]), array([3, 0, 2, 1, 2, 1, 3, 3], dtype=object)]\n",
      "[35, array([0., 0., 0., 0.]), array([3, 0, 2, 1, 2, 1, 3, 3], dtype=object)]\n",
      "[34, array([0., 0., 0., 0.]), array([3, 0, 0, 2, 2, 1, 3, 1], dtype=object)]\n",
      "[36, array([0., 0., 0., 0.]), array([3, 0, 2, 1, 2, 1, 3, 3], dtype=object)][36, array([0., 0., 0., 0.]), array([3, 0, 2, 1, 2, 1, 3, 3], dtype=object)]\n",
      "\n",
      "[36, array([0., 0., 0., 0.]), array([3, 0, 2, 1, 2, 1, 3, 3], dtype=object)]\n",
      "[35, array([0., 0., 0., 0.]), array([3, 0, 2, 1, 2, 1, 3, 3], dtype=object)]\n",
      "[37, array([0., 0., 0., 0.]), array([1, 0, 1, 0, 2, 2, 3, 1], dtype=object)][37, array([0., 0., 0., 0.]), array([1, 0, 1, 0, 2, 2, 3, 1], dtype=object)]\n",
      "\n",
      "[37, array([0., 0., 0., 0.]), array([1, 0, 1, 0, 2, 2, 3, 1], dtype=object)]\n",
      "[36, array([0., 0., 0., 0.]), array([3, 0, 2, 1, 2, 1, 3, 3], dtype=object)]\n",
      "[38, array([0., 0., 0., 0.]), array([3, 0, 0, 0, 2, 2, 1, 1], dtype=object)][38, array([0., 0., 0., 0.]), array([3, 0, 0, 0, 2, 2, 1, 1], dtype=object)]\n",
      "\n",
      "[38, array([0., 0., 0., 0.]), array([3, 0, 0, 0, 2, 2, 1, 1], dtype=object)]\n",
      "[37, array([0., 0., 0., 0.]), array([1, 0, 1, 0, 2, 2, 3, 1], dtype=object)]\n",
      "[39, array([0., 0., 0., 0.]), array([1, 0, 2, 0, 2, 2, 3, 1], dtype=object)]\n",
      "[39, array([0., 0., 0., 0.]), array([1, 0, 2, 0, 2, 2, 3, 1], dtype=object)]\n",
      "[39, array([0., 0., 0., 0.]), array([1, 0, 2, 0, 2, 2, 3, 1], dtype=object)]\n",
      "[38, array([0., 0., 0., 0.]), array([3, 0, 0, 0, 2, 2, 1, 1], dtype=object)]\n",
      "[40, array([0., 0., 0., 0.]), array([1, 0, 2, 0, 2, 2, 3, 1], dtype=object)][40, array([0., 0., 0., 0.]), array([1, 0, 2, 0, 2, 2, 3, 1], dtype=object)]\n",
      "\n",
      "[40, array([0., 0., 0., 0.]), array([1, 0, 2, 0, 2, 2, 3, 1], dtype=object)]\n",
      "[39, array([0., 0., 0., 0.]), array([1, 0, 2, 0, 2, 2, 3, 1], dtype=object)]\n",
      "[40, array([0., 0., 0., 0.]), array([1, 0, 2, 0, 2, 2, 3, 1], dtype=object)]\n"
     ]
    }
   ],
   "source": [
    "# we can perform CAFQA by using the main optimization function \"claptonize\"\n",
    "ks_best, _, energy_best = claptonize(\n",
    "    paulis,\n",
    "    coeffs,\n",
    "    vqe_pcirc,\n",
    "    n_proc=4,           # total number of processes in parallel\n",
    "    n_starts=4,         # number of random genetic algorithm starts in parallel\n",
    "    n_rounds=1,         # number of budget rounds, if None it will terminate itself\n",
    "    callback=print,     # callback for internal parameter (#iteration, energies, ks) processing\n",
    "    budget=20           # budget per genetic algorithm instance\n",
    ")"
   ]
  },
  {
   "cell_type": "code",
   "execution_count": 13,
   "metadata": {},
   "outputs": [
    {
     "data": {
      "text/plain": [
       "[1, 0, 2, 0, 2, 1, 3, 1]"
      ]
     },
     "execution_count": 13,
     "metadata": {},
     "output_type": "execute_result"
    }
   ],
   "source": [
    "# the best parameters are\n",
    "ks_best"
   ]
  },
  {
   "cell_type": "code",
   "execution_count": 14,
   "metadata": {},
   "outputs": [
    {
     "data": {
      "text/plain": [
       "0.0"
      ]
     },
     "execution_count": 14,
     "metadata": {},
     "output_type": "execute_result"
    }
   ],
   "source": [
    "# with energy\n",
    "energy_best "
   ]
  },
  {
   "cell_type": "code",
   "execution_count": 15,
   "metadata": {},
   "outputs": [
    {
     "data": {
      "text/html": [
       "<pre>q0: -SQRT_Y-Z-X-@-Y------S_DAG-\n",
       "              | |\n",
       "q1: -I------I-@-X-SQRT_Y-S-----</pre>"
      ],
      "text/plain": [
       "q0: -SQRT_Y-Z-X-@-Y------S_DAG-\n",
       "              | |\n",
       "q1: -I------I-@-X-SQRT_Y-S-----"
      ]
     },
     "execution_count": 15,
     "metadata": {},
     "output_type": "execute_result"
    }
   ],
   "source": [
    "# the corresponding circuit is\n",
    "vqe_pcirc.assign(ks_best)\n",
    "vqe_pcirc.stim_circuit().diagram()"
   ]
  },
  {
   "cell_type": "markdown",
   "metadata": {},
   "source": [
    "# noisy CAFQA (nCAFQA)"
   ]
  },
  {
   "cell_type": "code",
   "execution_count": 16,
   "metadata": {},
   "outputs": [],
   "source": [
    "from clapton.depolarization import GateGeneralDepolarizationModel"
   ]
  },
  {
   "cell_type": "code",
   "execution_count": 17,
   "metadata": {},
   "outputs": [],
   "source": [
    "# let's add a noise model where we specify global 1q and 2q gate errors\n",
    "nm = GateGeneralDepolarizationModel(p1=0.005, p2=0.05) #NOTE: This is the Noise Model, not representative of device noise"
   ]
  },
  {
   "cell_type": "code",
   "execution_count": 18,
   "metadata": {},
   "outputs": [
    {
     "data": {
      "text/plain": [
       "<clapton.clifford.ParametrizedCliffordCircuit at 0x7f5e228b1fc0>"
      ]
     },
     "execution_count": 18,
     "metadata": {},
     "output_type": "execute_result"
    }
   ],
   "source": [
    "vqe_pcirc = circular_ansatz(N=num_qubits, reps=reps, fix_2q=True)\n",
    "vqe_pcirc.add_depolarization_model(nm)"
   ]
  },
  {
   "cell_type": "code",
   "execution_count": 19,
   "metadata": {},
   "outputs": [
    {
     "data": {
      "text/html": [
       "<pre>q0: -I-DEPOLARIZE1(0.005)-I------------------DEPOLARIZE1(0.005)--------------------X-DEPOLARIZE2(0.05)-@-DEPOLARIZE2(0.05)-I-DEPOLARIZE1(0.005)-I------------------DEPOLARIZE1(0.005)--------------------\n",
       "                                                                                   | |                 | |\n",
       "q1: ---I------------------DEPOLARIZE1(0.005)-I------------------DEPOLARIZE1(0.005)-@-DEPOLARIZE2(0.05)-X-DEPOLARIZE2(0.05)---I------------------DEPOLARIZE1(0.005)-I------------------DEPOLARIZE1(0.005)-</pre>"
      ],
      "text/plain": [
       "q0: -I-DEPOLARIZE1(0.005)-I------------------DEPOLARIZE1(0.005)--------------------X-DEPOLARIZE2(0.05)-@-DEPOLARIZE2(0.05)-I-DEPOLARIZE1(0.005)-I------------------DEPOLARIZE1(0.005)--------------------\n",
       "                                                                                   | |                 | |\n",
       "q1: ---I------------------DEPOLARIZE1(0.005)-I------------------DEPOLARIZE1(0.005)-@-DEPOLARIZE2(0.05)-X-DEPOLARIZE2(0.05)---I------------------DEPOLARIZE1(0.005)-I------------------DEPOLARIZE1(0.005)-"
      ]
     },
     "execution_count": 19,
     "metadata": {},
     "output_type": "execute_result"
    }
   ],
   "source": [
    "# after every gate a depol channel is added\n",
    "vqe_pcirc.stim_circuit().diagram()"
   ]
  },
  {
   "cell_type": "code",
   "execution_count": 20,
   "metadata": {},
   "outputs": [
    {
     "name": "stdout",
     "output_type": "stream",
     "text": [
      "STARTING ROUND 0\n",
      "\n",
      "\n",
      "started GA at id 1 with 1 procs\n",
      "\n",
      "started GA at id 2 with 1 procs\n",
      "\n",
      "\n",
      "started GA at id None with 1 procs\n",
      "\n",
      "started GA at id 3 with 1 procs\n",
      "[0, array([-0.00712, -0.00712,  0.     ,  0.     ]), array([1, 2, 0, 2, 1, 3, 3, 0], dtype=object)]\n",
      "[0, array([-0.00538, -0.00538,  0.     ,  0.     ]), array([3, 1, 1, 3, 1, 0, 3, 0], dtype=object)]\n",
      "[0, array([-0.00892, -0.00892,  0.     ,  0.     ]), array([0, 3, 1, 2, 0, 3, 3, 0], dtype=object)]\n",
      "[0, array([-0.0083, -0.0083,  0.    ,  0.    ]), array([2, 2, 3, 2, 3, 2, 1, 0], dtype=object)]\n",
      "[1, array([-0.00842, -0.00842,  0.     ,  0.     ]), array([3, 0, 2, 1, 2, 1, 3, 1], dtype=object)]\n",
      "[1, array([-0.00852, -0.00852,  0.     ,  0.     ]), array([0, 3, 2, 1, 2, 3, 3, 3], dtype=object)]\n",
      "[1, array([-0.01028, -0.01028,  0.     ,  0.     ]), array([3, 3, 0, 0, 0, 1, 1, 0], dtype=object)]\n",
      "[1, array([-0.00646, -0.00646,  0.     ,  0.     ]), array([1, 0, 3, 3, 2, 2, 3, 2], dtype=object)]\n",
      "[2, array([-0.00508, -0.00508,  0.     ,  0.     ]), array([3, 1, 1, 2, 1, 3, 0, 1], dtype=object)]\n",
      "[2, array([-0.00638, -0.00638,  0.     ,  0.     ]), array([2, 0, 3, 1, 2, 1, 3, 1], dtype=object)]\n",
      "[2, array([-0.00632, -0.00632,  0.     ,  0.     ]), array([0, 2, 3, 3, 0, 0, 0, 1], dtype=object)]\n",
      "[2, array([-0.00648, -0.00648,  0.     ,  0.     ]), array([1, 3, 0, 0, 0, 1, 2, 2], dtype=object)]\n",
      "[3, array([-0.00568, -0.00568,  0.     ,  0.     ]), array([3, 0, 3, 2, 3, 1, 3, 2], dtype=object)]\n",
      "[3, array([-0.0104, -0.0104,  0.    ,  0.    ]), array([3, 1, 3, 2, 3, 2, 1, 0], dtype=object)]\n",
      "[3, array([-0.00664, -0.00664,  0.     ,  0.     ]), array([3, 2, 0, 1, 1, 2, 0, 1], dtype=object)]\n",
      "[3, array([-0.00918, -0.00918,  0.     ,  0.     ]), array([3, 0, 2, 3, 3, 1, 1, 0], dtype=object)]\n",
      "[4, array([-0.00636, -0.00636,  0.     ,  0.     ]), array([1, 0, 1, 3, 2, 1, 3, 2], dtype=object)]\n",
      "[4, array([-0.00888, -0.00888,  0.     ,  0.     ]), array([1, 0, 3, 2, 0, 3, 2, 1], dtype=object)]\n",
      "[4, array([-0.00614, -0.00614,  0.     ,  0.     ]), array([3, 1, 1, 3, 1, 3, 3, 2], dtype=object)]\n",
      "[4, array([-0.00356, -0.00356,  0.     ,  0.     ]), array([3, 0, 2, 1, 3, 1, 3, 1], dtype=object)]\n",
      "[5, array([-0.0048, -0.0048,  0.    ,  0.    ]), array([3, 0, 3, 2, 3, 2, 1, 0], dtype=object)]\n",
      "[5, array([-0.0063, -0.0063,  0.    ,  0.    ]), array([0, 0, 3, 3, 2, 1, 0, 3], dtype=object)]\n",
      "[5, array([-0.0043, -0.0043,  0.    ,  0.    ]), array([2, 2, 1, 3, 0, 0, 2, 3], dtype=object)]\n",
      "[5, array([-0.00496, -0.00496,  0.     ,  0.     ]), array([0, 3, 2, 3, 3, 0, 3, 3], dtype=object)]\n",
      "[6, array([-0.00438, -0.00438,  0.     ,  0.     ]), array([2, 3, 0, 3, 2, 1, 3, 2], dtype=object)]\n",
      "[6, array([-0.00764, -0.00764,  0.     ,  0.     ]), array([3, 0, 3, 1, 0, 0, 1, 1], dtype=object)]\n",
      "[6, array([-0.00546, -0.00546,  0.     ,  0.     ]), array([0, 3, 2, 1, 2, 1, 3, 0], dtype=object)]\n",
      "\n",
      "[6, array([-0.0121, -0.0121,  0.    ,  0.    ]), array([0, 3, 0, 3, 1, 0, 3, 0], dtype=object)][7, array([-0.008, -0.008,  0.   ,  0.   ]), array([3, 1, 1, 1, 1, 2, 3, 2], dtype=object)][7, array([-0.00882, -0.00882,  0.     ,  0.     ]), array([3, 0, 3, 2, 1, 2, 0, 1], dtype=object)]\n",
      "\n",
      "[7, array([-0.01094, -0.01094,  0.     ,  0.     ]), array([1, 0, 3, 3, 0, 0, 2, 1], dtype=object)]\n",
      "\n",
      "[7, array([-0.00532, -0.00532,  0.     ,  0.     ]), array([2, 2, 2, 1, 2, 1, 3, 0], dtype=object)][8, array([-0.00316, -0.00316,  0.     ,  0.     ]), array([0, 1, 0, 0, 0, 0, 1, 1], dtype=object)]\n",
      "[8, array([-0.00562, -0.00562,  0.     ,  0.     ]), array([3, 3, 1, 1, 3, 0, 2, 3], dtype=object)]\n",
      "[8, array([-0.00394, -0.00394,  0.     ,  0.     ]), array([2, 2, 3, 2, 1, 0, 2, 0], dtype=object)]\n",
      "[8, array([-0.00464, -0.00464,  0.     ,  0.     ]), array([3, 2, 0, 1, 0, 1, 3, 1], dtype=object)]\n",
      "[9, array([-0.00418, -0.00418,  0.     ,  0.     ]), array([3, 3, 0, 1, 3, 0, 2, 1], dtype=object)]\n",
      "[9, array([-0.0098, -0.0098,  0.    ,  0.    ]), array([0, 3, 1, 2, 0, 1, 2, 2], dtype=object)]\n",
      "[9, array([-0.00594, -0.00594,  0.     ,  0.     ]), array([3, 1, 1, 3, 1, 0, 3, 2], dtype=object)]\n",
      "[9, array([-0.00528, -0.00528,  0.     ,  0.     ]), array([3, 2, 0, 1, 0, 1, 1, 3], dtype=object)]\n",
      "[10, array([-0.00492, -0.00492,  0.     ,  0.     ]), array([2, 2, 2, 2, 3, 0, 2, 1], dtype=object)]\n",
      "[10, array([-0.00766, -0.00766,  0.     ,  0.     ]), array([3, 3, 2, 3, 2, 2, 0, 0], dtype=object)]\n",
      "[10, array([-0.00686, -0.00686,  0.     ,  0.     ]), array([3, 3, 0, 3, 1, 0, 3, 0], dtype=object)]\n",
      "[10, array([-0.00644, -0.00644,  0.     ,  0.     ]), array([3, 2, 0, 1, 0, 1, 1, 3], dtype=object)]\n",
      "[11, array([-0.00782, -0.00782,  0.     ,  0.     ]), array([2, 2, 2, 1, 0, 0, 2, 1], dtype=object)]\n",
      "[11, array([-0.00762, -0.00762,  0.     ,  0.     ]), array([2, 1, 0, 3, 0, 3, 2, 0], dtype=object)]\n",
      "[11, array([-0.00538, -0.00538,  0.     ,  0.     ]), array([0, 1, 0, 3, 0, 2, 3, 2], dtype=object)]\n",
      "[11, array([-0.00898, -0.00898,  0.     ,  0.     ]), array([3, 3, 1, 2, 1, 3, 1, 2], dtype=object)]\n",
      "[12, array([-0.00806, -0.00806,  0.     ,  0.     ]), array([1, 3, 0, 1, 3, 3, 2, 0], dtype=object)]\n",
      "[12, array([-0.00772, -0.00772,  0.     ,  0.     ]), array([3, 0, 0, 1, 3, 0, 2, 2], dtype=object)]\n",
      "[12, array([-0.00592, -0.00592,  0.     ,  0.     ]), array([0, 0, 0, 2, 2, 0, 0, 0], dtype=object)]\n",
      "[12, array([-0.0061, -0.0061,  0.    ,  0.    ]), array([3, 3, 2, 2, 2, 2, 1, 1], dtype=object)]\n",
      "[13, array([-0.00816, -0.00816,  0.     ,  0.     ]), array([0, 3, 0, 3, 1, 0, 3, 0], dtype=object)]\n",
      "[13, array([-0.00448, -0.00448,  0.     ,  0.     ]), array([3, 3, 0, 1, 3, 0, 2, 1], dtype=object)]\n",
      "[13, array([-0.0037, -0.0037,  0.    ,  0.    ]), array([3, 3, 0, 2, 1, 3, 1, 1], dtype=object)]\n",
      "[13, array([-0.00706, -0.00706,  0.     ,  0.     ]), array([0, 1, 1, 0, 0, 2, 0, 2], dtype=object)]\n",
      "[14, array([-0.00646, -0.00646,  0.     ,  0.     ]), array([2, 1, 1, 3, 1, 0, 3, 3], dtype=object)]\n",
      "[14, array([-0.00478, -0.00478,  0.     ,  0.     ]), array([1, 3, 2, 3, 1, 3, 1, 2], dtype=object)]\n",
      "[14, array([-0.00394, -0.00394,  0.     ,  0.     ]), array([0, 3, 2, 1, 3, 2, 0, 0], dtype=object)]\n",
      "[14, array([-0.0059, -0.0059,  0.    ,  0.    ]), array([3, 2, 0, 1, 3, 0, 3, 1], dtype=object)]\n",
      "[15, array([-0.00694, -0.00694,  0.     ,  0.     ]), array([3, 3, 1, 3, 1, 3, 3, 2], dtype=object)]\n",
      "[15, array([-0.00482, -0.00482,  0.     ,  0.     ]), array([0, 3, 1, 2, 3, 1, 0, 0], dtype=object)][15, array([-0.00842, -0.00842,  0.     ,  0.     ]), array([3, 3, 2, 2, 1, 3, 1, 2], dtype=object)]\n",
      "\n",
      "[15, array([-0.00512, -0.00512,  0.     ,  0.     ]), array([3, 3, 1, 3, 3, 0, 2, 1], dtype=object)]\n",
      "[16, array([-0.00714, -0.00714,  0.     ,  0.     ]), array([0, 3, 2, 1, 0, 3, 3, 0], dtype=object)][16, array([-0.0065, -0.0065,  0.    ,  0.    ]), array([3, 1, 1, 3, 2, 1, 3, 2], dtype=object)]\n",
      "\n",
      "[16, array([-0.00336, -0.00336,  0.     ,  0.     ]), array([3, 3, 0, 2, 1, 3, 0, 2], dtype=object)]\n",
      "[16, array([-0.00348, -0.00348,  0.     ,  0.     ]), array([0, 3, 1, 3, 0, 2, 0, 3], dtype=object)]\n",
      "[17, array([-0.0069, -0.0069,  0.    ,  0.    ]), array([3, 3, 2, 2, 1, 2, 3, 0], dtype=object)]\n",
      "[17, array([-0.01118, -0.01118,  0.     ,  0.     ]), array([0, 3, 1, 2, 0, 3, 3, 0], dtype=object)]\n",
      "[17, array([-0.00596, -0.00596,  0.     ,  0.     ]), array([3, 3, 2, 2, 1, 3, 1, 2], dtype=object)]\n",
      "[17, array([-0.00748, -0.00748,  0.     ,  0.     ]), array([3, 3, 0, 2, 3, 2, 1, 0], dtype=object)]\n",
      "[18, array([-0.0051, -0.0051,  0.    ,  0.    ]), array([3, 3, 0, 3, 1, 3, 3, 0], dtype=object)]\n",
      "[18, array([-0.01486, -0.01486,  0.     ,  0.     ]), array([1, 3, 1, 2, 0, 3, 3, 0], dtype=object)]\n",
      "[18, array([-0.00672, -0.00672,  0.     ,  0.     ]), array([3, 3, 0, 2, 3, 2, 3, 1], dtype=object)]\n",
      "[18, array([-0.00266, -0.00266,  0.     ,  0.     ]), array([1, 3, 0, 1, 3, 0, 2, 1], dtype=object)]\n",
      "[19, array([-0.0083, -0.0083,  0.    ,  0.    ]), array([3, 3, 0, 1, 3, 3, 3, 1], dtype=object)]\n",
      "[19, array([-0.00698, -0.00698,  0.     ,  0.     ]), array([0, 3, 1, 2, 2, 3, 3, 0], dtype=object)]\n",
      "[19, array([-0.00384, -0.00384,  0.     ,  0.     ]), array([3, 0, 2, 2, 3, 3, 1, 3], dtype=object)]\n",
      "[19, array([-0.0072, -0.0072,  0.    ,  0.    ]), array([3, 3, 0, 1, 3, 0, 2, 1], dtype=object)]\n",
      "[20, array([-0.0059, -0.0059,  0.    ,  0.    ]), array([3, 3, 0, 1, 3, 3, 2, 0], dtype=object)]\n",
      "[20, array([-0.00498, -0.00498,  0.     ,  0.     ]), array([2, 1, 1, 0, 0, 1, 3, 0], dtype=object)]\n",
      "[20, array([-0.0015, -0.0015,  0.    ,  0.    ]), array([2, 2, 3, 2, 3, 0, 2, 2], dtype=object)]\n",
      "[20, array([-0.00634, -0.00634,  0.     ,  0.     ]), array([0, 0, 3, 2, 0, 3, 2, 1], dtype=object)]\n",
      "[21, array([-0.00874, -0.00874,  0.     ,  0.     ]), array([3, 3, 0, 1, 2, 3, 2, 1], dtype=object)]\n",
      "[21, array([-0.00634, -0.00634,  0.     ,  0.     ]), array([0, 3, 1, 1, 0, 2, 1, 1], dtype=object)]\n",
      "[21, array([-0.00716, -0.00716,  0.     ,  0.     ]), array([3, 1, 1, 2, 1, 3, 1, 1], dtype=object)]\n",
      "[21, array([-0.00788, -0.00788,  0.     ,  0.     ]), array([3, 3, 0, 1, 3, 0, 2, 2], dtype=object)]\n",
      "[22, array([-0.008, -0.008,  0.   ,  0.   ]), array([3, 3, 2, 1, 1, 2, 3, 0], dtype=object)]\n",
      "[22, array([-0.00542, -0.00542,  0.     ,  0.     ]), array([0, 1, 1, 2, 0, 2, 0, 0], dtype=object)]\n",
      "[22, array([-0.0068, -0.0068,  0.    ,  0.    ]), array([2, 0, 2, 2, 3, 3, 1, 0], dtype=object)]\n",
      "[22, array([-0.00888, -0.00888,  0.     ,  0.     ]), array([3, 3, 0, 1, 3, 0, 2, 2], dtype=object)]\n",
      "[23, array([-0.00334, -0.00334,  0.     ,  0.     ]), array([0, 3, 0, 3, 1, 0, 3, 0], dtype=object)][23, array([-0.00992, -0.00992,  0.     ,  0.     ]), array([0, 1, 1, 1, 0, 3, 1, 1], dtype=object)]\n",
      "\n",
      "[23, array([-0.00818, -0.00818,  0.     ,  0.     ]), array([3, 0, 2, 1, 3, 0, 1, 0], dtype=object)]\n",
      "[23, array([-0.0049, -0.0049,  0.    ,  0.    ]), array([1, 0, 3, 2, 0, 3, 2, 1], dtype=object)]\n",
      "[24, array([-0.0047, -0.0047,  0.    ,  0.    ]), array([0, 3, 0, 3, 0, 2, 1, 0], dtype=object)]\n",
      "[24, array([-0.00902, -0.00902,  0.     ,  0.     ]), array([1, 3, 0, 2, 0, 3, 3, 0], dtype=object)]\n",
      "[24, array([-0.00462, -0.00462,  0.     ,  0.     ]), array([0, 0, 3, 2, 0, 3, 0, 2], dtype=object)][24, array([-0.00548, -0.00548,  0.     ,  0.     ]), array([2, 2, 3, 2, 3, 0, 2, 1], dtype=object)]\n",
      "\n",
      "[25, array([-0.00772, -0.00772,  0.     ,  0.     ]), array([3, 3, 0, 1, 3, 3, 2, 0], dtype=object)]\n",
      "[25, array([-0.00368, -0.00368,  0.     ,  0.     ]), array([0, 3, 1, 2, 0, 3, 3, 0], dtype=object)]\n",
      "[25, array([-0.00774, -0.00774,  0.     ,  0.     ]), array([1, 0, 3, 2, 0, 3, 2, 1], dtype=object)]\n",
      "[25, array([-0.00904, -0.00904,  0.     ,  0.     ]), array([2, 2, 3, 2, 3, 0, 2, 1], dtype=object)]\n",
      "[26, array([-0.00312, -0.00312,  0.     ,  0.     ]), array([1, 2, 0, 3, 1, 3, 3, 0], dtype=object)]\n",
      "[26, array([-0.0075, -0.0075,  0.    ,  0.    ]), array([0, 3, 0, 2, 1, 3, 3, 0], dtype=object)]\n",
      "[26, array([-0.00626, -0.00626,  0.     ,  0.     ]), array([1, 0, 3, 2, 0, 2, 2, 2], dtype=object)]\n",
      "[26, array([-0.0094, -0.0094,  0.    ,  0.    ]), array([1, 2, 3, 2, 1, 1, 3, 2], dtype=object)]\n",
      "[27, array([-0.0058, -0.0058,  0.    ,  0.    ]), array([0, 3, 0, 3, 1, 0, 3, 0], dtype=object)]\n",
      "[27, array([-0.00994, -0.00994,  0.     ,  0.     ]), array([0, 3, 1, 2, 0, 0, 3, 0], dtype=object)]\n",
      "[27, array([-0.0075, -0.0075,  0.    ,  0.    ]), array([1, 0, 3, 3, 0, 0, 1, 2], dtype=object)]\n",
      "[28, array([-0.00476, -0.00476,  0.     ,  0.     ]), array([0, 3, 0, 2, 0, 1, 2, 3], dtype=object)]\n",
      "[28, array([-0.00968, -0.00968,  0.     ,  0.     ]), array([0, 3, 2, 3, 1, 0, 3, 2], dtype=object)]\n",
      "[27, array([-0.00538, -0.00538,  0.     ,  0.     ]), array([2, 1, 0, 2, 3, 0, 3, 2], dtype=object)]\n",
      "[28, array([-0.00364, -0.00364,  0.     ,  0.     ]), array([1, 2, 3, 2, 2, 3, 2, 1], dtype=object)]\n",
      "[29, array([-0.00366, -0.00366,  0.     ,  0.     ]), array([0, 3, 1, 2, 0, 3, 3, 0], dtype=object)]\n",
      "[29, array([-0.00702, -0.00702,  0.     ,  0.     ]), array([0, 3, 0, 3, 1, 0, 3, 0], dtype=object)]\n",
      "[28, array([-0.00456, -0.00456,  0.     ,  0.     ]), array([0, 2, 0, 3, 0, 3, 1, 0], dtype=object)]\n",
      "[29, array([-0.006, -0.006,  0.   ,  0.   ]), array([2, 0, 1, 2, 0, 3, 2, 3], dtype=object)]\n",
      "[30, array([-0.00788, -0.00788,  0.     ,  0.     ]), array([0, 3, 1, 2, 0, 3, 2, 0], dtype=object)]\n",
      "[30, array([-0.0054, -0.0054,  0.    ,  0.    ]), array([0, 3, 0, 2, 2, 0, 3, 2], dtype=object)]\n",
      "[30, array([-0.0088, -0.0088,  0.    ,  0.    ]), array([1, 0, 1, 2, 0, 0, 2, 1], dtype=object)]\n",
      "[29, array([-0.0083, -0.0083,  0.    ,  0.    ]), array([2, 2, 3, 3, 0, 1, 2, 2], dtype=object)]\n",
      "[31, array([-0.00366, -0.00366,  0.     ,  0.     ]), array([1, 3, 1, 2, 0, 3, 3, 0], dtype=object)]\n",
      "[31, array([-0.01044, -0.01044,  0.     ,  0.     ]), array([0, 3, 0, 3, 1, 0, 3, 0], dtype=object)]\n",
      "[31, array([-0.00912, -0.00912,  0.     ,  0.     ]), array([1, 0, 3, 2, 0, 3, 2, 1], dtype=object)]\n",
      "[30, array([-0.00856, -0.00856,  0.     ,  0.     ]), array([2, 1, 0, 1, 3, 0, 2, 2], dtype=object)]\n",
      "[32, array([-0.0055, -0.0055,  0.    ,  0.    ]), array([3, 3, 1, 2, 2, 3, 3, 0], dtype=object)]\n",
      "[32, array([-0.00634, -0.00634,  0.     ,  0.     ]), array([0, 3, 0, 2, 1, 0, 3, 1], dtype=object)]\n",
      "[32, array([-0.00612, -0.00612,  0.     ,  0.     ]), array([1, 0, 3, 2, 1, 3, 2, 1], dtype=object)]\n",
      "[31, array([-0.00772, -0.00772,  0.     ,  0.     ]), array([1, 2, 3, 2, 1, 1, 3, 2], dtype=object)]\n",
      "[33, array([-0.005, -0.005,  0.   ,  0.   ]), array([1, 3, 1, 2, 0, 3, 3, 0], dtype=object)]\n",
      "[33, array([-0.00568, -0.00568,  0.     ,  0.     ]), array([0, 3, 0, 3, 1, 0, 3, 0], dtype=object)]\n",
      "[33, array([-0.00496, -0.00496,  0.     ,  0.     ]), array([1, 0, 3, 2, 0, 1, 1, 0], dtype=object)]\n",
      "[34, array([-0.00754, -0.00754,  0.     ,  0.     ]), array([2, 0, 1, 2, 3, 3, 3, 1], dtype=object)]\n",
      "[32, array([-0.00596, -0.00596,  0.     ,  0.     ]), array([3, 3, 0, 2, 1, 0, 2, 3], dtype=object)]\n",
      "[34, array([-0.00976, -0.00976,  0.     ,  0.     ]), array([0, 3, 1, 1, 1, 0, 3, 2], dtype=object)]\n",
      "[34, array([-0.00276, -0.00276,  0.     ,  0.     ]), array([3, 0, 3, 2, 3, 3, 0, 1], dtype=object)]\n",
      "[35, array([-0.00712, -0.00712,  0.     ,  0.     ]), array([1, 3, 1, 2, 0, 3, 3, 0], dtype=object)]\n",
      "[35, array([-0.0056, -0.0056,  0.    ,  0.    ]), array([0, 3, 0, 3, 1, 0, 3, 0], dtype=object)]\n",
      "[33, array([-0.00786, -0.00786,  0.     ,  0.     ]), array([0, 3, 2, 3, 0, 1, 3, 2], dtype=object)]\n",
      "[35, array([-0.0047, -0.0047,  0.    ,  0.    ]), array([1, 0, 3, 2, 0, 3, 2, 1], dtype=object)]\n",
      "[36, array([-0.00634, -0.00634,  0.     ,  0.     ]), array([0, 3, 0, 3, 2, 3, 1, 0], dtype=object)]\n",
      "[36, array([-0.00676, -0.00676,  0.     ,  0.     ]), array([2, 3, 1, 2, 0, 3, 3, 0], dtype=object)]\n",
      "[34, array([-0.00734, -0.00734,  0.     ,  0.     ]), array([2, 1, 3, 2, 3, 0, 2, 2], dtype=object)]\n",
      "[36, array([-0.003, -0.003,  0.   ,  0.   ]), array([1, 0, 1, 2, 0, 0, 3, 1], dtype=object)]\n",
      "[37, array([-0.0053, -0.0053,  0.    ,  0.    ]), array([1, 1, 1, 2, 0, 3, 3, 0], dtype=object)]\n",
      "[37, array([-0.00544, -0.00544,  0.     ,  0.     ]), array([0, 3, 0, 3, 1, 0, 3, 0], dtype=object)]\n",
      "[37, array([-0.00826, -0.00826,  0.     ,  0.     ]), array([1, 1, 1, 2, 0, 3, 2, 1], dtype=object)]\n",
      "[35, array([-0.00852, -0.00852,  0.     ,  0.     ]), array([3, 3, 0, 1, 3, 1, 3, 2], dtype=object)]\n",
      "[38, array([-0.00536, -0.00536,  0.     ,  0.     ]), array([1, 0, 2, 1, 0, 3, 3, 0], dtype=object)]\n",
      "[38, array([-0.00488, -0.00488,  0.     ,  0.     ]), array([0, 2, 1, 0, 3, 0, 3, 0], dtype=object)]\n",
      "[38, array([-0.00582, -0.00582,  0.     ,  0.     ]), array([1, 0, 3, 2, 1, 3, 0, 3], dtype=object)]\n",
      "[36, array([-0.00662, -0.00662,  0.     ,  0.     ]), array([2, 0, 3, 0, 1, 1, 1, 2], dtype=object)]\n",
      "[39, array([-0.0043, -0.0043,  0.    ,  0.    ]), array([1, 3, 1, 2, 0, 0, 3, 0], dtype=object)]\n",
      "[39, array([-0.00412, -0.00412,  0.     ,  0.     ]), array([0, 3, 0, 3, 1, 0, 3, 0], dtype=object)]\n",
      "[39, array([-0.00596, -0.00596,  0.     ,  0.     ]), array([1, 0, 3, 2, 0, 3, 2, 1], dtype=object)]\n",
      "[37, array([-0.00764, -0.00764,  0.     ,  0.     ]), array([1, 2, 3, 2, 1, 1, 3, 2], dtype=object)]\n",
      "[40, array([-0.0132, -0.0132,  0.    ,  0.    ]), array([1, 1, 3, 3, 0, 3, 3, 0], dtype=object)]\n",
      "[40, array([-0.00558, -0.00558,  0.     ,  0.     ]), array([3, 3, 0, 3, 1, 0, 3, 0], dtype=object)]\n",
      "[40, array([-0.00694, -0.00694,  0.     ,  0.     ]), array([1, 2, 2, 3, 3, 2, 1, 1], dtype=object)]\n",
      "[38, array([-0.0084, -0.0084,  0.    ,  0.    ]), array([3, 1, 3, 2, 2, 0, 3, 2], dtype=object)]\n",
      "[39, array([-0.00368, -0.00368,  0.     ,  0.     ]), array([1, 2, 3, 2, 1, 1, 3, 2], dtype=object)]\n",
      "[40, array([-0.00996, -0.00996,  0.     ,  0.     ]), array([1, 2, 0, 1, 1, 1, 3, 1], dtype=object)]\n"
     ]
    }
   ],
   "source": [
    "# we can perform nCAFQA by using the main optimization function \"claptonize\"\n",
    "# now with the noisy circuit\n",
    "ks_best, energy_noisy, energy_noiseless = claptonize(\n",
    "    paulis,\n",
    "    coeffs,\n",
    "    vqe_pcirc,\n",
    "    n_proc=4,           # total number of processes in parallel\n",
    "    n_starts=4,         # number of random genetic algorithm starts in parallel\n",
    "    n_rounds=1,         # number of budget rounds, if None it will terminate itself\n",
    "    callback=print,     # callback for internal parameter (#iteration, energies, ks) processing\n",
    "    budget=20           # budget per genetic algorithm instance\n",
    ")"
   ]
  },
  {
   "cell_type": "code",
   "execution_count": 21,
   "metadata": {},
   "outputs": [
    {
     "data": {
      "text/plain": [
       "[1, 3, 1, 2, 0, 3, 3, 0]"
      ]
     },
     "execution_count": 21,
     "metadata": {},
     "output_type": "execute_result"
    }
   ],
   "source": [
    "# the best parameters are\n",
    "ks_best"
   ]
  },
  {
   "cell_type": "code",
   "execution_count": 22,
   "metadata": {},
   "outputs": [
    {
     "data": {
      "text/plain": [
       "(0.008499999999999952, 0.0)"
      ]
     },
     "execution_count": 22,
     "metadata": {},
     "output_type": "execute_result"
    }
   ],
   "source": [
    "# with noisy/noiseless energy\n",
    "energy_noisy, energy_noiseless"
   ]
  },
  {
   "cell_type": "code",
   "execution_count": 23,
   "metadata": {},
   "outputs": [
    {
     "data": {
      "text/html": [
       "<pre>q0: -SQRT_Y-----S-X-@-I----------S_DAG-\n",
       "                  | |\n",
       "q1: -SQRT_Y_DAG-Z-@-X-SQRT_Y_DAG-I-----</pre>"
      ],
      "text/plain": [
       "q0: -SQRT_Y-----S-X-@-I----------S_DAG-\n",
       "                  | |\n",
       "q1: -SQRT_Y_DAG-Z-@-X-SQRT_Y_DAG-I-----"
      ]
     },
     "execution_count": 23,
     "metadata": {},
     "output_type": "execute_result"
    }
   ],
   "source": [
    "# the corresponding circuit is\n",
    "vqe_pcirc.assign(ks_best)\n",
    "vqe_pcirc.snapshot_noiseless().circ_snapshot_noiseless.diagram()"
   ]
  },
  {
   "cell_type": "markdown",
   "metadata": {},
   "source": [
    "## Let's do one VQE iteration now"
   ]
  },
  {
   "cell_type": "code",
   "execution_count": 24,
   "metadata": {},
   "outputs": [],
   "source": [
    "from qiskit.dagcircuit import DAGCircuit\n",
    "from qiskit.circuit import QuantumCircuit, QuantumRegister, Gate,ParameterVector\n",
    "from qiskit.circuit.library import CXGate, ECRGate\n",
    "from qiskit.transpiler import PassManager\n",
    "from qiskit.transpiler.basepasses import TransformationPass\n",
    "from qiskit.quantum_info import Operator, pauli_basis\n",
    "from qiskit.quantum_info import SparsePauliOp\n",
    "from qiskit_ibm_runtime.fake_provider import FakeMumbaiV2\n",
    "from qiskit_ibm_runtime import EstimatorV2 as Estimator, QiskitRuntimeService\n",
    "from qiskit_aer import AerSimulator\n",
    "from qiskit_aer.noise import NoiseModel, QuantumError, coherent_unitary_error\n",
    "from qiskit.transpiler.preset_passmanagers import generate_preset_pass_manager\n",
    "\n",
    "import numpy as np\n",
    "from typing import Iterable, Optional\n",
    "from scipy.optimize import minimize"
   ]
  },
  {
   "cell_type": "code",
   "execution_count": 25,
   "metadata": {},
   "outputs": [],
   "source": [
    "class PauliTwirl(TransformationPass):\n",
    "    \"\"\"Add Pauli twirls to two-qubit gates.\"\"\"\n",
    " \n",
    "    def __init__(\n",
    "        self,\n",
    "        gates_to_twirl: Optional[Iterable[Gate]] = None,\n",
    "    ):\n",
    "        \"\"\"\n",
    "        Args:\n",
    "            gates_to_twirl: Names of gates to twirl. The default behavior is to twirl all\n",
    "                two-qubit basis gates, `cx` and `ecr` for IBM backends.\n",
    "        \"\"\"\n",
    "        if gates_to_twirl is None:\n",
    "            gates_to_twirl = [CXGate(), ECRGate()]\n",
    "        self.gates_to_twirl = gates_to_twirl\n",
    "        self.build_twirl_set()\n",
    "        super().__init__()\n",
    " \n",
    "    def build_twirl_set(self):\n",
    "        \"\"\"\n",
    "        Build a set of Paulis to twirl for each gate and store internally as .twirl_set.\n",
    "        \"\"\"\n",
    "        self.twirl_set = {}\n",
    " \n",
    "        # iterate through gates to be twirled\n",
    "        for twirl_gate in self.gates_to_twirl:\n",
    "            twirl_list = []\n",
    " \n",
    "            # iterate through Paulis on left of gate to twirl\n",
    "            for pauli_left in pauli_basis(2):\n",
    "                # iterate through Paulis on right of gate to twirl\n",
    "                for pauli_right in pauli_basis(2):\n",
    "                    # save pairs that produce identical operation as gate to twirl\n",
    "                    if (Operator(pauli_left) @ Operator(twirl_gate)).equiv(\n",
    "                        Operator(twirl_gate) @ pauli_right\n",
    "                    ):\n",
    "                        twirl_list.append((pauli_left, pauli_right))\n",
    " \n",
    "            self.twirl_set[twirl_gate.name] = twirl_list\n",
    " \n",
    "    def run(\n",
    "        self,\n",
    "        dag: DAGCircuit,\n",
    "    ) -> DAGCircuit:\n",
    "        # collect all nodes in DAG and proceed if it is to be twirled\n",
    "        twirling_gate_classes = tuple(\n",
    "            gate.base_class for gate in self.gates_to_twirl\n",
    "        )\n",
    "        for node in dag.op_nodes():\n",
    "            if not isinstance(node.op, twirling_gate_classes):\n",
    "                continue\n",
    " \n",
    "            # random integer to select Pauli twirl pair\n",
    "            pauli_index = np.random.randint(\n",
    "                0, len(self.twirl_set[node.op.name])\n",
    "            )\n",
    "            twirl_pair = self.twirl_set[node.op.name][pauli_index]\n",
    " \n",
    "            # instantiate mini_dag and attach quantum register\n",
    "            mini_dag = DAGCircuit()\n",
    "            register = QuantumRegister(2)\n",
    "            mini_dag.add_qreg(register)\n",
    " \n",
    "            # apply left Pauli, gate to twirl, and right Pauli to empty mini-DAG\n",
    "            mini_dag.apply_operation_back(\n",
    "                twirl_pair[0].to_instruction(), [register[0], register[1]]\n",
    "            )\n",
    "            mini_dag.apply_operation_back(node.op, [register[0], register[1]])\n",
    "            mini_dag.apply_operation_back(\n",
    "                twirl_pair[1].to_instruction(), [register[0], register[1]]\n",
    "            )\n",
    " \n",
    "            # substitute gate to twirl node with twirling mini-DAG\n",
    "            dag.substitute_node_with_dag(node, mini_dag)\n",
    " \n",
    "        return dag"
   ]
  },
  {
   "cell_type": "code",
   "execution_count": 26,
   "metadata": {},
   "outputs": [],
   "source": [
    "def qiskit_circular_ansatz(N, reps=1): \n",
    "    qc = QuantumCircuit(N)\n",
    "\n",
    "    # define your parameters\n",
    "    p = ParameterVector('p', (N*2) *(reps+1)) \n",
    "\n",
    "    for r in range(reps): \n",
    "        for i in range(N):\n",
    "            qc.ry(p[2*N*r+i], i)  \n",
    "        for i in range(N):\n",
    "            qc.rz(p[2*N*r+(i+N)], i)\n",
    "        for i in range(N):\n",
    "            control = (i-1) % N\n",
    "            target = i\n",
    "            qc.cx(control, target)\n",
    "    for i in range(N):\n",
    "        qc.ry(p[2*N*reps+i], i)\n",
    "    for i in range(N):\n",
    "        qc.rz(p[2*N*reps + (i+N)], i)\n",
    "    return qc\n",
    "\n",
    "qc = qiskit_circular_ansatz(num_qubits,reps)"
   ]
  },
  {
   "cell_type": "code",
   "execution_count": 27,
   "metadata": {},
   "outputs": [],
   "source": [
    "# np.random.seed(0)\n",
    "# paulis = [\"\".join(np.random.choice(['I', 'X', 'Y', 'Z'], size=num_qubits)) for _ in range(num_qubits)]\n",
    "# coeffs = np.random.random(len(paulis))\n",
    "# hamiltonian = SparsePauliOp.from_list(list(zip(paulis, coeffs)))"
   ]
  },
  {
   "cell_type": "code",
   "execution_count": 28,
   "metadata": {},
   "outputs": [
    {
     "data": {
      "text/plain": [
       "[1, 3, 1, 2, 0, 3, 3, 0]"
      ]
     },
     "execution_count": 28,
     "metadata": {},
     "output_type": "execute_result"
    }
   ],
   "source": [
    "# Set initial parameters\n",
    "# initial_params = np.zeros(qc.num_parameters)\n",
    "initial_params = ks_best\n",
    "initial_params"
   ]
  },
  {
   "cell_type": "code",
   "execution_count": 29,
   "metadata": {},
   "outputs": [
    {
     "name": "stdout",
     "output_type": "stream",
     "text": [
      "Reference value: -0.80623\n"
     ]
    }
   ],
   "source": [
    "# Calculate Exact Ground State Energy\n",
    "from qiskit_algorithms import NumPyMinimumEigensolver\n",
    "\n",
    "numpy_solver = NumPyMinimumEigensolver()\n",
    "ref_result = numpy_solver.compute_minimum_eigenvalue(operator=hamiltonian)\n",
    "ref_value = ref_result.eigenvalue.real\n",
    "print(f\"Reference value: {ref_value:.5f}\") #NOTE: Check if both reference values match"
   ]
  },
  {
   "cell_type": "code",
   "execution_count": 30,
   "metadata": {},
   "outputs": [],
   "source": [
    "# Create your custom pass\n",
    "pm = PassManager([PauliTwirl()])\n",
    "\n",
    "#Create your twirled circuits\n",
    "twirled_qcs = [pm.run(qc) for _ in range(1)]"
   ]
  },
  {
   "cell_type": "code",
   "execution_count": 31,
   "metadata": {},
   "outputs": [],
   "source": [
    "# Device Noise Model\n",
    "backend = FakeMumbaiV2() # Your quantum backend\n",
    "noise_model = NoiseModel.from_backend(backend) "
   ]
  },
  {
   "cell_type": "code",
   "execution_count": null,
   "metadata": {},
   "outputs": [],
   "source": [
    "# # Only Coherent Noise Model \n",
    "# noise_model = NoiseModel()\n",
    "\n",
    "# # Define the over-rotation angle (in radians)\n",
    "# theta = 0.1  # Adjust this value to control the amount of over-rotation\n",
    "\n",
    "# # Create the over-rotated CX gate\n",
    "# cx_overrotated = Operator([\n",
    "#     [np.cos(theta/2), -1j*np.sin(theta/2), 0, 0],\n",
    "#     [-1j*np.sin(theta/2), np.cos(theta/2), 0, 0],\n",
    "#     [0, 0, np.cos(theta/2), -1j*np.sin(theta/2)],\n",
    "#     [0, 0, -1j*np.sin(theta/2), np.cos(theta/2)]\n",
    "# ])\n",
    "\n",
    "# # Create a quantum error from the over-rotated CX gate\n",
    "# noise_model.add_all_qubit_quantum_error(coherent_unitary_error(cx_overrotated), ['cx'])\n",
    "# print(noise_model)"
   ]
  },
  {
   "cell_type": "code",
   "execution_count": 33,
   "metadata": {},
   "outputs": [],
   "source": [
    "pt_vqe_energies=[]\n",
    "iteration_number=0\n",
    "def pt_vqe_cost_function(params, ansatz, hamiltonian, pass_manager, estimator,twirled_qcs):\n",
    "    global iteration_number \n",
    "    # Bind parameters to the ansatz\n",
    "    # bound_circuit = ansatz.assign_parameters(params)\n",
    "    \n",
    "    #Apply the pass manager\n",
    "    # twirled_qcs = [pass_manager.run(bound_circuit) for _ in range(100)]\n",
    "\n",
    "    # Calculate expectation value\n",
    "    energy_values = np.array([])\n",
    "    for transpiled_circuit in twirled_qcs:\n",
    "        transpiled_circuit = transpiled_circuit.assign_parameters(params)\n",
    "        job = estimator.run([(transpiled_circuit, hamiltonian)]) #Something wrong w parameter optim.\n",
    "        result = job.result()\n",
    "        energy = result[0].data.evs #NOTE: Is this actually expectation value?\n",
    "        energy_values = np.append(energy_values, energy)\n",
    "    \n",
    "    iteration_number += 1\n",
    "    # Print statement to see where we are at\n",
    "    print(f\"Iteration: {iteration_number}, Current energy: {np.average(energy_values)}, Current parameters: {params}\")\n",
    "    # return result.values[0]\n",
    "    pt_vqe_energies.append(np.average(energy_values))\n",
    "    return np.average(energy_values)\n",
    "\n",
    "# # Create an Estimator instance\n",
    "\n",
    "##Noisy\n",
    "# estimator = Estimator(\n",
    "#     mode=AerSimulator(\n",
    "#         noise_model=noise_model,\n",
    "#         coupling_map=backend.coupling_map,\n",
    "#         basis_gates=noise_model.basis_gates,\n",
    "#         device = 'GPU'\n",
    "#     )\n",
    "# )\n",
    "\n",
    "# # # Create an Estimator instance\n",
    "\n",
    "estimator = Estimator(mode=AerSimulator(method='statevector',device = \"GPU\"))"
   ]
  },
  {
   "cell_type": "code",
   "execution_count": 34,
   "metadata": {},
   "outputs": [
    {
     "name": "stdout",
     "output_type": "stream",
     "text": [
      "Iteration: 1, Current energy: -0.46611328125, Current parameters: [1. 3. 1. 2. 0. 3. 3. 0.]\n",
      "Iteration: 2, Current energy: 0.29453125, Current parameters: [2. 3. 1. 2. 0. 3. 3. 0.]\n",
      "Iteration: 3, Current energy: -0.33916015625, Current parameters: [1. 4. 1. 2. 0. 3. 3. 0.]\n",
      "Iteration: 4, Current energy: -0.39697265625, Current parameters: [1. 3. 2. 2. 0. 3. 3. 0.]\n",
      "Iteration: 5, Current energy: -0.47050781250000007, Current parameters: [1. 3. 1. 3. 0. 3. 3. 0.]\n",
      "Iteration: 6, Current energy: -0.35668945312499994, Current parameters: [1. 3. 1. 3. 1. 3. 3. 0.]\n",
      "Iteration: 7, Current energy: -0.44526367187500004, Current parameters: [1. 3. 1. 3. 0. 4. 3. 0.]\n",
      "Iteration: 8, Current energy: -0.5001953125, Current parameters: [1. 3. 1. 3. 0. 3. 4. 0.]\n",
      "Iteration: 9, Current energy: -0.483203125, Current parameters: [1. 3. 1. 3. 0. 3. 4. 1.]\n",
      "Iteration: 10, Current energy: -0.79150390625, Current parameters: [ 0.02947659  2.83801766  0.91178193  3.00560708 -0.1452234   2.96779043\n",
      "  4.03787895 -0.02168071]\n",
      "Iteration: 11, Current energy: -0.5672363281250001, Current parameters: [-0.77211478  2.43618365  0.69293694  3.01951672 -0.50548305  2.88788729\n",
      "  4.13184629 -0.07546465]\n",
      "Iteration: 12, Current energy: -0.619580078125, Current parameters: [-0.26782401  3.7901935   0.8769191   3.00782294 -0.2026141   2.95506157\n",
      "  4.05284829 -0.03024869]\n",
      "Iteration: 13, Current energy: -0.768017578125, Current parameters: [-0.04652289  2.80805742  1.40481426  3.00617352 -0.15989428  2.96453653\n",
      "  4.04170559 -0.02387096]\n",
      "Iteration: 14, Current energy: -0.733740234375, Current parameters: [ 0.02947659  2.83801766  0.91178193  3.00560708 -0.09109057  2.72372152\n",
      "  4.03787895 -0.02168071]\n",
      "Iteration: 15, Current energy: -0.7020507812500001, Current parameters: [-0.09839017  2.78761049  0.89317042  3.0065601   0.31029234  3.12014627\n",
      "  4.04431715 -0.02536574]\n",
      "Iteration: 16, Current energy: -0.790966796875, Current parameters: [ 0.03096605  2.83789126  0.91171308  3.25560258 -0.14533672  2.9677653\n",
      "  4.03787895 -0.02168071]\n",
      "Iteration: 17, Current energy: -0.7740234375000001, Current parameters: [-0.16442564  2.57961539  0.81072028  3.00437892 -0.47645343  3.12461532\n",
      "  4.06676614 -0.03821483]\n",
      "Iteration: 18, Current energy: -0.7842773437500001, Current parameters: [ 0.05508038  2.84229099  0.91410924  3.00545916 -0.1413922   2.96864017\n",
      "  4.28593255 -0.0382565 ]\n",
      "Iteration: 19, Current energy: -0.790771484375, Current parameters: [ 0.29531761  2.82664583  0.92592709  3.00293224 -0.20646571  3.07227986\n",
      "  3.96985053 -0.42129986]\n",
      "Iteration: 20, Current energy: -0.77265625, Current parameters: [ 0.38240459  2.81357098  0.92888039  3.00186495 -0.24347254  3.12255592\n",
      "  4.00096159  0.27760123]\n",
      "Iteration: 21, Current energy: -0.7984375000000001, Current parameters: [-0.02174779  3.05646148  0.89768771  3.00520157 -0.23036898  3.03543185\n",
      "  4.02943638 -0.02962701]\n",
      "Iteration: 22, Current energy: -0.79130859375, Current parameters: [-0.05091293  3.06022427  0.88155592  3.00474872 -0.15216903  3.1264353\n",
      "  4.02152211 -0.03597544]\n",
      "Iteration: 23, Current energy: -0.7799316406250001, Current parameters: [-0.04687778  3.05388886  0.95284546  3.00536557 -0.22955149  3.03561317\n",
      "  4.0305443  -0.04458635]\n",
      "Iteration: 24, Current energy: -0.79697265625, Current parameters: [ 0.0651341   3.06155908  0.89235938  3.00425498 -0.25877805  3.07552983\n",
      "  4.01998345  0.04464939]\n",
      "Iteration: 25, Current energy: -0.7888671875, Current parameters: [-0.06135951  3.04586328  0.89140312  3.00542628 -0.23921311  3.03347028\n",
      "  4.03693341  0.01561701]\n",
      "Iteration: 26, Current energy: -0.79033203125, Current parameters: [-0.01244786  3.02239419  0.82335896  3.00468503 -0.29673321  3.06436291\n",
      "  4.0213339  -0.08917559]\n",
      "Iteration: 27, Current energy: -0.79150390625, Current parameters: [-0.02809922  3.05540141  0.89711038  3.00523826 -0.22963938  3.02764651\n",
      "  3.96790266 -0.02551512]\n",
      "Iteration: 28, Current energy: -0.788134765625, Current parameters: [ 0.02088234  3.10984354  0.83678345  3.00446354 -0.17863767  2.97512819\n",
      "  4.0593327  -0.0360848 ]\n",
      "Iteration: 29, Current energy: -0.7918457031250001, Current parameters: [-0.02221001  3.05631069  0.89819694  2.94270631 -0.23047645  3.03515783\n",
      "  4.02947152 -0.0297246 ]\n",
      "Iteration: 30, Current energy: -0.791943359375, Current parameters: [ 0.00953572  3.07099762  0.99179284  3.04656285 -0.24891575  3.04710497\n",
      "  4.06383696 -0.07658303]\n",
      "Iteration: 31, Current energy: -0.78232421875, Current parameters: [-0.05626707  3.05076396  0.89608983  3.02359429 -0.24777501  3.03071687\n",
      "  4.05533172  0.0070553 ]\n",
      "Iteration: 32, Current energy: -0.7900390625, Current parameters: [-0.00481066  3.00274196  0.90161094  3.0082404  -0.20756936  3.02235202\n",
      "  4.03368673 -0.02966675]\n",
      "Iteration: 33, Current energy: -0.7935546875, Current parameters: [-0.01124528  3.06707492  0.91794097  3.01076303 -0.23426221  3.04033904\n",
      "  4.03208774 -0.04594334]\n",
      "Iteration: 34, Current energy: -0.79130859375, Current parameters: [-0.02016563  3.06323845  0.90139286  3.0052096  -0.22048869  3.02831775\n",
      "  4.0305202  -0.02391942]\n",
      "Iteration: 35, Current energy: -0.7889648437500001, Current parameters: [-0.01463021  3.05879617  0.87179887  3.0082016  -0.23747667  3.03595401\n",
      "  4.03130013 -0.04330013]\n",
      "Iteration: 36, Current energy: -0.7887207031250001, Current parameters: [-0.03292415  3.05594108  0.89793002  3.00530428 -0.22501663  3.03285678\n",
      "  4.03037823 -0.03872227]\n",
      "Iteration: 37, Current energy: -0.787841796875, Current parameters: [-0.0203283   3.05582726  0.89558374  3.00604029 -0.21957274  3.06377975\n",
      "  4.02739807 -0.02294128]\n",
      "Iteration: 38, Current energy: -0.7940917968750001, Current parameters: [-0.02327735  3.05320573  0.90083861  3.00648193 -0.24283661  3.03438436\n",
      "  4.03142388 -0.02193647]\n",
      "Iteration: 39, Current energy: -0.7925781250000001, Current parameters: [-0.02225294  3.05638384  0.89759185  3.01086636 -0.2302964   3.03478615\n",
      "  4.02413347 -0.02926402]\n",
      "Iteration: 40, Current energy: -0.7903320312500001, Current parameters: [-0.01903979  3.05591671  0.89891955  2.99309502 -0.2323608   3.03473572\n",
      "  4.0203639  -0.03091654]\n",
      "Iteration: 41, Current energy: -0.792333984375, Current parameters: [-0.01495352  3.04386877  0.89946675  3.00615668 -0.22659456  3.0331096\n",
      "  4.03310198 -0.03112677]\n",
      "Iteration: 42, Current energy: -0.7864746093750001, Current parameters: [-0.02197423  3.0569204   0.89721991  3.00467596 -0.22870749  3.04250377\n",
      "  4.03109995 -0.02745027]\n",
      "Iteration: 43, Current energy: -0.7870117187500001, Current parameters: [-0.02083783  3.0573888   0.90083083  3.00573723 -0.23088096  3.03620709\n",
      "  4.0296419  -0.03120794]\n",
      "Iteration: 44, Current energy: -0.7900390625, Current parameters: [-0.02000567  3.05783554  0.89122179  3.00508986 -0.2320236   3.03262167\n",
      "  4.03118447 -0.03040213]\n",
      "Iteration: 45, Current energy: -0.80126953125, Current parameters: [-0.02518214  3.05527029  0.89752032  3.00456998 -0.22973662  3.03447033\n",
      "  4.02972364 -0.03008662]\n",
      "Iteration: 46, Current energy: -0.7875, Current parameters: [-0.02509557  3.0546721   0.89717806  3.0037572  -0.23048944  3.03509943\n",
      "  4.02871801 -0.03092198]\n",
      "Iteration: 47, Current energy: -0.791552734375, Current parameters: [-0.02514079  3.05606588  0.89820787  3.00382064 -0.22795497  3.03259517\n",
      "  4.02971308 -0.02745998]\n",
      "Iteration: 48, Current energy: -0.7860351562500001, Current parameters: [-0.02461225  3.05484725  0.89729177  3.00457927 -0.2281769   3.03443021\n",
      "  4.02965387 -0.03099186]\n",
      "Iteration: 49, Current energy: -0.797216796875, Current parameters: [-0.02474463  3.05255778  0.89794887  3.00590302 -0.2309258   3.03411074\n",
      "  4.03137521 -0.02887094]\n",
      "Iteration: 50, Current energy: -0.793798828125, Current parameters: [-0.02557732  3.05506718  0.89777441  3.00458984 -0.22913498  3.0360879\n",
      "  4.02964371 -0.02933335]\n",
      "Iteration: 51, Current energy: -0.78955078125, Current parameters: [-0.02631785  3.05748686  0.89593385  3.00590043 -0.23098381  3.03424182\n",
      "  4.03150133 -0.0300561 ]\n",
      "Iteration: 52, Current energy: -0.7903808593750001, Current parameters: [-0.0249468   3.05540425  0.89793387  3.00326469 -0.22981777  3.03472297\n",
      "  4.03103335 -0.03037086]\n",
      "Iteration: 53, Current energy: -0.793408203125, Current parameters: [-0.02584798  3.05604273  0.90078631  3.00595096 -0.23029241  3.03406644\n",
      "  4.02918337 -0.03102528]\n",
      "Iteration: 54, Current energy: -0.7991699218750001, Current parameters: [-0.02547791  3.05463397  0.89671353  3.0034947  -0.23210906  3.03391722\n",
      "  4.02710819 -0.02965738]\n",
      "Iteration: 55, Current energy: -0.7969238281250001, Current parameters: [-0.02479055  3.05463819  0.89678901  3.00517525 -0.22888871  3.03395601\n",
      "  4.02911687 -0.03109111]\n",
      "Iteration: 56, Current energy: -0.786669921875, Current parameters: [-0.02548125  3.05576428  0.89702341  3.00503563 -0.23004164  3.03438721\n",
      "  4.0299469  -0.03000516]\n",
      "Iteration: 57, Current energy: -0.7935058593750001, Current parameters: [-0.02509391  3.05492827  0.89742295  3.00467551 -0.22984462  3.03442133\n",
      "  4.02992417 -0.02988974]\n",
      "Iteration: 58, Current energy: -0.7892578125, Current parameters: [-0.02526279  3.0553057   0.89837024  3.00478153 -0.22981438  3.03435993\n",
      "  4.02944076 -0.03037044]\n",
      "Iteration: 59, Current energy: -0.788623046875, Current parameters: [-0.02514464  3.05539645  0.89761632  3.00464161 -0.22941212  3.03426706\n",
      "  4.02985    -0.02987646]\n",
      "Iteration: 60, Current energy: -0.8027832031250001, Current parameters: [-0.02517104  3.055267    0.89725128  3.00394589 -0.2299606   3.03444929\n",
      "  4.02906892 -0.02997537]\n",
      "Iteration: 61, Current energy: -0.790234375, Current parameters: [-0.02558917  3.05512367  0.89724386  3.00382551 -0.22988483  3.03433825\n",
      "  4.02914675 -0.03004151]\n",
      "Iteration: 62, Current energy: -0.7804199218750001, Current parameters: [-0.02469157  3.05544261  0.89718258  3.00353659 -0.2300375   3.03482893\n",
      "  4.02939047 -0.03049235]\n",
      "Iteration: 63, Current energy: -0.7967773437500001, Current parameters: [-0.02528973  3.05536516  0.89741917  3.0038325  -0.23005569  3.03472722\n",
      "  4.02917592 -0.02969985]\n",
      "Iteration: 64, Current energy: -0.79931640625, Current parameters: [-0.02519837  3.05506556  0.89703114  3.00432931 -0.22954922  3.03503243\n",
      "  4.02861511 -0.03001582]\n",
      "Iteration: 65, Current energy: -0.79736328125, Current parameters: [-0.02534483  3.055548    0.89705981  3.0041421  -0.23015743  3.03449714\n",
      "  4.02910601 -0.03008352]\n",
      "Iteration: 66, Current energy: -0.8005859375000001, Current parameters: [-0.02472122  3.05515358  0.89723236  3.0041511  -0.23022397  3.03401739\n",
      "  4.02858433 -0.02952231]\n",
      "Iteration: 67, Current energy: -0.7892578125, Current parameters: [-0.02547638  3.05500219  0.897198    3.00381889 -0.22990606  3.03423663\n",
      "  4.02898295 -0.02999784]\n",
      "Iteration: 68, Current energy: -0.798095703125, Current parameters: [-0.02514777  3.05530676  0.89708203  3.00389415 -0.22986408  3.03442584\n",
      "  4.02913594 -0.02986673]\n",
      "Iteration: 69, Current energy: -0.793994140625, Current parameters: [-0.02516419  3.05553602  0.8975043   3.0040179  -0.22969276  3.03431703\n",
      "  4.02898881 -0.03000929]\n",
      "Iteration: 70, Current energy: -0.77880859375, Current parameters: [-0.02509853  3.0550785   0.89733979  3.00426211 -0.22995284  3.03442431\n",
      "  4.02936624 -0.02994884]\n",
      "Iteration: 71, Current energy: -0.7981933593750001, Current parameters: [-0.02504595  3.05528646  0.89723887  3.00381434 -0.23002338  3.03451383\n",
      "  4.02900382 -0.03009274]\n",
      "Iteration: 72, Current energy: -0.7841796875, Current parameters: [-0.02514664  3.05529009  0.89727069  3.00392169 -0.23002687  3.03436631\n",
      "  4.02908934 -0.02994197]\n",
      "Iteration: 73, Current energy: -0.7898437500000001, Current parameters: [-0.0251456   3.05522665  0.89721082  3.00404571 -0.22993778  3.0345298\n",
      "  4.02888635 -0.02990194]\n",
      "Iteration: 74, Current energy: -0.7962890625000001, Current parameters: [-0.02517381  3.05523717  0.89725586  3.00397055 -0.22992283  3.03449381\n",
      "  4.0291236  -0.03002091]\n",
      "Iteration: 75, Current energy: -0.794384765625, Current parameters: [-0.02517582  3.05530001  0.8972343   3.00396864 -0.22997926  3.03445805\n",
      "  4.0290741  -0.02998678]\n",
      "Iteration: 76, Current energy: -0.7996093750000001, Current parameters: [-0.02524744  3.05525309  0.89724226  3.00389841 -0.22994395  3.03444136\n",
      "  4.02903908 -0.02999548]\n",
      "Iteration: 77, Current energy: -0.7933593750000001, Current parameters: [-0.0251603   3.05527288  0.8972476   3.00395848 -0.2299376   3.03441864\n",
      "  4.02905666 -0.02999903]\n",
      "Iteration: 78, Current energy: -0.79609375, Current parameters: [-0.02517005  3.05532032  0.89730904  3.00392302 -0.22991874  3.0344775\n",
      "  4.02906568 -0.02994821]\n",
      "Iteration: 79, Current energy: -0.79404296875, Current parameters: [-0.02518469  3.0552696   0.89723082  3.00395668 -0.22993961  3.03443761\n",
      "  4.02908636 -0.02994552]\n",
      "Iteration: 80, Current energy: -0.79345703125, Current parameters: [-0.02512277  3.05527024  0.89719815  3.00388245 -0.22995278  3.03447631\n",
      "  4.02906764 -0.02997974]\n",
      "Iteration: 81, Current energy: -0.79814453125, Current parameters: [-0.02516454  3.0552124   0.89727229  3.00396956 -0.2299832   3.03448822\n",
      "  4.02901184 -0.02994909]\n",
      "Optimal value: -0.79814453125\n",
      "Optimal parameters: [-0.02516454  3.0552124   0.89727229  3.00396956 -0.2299832   3.03448822\n",
      "  4.02901184 -0.02994909]\n"
     ]
    }
   ],
   "source": [
    "result = minimize(\n",
    "    pt_vqe_cost_function,\n",
    "    initial_params,\n",
    "    args=(qc, hamiltonian, pm, estimator,twirled_qcs),\n",
    "    method='COBYLA',\n",
    "    options={'maxiter': 100}\n",
    ")\n",
    "\n",
    "pt_optimal_params = result.x\n",
    "pt_optimal_value = result.fun\n",
    "\n",
    "print(f\"Optimal value: {pt_optimal_value}\")\n",
    "print(f\"Optimal parameters: {pt_optimal_params}\")"
   ]
  },
  {
   "cell_type": "code",
   "execution_count": 35,
   "metadata": {},
   "outputs": [],
   "source": [
    "iteration_number= 0\n",
    "\n",
    "vqe_energies = []\n",
    "def vqe_cost_function(params, ansatz, hamiltonian, pass_manager, estimator):\n",
    "    global iteration_number \n",
    "    # Bind parameters to the ansatz\n",
    "    bound_circuit = ansatz.assign_parameters(params)\n",
    "    \n",
    "    # Calculate expectation value\n",
    "    job = estimator.run([(bound_circuit, hamiltonian)]) #Something wrong w parameter optim.\n",
    "    result = job.result()\n",
    "    energy = result[0].data.evs \n",
    "    vqe_energies.append(energy)\n",
    "    \n",
    "    iteration_number += 1\n",
    "    # Print statement to see where we are at\n",
    "    print(f\"Iteration: {iteration_number}, Current energy: {energy}, Current parameters: {params}\")\n",
    "    return energy"
   ]
  },
  {
   "cell_type": "code",
   "execution_count": 36,
   "metadata": {},
   "outputs": [
    {
     "name": "stdout",
     "output_type": "stream",
     "text": [
      "Iteration: 1, Current energy: -0.43940429687500004, Current parameters: [1. 3. 1. 2. 0. 3. 3. 0.]\n",
      "Iteration: 2, Current energy: 0.27944335937500003, Current parameters: [2. 3. 1. 2. 0. 3. 3. 0.]\n",
      "Iteration: 3, Current energy: -0.353564453125, Current parameters: [1. 4. 1. 2. 0. 3. 3. 0.]\n",
      "Iteration: 4, Current energy: -0.38017578125, Current parameters: [1. 3. 2. 2. 0. 3. 3. 0.]\n",
      "Iteration: 5, Current energy: -0.463916015625, Current parameters: [1. 3. 1. 3. 0. 3. 3. 0.]\n",
      "Iteration: 6, Current energy: -0.35317382812500003, Current parameters: [1. 3. 1. 3. 1. 3. 3. 0.]\n",
      "Iteration: 7, Current energy: -0.431640625, Current parameters: [1. 3. 1. 3. 0. 4. 3. 0.]\n",
      "Iteration: 8, Current energy: -0.51611328125, Current parameters: [1. 3. 1. 3. 0. 3. 4. 0.]\n",
      "Iteration: 9, Current energy: -0.47734375, Current parameters: [1. 3. 1. 3. 0. 3. 4. 1.]\n",
      "Iteration: 10, Current energy: -0.7833496093750001, Current parameters: [ 0.02694135  2.88380403  0.9198261   3.03317996 -0.1499047   2.95631084\n",
      "  4.07065614 -0.05247986]\n",
      "Iteration: 11, Current energy: -0.569775390625, Current parameters: [-0.78189274  2.58744645  0.71534275  3.11780539 -0.53223631  2.84488174\n",
      "  4.25086447 -0.18632964]\n",
      "Iteration: 12, Current energy: -0.662158203125, Current parameters: [ 0.02694135  2.48862181  0.9198261   3.03317996  0.15641379  2.95631084\n",
      "  4.07065614 -0.05247986]\n",
      "Iteration: 13, Current energy: -0.722509765625, Current parameters: [-0.32411643  3.57346081  0.88096709  3.04926177  0.48025015  2.9351354\n",
      "  4.10490205 -0.07791602]\n",
      "Iteration: 14, Current energy: -0.780712890625, Current parameters: [-0.04545294  2.89626455  1.41287134  3.03649631 -0.18735787  2.9519441\n",
      "  4.07771825 -0.05772525]\n",
      "Iteration: 15, Current energy: -0.80498046875, Current parameters: [ 0.02694135  2.88380403  0.9198261   3.23227274 -0.1499047   3.10751292\n",
      "  4.07065614 -0.05247986]\n",
      "Iteration: 16, Current energy: -0.777294921875, Current parameters: [-0.02267263  2.8923436   0.91529585  2.93826898 -0.17557248  3.50790224\n",
      "  4.07549602 -0.05607468]\n",
      "Iteration: 17, Current energy: -0.8042480468750001, Current parameters: [ 0.02694135  2.88380403  0.9198261   3.23227274 -0.1499047   3.10751292\n",
      "  3.92158897 -0.2531761 ]\n",
      "Iteration: 18, Current energy: -0.79111328125, Current parameters: [-0.05208026  2.89740524  0.91261065  3.25017767 -0.19078652  3.10506421\n",
      "  3.67638765  0.2409021 ]\n",
      "Iteration: 19, Current energy: -0.7552734375000001, Current parameters: [ 0.38707645  3.13384238  0.94316709  3.35668596 -0.3524191   3.13356145\n",
      "  4.07889294 -0.05375427]\n",
      "Iteration: 20, Current energy: -0.7849121093750001, Current parameters: [-0.14440586  2.89371338  0.87873378  3.29235398 -0.30582232  3.08940295\n",
      "  4.11612536 -0.08469602]\n",
      "Iteration: 21, Current energy: -0.8005859375000001, Current parameters: [-0.01410708  2.98764108  0.9152824   3.23415315 -0.0942028   3.10503692\n",
      "  4.07466044 -0.05545406]\n",
      "Iteration: 22, Current energy: -0.7630371093750001, Current parameters: [ 0.02968558  2.74266989  0.93019181  3.34029716  0.02398929  3.12432762\n",
      "  4.08565282 -0.05956122]\n",
      "Iteration: 23, Current energy: -0.80283203125, Current parameters: [ 0.04862219  2.8832849   0.79696409  3.23139266 -0.14269149  3.10867175\n",
      "  4.06878202 -0.05108786]\n",
      "Iteration: 24, Current energy: -0.800830078125, Current parameters: [ 0.21392635  2.98960983  0.95670645  3.28985513 -0.25704189  3.12105278\n",
      "  4.07246234 -0.05154186]\n",
      "Iteration: 25, Current energy: -0.802734375, Current parameters: [ 0.02556811  2.88611027  0.92330462  3.16968063 -0.16210592  3.2148793\n",
      "  4.07365382 -0.05406994]\n",
      "Iteration: 26, Current energy: -0.794384765625, Current parameters: [ 0.0128294   2.88738072  0.92053588  3.23956139 -0.16357707  3.11174991\n",
      "  3.97199945  0.02115032]\n",
      "Iteration: 27, Current energy: -0.799072265625, Current parameters: [ 0.0444883   2.85643729  0.93043488  3.25887728 -0.11372874  3.11991803\n",
      "  4.09032644 -0.0658799 ]\n",
      "Iteration: 28, Current energy: -0.805859375, Current parameters: [ 0.02694135  2.88380403  0.9198261   3.23143056 -0.1499047   3.10687332\n",
      "  4.08927886 -0.0274072 ]\n",
      "Iteration: 29, Current energy: -0.79052734375, Current parameters: [ 0.03971315  2.88117021  0.92524524  3.1819845  -0.15141538  3.07345366\n",
      "  4.10053257 -0.03142122]\n",
      "Iteration: 30, Current energy: -0.7880859375, Current parameters: [ 7.69397513e-04  2.86968836e+00  9.15644577e-01  3.22648667e+00\n",
      " -1.43275209e-01  3.10480352e+00  4.09035045e+00 -2.84219838e-02]\n",
      "Iteration: 31, Current energy: -0.8076171875000001, Current parameters: [ 0.05263799  2.91044688  0.92310238  3.25991146 -0.18839213  3.11666522\n",
      "  4.10025722 -0.03147016]\n",
      "Iteration: 32, Current energy: -0.8075195312500001, Current parameters: [ 0.06601979  2.91335062  0.92670281  3.2629632  -0.18312842  3.11936726\n",
      "  4.07904057 -0.01468838]\n",
      "Iteration: 33, Current energy: -0.80712890625, Current parameters: [ 0.05039929  2.91609525  0.92278649  3.26682    -0.18392183  3.10485824\n",
      "  4.10016389 -0.03146998]\n",
      "Iteration: 34, Current energy: -0.8087890625, Current parameters: [ 0.05064693  2.93355279  0.92372284  3.25308101 -0.17437813  3.12975178\n",
      "  4.10439232 -0.03410191]\n",
      "Iteration: 35, Current energy: -0.796484375, Current parameters: [ 0.05331715  2.93311831  0.90851826  3.25453602 -0.17287791  3.13086465\n",
      "  4.1042845  -0.03394457]\n",
      "Iteration: 36, Current energy: -0.802197265625, Current parameters: [ 0.06512931  2.93638193  0.94098543  3.23617724 -0.17578588  3.11832533\n",
      "  4.10957873 -0.03805664]\n",
      "Iteration: 37, Current energy: -0.803173828125, Current parameters: [ 0.05711987  2.92796089  0.92668194  3.26004744 -0.16600001  3.13298077\n",
      "  4.1091555  -0.03732339]\n",
      "Iteration: 38, Current energy: -0.8082519531250001, Current parameters: [ 0.02976139  2.93694676  0.94210332  3.25841067 -0.1822233   3.13615223\n",
      "  4.0988424  -0.02869115]\n",
      "Iteration: 39, Current energy: -0.8060546875000001, Current parameters: [ 0.05037084  2.93316763  0.92313373  3.25244511 -0.17408974  3.12929849\n",
      "  4.11380963 -0.02168457]\n",
      "Iteration: 40, Current energy: -0.7952148437500001, Current parameters: [ 0.04180412  2.94295419  0.9031693   3.24727152 -0.18590916  3.13144985\n",
      "  4.09020315 -0.03817645]\n",
      "Iteration: 41, Current energy: -0.805419921875, Current parameters: [ 0.05734653  2.93953933  0.92459391  3.26094737 -0.18332674  3.13251053\n",
      "  4.10771478 -0.03553431]\n",
      "Iteration: 42, Current energy: -0.8028320312500001, Current parameters: [ 0.05046793  2.91966996  0.92958346  3.26525575 -0.15358067  3.13955602\n",
      "  4.10498715 -0.04259986]\n",
      "Iteration: 43, Current energy: -0.8066894531250001, Current parameters: [ 0.04880759  2.93221542  0.92144452  3.25225294 -0.17242832  3.13013171\n",
      "  4.11298189 -0.02163733]\n",
      "Iteration: 44, Current energy: -0.8081542968750001, Current parameters: [ 0.04702349  2.9328731   0.92314139  3.25237387 -0.17582058  3.129128\n",
      "  4.10961029 -0.03821394]\n",
      "Iteration: 45, Current energy: -0.805712890625, Current parameters: [ 0.04127013  2.93509212  0.9343267   3.25462332 -0.17787192  3.13173677\n",
      "  4.10081598 -0.03092558]\n",
      "Iteration: 46, Current energy: -0.796484375, Current parameters: [ 0.04961918  2.93643083  0.92375611  3.25643148 -0.17220699  3.12398702\n",
      "  4.10342785 -0.03536387]\n",
      "Iteration: 47, Current energy: -0.805126953125, Current parameters: [ 0.05139216  2.9293461   0.92138456  3.24871389 -0.17505527  3.13634529\n",
      "  4.11143403 -0.02371774]\n",
      "Iteration: 48, Current energy: -0.7935058593750001, Current parameters: [ 0.05394326  2.93227603  0.92681576  3.24804084 -0.17557482  3.13095003\n",
      "  4.10328303 -0.03717947]\n",
      "Iteration: 49, Current energy: -0.806591796875, Current parameters: [ 0.05030612  2.93651213  0.92358006  3.25217382 -0.17276733  3.13138914\n",
      "  4.1047524  -0.03447107]\n",
      "Iteration: 50, Current energy: -0.803466796875, Current parameters: [ 0.04786964  2.93239487  0.91877899  3.2543284  -0.17646264  3.13268677\n",
      "  4.10088923 -0.03496939]\n",
      "Iteration: 51, Current energy: -0.80791015625, Current parameters: [ 0.05102907  2.9319632   0.92468107  3.25491282 -0.17255943  3.1317068\n",
      "  4.1047267  -0.03513665]\n",
      "Iteration: 52, Current energy: -0.8066894531250001, Current parameters: [ 0.04955115  2.93393544  0.92273594  3.25698531 -0.17187447  3.12463013\n",
      "  4.10606299 -0.03124189]\n",
      "Iteration: 53, Current energy: -0.8045898437500001, Current parameters: [ 0.05009904  2.93374411  0.92322939  3.25503316 -0.1731263   3.12719096\n",
      "  4.10522766 -0.0326719 ]\n",
      "Iteration: 54, Current energy: -0.812744140625, Current parameters: [ 0.0518719   2.93333627  0.9225214   3.25274501 -0.17391087  3.12945592\n",
      "  4.10468294 -0.03466812]\n",
      "Iteration: 55, Current energy: -0.8075195312500001, Current parameters: [ 0.05451363  2.93222826  0.92221642  3.25072465 -0.1739708   3.12871645\n",
      "  4.10458979 -0.03619075]\n",
      "Iteration: 56, Current energy: -0.8053222656250001, Current parameters: [ 0.05151026  2.93371622  0.92238065  3.25327334 -0.17388064  3.12892379\n",
      "  4.10349918 -0.03591523]\n",
      "Iteration: 57, Current energy: -0.8019042968750001, Current parameters: [ 0.05152952  2.93229869  0.91967999  3.25265815 -0.17456894  3.13126571\n",
      "  4.10510484 -0.03321986]\n",
      "Iteration: 58, Current energy: -0.80595703125, Current parameters: [ 0.05265261  2.93410988  0.92255112  3.25383662 -0.17496741  3.1297434\n",
      "  4.10513415 -0.0347763 ]\n",
      "Iteration: 59, Current energy: -0.787841796875, Current parameters: [ 0.0533705   2.93226277  0.9241287   3.25023688 -0.17286298  3.12860562\n",
      "  4.10573687 -0.03443442]\n",
      "Iteration: 60, Current energy: -0.8027832031250001, Current parameters: [ 0.05152437  2.93357966  0.92217601  3.2536208  -0.17296109  3.12845048\n",
      "  4.10525387 -0.03395438]\n",
      "Iteration: 61, Current energy: -0.8107421875, Current parameters: [ 0.05230799  2.93352612  0.92258823  3.25280008 -0.17367484  3.12959162\n",
      "  4.10405026 -0.03417259]\n",
      "Iteration: 62, Current energy: -0.8087890625, Current parameters: [ 0.05156363  2.93471503  0.92238732  3.25219207 -0.17317836  3.13029463\n",
      "  4.10506954 -0.03499292]\n",
      "Iteration: 63, Current energy: -0.801025390625, Current parameters: [ 0.05197795  2.93292833  0.9227647   3.25318655 -0.17345788  3.12995955\n",
      "  4.10480137 -0.0348895 ]\n",
      "Iteration: 64, Current energy: -0.8062500000000001, Current parameters: [ 0.05139021  2.93362174  0.92188497  3.25233011 -0.17449764  3.12868219\n",
      "  4.10357053 -0.03553045]\n",
      "Iteration: 65, Current energy: -0.7993652343750001, Current parameters: [ 0.05169482  2.93312668  0.92196555  3.25246777 -0.17424767  3.12977472\n",
      "  4.1048292  -0.03416206]\n",
      "Iteration: 66, Current energy: -0.8033691406250001, Current parameters: [ 0.05222572  2.93341157  0.92307939  3.25222694 -0.17396718  3.12902509\n",
      "  4.10491512 -0.03468718]\n",
      "Iteration: 67, Current energy: -0.8036132812500001, Current parameters: [ 0.05178574  2.93370329  0.92247935  3.25260943 -0.17373942  3.12963743\n",
      "  4.10475789 -0.03475853]\n",
      "Iteration: 68, Current energy: -0.8057617187500001, Current parameters: [ 0.05172624  2.93336274  0.9226753   3.25277867 -0.17396435  3.12949544\n",
      "  4.10466938 -0.03457722]\n",
      "Iteration: 69, Current energy: -0.8019042968750001, Current parameters: [ 0.05191247  2.93325705  0.9223282   3.25280012 -0.17397678  3.12923015\n",
      "  4.10442311 -0.03492756]\n",
      "Iteration: 70, Current energy: -0.8033203125000001, Current parameters: [ 0.05176985  2.93327531  0.92249482  3.25269538 -0.17374     3.12935838\n",
      "  4.1046767  -0.0346085 ]\n",
      "Iteration: 71, Current energy: -0.798583984375, Current parameters: [ 0.05202421  2.93348996  0.92243269  3.25304824 -0.17394908  3.12930388\n",
      "  4.10490999 -0.03454302]\n",
      "Iteration: 72, Current energy: -0.80966796875, Current parameters: [ 0.05199458  2.93337797  0.92253676  3.25274475 -0.17386383  3.12949576\n",
      "  4.10452634 -0.03454873]\n",
      "Iteration: 73, Current energy: -0.8126464843750001, Current parameters: [ 0.05189149  2.93337076  0.92254465  3.2526685  -0.17395121  3.12938638\n",
      "  4.10469417 -0.03464964]\n",
      "Iteration: 74, Current energy: -0.8052246093750001, Current parameters: [ 0.0519987   2.93322575  0.92260748  3.25267827 -0.17392082  3.12953866\n",
      "  4.10475977 -0.03474936]\n",
      "Iteration: 75, Current energy: -0.806396484375, Current parameters: [ 0.05183765  2.93329258  0.92236315  3.25267673 -0.1740215   3.12953802\n",
      "  4.10469982 -0.03458122]\n",
      "Iteration: 76, Current energy: -0.802685546875, Current parameters: [ 0.05186176  2.93341282  0.92250854  3.2527218  -0.17388806  3.12948929\n",
      "  4.10468645 -0.0347092 ]\n",
      "Iteration: 77, Current energy: -0.8092285156250001, Current parameters: [ 0.05188494  2.93334958  0.92252029  3.25275832 -0.17390087  3.12945765\n",
      "  4.10471864 -0.0346437 ]\n",
      "Iteration: 78, Current energy: -0.802197265625, Current parameters: [ 0.05188395  2.93330701  0.92251268  3.25279436 -0.17395429  3.12940187\n",
      "  4.10464935 -0.03469164]\n",
      "Iteration: 79, Current energy: -0.7984375, Current parameters: [ 0.05190099  2.9333485   0.92252728  3.25274857 -0.17391389  3.12947038\n",
      "  4.10465352 -0.0346488 ]\n",
      "Iteration: 80, Current energy: -0.8009277343750001, Current parameters: [ 0.0518275   2.93328937  0.92251313  3.25270964 -0.17385211  3.12942499\n",
      "  4.10469238 -0.03466452]\n",
      "Iteration: 81, Current energy: -0.806591796875, Current parameters: [ 0.05188277  2.93332797  0.9224771   3.25273138 -0.17392104  3.12946234\n",
      "  4.10468607 -0.03466486]\n",
      "Iteration: 82, Current energy: -0.8091308593750001, Current parameters: [ 0.05180989  2.93332775  0.92254489  3.25274168 -0.17397172  3.12948878\n",
      "  4.10470575 -0.03465344]\n",
      "Iteration: 83, Current energy: -0.800048828125, Current parameters: [ 0.05188803  2.93331855  0.9225322   3.25273775 -0.17391502  3.1294615\n",
      "  4.10470934 -0.03469992]\n",
      "Iteration: 84, Current energy: -0.803662109375, Current parameters: [ 0.05189869  2.93333488  0.92255896  3.25273328 -0.17390446  3.12948918\n",
      "  4.10462201 -0.03461452]\n",
      "Optimal value without PT : -0.803662109375\n",
      "Optimal parameters: [ 0.05189869  2.93333488  0.92255896  3.25273328 -0.17390446  3.12948918\n",
      "  4.10462201 -0.03461452]\n"
     ]
    }
   ],
   "source": [
    "result = minimize(\n",
    "    vqe_cost_function,\n",
    "    initial_params,\n",
    "    args=(qc, hamiltonian, pm, estimator),\n",
    "    method='COBYLA',\n",
    "    options={'maxiter': 100}\n",
    ")\n",
    "\n",
    "optimal_params = result.x\n",
    "optimal_value = result.fun\n",
    "\n",
    "print(f\"Optimal value without PT : {optimal_value}\")\n",
    "print(f\"Optimal parameters: {optimal_params}\")"
   ]
  },
  {
   "cell_type": "code",
   "execution_count": null,
   "metadata": {},
   "outputs": [
    {
     "data": {
      "image/png": "[encoded data removed]",
      "text/plain": [
       "<Figure size 640x480 with 1 Axes>"
      ]
     },
     "metadata": {},
     "output_type": "display_data"
    },
    {
     "data": {
      "text/plain": [
       "<Figure size 640x480 with 0 Axes>"
      ]
     },
     "metadata": {},
     "output_type": "display_data"
    }
   ],
   "source": [
    "import matplotlib.pyplot as plt\n",
    "\n",
    "plt.plot(vqe_energies, label='VQE Energy')\n",
    "plt.plot(pt_vqe_energies, label='PT VQE Energy')\n",
    "plt.axhline(y=ref_value, color='r', linestyle='--', label=f'Ground State Energy: {ref_value:.5f}')\n",
    "plt.xlabel('Iteration')\n",
    "plt.ylabel('VQE Energy')\n",
    "plt.title(f'VQE Energy vs Iteration ; {num_qubits} qubits')\n",
    "plt.legend()\n",
    "plt.show()\n",
    "# nm = None\n",
    "import matplotlib\n",
    "matplotlib.use('Agg')  # Non-interactive backends"
   ]
  },
  {
   "cell_type": "code",
   "execution_count": null,
   "metadata": {},
   "outputs": [],
   "source": []
  },
  {
   "cell_type": "code",
   "execution_count": null,
   "metadata": {},
   "outputs": [],
   "source": []
  }
 ],
 "metadata": {
  "kernelspec": {
   "display_name": "clapton",
   "language": "python",
   "name": "python3"
  },
  "language_info": {
   "codemirror_mode": {
    "name": "ipython",
    "version": 3
   },
   "file_extension": ".py",
   "mimetype": "text/x-python",
   "name": "python",
   "nbconvert_exporter": "python",
   "pygments_lexer": "ipython3",
   "version": "3.10.15"
  }
 },
 "nbformat": 4,
 "nbformat_minor": 2
}
