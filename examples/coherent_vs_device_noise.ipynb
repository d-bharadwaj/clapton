{
 "cells": [
  {
   "cell_type": "code",
   "execution_count": 1,
   "metadata": {},
   "outputs": [],
   "source": [
    "from qiskit.dagcircuit import DAGCircuit\n",
    "from qiskit.circuit import QuantumCircuit, QuantumRegister, Gate,ParameterVector\n",
    "from qiskit.circuit.library import CXGate, ECRGate\n",
    "from qiskit.transpiler import PassManager\n",
    "from qiskit.transpiler.basepasses import TransformationPass\n",
    "from qiskit.quantum_info import Operator, pauli_basis\n",
    "from qiskit.quantum_info import SparsePauliOp\n",
    "from qiskit_ibm_runtime.fake_provider import FakeMumbaiV2\n",
    "from qiskit_ibm_runtime import EstimatorV2 as Estimator, QiskitRuntimeService\n",
    "from qiskit_aer import AerSimulator\n",
    "from qiskit_aer.noise import NoiseModel, QuantumError, coherent_unitary_error\n",
    "from qiskit.transpiler.preset_passmanagers import generate_preset_pass_manager\n",
    "from qiskit.quantum_info import Pauli, SparsePauliOp\n",
    "\n",
    "import sys\n",
    "sys.path.append(\"../\")\n",
    "from clapton.hamiltonians import ising_model\n",
    "\n",
    "import numpy as np\n",
    "from typing import Iterable, Optional\n",
    "from scipy.optimize import minimize"
   ]
  },
  {
   "cell_type": "code",
   "execution_count": 2,
   "metadata": {},
   "outputs": [],
   "source": [
    "class PauliTwirl(TransformationPass):\n",
    "    \"\"\"Add Pauli twirls to two-qubit gates.\"\"\"\n",
    " \n",
    "    def __init__(\n",
    "        self,\n",
    "        gates_to_twirl: Optional[Iterable[Gate]] = None,\n",
    "    ):\n",
    "        \"\"\"\n",
    "        Args:\n",
    "            gates_to_twirl: Names of gates to twirl. The default behavior is to twirl all\n",
    "                two-qubit basis gates, `cx` and `ecr` for IBM backends.\n",
    "        \"\"\"\n",
    "        if gates_to_twirl is None:\n",
    "            gates_to_twirl = [CXGate(), ECRGate()]\n",
    "        self.gates_to_twirl = gates_to_twirl\n",
    "        self.build_twirl_set()\n",
    "        super().__init__()\n",
    " \n",
    "    def build_twirl_set(self):\n",
    "        \"\"\"\n",
    "        Build a set of Paulis to twirl for each gate and store internally as .twirl_set.\n",
    "        \"\"\"\n",
    "        self.twirl_set = {}\n",
    " \n",
    "        # iterate through gates to be twirled\n",
    "        for twirl_gate in self.gates_to_twirl:\n",
    "            twirl_list = []\n",
    " \n",
    "            # iterate through Paulis on left of gate to twirl\n",
    "            for pauli_left in pauli_basis(2):\n",
    "                # iterate through Paulis on right of gate to twirl\n",
    "                for pauli_right in pauli_basis(2):\n",
    "                    # save pairs that produce identical operation as gate to twirl\n",
    "                    if (Operator(pauli_left) @ Operator(twirl_gate)).equiv(\n",
    "                        Operator(twirl_gate) @ pauli_right\n",
    "                    ):\n",
    "                        twirl_list.append((pauli_left, pauli_right))\n",
    " \n",
    "            self.twirl_set[twirl_gate.name] = twirl_list\n",
    " \n",
    "    def run(\n",
    "        self,\n",
    "        dag: DAGCircuit,\n",
    "    ) -> DAGCircuit:\n",
    "        # collect all nodes in DAG and proceed if it is to be twirled\n",
    "        twirling_gate_classes = tuple(\n",
    "            gate.base_class for gate in self.gates_to_twirl\n",
    "        )\n",
    "        for node in dag.op_nodes():\n",
    "            if not isinstance(node.op, twirling_gate_classes):\n",
    "                continue\n",
    " \n",
    "            # random integer to select Pauli twirl pair\n",
    "            pauli_index = np.random.randint(\n",
    "                0, len(self.twirl_set[node.op.name])\n",
    "            )\n",
    "            twirl_pair = self.twirl_set[node.op.name][pauli_index]\n",
    " \n",
    "            # instantiate mini_dag and attach quantum register\n",
    "            mini_dag = DAGCircuit()\n",
    "            register = QuantumRegister(2)\n",
    "            mini_dag.add_qreg(register)\n",
    " \n",
    "            # apply left Pauli, gate to twirl, and right Pauli to empty mini-DAG\n",
    "            mini_dag.apply_operation_back(\n",
    "                twirl_pair[0].to_instruction(), [register[0], register[1]]\n",
    "            )\n",
    "            mini_dag.apply_operation_back(node.op, [register[0], register[1]])\n",
    "            mini_dag.apply_operation_back(\n",
    "                twirl_pair[1].to_instruction(), [register[0], register[1]]\n",
    "            )\n",
    " \n",
    "            # substitute gate to twirl node with twirling mini-DAG\n",
    "            dag.substitute_node_with_dag(node, mini_dag)\n",
    " \n",
    "        return dag"
   ]
  },
  {
   "cell_type": "code",
   "execution_count": 3,
   "metadata": {},
   "outputs": [],
   "source": [
    "def qiskit_circular_ansatz(N, reps=1): \n",
    "    qc = QuantumCircuit(N)\n",
    "\n",
    "    # define your parameters\n",
    "    p = ParameterVector('p', (N*2) *(reps+1)) \n",
    "\n",
    "    for r in range(reps): \n",
    "        for i in range(N):\n",
    "            qc.ry(p[2*N*r+i], i)  \n",
    "        for i in range(N):\n",
    "            qc.rz(p[2*N*r+(i+N)], i)\n",
    "        for i in range(N):\n",
    "            control = (i-1) % N\n",
    "            target = i\n",
    "            qc.cx(control, target)\n",
    "    for i in range(N):\n",
    "        qc.ry(p[2*N*reps+i], i)\n",
    "    for i in range(N):\n",
    "        qc.rz(p[2*N*reps + (i+N)], i)\n",
    "    return qc\n",
    "num_qubits = 5\n",
    "reps = 1\n",
    "qc = qiskit_circular_ansatz(num_qubits,reps)"
   ]
  },
  {
   "cell_type": "code",
   "execution_count": 4,
   "metadata": {},
   "outputs": [],
   "source": [
    "# Multi Qubit Hamiltonian\n",
    "coeffs,paulis,_ = ising_model(N=num_qubits,Jx=0.2,Jy=0.3,h=0.4)\n",
    "\n",
    "weights  =  coeffs\n",
    "pauli_op = [([pauli,weight]) for pauli,weight in zip(paulis,weights)]\n",
    "hamiltonian = SparsePauliOp.from_list([ op for op in pauli_op ])\n"
   ]
  },
  {
   "cell_type": "code",
   "execution_count": 5,
   "metadata": {},
   "outputs": [
    {
     "data": {
      "text/plain": [
       "array([0., 0., 0., 0., 0., 0., 0., 0., 0., 0., 0., 0., 0., 0., 0., 0., 0.,\n",
       "       0., 0., 0.])"
      ]
     },
     "execution_count": 5,
     "metadata": {},
     "output_type": "execute_result"
    }
   ],
   "source": [
    "# Set initial parameters\n",
    "initial_params = np.zeros(qc.num_parameters)\n",
    "initial_params"
   ]
  },
  {
   "cell_type": "code",
   "execution_count": 6,
   "metadata": {},
   "outputs": [
    {
     "name": "stdout",
     "output_type": "stream",
     "text": [
      "Reference value: -2.08662\n"
     ]
    }
   ],
   "source": [
    "# Calculate Exact Ground State Energy\n",
    "from qiskit_algorithms import NumPyMinimumEigensolver\n",
    "\n",
    "numpy_solver = NumPyMinimumEigensolver()\n",
    "ref_result = numpy_solver.compute_minimum_eigenvalue(operator=hamiltonian)\n",
    "ref_value = ref_result.eigenvalue.real\n",
    "print(f\"Reference value: {ref_value:.5f}\") #NOTE: Check if both reference values match"
   ]
  },
  {
   "cell_type": "code",
   "execution_count": 7,
   "metadata": {},
   "outputs": [],
   "source": [
    "# Create your custom pass\n",
    "pm = PassManager([PauliTwirl()])\n",
    "\n",
    "#Create your twirled circuits\n",
    "twirled_qcs = [pm.run(qc) for _ in range(100)]"
   ]
  },
  {
   "cell_type": "code",
   "execution_count": 8,
   "metadata": {},
   "outputs": [
    {
     "name": "stdout",
     "output_type": "stream",
     "text": [
      "NoiseModel:\n",
      "  Basis gates: ['cx', 'delay', 'id', 'measure', 'reset', 'rz', 'sx', 'x']\n",
      "  Instructions with noise: ['reset', 'measure', 'cx', 'id', 'x', 'sx']\n",
      "  Qubits with noise: [0, 1, 2, 3, 4, 5, 6, 7, 8, 9, 10, 11, 12, 13, 14, 15, 16, 17, 18, 19, 20, 21, 22, 23, 24, 25, 26]\n",
      "  Specific qubit errors: [('reset', (0,)), ('reset', (1,)), ('reset', (2,)), ('reset', (3,)), ('reset', (4,)), ('reset', (5,)), ('reset', (6,)), ('reset', (7,)), ('reset', (8,)), ('reset', (9,)), ('reset', (10,)), ('reset', (11,)), ('reset', (12,)), ('reset', (13,)), ('reset', (14,)), ('reset', (15,)), ('reset', (16,)), ('reset', (17,)), ('reset', (18,)), ('reset', (19,)), ('reset', (20,)), ('reset', (21,)), ('reset', (22,)), ('reset', (23,)), ('reset', (24,)), ('reset', (25,)), ('reset', (26,)), ('cx', (0, 1)), ('cx', (1, 0)), ('cx', (1, 2)), ('cx', (1, 4)), ('cx', (2, 1)), ('cx', (2, 3)), ('cx', (3, 2)), ('cx', (3, 5)), ('cx', (4, 1)), ('cx', (4, 7)), ('cx', (5, 3)), ('cx', (5, 8)), ('cx', (6, 7)), ('cx', (7, 4)), ('cx', (7, 6)), ('cx', (7, 10)), ('cx', (8, 5)), ('cx', (8, 9)), ('cx', (8, 11)), ('cx', (9, 8)), ('cx', (10, 7)), ('cx', (10, 12)), ('cx', (11, 8)), ('cx', (11, 14)), ('cx', (12, 10)), ('cx', (12, 13)), ('cx', (12, 15)), ('cx', (13, 12)), ('cx', (13, 14)), ('cx', (14, 11)), ('cx', (14, 13)), ('cx', (14, 16)), ('cx', (15, 12)), ('cx', (15, 18)), ('cx', (16, 14)), ('cx', (16, 19)), ('cx', (17, 18)), ('cx', (18, 15)), ('cx', (18, 17)), ('cx', (18, 21)), ('cx', (19, 16)), ('cx', (19, 20)), ('cx', (19, 22)), ('cx', (20, 19)), ('cx', (21, 18)), ('cx', (21, 23)), ('cx', (22, 19)), ('cx', (22, 25)), ('cx', (23, 21)), ('cx', (23, 24)), ('cx', (24, 23)), ('cx', (24, 25)), ('cx', (25, 22)), ('cx', (25, 24)), ('cx', (25, 26)), ('cx', (26, 25)), ('id', (0,)), ('id', (1,)), ('id', (2,)), ('id', (3,)), ('id', (4,)), ('id', (5,)), ('id', (6,)), ('id', (7,)), ('id', (8,)), ('id', (9,)), ('id', (10,)), ('id', (11,)), ('id', (12,)), ('id', (13,)), ('id', (14,)), ('id', (15,)), ('id', (16,)), ('id', (17,)), ('id', (18,)), ('id', (19,)), ('id', (20,)), ('id', (21,)), ('id', (22,)), ('id', (23,)), ('id', (24,)), ('id', (25,)), ('id', (26,)), ('x', (0,)), ('x', (1,)), ('x', (2,)), ('x', (3,)), ('x', (4,)), ('x', (5,)), ('x', (6,)), ('x', (7,)), ('x', (8,)), ('x', (9,)), ('x', (10,)), ('x', (11,)), ('x', (12,)), ('x', (13,)), ('x', (14,)), ('x', (15,)), ('x', (16,)), ('x', (17,)), ('x', (18,)), ('x', (19,)), ('x', (20,)), ('x', (21,)), ('x', (22,)), ('x', (23,)), ('x', (24,)), ('x', (25,)), ('x', (26,)), ('sx', (0,)), ('sx', (1,)), ('sx', (2,)), ('sx', (3,)), ('sx', (4,)), ('sx', (5,)), ('sx', (6,)), ('sx', (7,)), ('sx', (8,)), ('sx', (9,)), ('sx', (10,)), ('sx', (11,)), ('sx', (12,)), ('sx', (13,)), ('sx', (14,)), ('sx', (15,)), ('sx', (16,)), ('sx', (17,)), ('sx', (18,)), ('sx', (19,)), ('sx', (20,)), ('sx', (21,)), ('sx', (22,)), ('sx', (23,)), ('sx', (24,)), ('sx', (25,)), ('sx', (26,)), ('measure', (0,)), ('measure', (1,)), ('measure', (2,)), ('measure', (3,)), ('measure', (4,)), ('measure', (5,)), ('measure', (6,)), ('measure', (7,)), ('measure', (8,)), ('measure', (9,)), ('measure', (10,)), ('measure', (11,)), ('measure', (12,)), ('measure', (13,)), ('measure', (14,)), ('measure', (15,)), ('measure', (16,)), ('measure', (17,)), ('measure', (18,)), ('measure', (19,)), ('measure', (20,)), ('measure', (21,)), ('measure', (22,)), ('measure', (23,)), ('measure', (24,)), ('measure', (25,)), ('measure', (26,))]\n"
     ]
    }
   ],
   "source": [
    "# Device Noise Model\n",
    "backend = FakeMumbaiV2() # Your quantum backend\n",
    "noise_model = NoiseModel.from_backend(backend)\n",
    "print(noise_model)"
   ]
  },
  {
   "cell_type": "code",
   "execution_count": 9,
   "metadata": {},
   "outputs": [
    {
     "name": "stdout",
     "output_type": "stream",
     "text": [
      "NoiseModel:\n",
      "  Basis gates: ['cx', 'id', 'rz', 'sx']\n",
      "  Instructions with noise: ['cx']\n",
      "  All-qubits errors: ['cx']\n"
     ]
    }
   ],
   "source": [
    "# Only Coherent Noise Model \n",
    "noise_model = NoiseModel()\n",
    "\n",
    "# Define the over-rotation angle (in radians)\n",
    "theta = 1e-2 * np.pi/2 # Adjust this value to control the amount of over-rotation\n",
    "\n",
    "# Create the over-rotated CX gate\n",
    "cx_overrotated = Operator([\n",
    "    [np.cos(theta), -1j*np.sin(theta), 0, 0],\n",
    "    [-1j*np.sin(theta), np.cos(theta), 0, 0],\n",
    "    [0, 0, np.cos(theta), -1j*np.sin(theta)],\n",
    "    [0, 0, -1j*np.sin(theta), np.cos(theta)]\n",
    "])\n",
    "\n",
    "# Create a quantum error from the over-rotated CX gate\n",
    "noise_model.add_all_qubit_quantum_error((cx_overrotated), ['cx'])\n",
    "print(noise_model)"
   ]
  },
  {
   "cell_type": "code",
   "execution_count": 10,
   "metadata": {},
   "outputs": [],
   "source": [
    "# ##Noisy\n",
    "estimator = Estimator(\n",
    "    mode=AerSimulator(\n",
    "        noise_model=noise_model,\n",
    "        coupling_map=backend.coupling_map,\n",
    "        basis_gates=noise_model.basis_gates,\n",
    "        device = 'GPU'\n",
    "    )\n",
    ")\n",
    "\n",
    "# # estimator = Estimator(mode=AerSimulator(method='statevector',device = \"GPU\"))"
   ]
  },
  {
   "cell_type": "code",
   "execution_count": 11,
   "metadata": {},
   "outputs": [
    {
     "data": {
      "text/plain": [
       "1.9997353515625"
      ]
     },
     "execution_count": 11,
     "metadata": {},
     "output_type": "execute_result"
    }
   ],
   "source": [
    "\n",
    "# Calculate expectation value\n",
    "energy_values = np.array([])\n",
    "for transpiled_circuit in twirled_qcs:\n",
    "    transpiled_circuit = transpiled_circuit.assign_parameters(initial_params)\n",
    "    job = estimator.run([(transpiled_circuit, hamiltonian)]) #Something wrong w parameter optim.\n",
    "    result = job.result()\n",
    "    energy = result[0].data.evs #NOTE: Is this actually expectation value?\n",
    "    energy_values = np.append(energy_values, energy)\n",
    "\n",
    "# Print statement to see where we are at\n",
    "# print(f\"Iteration: {iteration_number}, Current energy: {np.average(energy_values)}, Current parameters: {initial_params}\")\n",
    "# return result.values[0]\n",
    "np.average(energy_values)"
   ]
  },
  {
   "cell_type": "code",
   "execution_count": 12,
   "metadata": {},
   "outputs": [
    {
     "data": {
      "text/plain": [
       "array(1.99487305)"
      ]
     },
     "execution_count": 12,
     "metadata": {},
     "output_type": "execute_result"
    }
   ],
   "source": [
    "non_pt_circ = qc.assign_parameters(initial_params)\n",
    "job = estimator.run([(non_pt_circ, hamiltonian)])\n",
    "result = job.result()\n",
    "energy = result[0].data.evs\n",
    "energy"
   ]
  }
 ],
 "metadata": {
  "kernelspec": {
   "display_name": "clapton",
   "language": "python",
   "name": "python3"
  },
  "language_info": {
   "codemirror_mode": {
    "name": "ipython",
    "version": 3
   },
   "file_extension": ".py",
   "mimetype": "text/x-python",
   "name": "python",
   "nbconvert_exporter": "python",
   "pygments_lexer": "ipython3",
   "version": "3.10.15"
  }
 },
 "nbformat": 4,
 "nbformat_minor": 2
}
