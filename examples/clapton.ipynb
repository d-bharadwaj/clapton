{
 "cells": [
  {
   "cell_type": "markdown",
   "metadata": {},
   "source": [
    "# Clapton\n",
    "\n",
    "Read the CAFQA notebook first to understand the basic objects!"
   ]
  },
  {
   "cell_type": "code",
   "execution_count": 17,
   "metadata": {},
   "outputs": [],
   "source": [
    "import sys\n",
    "sys.path.append(\"../\")\n",
    "from clapton.clapton import claptonize\n",
    "from clapton.ansatzes import circular_ansatz\n",
    "from clapton.depolarization import GateGeneralDepolarizationModel\n",
    "from clapton.evaluation import transform_paulis\n",
    "import numpy as np"
   ]
  },
  {
   "cell_type": "code",
   "execution_count": 2,
   "metadata": {},
   "outputs": [],
   "source": [
    "# define Hamiltonian, e.g. 3q Heisenberg model with random coefficients\n",
    "paulis = [\"XXI\", \"IXX\", \"YYI\", \"IYY\", \"ZZI\", \"IZZ\"]\n",
    "coeffs = np.random.random(len(paulis))"
   ]
  },
  {
   "cell_type": "code",
   "execution_count": 3,
   "metadata": {},
   "outputs": [],
   "source": [
    "# define empty VQE Clifford circuit that captures noise but essentially acts as\n",
    "# identity\n",
    "# here we use the circular_ansatz template\n",
    "# we fix 2q gates\n",
    "vqe_pcirc = circular_ansatz(N=len(paulis[0]), reps=1, fix_2q=True)"
   ]
  },
  {
   "cell_type": "code",
   "execution_count": 7,
   "metadata": {},
   "outputs": [
    {
     "data": {
      "text/plain": [
       "<clapton.clifford.ParametrizedCliffordCircuit at 0x7fd4c7480770>"
      ]
     },
     "execution_count": 7,
     "metadata": {},
     "output_type": "execute_result"
    }
   ],
   "source": [
    "# let's add a noise model where we specify global 1q and 2q gate errors\n",
    "nm = GateGeneralDepolarizationModel(p1=0.005, p2=0.02)\n",
    "vqe_pcirc.add_depolarization_model(nm)"
   ]
  },
  {
   "cell_type": "code",
   "execution_count": 8,
   "metadata": {},
   "outputs": [
    {
     "data": {
      "text/html": [
       "<pre>q0: -I-DEPOLARIZE1(0.005)--------------------I------------------DEPOLARIZE1(0.005)---------------------------------------X-DEPOLARIZE2(0.02)-@-DEPOLARIZE2(0.02)---I-----------------DEPOLARIZE1(0.005)--------------------I------------------DEPOLARIZE1(0.005)---------------------------------------\n",
       "                                                                                                                         | |                 | |\n",
       "q1: ---I------------------DEPOLARIZE1(0.005)--------------------I------------------DEPOLARIZE1(0.005)--------------------|-|-----------------X-DEPOLARIZE2(0.02)-@-DEPOLARIZE2(0.02)-I------------------DEPOLARIZE1(0.005)--------------------I------------------DEPOLARIZE1(0.005)--------------------\n",
       "                                                                                                                         | |                                     | |\n",
       "q2: ----------------------I------------------DEPOLARIZE1(0.005)--------------------I------------------DEPOLARIZE1(0.005)-@-DEPOLARIZE2(0.02)---------------------X-DEPOLARIZE2(0.02)--------------------I------------------DEPOLARIZE1(0.005)--------------------I------------------DEPOLARIZE1(0.005)-</pre>"
      ],
      "text/plain": [
       "q0: -I-DEPOLARIZE1(0.005)--------------------I------------------DEPOLARIZE1(0.005)---------------------------------------X-DEPOLARIZE2(0.02)-@-DEPOLARIZE2(0.02)---I-----------------DEPOLARIZE1(0.005)--------------------I------------------DEPOLARIZE1(0.005)---------------------------------------\n",
       "                                                                                                                         | |                 | |\n",
       "q1: ---I------------------DEPOLARIZE1(0.005)--------------------I------------------DEPOLARIZE1(0.005)--------------------|-|-----------------X-DEPOLARIZE2(0.02)-@-DEPOLARIZE2(0.02)-I------------------DEPOLARIZE1(0.005)--------------------I------------------DEPOLARIZE1(0.005)--------------------\n",
       "                                                                                                                         | |                                     | |\n",
       "q2: ----------------------I------------------DEPOLARIZE1(0.005)--------------------I------------------DEPOLARIZE1(0.005)-@-DEPOLARIZE2(0.02)---------------------X-DEPOLARIZE2(0.02)--------------------I------------------DEPOLARIZE1(0.005)--------------------I------------------DEPOLARIZE1(0.005)-"
      ]
     },
     "execution_count": 8,
     "metadata": {},
     "output_type": "execute_result"
    }
   ],
   "source": [
    "# we can look at the corresponding stim circuit\n",
    "vqe_pcirc.stim_circuit().diagram()"
   ]
  },
  {
   "cell_type": "code",
   "execution_count": 9,
   "metadata": {},
   "outputs": [],
   "source": [
    "# we need a circuit that parametrizes the Clapton transformation\n",
    "# also use circular ansatz (could be different) but allow optimization over 2q gates\n",
    "trans_pcirc = circular_ansatz(N=len(paulis[0]), reps=1, fix_2q=False)"
   ]
  },
  {
   "cell_type": "code",
   "execution_count": 13,
   "metadata": {},
   "outputs": [
    {
     "name": "stdout",
     "output_type": "stream",
     "text": [
      "STARTING ROUND 0\n",
      "\n",
      "\n",
      "started GA at id 1 with 1 procs\n",
      "started GA at id 2 with 1 procs\n",
      "\n",
      "\n",
      "started GA at id 3 with 1 procs\n",
      "\n"
     ]
    },
    {
     "name": "stderr",
     "output_type": "stream",
     "text": [
      "/local/lmseifert/conda_envs/clapton/lib/python3.12/site-packages/pygad/pygad.py:1139: UserWarning: The 'delay_after_gen' parameter is deprecated starting from PyGAD 3.3.0. To delay or pause the evolution after each generation, assign a callback function/method to the 'on_generation' parameter to adds some time delay.\n",
      "  warnings.warn(\"The 'delay_after_gen' parameter is deprecated starting from PyGAD 3.3.0. To delay or pause the evolution after each generation, assign a callback function/method to the 'on_generation' parameter to adds some time delay.\")\n"
     ]
    },
    {
     "name": "stdout",
     "output_type": "stream",
     "text": [
      "started GA at id None with 1 procs\n",
      "\n"
     ]
    },
    {
     "name": "stderr",
     "output_type": "stream",
     "text": [
      "/local/lmseifert/conda_envs/clapton/lib/python3.12/site-packages/pygad/pygad.py:1139: UserWarning: The 'delay_after_gen' parameter is deprecated starting from PyGAD 3.3.0. To delay or pause the evolution after each generation, assign a callback function/method to the 'on_generation' parameter to adds some time delay.\n",
      "  warnings.warn(\"The 'delay_after_gen' parameter is deprecated starting from PyGAD 3.3.0. To delay or pause the evolution after each generation, assign a callback function/method to the 'on_generation' parameter to adds some time delay.\")\n",
      "/local/lmseifert/conda_envs/clapton/lib/python3.12/site-packages/pygad/pygad.py:1139: UserWarning: The 'delay_after_gen' parameter is deprecated starting from PyGAD 3.3.0. To delay or pause the evolution after each generation, assign a callback function/method to the 'on_generation' parameter to adds some time delay.\n",
      "  warnings.warn(\"The 'delay_after_gen' parameter is deprecated starting from PyGAD 3.3.0. To delay or pause the evolution after each generation, assign a callback function/method to the 'on_generation' parameter to adds some time delay.\")\n",
      "/local/lmseifert/conda_envs/clapton/lib/python3.12/site-packages/pygad/pygad.py:1139: UserWarning: The 'delay_after_gen' parameter is deprecated starting from PyGAD 3.3.0. To delay or pause the evolution after each generation, assign a callback function/method to the 'on_generation' parameter to adds some time delay.\n",
      "  warnings.warn(\"The 'delay_after_gen' parameter is deprecated starting from PyGAD 3.3.0. To delay or pause the evolution after each generation, assign a callback function/method to the 'on_generation' parameter to adds some time delay.\")\n"
     ]
    },
    {
     "name": "stdout",
     "output_type": "stream",
     "text": [
      "[0, array([-1.6408493 , -0.78597491, -0.85487439,  0.        ]), array([0, 0, 1, 0, 0, 2, 0, 0, 0, 0, 2, 1, 0, 2, 2], dtype=object)][0, array([-1.64757246, -0.79269807, -0.85487439,  0.        ]), array([2, 0, 3, 2, 3, 0, 0, 0, 0, 2, 2, 1, 0, 3, 3], dtype=object)][0, array([-1.64555628, -0.79068189, -0.85487439,  0.        ]), array([2, 0, 3, 1, 2, 0, 0, 0, 0, 2, 2, 1, 0, 3, 2], dtype=object)]\n",
      "\n",
      "\n",
      "[0, array([-1.64323681, -0.78836243, -0.85487439,  0.        ]), array([1, 2, 2, 0, 2, 0, 0, 0, 0, 3, 0, 2, 1, 0, 3], dtype=object)]\n",
      "[1, array([-1.6354825 , -0.78060811, -0.85487439,  0.        ]), array([2, 2, 1, 1, 1, 2, 0, 0, 0, 2, 0, 1, 1, 0, 3], dtype=object)][1, array([-1.24684523, -0.59970423, -0.647141  ,  0.        ]), array([2, 3, 1, 1, 2, 0, 0, 0, 0, 3, 3, 1, 0, 2, 1], dtype=object)]\n",
      "\n",
      "[1, array([-1.64859424, -0.79371985, -0.85487439,  0.        ]), array([0, 0, 2, 3, 0, 0, 0, 0, 0, 0, 2, 2, 2, 3, 3], dtype=object)]\n",
      "[1, array([-1.64423049, -0.7893561 , -0.85487439,  0.        ]), array([2, 0, 2, 2, 0, 1, 0, 0, 0, 2, 2, 2, 2, 1, 3], dtype=object)]\n",
      "[2, array([-1.64003308, -0.78515869, -0.85487439,  0.        ]), array([3, 1, 2, 0, 2, 2, 0, 0, 0, 1, 3, 2, 0, 2, 0], dtype=object)]\n",
      "[2, array([-1.6415599 , -0.78668552, -0.85487439,  0.        ]), array([2, 2, 1, 1, 2, 2, 2, 0, 0, 0, 2, 3, 2, 3, 3], dtype=object)]\n",
      "[2, array([-1.63795362, -0.78307923, -0.85487439,  0.        ]), array([3, 0, 3, 0, 0, 0, 0, 0, 0, 3, 0, 3, 1, 2, 2], dtype=object)]\n",
      "[2, array([-1.6542649 , -0.78421952, -0.87004538,  0.        ]), array([2, 3, 0, 3, 1, 2, 0, 0, 1, 3, 0, 2, 2, 0, 3], dtype=object)]\n",
      "[3, array([-1.64667634, -0.79180195, -0.85487439,  0.        ]), array([0, 0, 1, 0, 0, 2, 0, 0, 0, 0, 2, 1, 0, 0, 0], dtype=object)]\n",
      "[3, array([-1.65103952, -0.79616513, -0.85487439,  0.        ]), array([2, 2, 1, 1, 2, 2, 2, 0, 0, 0, 2, 3, 2, 3, 3], dtype=object)]\n",
      "[3, array([-1.64858854, -0.79371415, -0.85487439,  0.        ]), array([3, 3, 0, 2, 0, 1, 0, 0, 0, 3, 3, 0, 2, 0, 1], dtype=object)]\n",
      "[3, array([-1.64752725, -0.79265286, -0.85487439,  0.        ]), array([1, 2, 2, 0, 2, 0, 0, 0, 0, 3, 0, 2, 1, 0, 2], dtype=object)]\n",
      "[4, array([-1.64936485, -0.79449047, -0.85487439,  0.        ]), array([2, 2, 1, 1, 1, 2, 0, 0, 0, 2, 0, 1, 1, 1, 3], dtype=object)]\n",
      "[4, array([-1.64701818, -0.79214379, -0.85487439,  0.        ]), array([0, 0, 1, 0, 0, 2, 0, 0, 0, 0, 2, 1, 0, 2, 0], dtype=object)]\n",
      "[4, array([-1.63991536, -0.78504097, -0.85487439,  0.        ]), array([3, 3, 0, 2, 0, 1, 0, 0, 0, 3, 3, 0, 3, 0, 3], dtype=object)]\n",
      "[4, array([-1.65138213, -0.78133675, -0.87004538,  0.        ]), array([0, 0, 3, 1, 0, 0, 0, 0, 2, 3, 0, 2, 0, 0, 2], dtype=object)]\n",
      "[5, array([-1.6440719 , -0.78919751, -0.85487439,  0.        ]), array([3, 1, 2, 0, 2, 2, 0, 0, 0, 1, 3, 2, 0, 2, 0], dtype=object)]\n",
      "\n",
      "[5, array([-1.65039196, -0.79551758, -0.85487439,  0.        ]), array([2, 0, 3, 2, 3, 0, 0, 0, 0, 2, 2, 1, 0, 3, 3], dtype=object)][5, array([-1.64481043, -0.78993604, -0.85487439,  0.        ]), array([3, 0, 3, 0, 0, 0, 0, 0, 0, 3, 0, 3, 0, 3, 2], dtype=object)]\n",
      "[5, array([-1.64487058, -0.7899962 , -0.85487439,  0.        ]), array([1, 2, 0, 0, 1, 2, 0, 0, 0, 3, 0, 0, 1, 2, 1], dtype=object)]\n",
      "[6, array([-1.65302073, -0.79814634, -0.85487439,  0.        ]), array([2, 2, 1, 1, 1, 2, 0, 0, 0, 2, 0, 1, 3, 0, 0], dtype=object)]\n",
      "[6, array([-1.64096817, -0.78609378, -0.85487439,  0.        ]), array([0, 1, 2, 2, 2, 1, 0, 0, 0, 2, 1, 0, 3, 2, 0], dtype=object)]\n",
      "[6, array([-1.64451003, -0.78963564, -0.85487439,  0.        ]), array([3, 3, 0, 2, 0, 1, 0, 0, 0, 3, 3, 0, 2, 0, 2], dtype=object)]\n",
      "[6, array([-1.64410818, -0.7892338 , -0.85487439,  0.        ]), array([0, 2, 0, 0, 1, 0, 0, 0, 0, 0, 0, 0, 0, 2, 2], dtype=object)]\n",
      "[7, array([-1.64811008, -0.79323569, -0.85487439,  0.        ]), array([2, 0, 3, 2, 3, 0, 0, 0, 0, 2, 2, 1, 0, 3, 3], dtype=object)][7, array([-1.65005369, -0.7951793 , -0.85487439,  0.        ]), array([3, 1, 2, 0, 2, 2, 0, 0, 0, 1, 3, 2, 0, 3, 0], dtype=object)]\n",
      "\n",
      "[7, array([-1.65166469, -0.7967903 , -0.85487439,  0.        ]), array([2, 1, 0, 3, 2, 1, 0, 0, 0, 2, 3, 0, 3, 2, 1], dtype=object)]\n",
      "[7, array([-1.649702  , -0.79482762, -0.85487439,  0.        ]), array([2, 0, 3, 1, 2, 0, 0, 0, 0, 2, 2, 1, 0, 3, 2], dtype=object)]\n",
      "[8, array([-1.66465784, -0.79461247, -0.87004538,  0.        ]), array([3, 0, 0, 0, 2, 2, 2, 3, 0, 1, 1, 1, 3, 1, 3], dtype=object)]\n",
      "[8, array([-1.64777357, -0.79289919, -0.85487439,  0.        ]), array([1, 0, 0, 2, 0, 3, 0, 0, 0, 3, 0, 2, 0, 3, 0], dtype=object)]\n",
      "[8, array([-1.64829227, -0.79341789, -0.85487439,  0.        ]), array([0, 2, 3, 1, 2, 0, 0, 0, 0, 0, 0, 1, 3, 1, 2], dtype=object)]\n",
      "[8, array([-1.64512633, -0.79025194, -0.85487439,  0.        ]), array([1, 2, 2, 0, 2, 0, 0, 0, 0, 3, 0, 2, 1, 1, 0], dtype=object)]\n",
      "[9, array([-1.65008545, -0.79521106, -0.85487439,  0.        ]), array([3, 3, 2, 2, 2, 2, 0, 0, 0, 3, 1, 2, 2, 3, 3], dtype=object)]\n",
      "[9, array([-1.65032054, -0.79544616, -0.85487439,  0.        ]), array([3, 1, 2, 0, 2, 2, 0, 0, 0, 1, 3, 2, 3, 3, 0], dtype=object)]\n",
      "[9, array([-1.64713685, -0.79226247, -0.85487439,  0.        ]), array([2, 0, 1, 2, 2, 0, 0, 0, 0, 0, 0, 1, 3, 1, 2], dtype=object)]\n",
      "[9, array([-1.65718411, -0.78713873, -0.87004538,  0.        ]), array([3, 0, 3, 1, 0, 0, 0, 0, 2, 3, 0, 2, 0, 0, 2], dtype=object)]\n",
      "[10, array([-1.65286189, -0.7979875 , -0.85487439,  0.        ]), array([2, 2, 1, 1, 1, 2, 0, 0, 0, 2, 0, 1, 0, 3, 3], dtype=object)]\n",
      "\n",
      "[10, array([-1.65104917, -0.79617479, -0.85487439,  0.        ]), array([3, 1, 2, 0, 2, 2, 0, 0, 0, 1, 3, 2, 1, 3, 0], dtype=object)][10, array([-1.66369891, -0.79365354, -0.87004538,  0.        ]), array([0, 2, 3, 1, 0, 1, 0, 1, 2, 2, 0, 0, 3, 3, 2], dtype=object)]\n",
      "[10, array([-1.64902438, -0.79414999, -0.85487439,  0.        ]), array([2, 0, 1, 2, 2, 0, 0, 0, 0, 0, 0, 1, 3, 0, 3], dtype=object)]\n",
      "[11, array([-1.65156397, -0.79668959, -0.85487439,  0.        ]), array([3, 3, 2, 2, 2, 2, 0, 0, 0, 3, 1, 2, 2, 0, 0], dtype=object)]\n",
      "[11, array([-1.65320563, -0.79833124, -0.85487439,  0.        ]), array([3, 1, 2, 0, 2, 1, 0, 0, 0, 1, 3, 2, 0, 2, 0], dtype=object)]\n",
      "[11, array([-1.66964866, -0.79960328, -0.87004538,  0.        ]), array([0, 2, 3, 1, 0, 1, 0, 1, 2, 2, 0, 0, 3, 3, 2], dtype=object)]\n",
      "[11, array([-1.64693583, -0.79206144, -0.85487439,  0.        ]), array([2, 0, 3, 1, 2, 0, 0, 0, 0, 2, 2, 1, 0, 3, 2], dtype=object)]\n",
      "[12, array([-1.64683601, -0.79196162, -0.85487439,  0.        ]), array([0, 0, 3, 1, 3, 2, 2, 0, 0, 2, 0, 1, 1, 0, 3], dtype=object)]\n",
      "[12, array([-1.64894969, -0.7940753 , -0.85487439,  0.        ]), array([1, 0, 0, 2, 0, 1, 0, 0, 0, 3, 0, 2, 0, 3, 0], dtype=object)]\n",
      "[12, array([-1.66816054, -0.79811517, -0.87004538,  0.        ]), array([0, 2, 3, 1, 0, 1, 0, 1, 2, 2, 0, 0, 3, 1, 0], dtype=object)]\n",
      "[12, array([-1.64561593, -0.79074154, -0.85487439,  0.        ]), array([2, 0, 3, 1, 2, 0, 0, 0, 0, 2, 2, 1, 0, 0, 3], dtype=object)]\n",
      "[13, array([-1.64891696, -0.79404257, -0.85487439,  0.        ]), array([2, 2, 1, 1, 1, 2, 0, 0, 0, 2, 0, 1, 3, 0, 0], dtype=object)]\n",
      "[13, array([-1.649345  , -0.79447061, -0.85487439,  0.        ]), array([1, 0, 0, 2, 0, 1, 0, 0, 0, 3, 0, 2, 0, 3, 0], dtype=object)]\n",
      "[13, array([-1.65448049, -0.78443512, -0.87004538,  0.        ]), array([2, 3, 0, 3, 1, 2, 0, 0, 1, 3, 0, 2, 2, 0, 3], dtype=object)]\n",
      "[13, array([-1.65168491, -0.79681053, -0.85487439,  0.        ]), array([2, 0, 3, 1, 2, 0, 0, 0, 0, 2, 2, 1, 0, 3, 2], dtype=object)]\n",
      "[14, array([-1.64600837, -0.79113398, -0.85487439,  0.        ]), array([2, 0, 3, 3, 3, 0, 0, 0, 0, 2, 2, 1, 0, 3, 0], dtype=object)]\n",
      "[14, array([-1.6439125 , -0.78903811, -0.85487439,  0.        ]), array([1, 0, 0, 2, 0, 3, 0, 0, 0, 3, 0, 2, 1, 3, 0], dtype=object)]\n",
      "[14, array([-1.64589974, -0.79102535, -0.85487439,  0.        ]), array([0, 2, 3, 1, 2, 0, 0, 0, 0, 0, 0, 1, 3, 0, 3], dtype=object)]\n",
      "[14, array([-1.64476361, -0.78988922, -0.85487439,  0.        ]), array([1, 2, 2, 0, 2, 0, 0, 0, 0, 3, 0, 2, 1, 2, 1], dtype=object)]\n",
      "[15, array([-1.67075017, -0.80070479, -0.87004538,  0.        ]), array([3, 0, 0, 0, 2, 2, 2, 3, 0, 1, 1, 1, 3, 1, 3], dtype=object)]\n",
      "[15, array([-1.65091933, -0.79604494, -0.85487439,  0.        ]), array([3, 1, 2, 0, 2, 2, 0, 0, 0, 1, 3, 2, 1, 3, 0], dtype=object)]\n",
      "[15, array([-1.64883101, -0.79395662, -0.85487439,  0.        ]), array([2, 0, 3, 2, 2, 0, 0, 0, 0, 2, 2, 1, 0, 3, 2], dtype=object)]\n",
      "[15, array([-1.67064382, -0.80059844, -0.87004538,  0.        ]), array([0, 2, 3, 1, 0, 1, 0, 1, 2, 2, 0, 0, 3, 3, 2], dtype=object)]\n",
      "[16, array([-1.67070418, -0.80065881, -0.87004538,  0.        ]), array([3, 0, 0, 0, 0, 2, 2, 3, 0, 1, 1, 1, 3, 1, 3], dtype=object)]\n",
      "[16, array([-1.64701648, -0.7921421 , -0.85487439,  0.        ]), array([3, 1, 2, 0, 2, 2, 0, 0, 0, 1, 3, 2, 1, 2, 2], dtype=object)]\n",
      "\n",
      "[16, array([-1.64585688, -0.79098249, -0.85487439,  0.        ]), array([2, 0, 1, 2, 2, 0, 0, 0, 0, 0, 0, 1, 0, 0, 2], dtype=object)][16, array([-1.66497327, -0.7949279 , -0.87004538,  0.        ]), array([0, 2, 3, 1, 0, 1, 0, 1, 2, 2, 0, 0, 1, 3, 2], dtype=object)]\n",
      "[17, array([-1.66674867, -0.79670329, -0.87004538,  0.        ]), array([3, 0, 0, 0, 2, 2, 2, 3, 0, 1, 1, 1, 3, 1, 3], dtype=object)]\n",
      "[17, array([-1.65138041, -0.79650602, -0.85487439,  0.        ]), array([3, 1, 2, 0, 2, 2, 0, 0, 0, 1, 3, 2, 1, 3, 0], dtype=object)]\n",
      "[17, array([-1.65067578, -0.7958014 , -0.85487439,  0.        ]), array([2, 0, 1, 2, 2, 0, 0, 0, 0, 0, 0, 1, 3, 0, 3], dtype=object)]\n",
      "[18, array([-1.67297541, -0.80293003, -0.87004538,  0.        ]), array([3, 0, 0, 0, 2, 2, 2, 3, 0, 3, 1, 1, 3, 1, 3], dtype=object)]\n",
      "[18, array([-1.65098378, -0.79610939, -0.85487439,  0.        ]), array([3, 1, 2, 0, 2, 2, 0, 0, 0, 1, 3, 2, 1, 0, 0], dtype=object)]\n",
      "[17, array([-1.65999044, -0.78994507, -0.87004538,  0.        ]), array([0, 2, 3, 1, 0, 1, 0, 1, 2, 2, 0, 0, 3, 3, 2], dtype=object)]\n",
      "[18, array([-1.6482076 , -0.79333321, -0.85487439,  0.        ]), array([2, 0, 3, 1, 2, 0, 0, 0, 0, 2, 2, 1, 3, 0, 3], dtype=object)]\n",
      "[19, array([-1.67106254, -0.80101716, -0.87004538,  0.        ]), array([3, 0, 0, 0, 2, 2, 2, 3, 0, 1, 1, 1, 3, 1, 3], dtype=object)]\n",
      "[19, array([-1.6501074 , -0.79523302, -0.85487439,  0.        ]), array([3, 1, 2, 0, 2, 2, 0, 0, 0, 1, 3, 2, 1, 3, 0], dtype=object)]\n",
      "[18, array([-1.66141761, -0.79137223, -0.87004538,  0.        ]), array([2, 3, 0, 3, 1, 2, 0, 0, 1, 3, 0, 2, 3, 0, 3], dtype=object)]\n",
      "[20, array([-1.64572754, -0.79085315, -0.85487439,  0.        ]), array([3, 1, 2, 0, 2, 2, 0, 0, 0, 1, 3, 2, 1, 3, 2], dtype=object)]\n",
      "\n",
      "[20, array([-1.67304065, -0.80299528, -0.87004538,  0.        ]), array([3, 2, 0, 0, 0, 2, 2, 3, 0, 1, 1, 1, 3, 1, 3], dtype=object)][19, array([-1.65441165, -0.79953726, -0.85487439,  0.        ]), array([2, 0, 1, 2, 2, 0, 0, 0, 0, 0, 0, 1, 3, 0, 3], dtype=object)]\n",
      "[19, array([-1.67598309, -0.80593771, -0.87004538,  0.        ]), array([0, 2, 3, 1, 0, 1, 0, 1, 2, 2, 0, 0, 3, 1, 0], dtype=object)]\n",
      "[20, array([-1.65084287, -0.79596848, -0.85487439,  0.        ]), array([3, 0, 3, 0, 0, 0, 0, 0, 0, 3, 0, 3, 3, 0, 3], dtype=object)]\n",
      "[21, array([-1.65206728, -0.7971929 , -0.85487439,  0.        ]), array([3, 1, 2, 0, 2, 2, 0, 0, 0, 1, 3, 2, 1, 3, 0], dtype=object)]\n",
      "[21, array([-1.6725682 , -0.80252283, -0.87004538,  0.        ]), array([3, 0, 0, 0, 2, 2, 2, 3, 0, 1, 1, 1, 3, 1, 3], dtype=object)]\n",
      "[20, array([-1.66595091, -0.79590553, -0.87004538,  0.        ]), array([0, 2, 3, 1, 0, 1, 0, 1, 2, 2, 0, 0, 3, 0, 3], dtype=object)]\n",
      "[22, array([-1.64513651, -0.79026212, -0.85487439,  0.        ]), array([3, 0, 2, 2, 2, 2, 0, 0, 0, 3, 2, 2, 1, 3, 0], dtype=object)]\n",
      "[22, array([-1.64056686, -0.78569248, -0.85487439,  0.        ]), array([2, 2, 1, 1, 1, 2, 0, 0, 1, 2, 0, 1, 3, 0, 0], dtype=object)]\n",
      "\n",
      "[21, array([-1.65313744, -0.79826306, -0.85487439,  0.        ]), array([2, 0, 1, 2, 2, 0, 0, 0, 0, 0, 0, 1, 3, 0, 3], dtype=object)][22, array([-1.64392331, -0.78904892, -0.85487439,  0.        ]), array([2, 0, 3, 1, 2, 0, 0, 0, 0, 2, 2, 1, 3, 0, 3], dtype=object)]\n",
      "[21, array([-1.67340103, -0.80335565, -0.87004538,  0.        ]), array([0, 2, 3, 1, 0, 1, 0, 1, 2, 2, 0, 0, 3, 3, 2], dtype=object)]\n",
      "[23, array([-1.65011746, -0.79524307, -0.85487439,  0.        ]), array([3, 1, 2, 0, 2, 2, 0, 0, 0, 1, 3, 2, 1, 3, 0], dtype=object)]\n",
      "[23, array([-1.67000215, -0.79995677, -0.87004538,  0.        ]), array([3, 0, 0, 0, 3, 2, 2, 3, 0, 1, 1, 1, 3, 1, 3], dtype=object)]\n",
      "[24, array([-1.64688658, -0.79201219, -0.85487439,  0.        ]), array([3, 1, 2, 0, 2, 2, 0, 0, 0, 1, 3, 2, 1, 3, 3], dtype=object)]\n",
      "[22, array([-1.66466813, -0.79462275, -0.87004538,  0.        ]), array([0, 3, 0, 3, 1, 0, 0, 0, 1, 3, 0, 2, 2, 1, 0], dtype=object)]\n",
      "[23, array([-1.65214319, -0.79726881, -0.85487439,  0.        ]), array([2, 0, 1, 2, 2, 0, 0, 0, 0, 0, 0, 1, 3, 0, 3], dtype=object)]\n",
      "[24, array([-1.66537945, -0.79533407, -0.87004538,  0.        ]), array([3, 0, 0, 0, 2, 2, 2, 3, 0, 0, 1, 1, 3, 1, 3], dtype=object)]\n",
      "\n",
      "[24, array([-1.65049406, -0.79561967, -0.85487439,  0.        ]), array([2, 0, 1, 0, 1, 0, 0, 0, 0, 0, 0, 1, 3, 0, 3], dtype=object)][25, array([-1.6475052 , -0.79263081, -0.85487439,  0.        ]), array([3, 1, 2, 0, 2, 2, 0, 0, 0, 1, 3, 2, 1, 3, 0], dtype=object)]\n",
      "[23, array([-1.66978409, -0.79973871, -0.87004538,  0.        ]), array([0, 2, 3, 1, 0, 1, 0, 1, 2, 2, 0, 0, 3, 3, 2], dtype=object)]\n",
      "[26, array([-1.65120486, -0.79633047, -0.85487439,  0.        ]), array([3, 1, 2, 0, 2, 2, 0, 0, 0, 1, 3, 2, 1, 3, 2], dtype=object)]\n",
      "[25, array([-1.67666504, -0.80661967, -0.87004538,  0.        ]), array([3, 0, 0, 0, 2, 2, 2, 3, 0, 0, 1, 1, 3, 1, 3], dtype=object)]\n",
      "[25, array([-1.65125301, -0.79637863, -0.85487439,  0.        ]), array([2, 0, 1, 2, 2, 0, 0, 0, 0, 0, 0, 1, 3, 0, 3], dtype=object)]\n",
      "[26, array([-1.66934998, -0.7993046 , -0.87004538,  0.        ]), array([3, 0, 0, 0, 3, 2, 2, 3, 0, 1, 1, 1, 0, 1, 3], dtype=object)]\n",
      "[24, array([-1.67453437, -0.80448899, -0.87004538,  0.        ]), array([0, 2, 3, 1, 0, 1, 0, 1, 2, 2, 0, 0, 2, 3, 2], dtype=object)]\n",
      "[26, array([-1.64998545, -0.79511107, -0.85487439,  0.        ]), array([3, 0, 3, 0, 0, 0, 0, 0, 0, 3, 0, 3, 3, 0, 2], dtype=object)]\n",
      "[27, array([-1.6514534 , -0.79657902, -0.85487439,  0.        ]), array([3, 1, 2, 0, 2, 2, 0, 0, 0, 1, 3, 2, 1, 3, 0], dtype=object)]\n",
      "[27, array([-1.67421318, -0.8041678 , -0.87004538,  0.        ]), array([3, 0, 0, 0, 0, 2, 2, 3, 0, 1, 1, 1, 3, 1, 3], dtype=object)]\n",
      "[28, array([-1.64783558, -0.7929612 , -0.85487439,  0.        ]), array([3, 1, 2, 0, 2, 2, 0, 0, 2, 1, 3, 2, 1, 0, 0], dtype=object)]\n",
      "[25, array([-1.67302598, -0.80298061, -0.87004538,  0.        ]), array([0, 2, 3, 1, 0, 1, 0, 1, 2, 2, 0, 0, 3, 1, 0], dtype=object)]\n",
      "[27, array([-1.651113  , -0.79623861, -0.85487439,  0.        ]), array([2, 0, 1, 2, 1, 0, 0, 0, 0, 0, 0, 1, 3, 0, 3], dtype=object)]\n",
      "\n",
      "[28, array([-1.67048872, -0.80044335, -0.87004538,  0.        ]), array([3, 2, 0, 0, 0, 2, 2, 3, 0, 3, 1, 1, 3, 1, 3], dtype=object)][26, array([-1.66849922, -0.79845385, -0.87004538,  0.        ]), array([0, 2, 3, 1, 0, 1, 0, 1, 2, 2, 0, 0, 1, 3, 2], dtype=object)]\n",
      "[28, array([-1.64798204, -0.79310765, -0.85487439,  0.        ]), array([2, 0, 1, 0, 1, 0, 0, 0, 0, 0, 0, 1, 3, 3, 3], dtype=object)]\n",
      "[29, array([-1.65511353, -0.80023914, -0.85487439,  0.        ]), array([3, 1, 2, 0, 2, 2, 0, 0, 0, 1, 3, 2, 1, 3, 0], dtype=object)][29, array([-1.67536944, -0.80532406, -0.87004538,  0.        ]), array([3, 2, 0, 0, 2, 2, 2, 3, 0, 3, 1, 1, 3, 1, 3], dtype=object)]\n",
      "\n",
      "[30, array([-1.64342948, -0.78855509, -0.85487439,  0.        ]), array([3, 1, 2, 0, 2, 2, 0, 0, 0, 1, 3, 2, 1, 0, 0], dtype=object)]\n",
      "[27, array([-1.67504087, -0.80499549, -0.87004538,  0.        ]), array([0, 2, 3, 1, 0, 1, 0, 1, 2, 2, 0, 0, 3, 0, 3], dtype=object)]\n",
      "[29, array([-1.65051699, -0.7956426 , -0.85487439,  0.        ]), array([3, 0, 3, 0, 0, 0, 0, 0, 0, 3, 0, 3, 3, 0, 3], dtype=object)]\n",
      "[28, array([-1.67098203, -0.80093666, -0.87004538,  0.        ]), array([0, 2, 3, 1, 0, 1, 0, 1, 2, 2, 0, 0, 3, 3, 2], dtype=object)]\n",
      "[30, array([-1.66702648, -0.7969811 , -0.87004538,  0.        ]), array([3, 2, 0, 0, 0, 0, 2, 3, 0, 1, 1, 1, 3, 1, 3], dtype=object)]\n",
      "[30, array([-1.64158515, -0.78671076, -0.85487439,  0.        ]), array([2, 0, 1, 0, 0, 0, 0, 0, 0, 0, 0, 1, 3, 0, 3], dtype=object)]\n",
      "[31, array([-1.64959539, -0.794721  , -0.85487439,  0.        ]), array([3, 1, 2, 0, 2, 2, 0, 0, 0, 1, 3, 2, 1, 3, 0], dtype=object)]\n",
      "[29, array([-1.67520209, -0.80515672, -0.87004538,  0.        ]), array([0, 2, 3, 1, 0, 1, 0, 1, 2, 2, 0, 0, 3, 1, 0], dtype=object)]\n",
      "[32, array([-1.64310624, -0.78823186, -0.85487439,  0.        ]), array([3, 1, 2, 0, 2, 2, 0, 0, 0, 1, 3, 2, 1, 1, 0], dtype=object)]\n",
      "[31, array([-1.67861709, -0.80857172, -0.87004538,  0.        ]), array([3, 2, 0, 0, 0, 2, 2, 3, 0, 1, 1, 1, 3, 1, 3], dtype=object)]\n",
      "[30, array([-1.66757548, -0.79753011, -0.87004538,  0.        ]), array([0, 2, 3, 1, 0, 1, 0, 1, 2, 2, 0, 0, 2, 1, 0], dtype=object)]\n",
      "[31, array([-1.65120152, -0.79632714, -0.85487439,  0.        ]), array([3, 0, 3, 0, 0, 0, 0, 0, 0, 3, 0, 3, 3, 0, 3], dtype=object)]\n",
      "[32, array([-1.67010799, -0.80006261, -0.87004538,  0.        ]), array([3, 2, 0, 0, 0, 0, 2, 3, 0, 1, 1, 1, 3, 1, 3], dtype=object)]\n",
      "\n",
      "[32, array([-1.64420339, -0.78932901, -0.85487439,  0.        ]), array([3, 0, 3, 0, 0, 0, 0, 0, 0, 3, 0, 3, 3, 0, 1], dtype=object)][33, array([-1.65002645, -0.79515206, -0.85487439,  0.        ]), array([3, 1, 2, 0, 2, 2, 0, 0, 0, 1, 3, 2, 1, 3, 0], dtype=object)]\n",
      "[31, array([-1.67528849, -0.80524311, -0.87004538,  0.        ]), array([0, 2, 3, 1, 0, 1, 0, 1, 2, 2, 0, 0, 2, 3, 2], dtype=object)]\n",
      "[32, array([-1.66879126, -0.79874588, -0.87004538,  0.        ]), array([0, 2, 3, 1, 3, 1, 0, 1, 2, 2, 0, 0, 2, 3, 2], dtype=object)]\n",
      "[34, array([-1.63157533, -0.77670094, -0.85487439,  0.        ]), array([3, 1, 2, 0, 2, 2, 0, 3, 0, 1, 3, 2, 1, 2, 2], dtype=object)][33, array([-1.67320762, -0.80316225, -0.87004538,  0.        ]), array([3, 2, 0, 0, 0, 2, 2, 3, 0, 1, 1, 1, 3, 1, 3], dtype=object)]\n",
      "\n",
      "[33, array([-1.6499146 , -0.79504021, -0.85487439,  0.        ]), array([3, 0, 3, 0, 0, 0, 0, 0, 0, 3, 0, 3, 3, 0, 3], dtype=object)]\n",
      "\n",
      "[34, array([-1.66740528, -0.7973599 , -0.87004538,  0.        ]), array([3, 3, 0, 0, 0, 2, 2, 3, 0, 1, 1, 1, 3, 1, 3], dtype=object)][33, array([-1.6753152 , -0.80526982, -0.87004538,  0.        ]), array([0, 2, 3, 1, 0, 1, 0, 1, 2, 2, 0, 0, 2, 3, 2], dtype=object)]\n",
      "[34, array([-1.64922249, -0.7943481 , -0.85487439,  0.        ]), array([3, 0, 3, 0, 3, 0, 0, 0, 0, 3, 0, 3, 3, 0, 3], dtype=object)]\n",
      "[35, array([-1.6530109 , -0.79813651, -0.85487439,  0.        ]), array([3, 1, 2, 0, 2, 2, 0, 0, 0, 1, 3, 2, 1, 3, 2], dtype=object)]\n",
      "[36, array([-1.6422245 , -0.78735011, -0.85487439,  0.        ]), array([3, 1, 2, 0, 2, 2, 0, 0, 0, 1, 3, 2, 1, 0, 0], dtype=object)]\n",
      "[35, array([-1.67359364, -0.80354826, -0.87004538,  0.        ]), array([3, 2, 0, 0, 0, 2, 2, 3, 0, 1, 1, 1, 3, 1, 3], dtype=object)]\n",
      "[34, array([-1.66403372, -0.79398834, -0.87004538,  0.        ]), array([0, 2, 3, 1, 0, 1, 2, 1, 2, 2, 0, 0, 2, 3, 2], dtype=object)]\n",
      "[35, array([-1.6493573 , -0.79448292, -0.85487439,  0.        ]), array([3, 0, 3, 0, 0, 0, 0, 0, 0, 3, 0, 3, 3, 0, 3], dtype=object)]\n",
      "[36, array([-1.67270287, -0.8026575 , -0.87004538,  0.        ]), array([3, 2, 0, 0, 0, 1, 2, 3, 0, 1, 1, 1, 3, 1, 3], dtype=object)]\n",
      "\n",
      "[37, array([-1.64784692, -0.79297253, -0.85487439,  0.        ]), array([3, 1, 2, 0, 2, 2, 0, 0, 0, 1, 3, 2, 1, 3, 2], dtype=object)][36, array([-1.64285541, -0.78798102, -0.85487439,  0.        ]), array([3, 0, 3, 0, 0, 0, 0, 0, 0, 3, 0, 3, 3, 1, 3], dtype=object)]\n",
      "[35, array([-1.6720069 , -0.80196153, -0.87004538,  0.        ]), array([0, 2, 3, 1, 0, 1, 0, 1, 2, 2, 0, 0, 3, 3, 2], dtype=object)]\n",
      "[38, array([-1.64333068, -0.78845629, -0.85487439,  0.        ]), array([3, 1, 2, 0, 2, 0, 0, 0, 2, 1, 3, 2, 1, 3, 2], dtype=object)]\n",
      "\n",
      "[37, array([-1.67454927, -0.80450389, -0.87004538,  0.        ]), array([3, 2, 0, 0, 0, 2, 2, 3, 0, 1, 1, 1, 3, 1, 3], dtype=object)][36, array([-1.67155096, -0.80150558, -0.87004538,  0.        ]), array([0, 2, 3, 3, 0, 1, 0, 1, 2, 2, 0, 0, 2, 3, 2], dtype=object)]\n",
      "[38, array([-1.66877077, -0.79872539, -0.87004538,  0.        ]), array([3, 2, 0, 0, 3, 2, 2, 3, 0, 1, 1, 1, 3, 1, 3], dtype=object)]\n",
      "\n",
      "[37, array([-1.65045867, -0.79558429, -0.85487439,  0.        ]), array([3, 0, 3, 0, 0, 0, 0, 0, 0, 3, 0, 3, 3, 0, 3], dtype=object)][38, array([-1.64667966, -0.79180527, -0.85487439,  0.        ]), array([3, 0, 3, 0, 0, 0, 0, 0, 1, 3, 0, 3, 3, 0, 3], dtype=object)]\n",
      "[39, array([-1.65128673, -0.79641235, -0.85487439,  0.        ]), array([3, 1, 2, 0, 2, 2, 0, 0, 0, 1, 3, 2, 1, 3, 2], dtype=object)]\n",
      "[37, array([-1.67363338, -0.803588  , -0.87004538,  0.        ]), array([0, 2, 3, 1, 0, 1, 0, 1, 2, 2, 0, 0, 2, 3, 2], dtype=object)]\n",
      "[40, array([-1.64483976, -0.78996538, -0.85487439,  0.        ]), array([3, 1, 2, 0, 2, 2, 0, 0, 0, 1, 3, 2, 1, 2, 2], dtype=object)]\n",
      "[39, array([-1.67388087, -0.8038355 , -0.87004538,  0.        ]), array([3, 2, 0, 0, 0, 2, 2, 3, 0, 1, 1, 1, 3, 1, 3], dtype=object)]\n",
      "[38, array([-1.64648629, -0.77644091, -0.87004538,  0.        ]), array([0, 2, 3, 1, 0, 1, 0, 0, 2, 2, 0, 0, 2, 3, 2], dtype=object)]\n",
      "[39, array([-1.65016446, -0.79529007, -0.85487439,  0.        ]), array([3, 0, 3, 0, 0, 0, 0, 0, 0, 3, 0, 3, 3, 0, 3], dtype=object)]\n",
      "\n",
      "[40, array([-1.66944335, -0.79939797, -0.87004538,  0.        ]), array([3, 2, 0, 0, 2, 2, 2, 3, 3, 1, 1, 1, 2, 1, 3], dtype=object)][39, array([-1.67503808, -0.8049927 , -0.87004538,  0.        ]), array([0, 2, 3, 1, 0, 1, 0, 1, 2, 2, 0, 0, 2, 3, 2], dtype=object)]\n",
      "[40, array([-1.64772088, -0.79284649, -0.85487439,  0.        ]), array([3, 0, 3, 0, 3, 0, 0, 0, 0, 3, 0, 3, 3, 2, 0], dtype=object)]\n",
      "[40, array([-1.66823852, -0.79819315, -0.87004538,  0.        ]), array([0, 2, 3, 1, 0, 1, 0, 1, 2, 1, 0, 0, 2, 3, 2], dtype=object)]\n"
     ]
    }
   ],
   "source": [
    "# we can perform Clapton by using the main optimization function \"claptonize\"\n",
    "# vqe_pcirc will stay fixed, optimization happens over trans_pcirc\n",
    "ks_best, energy_noisy, energy_noiseless = claptonize(\n",
    "    paulis,\n",
    "    coeffs,\n",
    "    vqe_pcirc,\n",
    "    trans_pcirc,        # specify transformation circuit\n",
    "    n_proc=4,           # total number of processes in parallel\n",
    "    n_starts=4,         # number of random genetic algorithm starts in parallel\n",
    "    n_rounds=1,         # number of budget rounds, if None it will terminate itself\n",
    "    callback=print,     # callback for internal parameter (#iteration, energies, ks) processing\n",
    "    budget=20           # budget per genetic algorithm instance\n",
    ")"
   ]
  },
  {
   "cell_type": "code",
   "execution_count": 14,
   "metadata": {},
   "outputs": [
    {
     "data": {
      "text/plain": [
       "[0, 2, 3, 1, 0, 1, 0, 1, 2, 2, 0, 0, 2, 3, 2]"
      ]
     },
     "execution_count": 14,
     "metadata": {},
     "output_type": "execute_result"
    }
   ],
   "source": [
    "# the best parameters are\n",
    "ks_best"
   ]
  },
  {
   "cell_type": "code",
   "execution_count": 15,
   "metadata": {},
   "outputs": [
    {
     "data": {
      "text/plain": [
       "(np.float64(-0.7861735299700903), np.float64(-0.8700453771484478))"
      ]
     },
     "execution_count": 15,
     "metadata": {},
     "output_type": "execute_result"
    }
   ],
   "source": [
    "# with noisy/noiseless energies\n",
    "energy_noisy, energy_noiseless"
   ]
  },
  {
   "cell_type": "code",
   "execution_count": 16,
   "metadata": {},
   "outputs": [
    {
     "data": {
      "text/html": [
       "<pre>q0: -I----------S-@-Y-Z-------\n",
       "                  |\n",
       "q1: -Y----------I-X-X-I-S_DAG-\n",
       "                    |\n",
       "q2: -SQRT_Y_DAG-S---@-I-Z-----</pre>"
      ],
      "text/plain": [
       "q0: -I----------S-@-Y-Z-------\n",
       "                  |\n",
       "q1: -Y----------I-X-X-I-S_DAG-\n",
       "                    |\n",
       "q2: -SQRT_Y_DAG-S---@-I-Z-----"
      ]
     },
     "execution_count": 16,
     "metadata": {},
     "output_type": "execute_result"
    }
   ],
   "source": [
    "# the transformation circuit is\n",
    "trans_pcirc.assign(ks_best)\n",
    "trans_pcirc.stim_circuit().diagram()"
   ]
  },
  {
   "cell_type": "code",
   "execution_count": null,
   "metadata": {},
   "outputs": [
    {
     "data": {
      "text/plain": [
       "(['XZX', 'ZZZ', 'XII', 'IIZ', 'IZX', 'ZZI'],\n",
       " array([-0.03791464, -0.14899336,  0.26810406, -0.07391102,  0.20773338,\n",
       "        -0.647141  ]))"
      ]
     },
     "execution_count": 22,
     "metadata": {},
     "output_type": "execute_result"
    }
   ],
   "source": [
    "# the transformed Hamiltonian is given by\n",
    "paulis_new, signs = transform_paulis(trans_pcirc.stim_circuit(), paulis, replace_I=True)\n",
    "coeffs_new = np.multiply(coeffs, signs)\n",
    "paulis_new, coeffs_new"
   ]
  }
 ],
 "metadata": {
  "kernelspec": {
   "display_name": "clapton",
   "language": "python",
   "name": "python3"
  },
  "language_info": {
   "codemirror_mode": {
    "name": "ipython",
    "version": 3
   },
   "file_extension": ".py",
   "mimetype": "text/x-python",
   "name": "python",
   "nbconvert_exporter": "python",
   "pygments_lexer": "ipython3",
   "version": "3.10.15"
  }
 },
 "nbformat": 4,
 "nbformat_minor": 2
}
