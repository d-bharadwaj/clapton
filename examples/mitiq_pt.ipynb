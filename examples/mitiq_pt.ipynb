{
 "cells": [
  {
   "cell_type": "code",
   "execution_count": 1,
   "metadata": {},
   "outputs": [
    {
     "data": {
      "text/plain": [
       "['braket', 'pennylane', 'pyquil', 'qiskit']"
      ]
     },
     "execution_count": 1,
     "metadata": {},
     "output_type": "execute_result"
    }
   ],
   "source": [
    "import mitiq\n",
    "import numpy\n",
    "from numpy import pi\n",
    "from cirq import CircuitOperation, CXPowGate, CZPowGate, DensityMatrixSimulator, Simulator, Rx\n",
    "from cirq.devices.noise_model import GateSubstitutionNoiseModel\n",
    "from cirq import LineQubit, Circuit, CZ, CNOT, H, Ry, Rz\n",
    "from cirq import Circuit, LineQubit, H, CNOT, CZ\n",
    "from functools import partial\n",
    "import numpy as np\n",
    "from mitiq import Executor\n",
    "from mitiq.pt import generate_pauli_twirl_variants\n",
    "from mitiq.shadows.shadows_utils import fidelity\n",
    "import cirq\n",
    "import matplotlib.pyplot as plt\n",
    "\n",
    "mitiq.SUPPORTED_PROGRAM_TYPES.keys()"
   ]
  },
  {
   "cell_type": "code",
   "execution_count": 2,
   "metadata": {},
   "outputs": [],
   "source": [
    "def circular_ansatz_mirrored(N, reps=1):\n",
    "    qubits = LineQubit.range(N)\n",
    "    circuit = Circuit()\n",
    "    for _ in range(reps):\n",
    "        for i in range(N):\n",
    "            circuit.append(cirq.Ry(rads=np.pi/2)(qubits[i]))\n",
    "        for i in range(N):\n",
    "            circuit.append(cirq.Rz(rads=np.pi/2)(qubits[i]))\n",
    "        for i in range(N):\n",
    "            control = qubits[(i-1) % N]\n",
    "            target = qubits[i]\n",
    "            circuit.append(CNOT(control, target))\n",
    "        for i in range(N):\n",
    "            circuit.append(cirq.Ry(rads=np.pi/2)(qubits[i]))\n",
    "        for i in range(N):\n",
    "            circuit.append(cirq.Rz(rads=np.pi/2)(qubits[i]))\n",
    "        for i in range(N-1, -1, -1):\n",
    "            control = qubits[(i-1) % N]\n",
    "            target = qubits[i]\n",
    "            circuit.append(CNOT(control, target))\n",
    "    for i in range(N):\n",
    "        circuit.append(cirq.Ry(rads=np.pi/2)(qubits[i]))\n",
    "    for i in range(N):\n",
    "        circuit.append(cirq.Rz(rads=np.pi/2)(qubits[i]))\n",
    "    return circuit\n",
    "\n",
    "def get_noise_model(noise_level: float) -> GateSubstitutionNoiseModel:\n",
    "    \"\"\"Substitute each CZ and CNOT gate in the circuit\n",
    "    with the gate itself followed by an Rx rotation on the output qubits.\n",
    "    \"\"\"\n",
    "    rads = pi / 2 * noise_level\n",
    "    def noisy_c_gate(op):\n",
    "        if isinstance(op.gate, (CZPowGate, CXPowGate)):\n",
    "            return CircuitOperation(\n",
    "                Circuit(\n",
    "                    op.gate.on(*op.qubits), \n",
    "                    Rx(rads=rads).on_each(op.qubits),\n",
    "                ).freeze())\n",
    "        return op\n",
    "\n",
    "    return GateSubstitutionNoiseModel(noisy_c_gate)\n",
    "\n",
    "def execute(circuit: Circuit, noise_level: float):\n",
    "    \"\"\"Returns Tr[ρ |0⟩⟨0|] where ρ is the state prepared by the circuit.\"\"\"\n",
    "    return (\n",
    "        DensityMatrixSimulator(noise=get_noise_model(noise_level=noise_level))\n",
    "        .simulate(circuit)\n",
    "        .final_density_matrix\n",
    "    )\n",
    "\n",
    "# Set the intensity of the noise\n",
    "NOISE_LEVEL = 1e-3"
   ]
  },
  {
   "cell_type": "code",
   "execution_count": 37,
   "metadata": {},
   "outputs": [],
   "source": [
    "def compute_fidelity_improvements():\n",
    "    results = {}\n",
    "    for num_qubits in range(3, 11):\n",
    "        try:\n",
    "            circuit = circular_ansatz_mirrored(num_qubits, 40)\n",
    "            # Compute the expectation value of the |0><0| observable\n",
    "            # in both the noiseless and the noisy setup\n",
    "            ideal_value = execute(circuit, noise_level=0.0)\n",
    "            noisy_value = execute(circuit, noise_level=NOISE_LEVEL)\n",
    "            # Generate twirled circuits\n",
    "            NUM_TWIRLED_VARIANTS = 100\n",
    "            twirled_circuits = generate_pauli_twirl_variants(circuit, num_circuits=NUM_TWIRLED_VARIANTS)\n",
    "            # Average results executed over twirled circuits\n",
    "            pt_vals = Executor(partial(execute, noise_level=NOISE_LEVEL)).run(twirled_circuits)\n",
    "            mitigated_result = np.average(pt_vals, axis=0)\n",
    "            a = cirq.density_matrix(ideal_value, atol=1e-4)\n",
    "            b = cirq.density_matrix(noisy_value, atol=1e-4)\n",
    "            c = cirq.density_matrix(mitigated_result, atol=1e-4)\n",
    "\n",
    "            old_fidelity = cirq.fidelity(a, b, atol=1e-4)\n",
    "            new_fidelity = cirq.fidelity(a, c, atol=1e-4)\n",
    "            fidelity_improvement = new_fidelity - old_fidelity\n",
    "            results[num_qubits]=((old_fidelity, new_fidelity, fidelity_improvement))\n",
    "            return results\n",
    "        except:\n",
    "            break\n",
    "results = compute_fidelity_improvements()\n",
    "\n",
    "# print(f\"Fidelity Improvement % : {fidelity_improvement*100:.6f}\")\n"
   ]
  },
  {
   "cell_type": "code",
   "execution_count": 38,
   "metadata": {},
   "outputs": [
    {
     "data": {
      "image/png": "[encoded data removed]",
      "text/plain": [
       "<Figure size 640x480 with 1 Axes>"
      ]
     },
     "metadata": {},
     "output_type": "display_data"
    }
   ],
   "source": [
    "import matplotlib.pyplot as plt\n",
    "\n",
    "num_qubits = list(results.keys())\n",
    "old_fidelity = [results[n][0] for n in num_qubits]\n",
    "new_fidelity = [results[n][1] for n in num_qubits]\n",
    "fidelity_improvement = [results[n][2] for n in num_qubits]\n",
    "\n",
    "plt.scatter(num_qubits, old_fidelity, color='red', label='Fidelity w/o PT ')\n",
    "plt.scatter(num_qubits, new_fidelity, color='blue', label='Improved Fidelity with PT')\n",
    "\n",
    "for i, n in enumerate(num_qubits):\n",
    "    plt.plot([n, n], [old_fidelity[i], new_fidelity[i]], color='gray', linestyle='--')\n",
    "    plt.text(n, (old_fidelity[i] + new_fidelity[i]) / 2, f'{fidelity_improvement[i]*100:.2f}%', \n",
    "             ha='center', va='bottom', fontsize=8, color='green')\n",
    "\n",
    "plt.xlabel('Number of Qubits')\n",
    "plt.ylabel('Fidelity')\n",
    "plt.legend()\n",
    "plt.show()"
   ]
  }
 ],
 "metadata": {
  "kernelspec": {
   "display_name": "clapton",
   "language": "python",
   "name": "python3"
  },
  "language_info": {
   "codemirror_mode": {
    "name": "ipython",
    "version": 3
   },
   "file_extension": ".py",
   "mimetype": "text/x-python",
   "name": "python",
   "nbconvert_exporter": "python",
   "pygments_lexer": "ipython3",
   "version": "3.10.15"
  }
 },
 "nbformat": 4,
 "nbformat_minor": 2
}
